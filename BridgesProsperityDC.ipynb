{
  "nbformat": 4,
  "nbformat_minor": 0,
  "metadata": {
    "colab": {
      "name": "BridgesProsperityDC",
      "provenance": [],
      "mount_file_id": "1Yo90BS2ngbqbMxfXUXP_tmdN1lcLxGFK",
      "authorship_tag": "ABX9TyODXOVZBzFfiW2SabuKs2Kt",
      "include_colab_link": true
    },
    "kernelspec": {
      "name": "python3",
      "display_name": "Python 3"
    }
  },
  "cells": [
    {
      "cell_type": "markdown",
      "metadata": {
        "id": "view-in-github",
        "colab_type": "text"
      },
      "source": [
        "<a href=\"https://colab.research.google.com/github/Lambda-School-Labs/bridges-to-prosperity-ds-a/blob/britne/BridgesProsperityDC.ipynb\" target=\"_parent\"><img src=\"https://colab.research.google.com/assets/colab-badge.svg\" alt=\"Open In Colab\"/></a>"
      ]
    },
    {
      "cell_type": "code",
      "metadata": {
        "id": "n4DLaydHBaA1",
        "outputId": "ea09f365-3f2a-413e-e1e3-6b49eb509b4c",
        "colab": {
          "base_uri": "https://localhost:8080/"
        }
      },
      "source": [
        "import pandas as pd\n",
        "\n",
        "path1 = \"./New data - Data.csv\"\n",
        "\n",
        "df = pd.read_csv(path1)\n",
        "df.columns"
      ],
      "execution_count": 45,
      "outputs": [
        {
          "output_type": "execute_result",
          "data": {
            "text/plain": [
              "Index(['Bridge Name', 'Bridge Opportunity: Project Code',\n",
              "       'Bridge Opportunity: Needs Assessment',\n",
              "       'Bridge Opportunity: Level 1 Government',\n",
              "       'Bridge Opportunity: Level 2 Government', 'Bridge Opportunity: Stage',\n",
              "       'Bridge Opportunity: GPS (Latitude)',\n",
              "       'Bridge Opportunity: GPS (Longitude)',\n",
              "       'Bridge Opportunity: Bridge Type', 'Bridge Opportunity: Span (m)',\n",
              "       'Bridge Opportunity: Individuals Directly Served',\n",
              "       'Bridge Opportunity: Comments', 'Form: Form Name', 'Form: Created By',\n",
              "       'Proposed Bridge Location (GPS) (Latitude)',\n",
              "       'Proposed Bridge Location (GPS) (Longitude)', 'Current crossing method',\n",
              "       'Nearest all-weather crossing point', 'Days per year river is flooded',\n",
              "       'Flood duration during rainy season', 'Market access blocked by river',\n",
              "       'Education access blocked by river', 'Health access blocked by river',\n",
              "       'Other access blocked by river', 'Primary occupations',\n",
              "       'Primary crops grown', 'River crossing deaths in last 3 years',\n",
              "       'River crossing injuries in last 3 years', 'Incident descriptions',\n",
              "       'Notes on social information', 'Cell service quality',\n",
              "       '4WD Accessibility', 'Name of nearest city',\n",
              "       'Name of nearest paved or sealed road', 'Bridge classification',\n",
              "       'Flag for Rejection', 'Rejection Reason', 'Bridge Type',\n",
              "       'Estimated span (m)', 'Height differential between banks',\n",
              "       'Bridge Opportunity: General Project Photos',\n",
              "       'Bridge Opportunity: CaseSafeID',\n",
              "       'Senior Engineering Review Conducted'],\n",
              "      dtype='object')"
            ]
          },
          "metadata": {
            "tags": []
          },
          "execution_count": 45
        }
      ]
    },
    {
      "cell_type": "code",
      "metadata": {
        "id": "fS7jA6wECJn3",
        "outputId": "c1a0a754-9e28-4e4f-fdc4-244555375dd5",
        "colab": {
          "base_uri": "https://localhost:8080/"
        }
      },
      "source": [
        "df.isnull().sum()"
      ],
      "execution_count": null,
      "outputs": [
        {
          "output_type": "execute_result",
          "data": {
            "text/plain": [
              "Bridge Name                                           0\n",
              "Bridge Opportunity: Project Code                      0\n",
              "Bridge Opportunity: Needs Assessment                 40\n",
              "Bridge Opportunity: Level 1 Government                0\n",
              "Bridge Opportunity: Level 2 Government                0\n",
              "Bridge Opportunity: Stage                             0\n",
              "Bridge Opportunity: GPS (Latitude)                   12\n",
              "Bridge Opportunity: GPS (Longitude)                  12\n",
              "Bridge Opportunity: Bridge Type                    1287\n",
              "Bridge Opportunity: Span (m)                       1082\n",
              "Bridge Opportunity: Individuals Directly Served       6\n",
              "Bridge Opportunity: Comments                       1078\n",
              "Form: Form Name                                       0\n",
              "Form: Created By                                      0\n",
              "Proposed Bridge Location (GPS) (Latitude)            40\n",
              "Proposed Bridge Location (GPS) (Longitude)           40\n",
              "Current crossing method                             160\n",
              "Nearest all-weather crossing point                  184\n",
              "Days per year river is flooded                      163\n",
              "Flood duration during rainy season                  178\n",
              "Market access blocked by river                      211\n",
              "Education access blocked by river                   234\n",
              "Health access blocked by river                      235\n",
              "Other access blocked by river                       326\n",
              "Primary occupations                                 212\n",
              "Primary crops grown                                 217\n",
              "River crossing deaths in last 3 years               172\n",
              "River crossing injuries in last 3 years             167\n",
              "Incident descriptions                               365\n",
              "Notes on social information                         241\n",
              "Cell service quality                                180\n",
              "4WD Accessibility                                   149\n",
              "Name of nearest city                                 14\n",
              "Name of nearest paved or sealed road                165\n",
              "Bridge classification                               177\n",
              "Flag for Rejection                                  200\n",
              "Rejection Reason                                   1221\n",
              "Bridge Type                                         170\n",
              "Estimated span (m)                                  183\n",
              "Height differential between banks                   965\n",
              "Bridge Opportunity: General Project Photos         1426\n",
              "Bridge Opportunity: CaseSafeID                        0\n",
              "Senior Engineering Review Conducted                1383\n",
              "dtype: int64"
            ]
          },
          "metadata": {
            "tags": []
          },
          "execution_count": 9
        }
      ]
    },
    {
      "cell_type": "code",
      "metadata": {
        "id": "Pu1GCYSBGrA8",
        "outputId": "0a51e201-1caa-4559-b4ac-86e6f12c8cc7",
        "colab": {
          "base_uri": "https://localhost:8080/",
          "height": 1000
        }
      },
      "source": [
        "df.head(100)"
      ],
      "execution_count": null,
      "outputs": [
        {
          "output_type": "execute_result",
          "data": {
            "text/html": [
              "<div>\n",
              "<style scoped>\n",
              "    .dataframe tbody tr th:only-of-type {\n",
              "        vertical-align: middle;\n",
              "    }\n",
              "\n",
              "    .dataframe tbody tr th {\n",
              "        vertical-align: top;\n",
              "    }\n",
              "\n",
              "    .dataframe thead th {\n",
              "        text-align: right;\n",
              "    }\n",
              "</style>\n",
              "<table border=\"1\" class=\"dataframe\">\n",
              "  <thead>\n",
              "    <tr style=\"text-align: right;\">\n",
              "      <th></th>\n",
              "      <th>Bridge Name</th>\n",
              "      <th>Bridge Opportunity: Project Code</th>\n",
              "      <th>Bridge Opportunity: Needs Assessment</th>\n",
              "      <th>Bridge Opportunity: Level 1 Government</th>\n",
              "      <th>Bridge Opportunity: Level 2 Government</th>\n",
              "      <th>Bridge Opportunity: Stage</th>\n",
              "      <th>Bridge Opportunity: GPS (Latitude)</th>\n",
              "      <th>Bridge Opportunity: GPS (Longitude)</th>\n",
              "      <th>Bridge Opportunity: Bridge Type</th>\n",
              "      <th>Bridge Opportunity: Span (m)</th>\n",
              "      <th>Bridge Opportunity: Individuals Directly Served</th>\n",
              "      <th>Bridge Opportunity: Comments</th>\n",
              "      <th>Form: Form Name</th>\n",
              "      <th>Form: Created By</th>\n",
              "      <th>Proposed Bridge Location (GPS) (Latitude)</th>\n",
              "      <th>Proposed Bridge Location (GPS) (Longitude)</th>\n",
              "      <th>Current crossing method</th>\n",
              "      <th>Nearest all-weather crossing point</th>\n",
              "      <th>Days per year river is flooded</th>\n",
              "      <th>Flood duration during rainy season</th>\n",
              "      <th>Market access blocked by river</th>\n",
              "      <th>Education access blocked by river</th>\n",
              "      <th>Health access blocked by river</th>\n",
              "      <th>Other access blocked by river</th>\n",
              "      <th>Primary occupations</th>\n",
              "      <th>Primary crops grown</th>\n",
              "      <th>River crossing deaths in last 3 years</th>\n",
              "      <th>River crossing injuries in last 3 years</th>\n",
              "      <th>Incident descriptions</th>\n",
              "      <th>Notes on social information</th>\n",
              "      <th>Cell service quality</th>\n",
              "      <th>4WD Accessibility</th>\n",
              "      <th>Name of nearest city</th>\n",
              "      <th>Name of nearest paved or sealed road</th>\n",
              "      <th>Bridge classification</th>\n",
              "      <th>Flag for Rejection</th>\n",
              "      <th>Rejection Reason</th>\n",
              "      <th>Bridge Type</th>\n",
              "      <th>Estimated span (m)</th>\n",
              "      <th>Height differential between banks</th>\n",
              "      <th>Bridge Opportunity: General Project Photos</th>\n",
              "      <th>Bridge Opportunity: CaseSafeID</th>\n",
              "      <th>Senior Engineering Review Conducted</th>\n",
              "    </tr>\n",
              "  </thead>\n",
              "  <tbody>\n",
              "    <tr>\n",
              "      <th>0</th>\n",
              "      <td>Bukinga</td>\n",
              "      <td>1009317</td>\n",
              "      <td>Rwanda Needs Assessment 2018</td>\n",
              "      <td>Southern Province</td>\n",
              "      <td>Nyaruguru</td>\n",
              "      <td>Cancelled</td>\n",
              "      <td>-2.760833</td>\n",
              "      <td>29.488056</td>\n",
              "      <td>Suspended Bridge</td>\n",
              "      <td>NaN</td>\n",
              "      <td>NaN</td>\n",
              "      <td>Steep slopes to deal with for anchors</td>\n",
              "      <td>Project Assessment - 2018.10.10</td>\n",
              "      <td>aimablengirabakunzi taroworks</td>\n",
              "      <td>-2.760833</td>\n",
              "      <td>29.488056</td>\n",
              "      <td>NaN</td>\n",
              "      <td>NaN</td>\n",
              "      <td>NaN</td>\n",
              "      <td>NaN</td>\n",
              "      <td>NaN</td>\n",
              "      <td>NaN</td>\n",
              "      <td>NaN</td>\n",
              "      <td>NaN</td>\n",
              "      <td>NaN</td>\n",
              "      <td>NaN</td>\n",
              "      <td>NaN</td>\n",
              "      <td>NaN</td>\n",
              "      <td>NaN</td>\n",
              "      <td>NaN</td>\n",
              "      <td>NaN</td>\n",
              "      <td>NaN</td>\n",
              "      <td>Huye</td>\n",
              "      <td>NaN</td>\n",
              "      <td>NaN</td>\n",
              "      <td>Yes</td>\n",
              "      <td>There is a planned vehicular road with a vehic...</td>\n",
              "      <td>NaN</td>\n",
              "      <td>NaN</td>\n",
              "      <td>NaN</td>\n",
              "      <td>NaN</td>\n",
              "      <td>006f100000asFErAAM</td>\n",
              "      <td>Yes</td>\n",
              "    </tr>\n",
              "    <tr>\n",
              "      <th>1</th>\n",
              "      <td>Kagarama</td>\n",
              "      <td>1007325</td>\n",
              "      <td>NaN</td>\n",
              "      <td>Western Province</td>\n",
              "      <td>Nyamasheke</td>\n",
              "      <td>Complete</td>\n",
              "      <td>-2.322534</td>\n",
              "      <td>29.141944</td>\n",
              "      <td>Suspension Bridge</td>\n",
              "      <td>48.0</td>\n",
              "      <td>4000.0</td>\n",
              "      <td>NaN</td>\n",
              "      <td>Project Assessment - 2017.7.12</td>\n",
              "      <td>Stephanie May</td>\n",
              "      <td>-2.322534</td>\n",
              "      <td>29.141944</td>\n",
              "      <td>timber bridge</td>\n",
              "      <td>2km downstream</td>\n",
              "      <td>120.0</td>\n",
              "      <td>12hours</td>\n",
              "      <td>Schools, hospital, markets and government serv...</td>\n",
              "      <td>NaN</td>\n",
              "      <td>NaN</td>\n",
              "      <td>NaN</td>\n",
              "      <td>farming</td>\n",
              "      <td>banana</td>\n",
              "      <td>2.0</td>\n",
              "      <td>15.0</td>\n",
              "      <td>the injuries and deaths are caused by trying f...</td>\n",
              "      <td>Most of the facilities locate at the left side...</td>\n",
              "      <td>Fair</td>\n",
              "      <td>Seasonally</td>\n",
              "      <td>Kibogora-Kabuga</td>\n",
              "      <td>Karongi-Nyamasheke</td>\n",
              "      <td>NaN</td>\n",
              "      <td>NaN</td>\n",
              "      <td>NaN</td>\n",
              "      <td>NaN</td>\n",
              "      <td>10.0</td>\n",
              "      <td>0.7</td>\n",
              "      <td>https://flic.kr/s/aHskvedfPB</td>\n",
              "      <td>006f100000a82QzAAI</td>\n",
              "      <td>Yes</td>\n",
              "    </tr>\n",
              "    <tr>\n",
              "      <th>2</th>\n",
              "      <td>Karambi</td>\n",
              "      <td>1007374</td>\n",
              "      <td>NaN</td>\n",
              "      <td>Southern Province</td>\n",
              "      <td>Huye</td>\n",
              "      <td>Complete</td>\n",
              "      <td>-2.513333</td>\n",
              "      <td>29.612778</td>\n",
              "      <td>Suspension Bridge</td>\n",
              "      <td>50.0</td>\n",
              "      <td>12500.0</td>\n",
              "      <td>Likely piloting steel decking on this bridge. ...</td>\n",
              "      <td>Project Assessment - 2018.7.27</td>\n",
              "      <td>etiennemutebutsi taroworks</td>\n",
              "      <td>NaN</td>\n",
              "      <td>NaN</td>\n",
              "      <td>Timber bridge</td>\n",
              "      <td>Is located at 5km upstream. People pay 1000rwf...</td>\n",
              "      <td>60.0</td>\n",
              "      <td>1day</td>\n",
              "      <td>Markets,farms blocked by this river both sides</td>\n",
              "      <td>Education blocked by this river both sides</td>\n",
              "      <td>Health services blocked by this river both sides</td>\n",
              "      <td>Potable water, places of worship ,places for r...</td>\n",
              "      <td>Farming and small business</td>\n",
              "      <td>Corns, banana and beans</td>\n",
              "      <td>3.0</td>\n",
              "      <td>15.0</td>\n",
              "      <td>Peoples dead when coming from the church, heal...</td>\n",
              "      <td>5 cells (kabuye,gasumba,kanyinya, buremera and...</td>\n",
              "      <td>Good</td>\n",
              "      <td>Never</td>\n",
              "      <td>Nyamagabe</td>\n",
              "      <td>Huye-Nyamagabe</td>\n",
              "      <td>Standard</td>\n",
              "      <td>NaN</td>\n",
              "      <td>NaN</td>\n",
              "      <td>Suspension</td>\n",
              "      <td>45.0</td>\n",
              "      <td>1.0</td>\n",
              "      <td>https://flic.kr/s/aHskbMF1Kr</td>\n",
              "      <td>006f100000a86DaAAI</td>\n",
              "      <td>Yes</td>\n",
              "    </tr>\n",
              "    <tr>\n",
              "      <th>3</th>\n",
              "      <td>Rugeti</td>\n",
              "      <td>1007466</td>\n",
              "      <td>Rwanda Needs Assessment 2018</td>\n",
              "      <td>Southern Province</td>\n",
              "      <td>Nyamagabe</td>\n",
              "      <td>Complete</td>\n",
              "      <td>-2.476407</td>\n",
              "      <td>29.420800</td>\n",
              "      <td>Suspension Bridge</td>\n",
              "      <td>68.0</td>\n",
              "      <td>4363.0</td>\n",
              "      <td>3000-6000 people directly served, Elevation:21...</td>\n",
              "      <td>Project Assessment - 2018.9.1</td>\n",
              "      <td>aimablengirabakunzi taroworks</td>\n",
              "      <td>-2.476407</td>\n",
              "      <td>29.420800</td>\n",
              "      <td>Timber</td>\n",
              "      <td>None</td>\n",
              "      <td>60.0</td>\n",
              "      <td>All time in April and May and it is rarely to ...</td>\n",
              "      <td>Markets</td>\n",
              "      <td>Primary and Secondary schools</td>\n",
              "      <td>Health Center</td>\n",
              "      <td>Churches and Government offices</td>\n",
              "      <td>Farming of large tea plantation, wheat farms</td>\n",
              "      <td>Tea, cow pea, wheat, beans, sweet potatoes</td>\n",
              "      <td>0.0</td>\n",
              "      <td>2.0</td>\n",
              "      <td>They slipped on trees and fall down in the river</td>\n",
              "      <td>Market 1( Minaga, Gishwati, Mujerenge, Gikungu...</td>\n",
              "      <td>Fair</td>\n",
              "      <td>Seasonally</td>\n",
              "      <td>Huye</td>\n",
              "      <td>Nyamagabe-Rusizi</td>\n",
              "      <td>Standard</td>\n",
              "      <td>No</td>\n",
              "      <td>NaN</td>\n",
              "      <td>Suspended</td>\n",
              "      <td>47.4</td>\n",
              "      <td>1.1</td>\n",
              "      <td>https://www.flickr.com/photos/bridgestoprosper...</td>\n",
              "      <td>006f100000a86F4AAI</td>\n",
              "      <td>Yes</td>\n",
              "    </tr>\n",
              "    <tr>\n",
              "      <th>4</th>\n",
              "      <td>Nyakabuye - Nkomane</td>\n",
              "      <td>1007495</td>\n",
              "      <td>Rwanda Needs Assessment 2018</td>\n",
              "      <td>Southern Province</td>\n",
              "      <td>Nyamagabe</td>\n",
              "      <td>Complete</td>\n",
              "      <td>-2.233022</td>\n",
              "      <td>29.575130</td>\n",
              "      <td>Suspension Bridge</td>\n",
              "      <td>78.0</td>\n",
              "      <td>2790.0</td>\n",
              "      <td>Not Duplicate 500-1000 people directly served,...</td>\n",
              "      <td>Project Assessment - 2018.9.4</td>\n",
              "      <td>dominiquehabimana taroworks</td>\n",
              "      <td>-2.233574</td>\n",
              "      <td>29.575366</td>\n",
              "      <td>Timber bridge</td>\n",
              "      <td>Vehicular bridge, 5 kilometers</td>\n",
              "      <td>35.0</td>\n",
              "      <td>April To May, September to December, 12 hours ...</td>\n",
              "      <td>Birambo market, Gasura market, kirinda market(...</td>\n",
              "      <td>Groupe scholar Gasave( 1,2)</td>\n",
              "      <td>Kirinda Hospital(villages 1,2)</td>\n",
              "      <td>None</td>\n",
              "      <td>Farming</td>\n",
              "      <td>Cassava, maize, beans, sorghum, sweet potatoes</td>\n",
              "      <td>4.0</td>\n",
              "      <td>4.0</td>\n",
              "      <td>Fell down and drowned</td>\n",
              "      <td>The population information of all adjacent com...</td>\n",
              "      <td>Good</td>\n",
              "      <td>Never</td>\n",
              "      <td>Nyanza</td>\n",
              "      <td>Nyamagabe</td>\n",
              "      <td>Standard</td>\n",
              "      <td>No</td>\n",
              "      <td>NaN</td>\n",
              "      <td>Suspended</td>\n",
              "      <td>90.0</td>\n",
              "      <td>1.1</td>\n",
              "      <td>https://www.flickr.com/photos/bridgestoprosper...</td>\n",
              "      <td>006f100000a86FXAAY</td>\n",
              "      <td>Yes</td>\n",
              "    </tr>\n",
              "    <tr>\n",
              "      <th>...</th>\n",
              "      <td>...</td>\n",
              "      <td>...</td>\n",
              "      <td>...</td>\n",
              "      <td>...</td>\n",
              "      <td>...</td>\n",
              "      <td>...</td>\n",
              "      <td>...</td>\n",
              "      <td>...</td>\n",
              "      <td>...</td>\n",
              "      <td>...</td>\n",
              "      <td>...</td>\n",
              "      <td>...</td>\n",
              "      <td>...</td>\n",
              "      <td>...</td>\n",
              "      <td>...</td>\n",
              "      <td>...</td>\n",
              "      <td>...</td>\n",
              "      <td>...</td>\n",
              "      <td>...</td>\n",
              "      <td>...</td>\n",
              "      <td>...</td>\n",
              "      <td>...</td>\n",
              "      <td>...</td>\n",
              "      <td>...</td>\n",
              "      <td>...</td>\n",
              "      <td>...</td>\n",
              "      <td>...</td>\n",
              "      <td>...</td>\n",
              "      <td>...</td>\n",
              "      <td>...</td>\n",
              "      <td>...</td>\n",
              "      <td>...</td>\n",
              "      <td>...</td>\n",
              "      <td>...</td>\n",
              "      <td>...</td>\n",
              "      <td>...</td>\n",
              "      <td>...</td>\n",
              "      <td>...</td>\n",
              "      <td>...</td>\n",
              "      <td>...</td>\n",
              "      <td>...</td>\n",
              "      <td>...</td>\n",
              "      <td>...</td>\n",
              "    </tr>\n",
              "    <tr>\n",
              "      <th>95</th>\n",
              "      <td>Kabamba</td>\n",
              "      <td>1007660</td>\n",
              "      <td>Rwanda Needs Assessment 2018</td>\n",
              "      <td>Western Province</td>\n",
              "      <td>Rusizi</td>\n",
              "      <td>Identified</td>\n",
              "      <td>-2.687220</td>\n",
              "      <td>29.027780</td>\n",
              "      <td>NaN</td>\n",
              "      <td>45.0</td>\n",
              "      <td>22815.0</td>\n",
              "      <td>3000-6000 people directly served, Elevation:97...</td>\n",
              "      <td>Project Assessment - 2018.10.28</td>\n",
              "      <td>cesarngenzi taroworks</td>\n",
              "      <td>-2.687220</td>\n",
              "      <td>29.027780</td>\n",
              "      <td>Timber bridge</td>\n",
              "      <td>Pass along way in 5km</td>\n",
              "      <td>46.0</td>\n",
              "      <td>One week</td>\n",
              "      <td>Bugarama market</td>\n",
              "      <td>Kizura primary school</td>\n",
              "      <td>Kizura dispensary</td>\n",
              "      <td>ADPR kizura and churches in city</td>\n",
              "      <td>Farming</td>\n",
              "      <td>Rice</td>\n",
              "      <td>2.0</td>\n",
              "      <td>9.0</td>\n",
              "      <td>The women who was pregnant and had kid both di...</td>\n",
              "      <td>Gikundamvura sector don't have access to bugar...</td>\n",
              "      <td>Good</td>\n",
              "      <td>Year Round</td>\n",
              "      <td>Bugarama city</td>\n",
              "      <td>Kamembe</td>\n",
              "      <td>Standard</td>\n",
              "      <td>No</td>\n",
              "      <td>NaN</td>\n",
              "      <td>Suspension</td>\n",
              "      <td>75.0</td>\n",
              "      <td>NaN</td>\n",
              "      <td>NaN</td>\n",
              "      <td>006f100000a86ICAAY</td>\n",
              "      <td>NaN</td>\n",
              "    </tr>\n",
              "    <tr>\n",
              "      <th>96</th>\n",
              "      <td>Mwurire-gatoki</td>\n",
              "      <td>1007670</td>\n",
              "      <td>Rwanda Needs Assessment 2018</td>\n",
              "      <td>Western Province</td>\n",
              "      <td>Rutsiro</td>\n",
              "      <td>Identified</td>\n",
              "      <td>-1.891550</td>\n",
              "      <td>29.382620</td>\n",
              "      <td>NaN</td>\n",
              "      <td>19.0</td>\n",
              "      <td>1539.0</td>\n",
              "      <td>6000-10000 people directly served, Elevation:1...</td>\n",
              "      <td>Project Assessment - 2018.9.27</td>\n",
              "      <td>cesarngenzi taroworks</td>\n",
              "      <td>-1.891550</td>\n",
              "      <td>29.382620</td>\n",
              "      <td>Timber bridge</td>\n",
              "      <td>None</td>\n",
              "      <td>365.0</td>\n",
              "      <td>Two days</td>\n",
              "      <td>Gakeri market and gisiza market</td>\n",
              "      <td>Murunda primary and secondary school</td>\n",
              "      <td>Murunda hospital</td>\n",
              "      <td>There is Catholic church at murunda</td>\n",
              "      <td>Farming</td>\n",
              "      <td>Potatoes</td>\n",
              "      <td>1.0</td>\n",
              "      <td>0.0</td>\n",
              "      <td>There are other two people who died in past fi...</td>\n",
              "      <td>Mwurire village don't have access to gakeri ma...</td>\n",
              "      <td>Good</td>\n",
              "      <td>Never</td>\n",
              "      <td>Gakeri</td>\n",
              "      <td>Rubavu-Rubengera</td>\n",
              "      <td>Standard</td>\n",
              "      <td>No</td>\n",
              "      <td>NaN</td>\n",
              "      <td>Suspended</td>\n",
              "      <td>63.0</td>\n",
              "      <td>NaN</td>\n",
              "      <td>NaN</td>\n",
              "      <td>006f100000a86IMAAY</td>\n",
              "      <td>NaN</td>\n",
              "    </tr>\n",
              "    <tr>\n",
              "      <th>97</th>\n",
              "      <td>Rutanzogera</td>\n",
              "      <td>1007672</td>\n",
              "      <td>Rwanda Needs Assessment 2018</td>\n",
              "      <td>Western Province</td>\n",
              "      <td>Rutsiro</td>\n",
              "      <td>Identified</td>\n",
              "      <td>-1.957000</td>\n",
              "      <td>29.531833</td>\n",
              "      <td>Suspended Bridge</td>\n",
              "      <td>82.0</td>\n",
              "      <td>3437.0</td>\n",
              "      <td>3000-6000 people directly served, Elevation:20...</td>\n",
              "      <td>Project Assessment - 2018.8.25</td>\n",
              "      <td>cesarngenzi taroworks</td>\n",
              "      <td>-1.955550</td>\n",
              "      <td>29.951660</td>\n",
              "      <td>Timber bridge</td>\n",
              "      <td>None</td>\n",
              "      <td>240.0</td>\n",
              "      <td>Four days</td>\n",
              "      <td>Gashubi,birembo and nyangasambu</td>\n",
              "      <td>Ruganda primary school</td>\n",
              "      <td>Kanyana health center</td>\n",
              "      <td>Churches at ruganda and epr karambo</td>\n",
              "      <td>Farming</td>\n",
              "      <td>Potatoes</td>\n",
              "      <td>4.0</td>\n",
              "      <td>1.0</td>\n",
              "      <td>They fell trying to cross through the river</td>\n",
              "      <td>Market(community 1,2,3). Sec school (none) . H...</td>\n",
              "      <td>Good</td>\n",
              "      <td>Never</td>\n",
              "      <td>Birambo</td>\n",
              "      <td>Nyange-ngororero</td>\n",
              "      <td>Standard</td>\n",
              "      <td>No</td>\n",
              "      <td>NaN</td>\n",
              "      <td>Suspension</td>\n",
              "      <td>50.0</td>\n",
              "      <td>NaN</td>\n",
              "      <td>NaN</td>\n",
              "      <td>006f100000a86IOAAY</td>\n",
              "      <td>NaN</td>\n",
              "    </tr>\n",
              "    <tr>\n",
              "      <th>98</th>\n",
              "      <td>Murunda</td>\n",
              "      <td>1007673</td>\n",
              "      <td>Rwanda Needs Assessment 2018</td>\n",
              "      <td>Western Province</td>\n",
              "      <td>Rutsiro</td>\n",
              "      <td>Identified</td>\n",
              "      <td>-1.915000</td>\n",
              "      <td>29.370830</td>\n",
              "      <td>NaN</td>\n",
              "      <td>23.0</td>\n",
              "      <td>3200.0</td>\n",
              "      <td>3000-6000 people directly served, Elevation:16...</td>\n",
              "      <td>Project Assessment - 2018.8.17</td>\n",
              "      <td>cesarngenzi taroworks</td>\n",
              "      <td>-1.915000</td>\n",
              "      <td>29.370830</td>\n",
              "      <td>Timber bridge</td>\n",
              "      <td>Nowhere</td>\n",
              "      <td>15.0</td>\n",
              "      <td>One day when the river is flooded</td>\n",
              "      <td>Gisiza market</td>\n",
              "      <td>Ecole secondary murunda</td>\n",
              "      <td>Murunda health center</td>\n",
              "      <td>Church at murunda</td>\n",
              "      <td>Farming</td>\n",
              "      <td>Beans</td>\n",
              "      <td>0.0</td>\n",
              "      <td>10.0</td>\n",
              "      <td>Because the current timber bridge is at high e...</td>\n",
              "      <td>Information gathered from local people and mur...</td>\n",
              "      <td>Good</td>\n",
              "      <td>Year Round</td>\n",
              "      <td>Rutsiro</td>\n",
              "      <td>Rubavu-rutsiro</td>\n",
              "      <td>Standard</td>\n",
              "      <td>NaN</td>\n",
              "      <td>NaN</td>\n",
              "      <td>Suspension</td>\n",
              "      <td>40.0</td>\n",
              "      <td>NaN</td>\n",
              "      <td>NaN</td>\n",
              "      <td>006f100000a86IPAAY</td>\n",
              "      <td>NaN</td>\n",
              "    </tr>\n",
              "    <tr>\n",
              "      <th>99</th>\n",
              "      <td>Gatomvu</td>\n",
              "      <td>1007676</td>\n",
              "      <td>Rwanda Needs Assessment 2018</td>\n",
              "      <td>Western Province</td>\n",
              "      <td>Rutsiro</td>\n",
              "      <td>Identified</td>\n",
              "      <td>-1.966380</td>\n",
              "      <td>29.357770</td>\n",
              "      <td>NaN</td>\n",
              "      <td>16.0</td>\n",
              "      <td>1250.0</td>\n",
              "      <td>500-1000 people directly served, Elevation:152...</td>\n",
              "      <td>Project Assessment - 2018.8.17</td>\n",
              "      <td>cesarngenzi taroworks</td>\n",
              "      <td>-1.966380</td>\n",
              "      <td>29.357770</td>\n",
              "      <td>None</td>\n",
              "      <td>Nowhere</td>\n",
              "      <td>36.0</td>\n",
              "      <td>36</td>\n",
              "      <td>Congo Nile market</td>\n",
              "      <td>Murama secondary school</td>\n",
              "      <td>Muses health center</td>\n",
              "      <td>None</td>\n",
              "      <td>Farming</td>\n",
              "      <td>Beans</td>\n",
              "      <td>5.0</td>\n",
              "      <td>10.0</td>\n",
              "      <td>They drawn trying to cross through the river</td>\n",
              "      <td>Information gathered from gatomvu leader</td>\n",
              "      <td>Good</td>\n",
              "      <td>Never</td>\n",
              "      <td>Rutsiro</td>\n",
              "      <td>Rubavu-rutsiro</td>\n",
              "      <td>Standard</td>\n",
              "      <td>NaN</td>\n",
              "      <td>NaN</td>\n",
              "      <td>Suspension</td>\n",
              "      <td>74.0</td>\n",
              "      <td>NaN</td>\n",
              "      <td>NaN</td>\n",
              "      <td>006f100000a86ISAAY</td>\n",
              "      <td>NaN</td>\n",
              "    </tr>\n",
              "  </tbody>\n",
              "</table>\n",
              "<p>100 rows × 43 columns</p>\n",
              "</div>"
            ],
            "text/plain": [
              "            Bridge Name  ... Senior Engineering Review Conducted\n",
              "0               Bukinga  ...                                 Yes\n",
              "1              Kagarama  ...                                 Yes\n",
              "2               Karambi  ...                                 Yes\n",
              "3                Rugeti  ...                                 Yes\n",
              "4   Nyakabuye - Nkomane  ...                                 Yes\n",
              "..                  ...  ...                                 ...\n",
              "95              Kabamba  ...                                 NaN\n",
              "96       Mwurire-gatoki  ...                                 NaN\n",
              "97          Rutanzogera  ...                                 NaN\n",
              "98              Murunda  ...                                 NaN\n",
              "99              Gatomvu  ...                                 NaN\n",
              "\n",
              "[100 rows x 43 columns]"
            ]
          },
          "metadata": {
            "tags": []
          },
          "execution_count": 10
        }
      ]
    },
    {
      "cell_type": "code",
      "metadata": {
        "id": "EroZwjP9H-4r",
        "outputId": "308c75a5-05d5-4470-8d66-72a1cd89cae2",
        "colab": {
          "base_uri": "https://localhost:8080/"
        }
      },
      "source": [
        "df['Bridge Opportunity: Needs Assessment'].value_counts()"
      ],
      "execution_count": null,
      "outputs": [
        {
          "output_type": "execute_result",
          "data": {
            "text/plain": [
              "Rwanda Needs Assessment 2018    1432\n",
              "Name: Bridge Opportunity: Needs Assessment, dtype: int64"
            ]
          },
          "metadata": {
            "tags": []
          },
          "execution_count": 11
        }
      ]
    },
    {
      "cell_type": "code",
      "metadata": {
        "id": "QVJOcYjbutNv",
        "outputId": "be2fb1d6-4a1a-4b82-d4f9-93b07f3c39d6",
        "colab": {
          "base_uri": "https://localhost:8080/"
        }
      },
      "source": [
        "df['Bridge Opportunity: Stage'].value_counts()\n"
      ],
      "execution_count": null,
      "outputs": [
        {
          "output_type": "execute_result",
          "data": {
            "text/plain": [
              "Rejected              1175\n",
              "Identified             224\n",
              "Complete                43\n",
              "Prospecting             18\n",
              "Under Construction       7\n",
              "Confirmed                4\n",
              "Cancelled                1\n",
              "Name: Bridge Opportunity: Stage, dtype: int64"
            ]
          },
          "metadata": {
            "tags": []
          },
          "execution_count": 38
        }
      ]
    },
    {
      "cell_type": "code",
      "metadata": {
        "id": "YcLcAw4cNVR0",
        "outputId": "f486cf9d-3be4-4cb0-9cd7-7637a117ea74",
        "colab": {
          "base_uri": "https://localhost:8080/"
        }
      },
      "source": [
        "#looks like most of the bridges are timber but maybe there is a difference between bridge in timber; one log vs 2\n",
        "df['Current crossing method'].value_counts()"
      ],
      "execution_count": null,
      "outputs": [
        {
          "output_type": "execute_result",
          "data": {
            "text/plain": [
              "Timber                                                                                                                                         398\n",
              "None                                                                                                                                           363\n",
              "Timber bridge                                                                                                                                  181\n",
              "Bridge in timber                                                                                                                               109\n",
              "Timbers                                                                                                                                         57\n",
              "                                                                                                                                              ... \n",
              "TwoTree logs                                                                                                                                     1\n",
              "Bridge in timber ( One log only)                                                                                                                 1\n",
              "fording and sometimes one single tree                                                                                                            1\n",
              "There is vehicular bridge which has constructed by government officials, however it has been deteriorated. And the cell leader confirms it.      1\n",
              "No crossing method                                                                                                                               1\n",
              "Name: Current crossing method, Length: 118, dtype: int64"
            ]
          },
          "metadata": {
            "tags": []
          },
          "execution_count": 13
        }
      ]
    },
    {
      "cell_type": "code",
      "metadata": {
        "id": "L8GCQnWDOuB8",
        "outputId": "69582622-868b-4c8d-9a33-cd1ea1985ddd",
        "colab": {
          "base_uri": "https://localhost:8080/"
        }
      },
      "source": [
        "df['Primary occupations'].value_counts()"
      ],
      "execution_count": null,
      "outputs": [
        {
          "output_type": "execute_result",
          "data": {
            "text/plain": [
              "Farming                                                                                                             451\n",
              "Agriculture                                                                                                         161\n",
              "Agriculture and animal husbandry                                                                                     28\n",
              "Firming                                                                                                              21\n",
              "Farming and business                                                                                                  8\n",
              "                                                                                                                   ... \n",
              "Education purpose marketing and farming                                                                               1\n",
              "School, Market, farms,..                                                                                              1\n",
              "Market downstream of river, center of business Gashushura-Bubiro on left side, banana bear factor on right side,      1\n",
              "Rice farming, tomatoes and maize farms                                                                                1\n",
              "Local farmers(sweet potatoes , maize) and traders at Vunga market                                                     1\n",
              "Name: Primary occupations, Length: 513, dtype: int64"
            ]
          },
          "metadata": {
            "tags": []
          },
          "execution_count": 14
        }
      ]
    },
    {
      "cell_type": "code",
      "metadata": {
        "id": "JBb_YwsvPB4N",
        "outputId": "b0e4d827-fb48-466b-b9c8-9f1aa3c6fcc6",
        "colab": {
          "base_uri": "https://localhost:8080/"
        }
      },
      "source": [
        "df['Bridge classification'].value_counts()"
      ],
      "execution_count": null,
      "outputs": [
        {
          "output_type": "execute_result",
          "data": {
            "text/plain": [
              "Standard                                1239\n",
              "Requires additional engineering           36\n",
              "Outside of current engineering scope      20\n",
              "Name: Bridge classification, dtype: int64"
            ]
          },
          "metadata": {
            "tags": []
          },
          "execution_count": 15
        }
      ]
    },
    {
      "cell_type": "code",
      "metadata": {
        "id": "s4sui5aJPPt7",
        "outputId": "77bcbb31-ab29-4037-daf3-0063737607ad",
        "colab": {
          "base_uri": "https://localhost:8080/"
        }
      },
      "source": [
        "df['Bridge Type'].value_counts()"
      ],
      "execution_count": null,
      "outputs": [
        {
          "output_type": "execute_result",
          "data": {
            "text/plain": [
              "Suspension    648\n",
              "Suspended     608\n",
              "Other          46\n",
              "Name: Bridge Type, dtype: int64"
            ]
          },
          "metadata": {
            "tags": []
          },
          "execution_count": 16
        }
      ]
    },
    {
      "cell_type": "code",
      "metadata": {
        "id": "qQ7rv622LUKg",
        "outputId": "806117e5-bce1-4729-f03c-08b211047db6",
        "colab": {
          "base_uri": "https://localhost:8080/",
          "height": 375
        }
      },
      "source": [
        "df.describe()"
      ],
      "execution_count": null,
      "outputs": [
        {
          "output_type": "execute_result",
          "data": {
            "text/html": [
              "<div>\n",
              "<style scoped>\n",
              "    .dataframe tbody tr th:only-of-type {\n",
              "        vertical-align: middle;\n",
              "    }\n",
              "\n",
              "    .dataframe tbody tr th {\n",
              "        vertical-align: top;\n",
              "    }\n",
              "\n",
              "    .dataframe thead th {\n",
              "        text-align: right;\n",
              "    }\n",
              "</style>\n",
              "<table border=\"1\" class=\"dataframe\">\n",
              "  <thead>\n",
              "    <tr style=\"text-align: right;\">\n",
              "      <th></th>\n",
              "      <th>Bridge Opportunity: GPS (Latitude)</th>\n",
              "      <th>Bridge Opportunity: GPS (Longitude)</th>\n",
              "      <th>Bridge Opportunity: Span (m)</th>\n",
              "      <th>Bridge Opportunity: Individuals Directly Served</th>\n",
              "      <th>Proposed Bridge Location (GPS) (Latitude)</th>\n",
              "      <th>Proposed Bridge Location (GPS) (Longitude)</th>\n",
              "      <th>Days per year river is flooded</th>\n",
              "      <th>River crossing deaths in last 3 years</th>\n",
              "      <th>River crossing injuries in last 3 years</th>\n",
              "      <th>Estimated span (m)</th>\n",
              "      <th>Height differential between banks</th>\n",
              "    </tr>\n",
              "  </thead>\n",
              "  <tbody>\n",
              "    <tr>\n",
              "      <th>count</th>\n",
              "      <td>1460.000000</td>\n",
              "      <td>1460.000000</td>\n",
              "      <td>390.000000</td>\n",
              "      <td>1466.000000</td>\n",
              "      <td>1432.000000</td>\n",
              "      <td>1432.000000</td>\n",
              "      <td>1309.000000</td>\n",
              "      <td>1300.000000</td>\n",
              "      <td>1305.000000</td>\n",
              "      <td>1289.000000</td>\n",
              "      <td>507.000000</td>\n",
              "    </tr>\n",
              "    <tr>\n",
              "      <th>mean</th>\n",
              "      <td>-2.043006</td>\n",
              "      <td>29.681260</td>\n",
              "      <td>52.439487</td>\n",
              "      <td>3917.793315</td>\n",
              "      <td>-2.040936</td>\n",
              "      <td>29.680595</td>\n",
              "      <td>78.634836</td>\n",
              "      <td>0.977692</td>\n",
              "      <td>5.253640</td>\n",
              "      <td>52.412180</td>\n",
              "      <td>1.066055</td>\n",
              "    </tr>\n",
              "    <tr>\n",
              "      <th>std</th>\n",
              "      <td>0.459733</td>\n",
              "      <td>1.606066</td>\n",
              "      <td>80.183567</td>\n",
              "      <td>5001.859990</td>\n",
              "      <td>0.473084</td>\n",
              "      <td>1.621302</td>\n",
              "      <td>94.380174</td>\n",
              "      <td>2.497782</td>\n",
              "      <td>17.231219</td>\n",
              "      <td>74.132283</td>\n",
              "      <td>2.694258</td>\n",
              "    </tr>\n",
              "    <tr>\n",
              "      <th>min</th>\n",
              "      <td>-2.799865</td>\n",
              "      <td>-29.496450</td>\n",
              "      <td>4.000000</td>\n",
              "      <td>0.000000</td>\n",
              "      <td>-2.799865</td>\n",
              "      <td>-29.496450</td>\n",
              "      <td>0.000000</td>\n",
              "      <td>0.000000</td>\n",
              "      <td>0.000000</td>\n",
              "      <td>2.000000</td>\n",
              "      <td>0.000000</td>\n",
              "    </tr>\n",
              "    <tr>\n",
              "      <th>25%</th>\n",
              "      <td>-2.347460</td>\n",
              "      <td>29.442988</td>\n",
              "      <td>16.250000</td>\n",
              "      <td>1610.000000</td>\n",
              "      <td>-2.348958</td>\n",
              "      <td>29.441390</td>\n",
              "      <td>25.000000</td>\n",
              "      <td>0.000000</td>\n",
              "      <td>0.000000</td>\n",
              "      <td>32.800000</td>\n",
              "      <td>0.200000</td>\n",
              "    </tr>\n",
              "    <tr>\n",
              "      <th>50%</th>\n",
              "      <td>-2.056740</td>\n",
              "      <td>29.675091</td>\n",
              "      <td>37.000000</td>\n",
              "      <td>2747.500000</td>\n",
              "      <td>-2.062615</td>\n",
              "      <td>29.675973</td>\n",
              "      <td>46.000000</td>\n",
              "      <td>0.000000</td>\n",
              "      <td>1.000000</td>\n",
              "      <td>44.000000</td>\n",
              "      <td>0.600000</td>\n",
              "    </tr>\n",
              "    <tr>\n",
              "      <th>75%</th>\n",
              "      <td>-1.734793</td>\n",
              "      <td>29.987374</td>\n",
              "      <td>61.125000</td>\n",
              "      <td>4328.750000</td>\n",
              "      <td>-1.734793</td>\n",
              "      <td>29.988421</td>\n",
              "      <td>90.000000</td>\n",
              "      <td>1.000000</td>\n",
              "      <td>4.000000</td>\n",
              "      <td>60.000000</td>\n",
              "      <td>1.300000</td>\n",
              "    </tr>\n",
              "    <tr>\n",
              "      <th>max</th>\n",
              "      <td>2.794150</td>\n",
              "      <td>30.813100</td>\n",
              "      <td>850.000000</td>\n",
              "      <td>65160.000000</td>\n",
              "      <td>2.794150</td>\n",
              "      <td>30.813100</td>\n",
              "      <td>365.000000</td>\n",
              "      <td>50.000000</td>\n",
              "      <td>300.000000</td>\n",
              "      <td>2500.000000</td>\n",
              "      <td>56.000000</td>\n",
              "    </tr>\n",
              "  </tbody>\n",
              "</table>\n",
              "</div>"
            ],
            "text/plain": [
              "       Bridge Opportunity: GPS (Latitude)  ...  Height differential between banks\n",
              "count                         1460.000000  ...                         507.000000\n",
              "mean                            -2.043006  ...                           1.066055\n",
              "std                              0.459733  ...                           2.694258\n",
              "min                             -2.799865  ...                           0.000000\n",
              "25%                             -2.347460  ...                           0.200000\n",
              "50%                             -2.056740  ...                           0.600000\n",
              "75%                             -1.734793  ...                           1.300000\n",
              "max                              2.794150  ...                          56.000000\n",
              "\n",
              "[8 rows x 11 columns]"
            ]
          },
          "metadata": {
            "tags": []
          },
          "execution_count": 12
        }
      ]
    },
    {
      "cell_type": "code",
      "metadata": {
        "id": "xSysxwwgR-f0",
        "outputId": "3c69a47d-75d3-4de3-999c-473defdecd6d",
        "colab": {
          "base_uri": "https://localhost:8080/",
          "height": 329
        }
      },
      "source": [
        "#Possibly not needed columns being dropped.\n",
        "newdf = df.drop(['Bridge Opportunity: CaseSafeID', 'Bridge Opportunity: Needs Assessment','Form: Form Name', 'Form: Created By', 'Incident descriptions', 'Notes on social information', 'Bridge Opportunity: General Project Photos', 'Bridge Opportunity: Comments'], axis=1)\n",
        "newdf.describe()\n"
      ],
      "execution_count": 46,
      "outputs": [
        {
          "output_type": "execute_result",
          "data": {
            "text/html": [
              "<div>\n",
              "<style scoped>\n",
              "    .dataframe tbody tr th:only-of-type {\n",
              "        vertical-align: middle;\n",
              "    }\n",
              "\n",
              "    .dataframe tbody tr th {\n",
              "        vertical-align: top;\n",
              "    }\n",
              "\n",
              "    .dataframe thead th {\n",
              "        text-align: right;\n",
              "    }\n",
              "</style>\n",
              "<table border=\"1\" class=\"dataframe\">\n",
              "  <thead>\n",
              "    <tr style=\"text-align: right;\">\n",
              "      <th></th>\n",
              "      <th>Bridge Opportunity: GPS (Latitude)</th>\n",
              "      <th>Bridge Opportunity: GPS (Longitude)</th>\n",
              "      <th>Bridge Opportunity: Span (m)</th>\n",
              "      <th>Bridge Opportunity: Individuals Directly Served</th>\n",
              "      <th>Proposed Bridge Location (GPS) (Latitude)</th>\n",
              "      <th>Proposed Bridge Location (GPS) (Longitude)</th>\n",
              "      <th>Days per year river is flooded</th>\n",
              "      <th>River crossing deaths in last 3 years</th>\n",
              "      <th>River crossing injuries in last 3 years</th>\n",
              "      <th>Estimated span (m)</th>\n",
              "      <th>Height differential between banks</th>\n",
              "    </tr>\n",
              "  </thead>\n",
              "  <tbody>\n",
              "    <tr>\n",
              "      <th>count</th>\n",
              "      <td>1460.000000</td>\n",
              "      <td>1460.000000</td>\n",
              "      <td>390.000000</td>\n",
              "      <td>1466.000000</td>\n",
              "      <td>1432.000000</td>\n",
              "      <td>1432.000000</td>\n",
              "      <td>1309.000000</td>\n",
              "      <td>1300.000000</td>\n",
              "      <td>1305.000000</td>\n",
              "      <td>1289.000000</td>\n",
              "      <td>507.000000</td>\n",
              "    </tr>\n",
              "    <tr>\n",
              "      <th>mean</th>\n",
              "      <td>-2.043006</td>\n",
              "      <td>29.681260</td>\n",
              "      <td>52.439487</td>\n",
              "      <td>3917.793315</td>\n",
              "      <td>-2.040936</td>\n",
              "      <td>29.680595</td>\n",
              "      <td>78.634836</td>\n",
              "      <td>0.977692</td>\n",
              "      <td>5.253640</td>\n",
              "      <td>52.412180</td>\n",
              "      <td>1.066055</td>\n",
              "    </tr>\n",
              "    <tr>\n",
              "      <th>std</th>\n",
              "      <td>0.459733</td>\n",
              "      <td>1.606066</td>\n",
              "      <td>80.183567</td>\n",
              "      <td>5001.859990</td>\n",
              "      <td>0.473084</td>\n",
              "      <td>1.621302</td>\n",
              "      <td>94.380174</td>\n",
              "      <td>2.497782</td>\n",
              "      <td>17.231219</td>\n",
              "      <td>74.132283</td>\n",
              "      <td>2.694258</td>\n",
              "    </tr>\n",
              "    <tr>\n",
              "      <th>min</th>\n",
              "      <td>-2.799865</td>\n",
              "      <td>-29.496450</td>\n",
              "      <td>4.000000</td>\n",
              "      <td>0.000000</td>\n",
              "      <td>-2.799865</td>\n",
              "      <td>-29.496450</td>\n",
              "      <td>0.000000</td>\n",
              "      <td>0.000000</td>\n",
              "      <td>0.000000</td>\n",
              "      <td>2.000000</td>\n",
              "      <td>0.000000</td>\n",
              "    </tr>\n",
              "    <tr>\n",
              "      <th>25%</th>\n",
              "      <td>-2.347460</td>\n",
              "      <td>29.442988</td>\n",
              "      <td>16.250000</td>\n",
              "      <td>1610.000000</td>\n",
              "      <td>-2.348958</td>\n",
              "      <td>29.441390</td>\n",
              "      <td>25.000000</td>\n",
              "      <td>0.000000</td>\n",
              "      <td>0.000000</td>\n",
              "      <td>32.800000</td>\n",
              "      <td>0.200000</td>\n",
              "    </tr>\n",
              "    <tr>\n",
              "      <th>50%</th>\n",
              "      <td>-2.056740</td>\n",
              "      <td>29.675091</td>\n",
              "      <td>37.000000</td>\n",
              "      <td>2747.500000</td>\n",
              "      <td>-2.062615</td>\n",
              "      <td>29.675973</td>\n",
              "      <td>46.000000</td>\n",
              "      <td>0.000000</td>\n",
              "      <td>1.000000</td>\n",
              "      <td>44.000000</td>\n",
              "      <td>0.600000</td>\n",
              "    </tr>\n",
              "    <tr>\n",
              "      <th>75%</th>\n",
              "      <td>-1.734793</td>\n",
              "      <td>29.987374</td>\n",
              "      <td>61.125000</td>\n",
              "      <td>4328.750000</td>\n",
              "      <td>-1.734793</td>\n",
              "      <td>29.988421</td>\n",
              "      <td>90.000000</td>\n",
              "      <td>1.000000</td>\n",
              "      <td>4.000000</td>\n",
              "      <td>60.000000</td>\n",
              "      <td>1.300000</td>\n",
              "    </tr>\n",
              "    <tr>\n",
              "      <th>max</th>\n",
              "      <td>2.794150</td>\n",
              "      <td>30.813100</td>\n",
              "      <td>850.000000</td>\n",
              "      <td>65160.000000</td>\n",
              "      <td>2.794150</td>\n",
              "      <td>30.813100</td>\n",
              "      <td>365.000000</td>\n",
              "      <td>50.000000</td>\n",
              "      <td>300.000000</td>\n",
              "      <td>2500.000000</td>\n",
              "      <td>56.000000</td>\n",
              "    </tr>\n",
              "  </tbody>\n",
              "</table>\n",
              "</div>"
            ],
            "text/plain": [
              "       Bridge Opportunity: GPS (Latitude)  ...  Height differential between banks\n",
              "count                         1460.000000  ...                         507.000000\n",
              "mean                            -2.043006  ...                           1.066055\n",
              "std                              0.459733  ...                           2.694258\n",
              "min                             -2.799865  ...                           0.000000\n",
              "25%                             -2.347460  ...                           0.200000\n",
              "50%                             -2.056740  ...                           0.600000\n",
              "75%                             -1.734793  ...                           1.300000\n",
              "max                              2.794150  ...                          56.000000\n",
              "\n",
              "[8 rows x 11 columns]"
            ]
          },
          "metadata": {
            "tags": []
          },
          "execution_count": 46
        }
      ]
    },
    {
      "cell_type": "code",
      "metadata": {
        "id": "vd8je_b0W944"
      },
      "source": [
        "newdf = newdf.replace('Suspended', 'Suspension')\n"
      ],
      "execution_count": 47,
      "outputs": []
    },
    {
      "cell_type": "code",
      "metadata": {
        "id": "O1wxK3mjYvts"
      },
      "source": [
        "newdf = newdf.replace('Firming', 'Farming')"
      ],
      "execution_count": 48,
      "outputs": []
    },
    {
      "cell_type": "code",
      "metadata": {
        "id": "8i44CMP7Y5t_"
      },
      "source": [
        "newdf = newdf.replace('Suspended Bridge', 'Suspension Bridge')"
      ],
      "execution_count": 49,
      "outputs": []
    },
    {
      "cell_type": "code",
      "metadata": {
        "id": "2RW5Z_sRardT",
        "outputId": "66461610-c96c-4bd4-8ca7-bf4d96cc5442",
        "colab": {
          "base_uri": "https://localhost:8080/",
          "height": 725
        }
      },
      "source": [
        "newdf.head()"
      ],
      "execution_count": 31,
      "outputs": [
        {
          "output_type": "execute_result",
          "data": {
            "text/html": [
              "<div>\n",
              "<style scoped>\n",
              "    .dataframe tbody tr th:only-of-type {\n",
              "        vertical-align: middle;\n",
              "    }\n",
              "\n",
              "    .dataframe tbody tr th {\n",
              "        vertical-align: top;\n",
              "    }\n",
              "\n",
              "    .dataframe thead th {\n",
              "        text-align: right;\n",
              "    }\n",
              "</style>\n",
              "<table border=\"1\" class=\"dataframe\">\n",
              "  <thead>\n",
              "    <tr style=\"text-align: right;\">\n",
              "      <th></th>\n",
              "      <th>Bridge Name</th>\n",
              "      <th>Bridge Opportunity: Project Code</th>\n",
              "      <th>Bridge Opportunity: Level 1 Government</th>\n",
              "      <th>Bridge Opportunity: Level 2 Government</th>\n",
              "      <th>Bridge Opportunity: Stage</th>\n",
              "      <th>Bridge Opportunity: GPS (Latitude)</th>\n",
              "      <th>Bridge Opportunity: GPS (Longitude)</th>\n",
              "      <th>Bridge Opportunity: Bridge Type</th>\n",
              "      <th>Bridge Opportunity: Span (m)</th>\n",
              "      <th>Bridge Opportunity: Individuals Directly Served</th>\n",
              "      <th>Proposed Bridge Location (GPS) (Latitude)</th>\n",
              "      <th>Proposed Bridge Location (GPS) (Longitude)</th>\n",
              "      <th>Current crossing method</th>\n",
              "      <th>Nearest all-weather crossing point</th>\n",
              "      <th>Days per year river is flooded</th>\n",
              "      <th>Flood duration during rainy season</th>\n",
              "      <th>Market access blocked by river</th>\n",
              "      <th>Education access blocked by river</th>\n",
              "      <th>Health access blocked by river</th>\n",
              "      <th>Other access blocked by river</th>\n",
              "      <th>Primary occupations</th>\n",
              "      <th>Primary crops grown</th>\n",
              "      <th>River crossing deaths in last 3 years</th>\n",
              "      <th>River crossing injuries in last 3 years</th>\n",
              "      <th>Cell service quality</th>\n",
              "      <th>4WD Accessibility</th>\n",
              "      <th>Name of nearest city</th>\n",
              "      <th>Name of nearest paved or sealed road</th>\n",
              "      <th>Bridge classification</th>\n",
              "      <th>Flag for Rejection</th>\n",
              "      <th>Rejection Reason</th>\n",
              "      <th>Bridge Type</th>\n",
              "      <th>Estimated span (m)</th>\n",
              "      <th>Height differential between banks</th>\n",
              "      <th>Senior Engineering Review Conducted</th>\n",
              "    </tr>\n",
              "  </thead>\n",
              "  <tbody>\n",
              "    <tr>\n",
              "      <th>0</th>\n",
              "      <td>Bukinga</td>\n",
              "      <td>1009317</td>\n",
              "      <td>Southern Province</td>\n",
              "      <td>Nyaruguru</td>\n",
              "      <td>Cancelled</td>\n",
              "      <td>-2.760833</td>\n",
              "      <td>29.488056</td>\n",
              "      <td>Suspension Bridge</td>\n",
              "      <td>NaN</td>\n",
              "      <td>NaN</td>\n",
              "      <td>-2.760833</td>\n",
              "      <td>29.488056</td>\n",
              "      <td>NaN</td>\n",
              "      <td>NaN</td>\n",
              "      <td>NaN</td>\n",
              "      <td>NaN</td>\n",
              "      <td>NaN</td>\n",
              "      <td>NaN</td>\n",
              "      <td>NaN</td>\n",
              "      <td>NaN</td>\n",
              "      <td>NaN</td>\n",
              "      <td>NaN</td>\n",
              "      <td>NaN</td>\n",
              "      <td>NaN</td>\n",
              "      <td>NaN</td>\n",
              "      <td>NaN</td>\n",
              "      <td>Huye</td>\n",
              "      <td>NaN</td>\n",
              "      <td>NaN</td>\n",
              "      <td>Yes</td>\n",
              "      <td>There is a planned vehicular road with a vehic...</td>\n",
              "      <td>NaN</td>\n",
              "      <td>NaN</td>\n",
              "      <td>NaN</td>\n",
              "      <td>Yes</td>\n",
              "    </tr>\n",
              "    <tr>\n",
              "      <th>1</th>\n",
              "      <td>Kagarama</td>\n",
              "      <td>1007325</td>\n",
              "      <td>Western Province</td>\n",
              "      <td>Nyamasheke</td>\n",
              "      <td>Complete</td>\n",
              "      <td>-2.322534</td>\n",
              "      <td>29.141944</td>\n",
              "      <td>Suspension Bridge</td>\n",
              "      <td>48.0</td>\n",
              "      <td>4000.0</td>\n",
              "      <td>-2.322534</td>\n",
              "      <td>29.141944</td>\n",
              "      <td>timber bridge</td>\n",
              "      <td>2km downstream</td>\n",
              "      <td>120.0</td>\n",
              "      <td>12hours</td>\n",
              "      <td>Schools, hospital, markets and government serv...</td>\n",
              "      <td>NaN</td>\n",
              "      <td>NaN</td>\n",
              "      <td>NaN</td>\n",
              "      <td>farming</td>\n",
              "      <td>banana</td>\n",
              "      <td>2.0</td>\n",
              "      <td>15.0</td>\n",
              "      <td>Fair</td>\n",
              "      <td>Seasonally</td>\n",
              "      <td>Kibogora-Kabuga</td>\n",
              "      <td>Karongi-Nyamasheke</td>\n",
              "      <td>NaN</td>\n",
              "      <td>NaN</td>\n",
              "      <td>NaN</td>\n",
              "      <td>NaN</td>\n",
              "      <td>10.0</td>\n",
              "      <td>0.7</td>\n",
              "      <td>Yes</td>\n",
              "    </tr>\n",
              "    <tr>\n",
              "      <th>2</th>\n",
              "      <td>Karambi</td>\n",
              "      <td>1007374</td>\n",
              "      <td>Southern Province</td>\n",
              "      <td>Huye</td>\n",
              "      <td>Complete</td>\n",
              "      <td>-2.513333</td>\n",
              "      <td>29.612778</td>\n",
              "      <td>Suspension Bridge</td>\n",
              "      <td>50.0</td>\n",
              "      <td>12500.0</td>\n",
              "      <td>NaN</td>\n",
              "      <td>NaN</td>\n",
              "      <td>Timber bridge</td>\n",
              "      <td>Is located at 5km upstream. People pay 1000rwf...</td>\n",
              "      <td>60.0</td>\n",
              "      <td>1day</td>\n",
              "      <td>Markets,farms blocked by this river both sides</td>\n",
              "      <td>Education blocked by this river both sides</td>\n",
              "      <td>Health services blocked by this river both sides</td>\n",
              "      <td>Potable water, places of worship ,places for r...</td>\n",
              "      <td>Farming and small business</td>\n",
              "      <td>Corns, banana and beans</td>\n",
              "      <td>3.0</td>\n",
              "      <td>15.0</td>\n",
              "      <td>Good</td>\n",
              "      <td>Never</td>\n",
              "      <td>Nyamagabe</td>\n",
              "      <td>Huye-Nyamagabe</td>\n",
              "      <td>Standard</td>\n",
              "      <td>NaN</td>\n",
              "      <td>NaN</td>\n",
              "      <td>Suspension</td>\n",
              "      <td>45.0</td>\n",
              "      <td>1.0</td>\n",
              "      <td>Yes</td>\n",
              "    </tr>\n",
              "    <tr>\n",
              "      <th>3</th>\n",
              "      <td>Rugeti</td>\n",
              "      <td>1007466</td>\n",
              "      <td>Southern Province</td>\n",
              "      <td>Nyamagabe</td>\n",
              "      <td>Complete</td>\n",
              "      <td>-2.476407</td>\n",
              "      <td>29.420800</td>\n",
              "      <td>Suspension Bridge</td>\n",
              "      <td>68.0</td>\n",
              "      <td>4363.0</td>\n",
              "      <td>-2.476407</td>\n",
              "      <td>29.420800</td>\n",
              "      <td>Timber</td>\n",
              "      <td>None</td>\n",
              "      <td>60.0</td>\n",
              "      <td>All time in April and May and it is rarely to ...</td>\n",
              "      <td>Markets</td>\n",
              "      <td>Primary and Secondary schools</td>\n",
              "      <td>Health Center</td>\n",
              "      <td>Churches and Government offices</td>\n",
              "      <td>Farming of large tea plantation, wheat farms</td>\n",
              "      <td>Tea, cow pea, wheat, beans, sweet potatoes</td>\n",
              "      <td>0.0</td>\n",
              "      <td>2.0</td>\n",
              "      <td>Fair</td>\n",
              "      <td>Seasonally</td>\n",
              "      <td>Huye</td>\n",
              "      <td>Nyamagabe-Rusizi</td>\n",
              "      <td>Standard</td>\n",
              "      <td>No</td>\n",
              "      <td>NaN</td>\n",
              "      <td>Suspension</td>\n",
              "      <td>47.4</td>\n",
              "      <td>1.1</td>\n",
              "      <td>Yes</td>\n",
              "    </tr>\n",
              "    <tr>\n",
              "      <th>4</th>\n",
              "      <td>Nyakabuye - Nkomane</td>\n",
              "      <td>1007495</td>\n",
              "      <td>Southern Province</td>\n",
              "      <td>Nyamagabe</td>\n",
              "      <td>Complete</td>\n",
              "      <td>-2.233022</td>\n",
              "      <td>29.575130</td>\n",
              "      <td>Suspension Bridge</td>\n",
              "      <td>78.0</td>\n",
              "      <td>2790.0</td>\n",
              "      <td>-2.233574</td>\n",
              "      <td>29.575366</td>\n",
              "      <td>Timber bridge</td>\n",
              "      <td>Vehicular bridge, 5 kilometers</td>\n",
              "      <td>35.0</td>\n",
              "      <td>April To May, September to December, 12 hours ...</td>\n",
              "      <td>Birambo market, Gasura market, kirinda market(...</td>\n",
              "      <td>Groupe scholar Gasave( 1,2)</td>\n",
              "      <td>Kirinda Hospital(villages 1,2)</td>\n",
              "      <td>None</td>\n",
              "      <td>Farming</td>\n",
              "      <td>Cassava, maize, beans, sorghum, sweet potatoes</td>\n",
              "      <td>4.0</td>\n",
              "      <td>4.0</td>\n",
              "      <td>Good</td>\n",
              "      <td>Never</td>\n",
              "      <td>Nyanza</td>\n",
              "      <td>Nyamagabe</td>\n",
              "      <td>Standard</td>\n",
              "      <td>No</td>\n",
              "      <td>NaN</td>\n",
              "      <td>Suspension</td>\n",
              "      <td>90.0</td>\n",
              "      <td>1.1</td>\n",
              "      <td>Yes</td>\n",
              "    </tr>\n",
              "  </tbody>\n",
              "</table>\n",
              "</div>"
            ],
            "text/plain": [
              "           Bridge Name  ... Senior Engineering Review Conducted\n",
              "0              Bukinga  ...                                 Yes\n",
              "1             Kagarama  ...                                 Yes\n",
              "2              Karambi  ...                                 Yes\n",
              "3               Rugeti  ...                                 Yes\n",
              "4  Nyakabuye - Nkomane  ...                                 Yes\n",
              "\n",
              "[5 rows x 35 columns]"
            ]
          },
          "metadata": {
            "tags": []
          },
          "execution_count": 31
        }
      ]
    },
    {
      "cell_type": "code",
      "metadata": {
        "id": "pPjdru4haRe4"
      },
      "source": [
        "newdf = newdf.replace(['Bridge in timber', 'Timber bridge', 'Timber Bridge', 'Timbers', 'Timber', 'timber bridge', 'Timber but old', 'Local timber bridge','timber','Bridge in timer', 'One timber'], 'Timber Bridge')"
      ],
      "execution_count": 54,
      "outputs": []
    },
    {
      "cell_type": "code",
      "metadata": {
        "id": "PPw2VVnSdkXB",
        "outputId": "4d716b29-9371-443f-c016-e5a19f12f438",
        "colab": {
          "base_uri": "https://localhost:8080/"
        }
      },
      "source": [
        "newdf['Bridge classification'].value_counts()"
      ],
      "execution_count": 60,
      "outputs": [
        {
          "output_type": "execute_result",
          "data": {
            "text/plain": [
              "Standard                                1239\n",
              "Requires additional engineering           36\n",
              "Outside of current engineering scope      20\n",
              "Name: Bridge classification, dtype: int64"
            ]
          },
          "metadata": {
            "tags": []
          },
          "execution_count": 60
        }
      ]
    },
    {
      "cell_type": "code",
      "metadata": {
        "id": "C4lpR4DDlHzZ",
        "outputId": "a5939a6a-bc2a-4e0e-cc92-6dccf74756a3",
        "colab": {
          "base_uri": "https://localhost:8080/"
        }
      },
      "source": [
        "newdf['Bridge Type'].value_counts()"
      ],
      "execution_count": 63,
      "outputs": [
        {
          "output_type": "execute_result",
          "data": {
            "text/plain": [
              "Suspension    1256\n",
              "Other           46\n",
              "Name: Bridge Type, dtype: int64"
            ]
          },
          "metadata": {
            "tags": []
          },
          "execution_count": 63
        }
      ]
    },
    {
      "cell_type": "code",
      "metadata": {
        "id": "Pe9vfTAzkz6N",
        "outputId": "72adc822-54f1-4fc1-dc51-b6f0466ed7e3",
        "colab": {
          "base_uri": "https://localhost:8080/"
        }
      },
      "source": [
        "#column from 2013\n",
        "newdf['Bridge Opportunity: Bridge Type'].value_counts()"
      ],
      "execution_count": 62,
      "outputs": [
        {
          "output_type": "execute_result",
          "data": {
            "text/plain": [
              "Suspension Bridge      180\n",
              "Other                    3\n",
              "Simple Span Bridge       1\n",
              "Concrete (11 - 20m)      1\n",
              "Name: Bridge Opportunity: Bridge Type, dtype: int64"
            ]
          },
          "metadata": {
            "tags": []
          },
          "execution_count": 62
        }
      ]
    },
    {
      "cell_type": "code",
      "metadata": {
        "id": "3-rxKmeFdM7e",
        "outputId": "0bd75c1e-e12c-4974-ec1c-9b020ef94e15",
        "colab": {
          "base_uri": "https://localhost:8080/"
        }
      },
      "source": [
        "newdf['Current crossing method'].nunique()"
      ],
      "execution_count": 56,
      "outputs": [
        {
          "output_type": "execute_result",
          "data": {
            "text/plain": [
              "108"
            ]
          },
          "metadata": {
            "tags": []
          },
          "execution_count": 56
        }
      ]
    },
    {
      "cell_type": "code",
      "metadata": {
        "id": "JR8FqWsCf1Ig",
        "outputId": "95a69c43-aed5-4977-8cfb-1cbf11105062",
        "colab": {
          "base_uri": "https://localhost:8080/"
        }
      },
      "source": [
        "newdf.nunique()"
      ],
      "execution_count": 57,
      "outputs": [
        {
          "output_type": "execute_result",
          "data": {
            "text/plain": [
              "Bridge Name                                        1217\n",
              "Bridge Opportunity: Project Code                   1472\n",
              "Bridge Opportunity: Level 1 Government                5\n",
              "Bridge Opportunity: Level 2 Government               30\n",
              "Bridge Opportunity: Stage                             7\n",
              "Bridge Opportunity: GPS (Latitude)                 1441\n",
              "Bridge Opportunity: GPS (Longitude)                1442\n",
              "Bridge Opportunity: Bridge Type                       4\n",
              "Bridge Opportunity: Span (m)                        110\n",
              "Bridge Opportunity: Individuals Directly Served    1111\n",
              "Proposed Bridge Location (GPS) (Latitude)          1413\n",
              "Proposed Bridge Location (GPS) (Longitude)         1414\n",
              "Current crossing method                             108\n",
              "Nearest all-weather crossing point                  478\n",
              "Days per year river is flooded                      139\n",
              "Flood duration during rainy season                  542\n",
              "Market access blocked by river                     1104\n",
              "Education access blocked by river                  1100\n",
              "Health access blocked by river                      983\n",
              "Other access blocked by river                       929\n",
              "Primary occupations                                 512\n",
              "Primary crops grown                                 807\n",
              "River crossing deaths in last 3 years                17\n",
              "River crossing injuries in last 3 years              27\n",
              "Cell service quality                                  3\n",
              "4WD Accessibility                                     3\n",
              "Name of nearest city                                 96\n",
              "Name of nearest paved or sealed road                293\n",
              "Bridge classification                                 3\n",
              "Flag for Rejection                                    2\n",
              "Rejection Reason                                    218\n",
              "Bridge Type                                           2\n",
              "Estimated span (m)                                  231\n",
              "Height differential between banks                    50\n",
              "Senior Engineering Review Conducted                   1\n",
              "dtype: int64"
            ]
          },
          "metadata": {
            "tags": []
          },
          "execution_count": 57
        }
      ]
    },
    {
      "cell_type": "code",
      "metadata": {
        "id": "3TcgfVDgOT_I"
      },
      "source": [
        "target = 'Bridge Opportunity: Stage'\n",
        "high_cardinality = ['Bridge Name', 'Bridge Opportunity: Project Code','Bridge Opportunity: GPS (Latitude)' ]\n",
        "features = train.columns.drop([target] + high_cardinality)\n",
        "features"
      ],
      "execution_count": null,
      "outputs": []
    },
    {
      "cell_type": "code",
      "metadata": {
        "id": "lRffEa-GOUNs"
      },
      "source": [
        ""
      ],
      "execution_count": null,
      "outputs": []
    },
    {
      "cell_type": "code",
      "metadata": {
        "id": "tY7yiuWDcQkL",
        "outputId": "a1ba9f59-e852-4c46-c0a7-6bf84f123a00",
        "colab": {
          "base_uri": "https://localhost:8080/"
        }
      },
      "source": [
        "from google.colab import drive\n",
        "drive.mount('drive')"
      ],
      "execution_count": null,
      "outputs": [
        {
          "output_type": "stream",
          "text": [
            "Mounted at drive\n"
          ],
          "name": "stdout"
        }
      ]
    },
    {
      "cell_type": "code",
      "metadata": {
        "id": "uiPu6oBOaiDl"
      },
      "source": [
        "newdf.to_csv('dataclean1.csv')\n"
      ],
      "execution_count": 64,
      "outputs": []
    },
    {
      "cell_type": "code",
      "metadata": {
        "id": "jHtt0Lw4c6gh"
      },
      "source": [
        "!cp dataclean1.csv \"drive/My Drive/\""
      ],
      "execution_count": 65,
      "outputs": []
    }
  ]
}