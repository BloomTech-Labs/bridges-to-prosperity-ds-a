{
 "metadata": {
  "language_info": {
   "codemirror_mode": {
    "name": "ipython",
    "version": 3
   },
   "file_extension": ".py",
   "mimetype": "text/x-python",
   "name": "python",
   "nbconvert_exporter": "python",
   "pygments_lexer": "ipython3",
   "version": "3.7.6-final"
  },
  "orig_nbformat": 2,
  "kernelspec": {
   "name": "Python 3.7.6 64-bit ('base': conda)",
   "display_name": "Python 3.7.6 64-bit ('base': conda)",
   "metadata": {
    "interpreter": {
     "hash": "a4f35a25c45272398c7efe26b32f7b0bf7ee038b5d39895c08f1a385baf25997"
    }
   }
  }
 },
 "nbformat": 4,
 "nbformat_minor": 2,
 "cells": [
  {
   "cell_type": "code",
   "execution_count": 1,
   "metadata": {},
   "outputs": [],
   "source": [
    "import pandas as pd "
   ]
  },
  {
   "cell_type": "code",
   "execution_count": 3,
   "metadata": {},
   "outputs": [],
   "source": [
    "df = pd.read_csv(\"../data/B2P_Rwanda_matchedIDs_final_2020-09-24.csv\")"
   ]
  },
  {
   "cell_type": "code",
   "execution_count": 4,
   "metadata": {},
   "outputs": [
    {
     "output_type": "execute_result",
     "data": {
      "text/plain": [
       "   Unnamed: 0 country           province district  district_id   sector  \\\n",
       "0           0  Rwanda   Western Province   Rusizi           36   Giheke   \n",
       "1           1  Rwanda   Western Province   Rusizi           36   Giheke   \n",
       "2           2  Rwanda  Northern Province  Rulindo           41   Buyoga   \n",
       "3           3  Rwanda  Northern Province  Gicumbi           45   Kageyo   \n",
       "4           4  Rwanda  Southern Province  Kamonyi           28  Kayenzi   \n",
       "\n",
       "  sector_id                cell cell_id   village  ... community_served_2_id  \\\n",
       "0      3605            Gakomeye  360502      Buzi  ...              36050203   \n",
       "1      3605            Gakomeye  360502      Buzi  ...              36050201   \n",
       "2      4104            Gahororo  410403  Gipfundo  ...                     ?   \n",
       "3      4506  Kabuga-Gatobotobo?       ?         ?  ...                     ?   \n",
       "4      2803               Kirwa  280304    Gisizi  ...                     ?   \n",
       "\n",
       "  community_served_3 community_served_3_id community_served_4  \\\n",
       "0           Kagarama              36050204            Gacyamo   \n",
       "1  Gacyamo - Gasheke              36050202           Kagarama   \n",
       "2             Merezo                     ?           Minanire   \n",
       "3                  ?                     ?                  ?   \n",
       "4                  ?                     ?                  ?   \n",
       "\n",
       "  community_served_4_id community_served_5  community_served_5_id  \\\n",
       "0              36050202            Gasheke                      ?   \n",
       "1              36050204             Kanoga                      ?   \n",
       "2                     ?          Karutongo                      ?   \n",
       "3                     ?                  ?                      ?   \n",
       "4                     ?                  ?                      ?   \n",
       "\n",
       "                              form        case_safe_id   opportunity_id  \n",
       "0  Project Assessment - 2018.10.29  a1if1000002e51bAAA  006f100000d1fk1  \n",
       "1  Project Assessment - 2018.10.29  a1if1000002e51WAAQ  006f100000d1fjw  \n",
       "2   Project Assessment - 2018.8.11  a1if10000025nz8AAA  006f100000a86I3  \n",
       "3   Project Assessment - 2018.8.11  a1if10000025nzDAAQ  006f100000cPpL8  \n",
       "4  Project Assessment - 2018.11.15  a1if1000002gMwRAAU  006f100000eescb  \n",
       "\n",
       "[5 rows x 33 columns]"
      ],
      "text/html": "<div>\n<style scoped>\n    .dataframe tbody tr th:only-of-type {\n        vertical-align: middle;\n    }\n\n    .dataframe tbody tr th {\n        vertical-align: top;\n    }\n\n    .dataframe thead th {\n        text-align: right;\n    }\n</style>\n<table border=\"1\" class=\"dataframe\">\n  <thead>\n    <tr style=\"text-align: right;\">\n      <th></th>\n      <th>Unnamed: 0</th>\n      <th>country</th>\n      <th>province</th>\n      <th>district</th>\n      <th>district_id</th>\n      <th>sector</th>\n      <th>sector_id</th>\n      <th>cell</th>\n      <th>cell_id</th>\n      <th>village</th>\n      <th>...</th>\n      <th>community_served_2_id</th>\n      <th>community_served_3</th>\n      <th>community_served_3_id</th>\n      <th>community_served_4</th>\n      <th>community_served_4_id</th>\n      <th>community_served_5</th>\n      <th>community_served_5_id</th>\n      <th>form</th>\n      <th>case_safe_id</th>\n      <th>opportunity_id</th>\n    </tr>\n  </thead>\n  <tbody>\n    <tr>\n      <th>0</th>\n      <td>0</td>\n      <td>Rwanda</td>\n      <td>Western Province</td>\n      <td>Rusizi</td>\n      <td>36</td>\n      <td>Giheke</td>\n      <td>3605</td>\n      <td>Gakomeye</td>\n      <td>360502</td>\n      <td>Buzi</td>\n      <td>...</td>\n      <td>36050203</td>\n      <td>Kagarama</td>\n      <td>36050204</td>\n      <td>Gacyamo</td>\n      <td>36050202</td>\n      <td>Gasheke</td>\n      <td>?</td>\n      <td>Project Assessment - 2018.10.29</td>\n      <td>a1if1000002e51bAAA</td>\n      <td>006f100000d1fk1</td>\n    </tr>\n    <tr>\n      <th>1</th>\n      <td>1</td>\n      <td>Rwanda</td>\n      <td>Western Province</td>\n      <td>Rusizi</td>\n      <td>36</td>\n      <td>Giheke</td>\n      <td>3605</td>\n      <td>Gakomeye</td>\n      <td>360502</td>\n      <td>Buzi</td>\n      <td>...</td>\n      <td>36050201</td>\n      <td>Gacyamo - Gasheke</td>\n      <td>36050202</td>\n      <td>Kagarama</td>\n      <td>36050204</td>\n      <td>Kanoga</td>\n      <td>?</td>\n      <td>Project Assessment - 2018.10.29</td>\n      <td>a1if1000002e51WAAQ</td>\n      <td>006f100000d1fjw</td>\n    </tr>\n    <tr>\n      <th>2</th>\n      <td>2</td>\n      <td>Rwanda</td>\n      <td>Northern Province</td>\n      <td>Rulindo</td>\n      <td>41</td>\n      <td>Buyoga</td>\n      <td>4104</td>\n      <td>Gahororo</td>\n      <td>410403</td>\n      <td>Gipfundo</td>\n      <td>...</td>\n      <td>?</td>\n      <td>Merezo</td>\n      <td>?</td>\n      <td>Minanire</td>\n      <td>?</td>\n      <td>Karutongo</td>\n      <td>?</td>\n      <td>Project Assessment - 2018.8.11</td>\n      <td>a1if10000025nz8AAA</td>\n      <td>006f100000a86I3</td>\n    </tr>\n    <tr>\n      <th>3</th>\n      <td>3</td>\n      <td>Rwanda</td>\n      <td>Northern Province</td>\n      <td>Gicumbi</td>\n      <td>45</td>\n      <td>Kageyo</td>\n      <td>4506</td>\n      <td>Kabuga-Gatobotobo?</td>\n      <td>?</td>\n      <td>?</td>\n      <td>...</td>\n      <td>?</td>\n      <td>?</td>\n      <td>?</td>\n      <td>?</td>\n      <td>?</td>\n      <td>?</td>\n      <td>?</td>\n      <td>Project Assessment - 2018.8.11</td>\n      <td>a1if10000025nzDAAQ</td>\n      <td>006f100000cPpL8</td>\n    </tr>\n    <tr>\n      <th>4</th>\n      <td>4</td>\n      <td>Rwanda</td>\n      <td>Southern Province</td>\n      <td>Kamonyi</td>\n      <td>28</td>\n      <td>Kayenzi</td>\n      <td>2803</td>\n      <td>Kirwa</td>\n      <td>280304</td>\n      <td>Gisizi</td>\n      <td>...</td>\n      <td>?</td>\n      <td>?</td>\n      <td>?</td>\n      <td>?</td>\n      <td>?</td>\n      <td>?</td>\n      <td>?</td>\n      <td>Project Assessment - 2018.11.15</td>\n      <td>a1if1000002gMwRAAU</td>\n      <td>006f100000eescb</td>\n    </tr>\n  </tbody>\n</table>\n<p>5 rows × 33 columns</p>\n</div>"
     },
     "metadata": {},
     "execution_count": 4
    }
   ],
   "source": [
    "df.head()"
   ]
  },
  {
   "cell_type": "code",
   "execution_count": 5,
   "metadata": {},
   "outputs": [
    {
     "output_type": "execute_result",
     "data": {
      "text/plain": [
       "Index(['Unnamed: 0', 'country', 'province', 'district', 'district_id',\n",
       "       'sector', 'sector_id', 'cell', 'cell_id', 'village', 'village_id',\n",
       "       'name', 'project_code', 'type', 'stage', 'sub_stage',\n",
       "       'Individuals_directly_served', 'span', 'lat', 'long',\n",
       "       'community_served_1', 'community_served_1_id', 'community_served_2',\n",
       "       'community_served_2_id', 'community_served_3', 'community_served_3_id',\n",
       "       'community_served_4', 'community_served_4_id', 'community_served_5',\n",
       "       'community_served_5_id', 'form', 'case_safe_id', 'opportunity_id'],\n",
       "      dtype='object')"
      ]
     },
     "metadata": {},
     "execution_count": 5
    }
   ],
   "source": [
    "df.columns"
   ]
  },
  {
   "cell_type": "code",
   "execution_count": 8,
   "metadata": {},
   "outputs": [],
   "source": [
    "df = df.drop(columns=['Unnamed: 0', 'country', 'province', 'district', 'district_id', 'sector', 'sector_id', 'cell', 'cell_id', 'name', 'type', 'stage', 'sub_stage', 'Individuals_directly_served', 'span', 'community_served_1', 'community_served_1_id', 'community_served_2', 'community_served_2_id', 'community_served_3', 'community_served_3_id', 'community_served_4', 'community_served_4_id', 'community_served_5', 'community_served_5_id', 'form', 'case_safe_id', 'opportunity_id'])"
   ]
  },
  {
   "cell_type": "code",
   "execution_count": 9,
   "metadata": {},
   "outputs": [
    {
     "output_type": "execute_result",
     "data": {
      "text/plain": [
       "    village village_id project_code       lat       long\n",
       "0      Buzi   36050201      1014107 -2.420560  28.966200\n",
       "1      Buzi   36050201      1014106 -2.424860  28.957260\n",
       "2  Gipfundo   41040304      1007651 -1.720530  30.081240\n",
       "3         ?          ?      1012493 -1.655950  30.078840\n",
       "4    Gisizi   28030402      1014318 -1.870868  29.877686"
      ],
      "text/html": "<div>\n<style scoped>\n    .dataframe tbody tr th:only-of-type {\n        vertical-align: middle;\n    }\n\n    .dataframe tbody tr th {\n        vertical-align: top;\n    }\n\n    .dataframe thead th {\n        text-align: right;\n    }\n</style>\n<table border=\"1\" class=\"dataframe\">\n  <thead>\n    <tr style=\"text-align: right;\">\n      <th></th>\n      <th>village</th>\n      <th>village_id</th>\n      <th>project_code</th>\n      <th>lat</th>\n      <th>long</th>\n    </tr>\n  </thead>\n  <tbody>\n    <tr>\n      <th>0</th>\n      <td>Buzi</td>\n      <td>36050201</td>\n      <td>1014107</td>\n      <td>-2.420560</td>\n      <td>28.966200</td>\n    </tr>\n    <tr>\n      <th>1</th>\n      <td>Buzi</td>\n      <td>36050201</td>\n      <td>1014106</td>\n      <td>-2.424860</td>\n      <td>28.957260</td>\n    </tr>\n    <tr>\n      <th>2</th>\n      <td>Gipfundo</td>\n      <td>41040304</td>\n      <td>1007651</td>\n      <td>-1.720530</td>\n      <td>30.081240</td>\n    </tr>\n    <tr>\n      <th>3</th>\n      <td>?</td>\n      <td>?</td>\n      <td>1012493</td>\n      <td>-1.655950</td>\n      <td>30.078840</td>\n    </tr>\n    <tr>\n      <th>4</th>\n      <td>Gisizi</td>\n      <td>28030402</td>\n      <td>1014318</td>\n      <td>-1.870868</td>\n      <td>29.877686</td>\n    </tr>\n  </tbody>\n</table>\n</div>"
     },
     "metadata": {},
     "execution_count": 9
    }
   ],
   "source": [
    "df.head()"
   ]
  },
  {
   "cell_type": "code",
   "execution_count": 10,
   "metadata": {},
   "outputs": [],
   "source": [
    "import numpy as np "
   ]
  },
  {
   "cell_type": "code",
   "execution_count": 11,
   "metadata": {},
   "outputs": [],
   "source": [
    "df['village'] = df['village'].replace('?', np.nan)\n",
    "df['village_id'] = df['village_id'].replace('?', np.nan)\n"
   ]
  },
  {
   "cell_type": "code",
   "execution_count": 12,
   "metadata": {},
   "outputs": [
    {
     "output_type": "execute_result",
     "data": {
      "text/plain": [
       "    village village_id project_code       lat       long\n",
       "0      Buzi   36050201      1014107 -2.420560  28.966200\n",
       "1      Buzi   36050201      1014106 -2.424860  28.957260\n",
       "2  Gipfundo   41040304      1007651 -1.720530  30.081240\n",
       "3       NaN        NaN      1012493 -1.655950  30.078840\n",
       "4    Gisizi   28030402      1014318 -1.870868  29.877686"
      ],
      "text/html": "<div>\n<style scoped>\n    .dataframe tbody tr th:only-of-type {\n        vertical-align: middle;\n    }\n\n    .dataframe tbody tr th {\n        vertical-align: top;\n    }\n\n    .dataframe thead th {\n        text-align: right;\n    }\n</style>\n<table border=\"1\" class=\"dataframe\">\n  <thead>\n    <tr style=\"text-align: right;\">\n      <th></th>\n      <th>village</th>\n      <th>village_id</th>\n      <th>project_code</th>\n      <th>lat</th>\n      <th>long</th>\n    </tr>\n  </thead>\n  <tbody>\n    <tr>\n      <th>0</th>\n      <td>Buzi</td>\n      <td>36050201</td>\n      <td>1014107</td>\n      <td>-2.420560</td>\n      <td>28.966200</td>\n    </tr>\n    <tr>\n      <th>1</th>\n      <td>Buzi</td>\n      <td>36050201</td>\n      <td>1014106</td>\n      <td>-2.424860</td>\n      <td>28.957260</td>\n    </tr>\n    <tr>\n      <th>2</th>\n      <td>Gipfundo</td>\n      <td>41040304</td>\n      <td>1007651</td>\n      <td>-1.720530</td>\n      <td>30.081240</td>\n    </tr>\n    <tr>\n      <th>3</th>\n      <td>NaN</td>\n      <td>NaN</td>\n      <td>1012493</td>\n      <td>-1.655950</td>\n      <td>30.078840</td>\n    </tr>\n    <tr>\n      <th>4</th>\n      <td>Gisizi</td>\n      <td>28030402</td>\n      <td>1014318</td>\n      <td>-1.870868</td>\n      <td>29.877686</td>\n    </tr>\n  </tbody>\n</table>\n</div>"
     },
     "metadata": {},
     "execution_count": 12
    }
   ],
   "source": [
    "df.head()"
   ]
  },
  {
   "cell_type": "code",
   "execution_count": 13,
   "metadata": {},
   "outputs": [],
   "source": [
    "df.to_csv(\"../data/Vil_Proj_location.csv\")"
   ]
  },
  {
   "cell_type": "code",
   "execution_count": null,
   "metadata": {},
   "outputs": [],
   "source": []
  }
 ]
}