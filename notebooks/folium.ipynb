{
 "metadata": {
  "language_info": {
   "codemirror_mode": {
    "name": "ipython",
    "version": 3
   },
   "file_extension": ".py",
   "mimetype": "text/x-python",
   "name": "python",
   "nbconvert_exporter": "python",
   "pygments_lexer": "ipython3",
   "version": "3.8.5-final"
  },
  "orig_nbformat": 2,
  "kernelspec": {
   "name": "Python 3.8.5 64-bit ('bridges': conda)",
   "display_name": "Python 3.8.5 64-bit ('bridges': conda)",
   "metadata": {
    "interpreter": {
     "hash": "4368c9daf815594993dffb1168695d0cd0ba2a8255d4d6d102b0bfa1e4fa78fe"
    }
   }
  }
 },
 "nbformat": 4,
 "nbformat_minor": 2,
 "cells": [
  {
   "cell_type": "code",
   "execution_count": 5,
   "metadata": {},
   "outputs": [
    {
     "output_type": "error",
     "ename": "ModuleNotFoundError",
     "evalue": "No module named 'folium'",
     "traceback": [
      "\u001b[0;31m---------------------------------------------------------------------------\u001b[0m",
      "\u001b[0;31mModuleNotFoundError\u001b[0m                       Traceback (most recent call last)",
      "\u001b[0;32m<ipython-input-5-33c607e74b98>\u001b[0m in \u001b[0;36m<module>\u001b[0;34m\u001b[0m\n\u001b[1;32m      1\u001b[0m \u001b[0;31m# Step 1\u001b[0m\u001b[0;34m\u001b[0m\u001b[0;34m\u001b[0m\u001b[0;34m\u001b[0m\u001b[0m\n\u001b[0;32m----> 2\u001b[0;31m \u001b[0;32mimport\u001b[0m \u001b[0mfolium\u001b[0m\u001b[0;34m\u001b[0m\u001b[0;34m\u001b[0m\u001b[0m\n\u001b[0m\u001b[1;32m      3\u001b[0m folium_map = folium.Map(location=[40.738, -73.98],\n\u001b[1;32m      4\u001b[0m                         \u001b[0mzoom_start\u001b[0m\u001b[0;34m=\u001b[0m\u001b[0;36m13\u001b[0m\u001b[0;34m,\u001b[0m\u001b[0;34m\u001b[0m\u001b[0;34m\u001b[0m\u001b[0m\n\u001b[1;32m      5\u001b[0m                         tiles=\"CartoDB dark_matter\")\n",
      "\u001b[0;31mModuleNotFoundError\u001b[0m: No module named 'folium'"
     ]
    }
   ],
   "source": [
    "# Step 1\n",
    "import folium\n",
    "folium_map = folium.Map(location=[40.738, -73.98],\n",
    "                        zoom_start=13,\n",
    "                        tiles=\"CartoDB dark_matter\")\n",
    "marker = folium.CircleMarker(location=[40.738, -73.98])\n",
    "marker.add_to(folium_map)\n",
    "\n",
    "folium_map.save(\"my_map.html\")"
   ]
  },
  {
   "cell_type": "code",
   "execution_count": null,
   "metadata": {},
   "outputs": [],
   "source": [
    "# STEP 2\n",
    "def plot_restaurants(restaurants):\n",
    "    # generate a new map\n",
    "\n",
    "    folium_map = folium.Map(location=[40.738, -73.98],\n",
    "                            zoom_start=13,\n",
    "                            tiles=\"CartoDB positron\",\n",
    "                            width='50%')\n",
    "\n",
    "    # for each row in the data, add a cicle marker\n",
    "    for index, row in restaurants.iterrows():\n",
    "        # calculate net departures\n",
    "        # net_departures = (row[\"departure count\"]-row[\"arrival count\"])\n",
    "        \n",
    "        # generate the popup message that is shown on click.\n",
    "        popup_text = \"{}<br> Cuisine: {}<br> Critical violations: {}<br> Grade: {}\"\n",
    "        \n",
    "        popup_text = popup_text.format(row[\"dba\"],\n",
    "                          row[\"cuisine description\"],\n",
    "                          row[\"critical violations\"],\n",
    "                          row[\"grade\"])\n",
    "        \n",
    "        #TESTING\n",
    "        # print(row['camis'])\n",
    "        # print(row['dba'])\n",
    "        # print(row['critical violations'])\n",
    "\n",
    "        # radius of circles\n",
    "        # radius = net_departures/20\n",
    "        radius = (row['critical violations']+1)*.4\n",
    "        color=\"#E37222\" # tangerine\n",
    "        \n",
    "        # choose the color of the marker\n",
    "        # if row[\"critical violations\"]<2:\n",
    "        #     color=\"#E37222\" # tangerine\n",
    "            \n",
    "        #     # color=\"#007849\" # green\n",
    "        #     # color=\"#E37222\" # tangerine\n",
    "        # elif row[\"critical violations\"]<4:\n",
    "        #     color=\"#FFCE00\" # orange\n",
    "        #     # color=\"#0375B4\" # blue\n",
    "        #     # color=\"#FFCE00\" # yellow            \n",
    "        #     # color=\"#0A8A9F\" # teal\n",
    "        # else:\n",
    "        #     color=\"#FF0000\" # orange\n",
    "\n",
    "        #   choose the color of the marker\n",
    "        if row[\"grade\"]=='A':\n",
    "            # color=\"#E37222\" # tangerine\n",
    "            \n",
    "            color=\"#007849\" # green\n",
    "            # color=\"#E37222\" # tangerine\n",
    "        elif row[\"grade\"]=='B':\n",
    "            color=\"#FFCE00\" # orange\n",
    "            # color=\"#0375B4\" # blue\n",
    "            # color=\"#FFCE00\" # yellow            \n",
    "            # color=\"#0A8A9F\" # teal\n",
    "        else:\n",
    "            color=\"#FF0000\" # tangerine\n",
    "            # color=\"#FF0000\" # orange\n",
    "\n",
    "        \n",
    "            \n",
    "        \n",
    "        # add marker to the map\n",
    "        folium.CircleMarker(location=(row[\"latitude\"],\n",
    "                                      row[\"longitude\"]),\n",
    "                            radius=radius,\n",
    "                            color=color,\n",
    "                            popup=popup_text,\n",
    "                            fill=True).add_to(folium_map)\n",
    "    return folium_map"
   ]
  },
  {
   "cell_type": "code",
   "execution_count": null,
   "metadata": {},
   "outputs": [],
   "source": [
    "# call functions\n",
    "folium_map = plot_restaurants(df_restaurants_CorB_grade)\n",
    "folium_map.save(\"part_1.html\")"
   ]
  },
  {
   "cell_type": "code",
   "execution_count": null,
   "metadata": {},
   "outputs": [],
   "source": [
    "# this displays the map below\n",
    "folium_map\n"
   ]
  }
 ]
}