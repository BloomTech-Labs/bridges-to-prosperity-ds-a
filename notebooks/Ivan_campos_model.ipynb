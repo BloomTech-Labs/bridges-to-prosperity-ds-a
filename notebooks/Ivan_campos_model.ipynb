{
 "metadata": {
  "language_info": {
   "codemirror_mode": {
    "name": "ipython",
    "version": 3
   },
   "file_extension": ".py",
   "mimetype": "text/x-python",
   "name": "python",
   "nbconvert_exporter": "python",
   "pygments_lexer": "ipython3",
   "version": "3.8.6-final"
  },
  "orig_nbformat": 2,
  "kernelspec": {
   "name": "python3",
   "display_name": "Python 3.8.6 64-bit ('notebooks-w485FuBi')",
   "metadata": {
    "interpreter": {
     "hash": "3f0f736928f1eddca078ae3a5c1ec4d15534a69d10e2bd622a2d7c6261b2759d"
    }
   }
  }
 },
 "nbformat": 4,
 "nbformat_minor": 2,
 "cells": [
  {
   "cell_type": "code",
   "execution_count": 144,
   "metadata": {},
   "outputs": [],
   "source": [
    "import pandas as pd\n",
    "import numpy as np\n",
    "from sklearn.model_selection import train_test_split\n",
    "from sklearn.tree import DecisionTreeClassifier\n",
    "from sklearn.ensemble import RandomForestClassifier\n",
    "from sklearn.ensemble import RandomForestRegressor\n",
    "from sklearn.pipeline import Pipeline\n",
    "from sklearn.pipeline import make_pipeline\n",
    "from sklearn.feature_selection import SelectKBest, f_regression, f_classif\n",
    "from category_encoders import OrdinalEncoder, OneHotEncoder\n",
    "from sklearn.impute import SimpleImputer\n",
    "import category_encoders as ce\n",
    "from sklearn.preprocessing import StandardScaler\n",
    "from sklearn.linear_model import LogisticRegressionCV\n",
    "from sklearn.model_selection import RandomizedSearchCV\n",
    "from sklearn.compose import ColumnTransformer\n",
    "from sklearn.linear_model import LogisticRegression, RidgeClassifier\n",
    "from sklearn.metrics import classification_report\n",
    "import eli5\n",
    "from sklearn.linear_model import Ridge\n",
    "from sklearn.model_selection import cross_val_score\n",
    "import pickle\n",
    "from sklearn.metrics import accuracy_score"
   ]
  },
  {
   "cell_type": "code",
   "execution_count": 146,
   "metadata": {},
   "outputs": [],
   "source": [
    "df = pd.read_csv('https://raw.githubusercontent.com/Lambda-School-Labs/bridges-to-prosperity-ds-a/britne/Data/finalclean.csv')"
   ]
  },
  {
   "cell_type": "code",
   "execution_count": 147,
   "metadata": {},
   "outputs": [
    {
     "output_type": "execute_result",
     "data": {
      "text/plain": [
       "      Unnamed: 0          Bridge Name Bridge Opportunity: Project Code  \\\n",
       "0              0              Bukinga                          1009317   \n",
       "1              1             Kagarama                          1007325   \n",
       "2              2              Karambi                          1007374   \n",
       "3              3               Rugeti                          1007466   \n",
       "4              4  Nyakabuye - Nkomane                          1007495   \n",
       "...          ...                  ...                              ...   \n",
       "1467        1467                Ngoma                          1012951   \n",
       "1468        1468            Nyabikeri                          1014031   \n",
       "1469        1469             Mugonero                          1014056   \n",
       "1470        1470              Gasharu                          1014069   \n",
       "1471        1471    Nyakabande-Bitaba                          1015561   \n",
       "\n",
       "     Bridge Opportunity: Needs Assessment  \\\n",
       "0            Rwanda Needs Assessment 2018   \n",
       "1                                     NaN   \n",
       "2                                     NaN   \n",
       "3            Rwanda Needs Assessment 2018   \n",
       "4            Rwanda Needs Assessment 2018   \n",
       "...                                   ...   \n",
       "1467         Rwanda Needs Assessment 2018   \n",
       "1468         Rwanda Needs Assessment 2018   \n",
       "1469         Rwanda Needs Assessment 2018   \n",
       "1470         Rwanda Needs Assessment 2018   \n",
       "1471         Rwanda Needs Assessment 2018   \n",
       "\n",
       "     Bridge Opportunity: Level 1 Government  \\\n",
       "0                         Southern Province   \n",
       "1                          Western Province   \n",
       "2                         Southern Province   \n",
       "3                         Southern Province   \n",
       "4                         Southern Province   \n",
       "...                                     ...   \n",
       "1467                      Southern Province   \n",
       "1468                       Western Province   \n",
       "1469                       Western Province   \n",
       "1470                       Western Province   \n",
       "1471                       Western Province   \n",
       "\n",
       "     Bridge Opportunity: Level 2 Government Bridge Opportunity: Stage  \\\n",
       "0                                 Nyaruguru                 Cancelled   \n",
       "1                                Nyamasheke                  Complete   \n",
       "2                                      Huye                  Complete   \n",
       "3                                 Nyamagabe                  Complete   \n",
       "4                                 Nyamagabe                  Complete   \n",
       "...                                     ...                       ...   \n",
       "1467                                Muhanga        Under Construction   \n",
       "1468                                Karongi        Under Construction   \n",
       "1469                                Karongi        Under Construction   \n",
       "1470                                Karongi        Under Construction   \n",
       "1471                                Karongi        Under Construction   \n",
       "\n",
       "      Bridge Opportunity: GPS (Latitude)  Bridge Opportunity: GPS (Longitude)  \\\n",
       "0                              -2.760833                            29.488056   \n",
       "1                              -2.322534                            29.141944   \n",
       "2                              -2.513333                            29.612778   \n",
       "3                              -2.476407                            29.420800   \n",
       "4                              -2.233022                            29.575130   \n",
       "...                                  ...                                  ...   \n",
       "1467                           -2.049360                            29.707098   \n",
       "1468                           -2.209275                            29.471450   \n",
       "1469                           -2.147630                            29.344680   \n",
       "1470                           -2.133330                            29.362500   \n",
       "1471                           -2.109525                            29.314058   \n",
       "\n",
       "     Bridge Opportunity: Bridge Type  ...  \\\n",
       "0                  Suspension Bridge  ...   \n",
       "1                  Suspension Bridge  ...   \n",
       "2                  Suspension Bridge  ...   \n",
       "3                  Suspension Bridge  ...   \n",
       "4                  Suspension Bridge  ...   \n",
       "...                              ...  ...   \n",
       "1467               Suspension Bridge  ...   \n",
       "1468                           Other  ...   \n",
       "1469               Suspension Bridge  ...   \n",
       "1470               Suspension Bridge  ...   \n",
       "1471                           Other  ...   \n",
       "\n",
       "      2013-14: Distance of bridge location from traditional crossing point (Meters)  \\\n",
       "0                                               Unknown                               \n",
       "1                                               Unknown                               \n",
       "2                                                    10                               \n",
       "3                                                     1                               \n",
       "4                                                     3                               \n",
       "...                                                 ...                               \n",
       "1467                                            Unknown                               \n",
       "1468                                            Unknown                               \n",
       "1469                                            Unknown                               \n",
       "1470                                            Unknown                               \n",
       "1471                                            Unknown                               \n",
       "\n",
       "      2013-14: Proposed bridge span (Meters)  \\\n",
       "0                                    Unknown   \n",
       "1                                    Unknown   \n",
       "2                                         70   \n",
       "3                                         55   \n",
       "4                                         30   \n",
       "...                                      ...   \n",
       "1467                                 Unknown   \n",
       "1468                                 Unknown   \n",
       "1469                                 Unknown   \n",
       "1470                                 Unknown   \n",
       "1471                                 Unknown   \n",
       "\n",
       "     2013-14: Height differnce between banks (Meters)  \\\n",
       "0                                             Unknown   \n",
       "1                                             Unknown   \n",
       "2                                                0.06   \n",
       "3                                                 0.2   \n",
       "4                                                0.02   \n",
       "...                                               ...   \n",
       "1467                                          Unknown   \n",
       "1468                                          Unknown   \n",
       "1469                                          Unknown   \n",
       "1470                                          Unknown   \n",
       "1471                                          Unknown   \n",
       "\n",
       "     2013-14: Foundation space  \\\n",
       "0                      Unknown   \n",
       "1                      Unknown   \n",
       "2                   sufficient   \n",
       "3                   sufficient   \n",
       "4                   sufficient   \n",
       "...                        ...   \n",
       "1467                   Unknown   \n",
       "1468                   Unknown   \n",
       "1469                   Unknown   \n",
       "1470                   Unknown   \n",
       "1471                   Unknown   \n",
       "\n",
       "      2013-14: Space between the lowest point of bridge and highest flood level  \\\n",
       "0                                               Unknown                           \n",
       "1                                               Unknown                           \n",
       "2                                            sufficient                           \n",
       "3                                            sufficient                           \n",
       "4                                          insufficient                           \n",
       "...                                                 ...                           \n",
       "1467                                            Unknown                           \n",
       "1468                                            Unknown                           \n",
       "1469                                            Unknown                           \n",
       "1470                                            Unknown                           \n",
       "1471                                            Unknown                           \n",
       "\n",
       "      2013-14: Confluence space available? 2013-14: Rejection Comments  \\\n",
       "0                                  Unknown                 Unavailable   \n",
       "1                                  Unknown                 Unavailable   \n",
       "2                                       no                 Unavailable   \n",
       "3                                       no                 Unavailable   \n",
       "4                                      yes                 Unavailable   \n",
       "...                                    ...                         ...   \n",
       "1467                               Unknown                 Unavailable   \n",
       "1468                               Unknown                 Unavailable   \n",
       "1469                               Unknown                 Unavailable   \n",
       "1470                               Unknown                 Unavailable   \n",
       "1471                               Unknown                 Unavailable   \n",
       "\n",
       "     Market access blocked by river  Education access blocked by river  \\\n",
       "0                                 0                                  0   \n",
       "1                                 1                                  1   \n",
       "2                                 1                                  1   \n",
       "3                                 1                                  1   \n",
       "4                                 1                                  1   \n",
       "...                             ...                                ...   \n",
       "1467                              1                                  1   \n",
       "1468                              1                                  1   \n",
       "1469                              1                                  1   \n",
       "1470                              1                                  1   \n",
       "1471                              1                                  1   \n",
       "\n",
       "     Health access blocked by river  \n",
       "0                                 0  \n",
       "1                                 0  \n",
       "2                                 1  \n",
       "3                                 1  \n",
       "4                                 1  \n",
       "...                             ...  \n",
       "1467                              1  \n",
       "1468                              1  \n",
       "1469                              1  \n",
       "1470                              1  \n",
       "1471                              1  \n",
       "\n",
       "[1472 rows x 68 columns]"
      ],
      "text/html": "<div>\n<style scoped>\n    .dataframe tbody tr th:only-of-type {\n        vertical-align: middle;\n    }\n\n    .dataframe tbody tr th {\n        vertical-align: top;\n    }\n\n    .dataframe thead th {\n        text-align: right;\n    }\n</style>\n<table border=\"1\" class=\"dataframe\">\n  <thead>\n    <tr style=\"text-align: right;\">\n      <th></th>\n      <th>Unnamed: 0</th>\n      <th>Bridge Name</th>\n      <th>Bridge Opportunity: Project Code</th>\n      <th>Bridge Opportunity: Needs Assessment</th>\n      <th>Bridge Opportunity: Level 1 Government</th>\n      <th>Bridge Opportunity: Level 2 Government</th>\n      <th>Bridge Opportunity: Stage</th>\n      <th>Bridge Opportunity: GPS (Latitude)</th>\n      <th>Bridge Opportunity: GPS (Longitude)</th>\n      <th>Bridge Opportunity: Bridge Type</th>\n      <th>...</th>\n      <th>2013-14: Distance of bridge location from traditional crossing point (Meters)</th>\n      <th>2013-14: Proposed bridge span (Meters)</th>\n      <th>2013-14: Height differnce between banks (Meters)</th>\n      <th>2013-14: Foundation space</th>\n      <th>2013-14: Space between the lowest point of bridge and highest flood level</th>\n      <th>2013-14: Confluence space available?</th>\n      <th>2013-14: Rejection Comments</th>\n      <th>Market access blocked by river</th>\n      <th>Education access blocked by river</th>\n      <th>Health access blocked by river</th>\n    </tr>\n  </thead>\n  <tbody>\n    <tr>\n      <th>0</th>\n      <td>0</td>\n      <td>Bukinga</td>\n      <td>1009317</td>\n      <td>Rwanda Needs Assessment 2018</td>\n      <td>Southern Province</td>\n      <td>Nyaruguru</td>\n      <td>Cancelled</td>\n      <td>-2.760833</td>\n      <td>29.488056</td>\n      <td>Suspension Bridge</td>\n      <td>...</td>\n      <td>Unknown</td>\n      <td>Unknown</td>\n      <td>Unknown</td>\n      <td>Unknown</td>\n      <td>Unknown</td>\n      <td>Unknown</td>\n      <td>Unavailable</td>\n      <td>0</td>\n      <td>0</td>\n      <td>0</td>\n    </tr>\n    <tr>\n      <th>1</th>\n      <td>1</td>\n      <td>Kagarama</td>\n      <td>1007325</td>\n      <td>NaN</td>\n      <td>Western Province</td>\n      <td>Nyamasheke</td>\n      <td>Complete</td>\n      <td>-2.322534</td>\n      <td>29.141944</td>\n      <td>Suspension Bridge</td>\n      <td>...</td>\n      <td>Unknown</td>\n      <td>Unknown</td>\n      <td>Unknown</td>\n      <td>Unknown</td>\n      <td>Unknown</td>\n      <td>Unknown</td>\n      <td>Unavailable</td>\n      <td>1</td>\n      <td>1</td>\n      <td>0</td>\n    </tr>\n    <tr>\n      <th>2</th>\n      <td>2</td>\n      <td>Karambi</td>\n      <td>1007374</td>\n      <td>NaN</td>\n      <td>Southern Province</td>\n      <td>Huye</td>\n      <td>Complete</td>\n      <td>-2.513333</td>\n      <td>29.612778</td>\n      <td>Suspension Bridge</td>\n      <td>...</td>\n      <td>10</td>\n      <td>70</td>\n      <td>0.06</td>\n      <td>sufficient</td>\n      <td>sufficient</td>\n      <td>no</td>\n      <td>Unavailable</td>\n      <td>1</td>\n      <td>1</td>\n      <td>1</td>\n    </tr>\n    <tr>\n      <th>3</th>\n      <td>3</td>\n      <td>Rugeti</td>\n      <td>1007466</td>\n      <td>Rwanda Needs Assessment 2018</td>\n      <td>Southern Province</td>\n      <td>Nyamagabe</td>\n      <td>Complete</td>\n      <td>-2.476407</td>\n      <td>29.420800</td>\n      <td>Suspension Bridge</td>\n      <td>...</td>\n      <td>1</td>\n      <td>55</td>\n      <td>0.2</td>\n      <td>sufficient</td>\n      <td>sufficient</td>\n      <td>no</td>\n      <td>Unavailable</td>\n      <td>1</td>\n      <td>1</td>\n      <td>1</td>\n    </tr>\n    <tr>\n      <th>4</th>\n      <td>4</td>\n      <td>Nyakabuye - Nkomane</td>\n      <td>1007495</td>\n      <td>Rwanda Needs Assessment 2018</td>\n      <td>Southern Province</td>\n      <td>Nyamagabe</td>\n      <td>Complete</td>\n      <td>-2.233022</td>\n      <td>29.575130</td>\n      <td>Suspension Bridge</td>\n      <td>...</td>\n      <td>3</td>\n      <td>30</td>\n      <td>0.02</td>\n      <td>sufficient</td>\n      <td>insufficient</td>\n      <td>yes</td>\n      <td>Unavailable</td>\n      <td>1</td>\n      <td>1</td>\n      <td>1</td>\n    </tr>\n    <tr>\n      <th>...</th>\n      <td>...</td>\n      <td>...</td>\n      <td>...</td>\n      <td>...</td>\n      <td>...</td>\n      <td>...</td>\n      <td>...</td>\n      <td>...</td>\n      <td>...</td>\n      <td>...</td>\n      <td>...</td>\n      <td>...</td>\n      <td>...</td>\n      <td>...</td>\n      <td>...</td>\n      <td>...</td>\n      <td>...</td>\n      <td>...</td>\n      <td>...</td>\n      <td>...</td>\n      <td>...</td>\n    </tr>\n    <tr>\n      <th>1467</th>\n      <td>1467</td>\n      <td>Ngoma</td>\n      <td>1012951</td>\n      <td>Rwanda Needs Assessment 2018</td>\n      <td>Southern Province</td>\n      <td>Muhanga</td>\n      <td>Under Construction</td>\n      <td>-2.049360</td>\n      <td>29.707098</td>\n      <td>Suspension Bridge</td>\n      <td>...</td>\n      <td>Unknown</td>\n      <td>Unknown</td>\n      <td>Unknown</td>\n      <td>Unknown</td>\n      <td>Unknown</td>\n      <td>Unknown</td>\n      <td>Unavailable</td>\n      <td>1</td>\n      <td>1</td>\n      <td>1</td>\n    </tr>\n    <tr>\n      <th>1468</th>\n      <td>1468</td>\n      <td>Nyabikeri</td>\n      <td>1014031</td>\n      <td>Rwanda Needs Assessment 2018</td>\n      <td>Western Province</td>\n      <td>Karongi</td>\n      <td>Under Construction</td>\n      <td>-2.209275</td>\n      <td>29.471450</td>\n      <td>Other</td>\n      <td>...</td>\n      <td>Unknown</td>\n      <td>Unknown</td>\n      <td>Unknown</td>\n      <td>Unknown</td>\n      <td>Unknown</td>\n      <td>Unknown</td>\n      <td>Unavailable</td>\n      <td>1</td>\n      <td>1</td>\n      <td>1</td>\n    </tr>\n    <tr>\n      <th>1469</th>\n      <td>1469</td>\n      <td>Mugonero</td>\n      <td>1014056</td>\n      <td>Rwanda Needs Assessment 2018</td>\n      <td>Western Province</td>\n      <td>Karongi</td>\n      <td>Under Construction</td>\n      <td>-2.147630</td>\n      <td>29.344680</td>\n      <td>Suspension Bridge</td>\n      <td>...</td>\n      <td>Unknown</td>\n      <td>Unknown</td>\n      <td>Unknown</td>\n      <td>Unknown</td>\n      <td>Unknown</td>\n      <td>Unknown</td>\n      <td>Unavailable</td>\n      <td>1</td>\n      <td>1</td>\n      <td>1</td>\n    </tr>\n    <tr>\n      <th>1470</th>\n      <td>1470</td>\n      <td>Gasharu</td>\n      <td>1014069</td>\n      <td>Rwanda Needs Assessment 2018</td>\n      <td>Western Province</td>\n      <td>Karongi</td>\n      <td>Under Construction</td>\n      <td>-2.133330</td>\n      <td>29.362500</td>\n      <td>Suspension Bridge</td>\n      <td>...</td>\n      <td>Unknown</td>\n      <td>Unknown</td>\n      <td>Unknown</td>\n      <td>Unknown</td>\n      <td>Unknown</td>\n      <td>Unknown</td>\n      <td>Unavailable</td>\n      <td>1</td>\n      <td>1</td>\n      <td>1</td>\n    </tr>\n    <tr>\n      <th>1471</th>\n      <td>1471</td>\n      <td>Nyakabande-Bitaba</td>\n      <td>1015561</td>\n      <td>Rwanda Needs Assessment 2018</td>\n      <td>Western Province</td>\n      <td>Karongi</td>\n      <td>Under Construction</td>\n      <td>-2.109525</td>\n      <td>29.314058</td>\n      <td>Other</td>\n      <td>...</td>\n      <td>Unknown</td>\n      <td>Unknown</td>\n      <td>Unknown</td>\n      <td>Unknown</td>\n      <td>Unknown</td>\n      <td>Unknown</td>\n      <td>Unavailable</td>\n      <td>1</td>\n      <td>1</td>\n      <td>1</td>\n    </tr>\n  </tbody>\n</table>\n<p>1472 rows × 68 columns</p>\n</div>"
     },
     "metadata": {},
     "execution_count": 147
    }
   ],
   "source": [
    "df"
   ]
  },
  {
   "cell_type": "code",
   "execution_count": 148,
   "metadata": {},
   "outputs": [
    {
     "output_type": "execute_result",
     "data": {
      "text/plain": [
       "(1472, 68)"
      ]
     },
     "metadata": {},
     "execution_count": 148
    }
   ],
   "source": [
    "df.shape"
   ]
  },
  {
   "cell_type": "code",
   "execution_count": 149,
   "metadata": {},
   "outputs": [
    {
     "output_type": "execute_result",
     "data": {
      "text/plain": [
       "-1.0    1383\n",
       " 1.0      65\n",
       " 0.0      24\n",
       "Name: Good Site, dtype: int64"
      ]
     },
     "metadata": {},
     "execution_count": 149
    }
   ],
   "source": [
    "#this takes the target and transforms it into better data to predict\n",
    "\n",
    "positive = (\n",
    "    (df['Senior Engineering Review Conducted']=='Yes') & \n",
    "    (df['Bridge Opportunity: Stage'].isin(['Complete', 'Prospecting', 'Confirmed']))\n",
    ")\n",
    "\n",
    "negative = (\n",
    "    (df['Senior Engineering Review Conducted']=='Yes') & \n",
    "    (df['Bridge Opportunity: Stage'].isin(['Rejected', 'Cancelled']))\n",
    ")\n",
    "\n",
    "unknown = df['Senior Engineering Review Conducted'].isna()\n",
    "\n",
    "df.loc[positive, 'Good Site'] = 1\n",
    "df.loc[negative, 'Good Site'] = 0\n",
    "\n",
    "df.loc[unknown, 'Good Site'] = -1\n",
    "\n",
    "df = df.drop(columns=['Senior Engineering Review Conducted', 'Bridge Opportunity: Stage'])\n",
    "\n",
    "df['Good Site'].value_counts()"
   ]
  },
  {
   "cell_type": "code",
   "execution_count": 166,
   "metadata": {
    "tags": []
   },
   "outputs": [],
   "source": [
    "#takes each row that contains -1(unknown) and creates a prediction then repalces the -1 with the prediction from the model\n",
    "for index in df.index:\n",
    "    if df.loc[index,'Good Site'] == -1:\n",
    "        row = df.iloc[[index]]\n",
    "        target = 'Good Site'\n",
    "        train_features = train.drop(columns=[target])\n",
    "        numeric_features = train_features.select_dtypes(include='number').columns.tolist()\n",
    "        cardinality = train_features.select_dtypes(exclude='number').nunique()\n",
    "        categorical_features = cardinality[cardinality <= 50].index.tolist()\n",
    "        features = numeric_features + categorical_features\n",
    "\n",
    "        row = row[features]\n",
    "        test_pred = loaded_model.predict(row)\n",
    "\n",
    "        new_new_pred = convert_pred(test_pred)\n",
    "        df.loc[index, 'Good Site'] = new_new_pred"
   ]
  },
  {
   "cell_type": "code",
   "execution_count": 170,
   "metadata": {},
   "outputs": [
    {
     "output_type": "execute_result",
     "data": {
      "text/plain": [
       "0.0    1170\n",
       "1.0     302\n",
       "Name: Good Site, dtype: int64"
      ]
     },
     "metadata": {},
     "execution_count": 170
    }
   ],
   "source": [
    "df['Good Site'].value_counts()"
   ]
  },
  {
   "cell_type": "code",
   "execution_count": 171,
   "metadata": {},
   "outputs": [],
   "source": [
    "#created a new csv with the new predictions in the Good Site column\n",
    "# df.to_csv('new_final.csv', index=False)"
   ]
  },
  {
   "cell_type": "code",
   "execution_count": null,
   "metadata": {},
   "outputs": [],
   "source": []
  },
  {
   "cell_type": "code",
   "execution_count": 124,
   "metadata": {},
   "outputs": [],
   "source": [
    "#creates a new dataframe that only contains the unknown or -1 rows\n",
    "y_unknown = df[df['Good Site'] == -1]\n",
    "\n",
    "#this gets rid of the unknown or -1 rows and only keeps the known positive or negative reviews\n",
    "# df = df[df['Good Site'] > -1]"
   ]
  },
  {
   "cell_type": "code",
   "execution_count": 125,
   "metadata": {},
   "outputs": [],
   "source": [
    "#separates the numeric with the other non-numeric columns with a cardinatily limiter\n",
    "\n",
    "target = 'Good Site'\n",
    "train_features = train.drop(columns=[target])\n",
    "numeric_features = train_features.select_dtypes(include='number').columns.tolist()\n",
    "cardinality = train_features.select_dtypes(exclude='number').nunique()\n",
    "categorical_features = cardinality[cardinality <= 50].index.tolist()\n",
    "features = numeric_features + categorical_features"
   ]
  },
  {
   "cell_type": "code",
   "execution_count": 126,
   "metadata": {},
   "outputs": [],
   "source": [
    "test1 = y_unknown[features]"
   ]
  },
  {
   "cell_type": "code",
   "execution_count": 127,
   "metadata": {},
   "outputs": [
    {
     "output_type": "execute_result",
     "data": {
      "text/plain": [
       "(1383, 59)"
      ]
     },
     "metadata": {},
     "execution_count": 127
    }
   ],
   "source": [
    "test1.shape"
   ]
  },
  {
   "cell_type": "code",
   "execution_count": 128,
   "metadata": {},
   "outputs": [],
   "source": [
    "# loaded_model = pickle.load(open('model3.pkl', 'rb'))\n",
    "# test_pred = loaded_model.predict(test1)"
   ]
  },
  {
   "cell_type": "code",
   "execution_count": 164,
   "metadata": {},
   "outputs": [],
   "source": [
    "#takes the predictions and converts it into solid 1 or 0\n",
    "def convert_pred(array):\n",
    "    new_list = []\n",
    "    for i in array:\n",
    "        if i >= 0.5:\n",
    "            new_list.append(1)\n",
    "        elif i < .5:\n",
    "            new_list.append(0)\n",
    "    return new_list"
   ]
  },
  {
   "cell_type": "code",
   "execution_count": 131,
   "metadata": {},
   "outputs": [],
   "source": [
    "new_new_pred = convert_pred(test_pred)"
   ]
  },
  {
   "cell_type": "code",
   "execution_count": 132,
   "metadata": {},
   "outputs": [],
   "source": [
    "new_df = pd.DataFrame(data=new_new_pred, columns=['Predictions'])"
   ]
  },
  {
   "cell_type": "code",
   "execution_count": 134,
   "metadata": {},
   "outputs": [],
   "source": [
    "y_unknown['Good Site'] = new_df['Predictions'].values"
   ]
  },
  {
   "cell_type": "code",
   "execution_count": null,
   "metadata": {},
   "outputs": [],
   "source": []
  },
  {
   "cell_type": "code",
   "execution_count": 48,
   "metadata": {},
   "outputs": [
    {
     "output_type": "execute_result",
     "data": {
      "text/plain": [
       "-1.0    1383\n",
       " 1.0      65\n",
       " 0.0      24\n",
       "Name: Good Site, dtype: int64"
      ]
     },
     "metadata": {},
     "execution_count": 48
    }
   ],
   "source": [
    "df = pd.read_csv('https://raw.githubusercontent.com/Lambda-School-Labs/bridges-to-prosperity-ds-a/britne/Data/finalclean.csv')\n",
    "\n",
    "positive = (\n",
    "    (df['Senior Engineering Review Conducted']=='Yes') & \n",
    "    (df['Bridge Opportunity: Stage'].isin(['Complete', 'Prospecting', 'Confirmed']))\n",
    ")\n",
    "\n",
    "negative = (\n",
    "    (df['Senior Engineering Review Conducted']=='Yes') & \n",
    "    (df['Bridge Opportunity: Stage'].isin(['Rejected', 'Cancelled']))\n",
    ")\n",
    "\n",
    "unknown = df['Senior Engineering Review Conducted'].isna()\n",
    "\n",
    "df.loc[positive, 'Good Site'] = 1\n",
    "df.loc[negative, 'Good Site'] = 0\n",
    "\n",
    "df.loc[unknown, 'Good Site'] = -1\n",
    "\n",
    "df = df.drop(columns=['Senior Engineering Review Conducted', 'Bridge Opportunity: Stage'])\n",
    "\n",
    "df['Good Site'].value_counts()"
   ]
  },
  {
   "cell_type": "code",
   "execution_count": null,
   "metadata": {},
   "outputs": [],
   "source": []
  },
  {
   "cell_type": "code",
   "execution_count": 24,
   "metadata": {},
   "outputs": [],
   "source": [
    "train, val = train_test_split(df, train_size=0.80, test_size=0.20, stratify=df['Good Site'], random_state=42)"
   ]
  },
  {
   "cell_type": "code",
   "execution_count": 182,
   "metadata": {},
   "outputs": [],
   "source": [
    "target = 'Good Site'\n",
    "train_features = train.drop(columns=[target])\n",
    "numeric_features = train_features.select_dtypes(include='number').columns.tolist()\n",
    "cardinality = train_features.select_dtypes(exclude='number').nunique()\n",
    "categorical_features = cardinality[cardinality <= 50].index.tolist()\n",
    "features = numeric_features + categorical_features"
   ]
  },
  {
   "cell_type": "code",
   "execution_count": 183,
   "metadata": {},
   "outputs": [],
   "source": [
    "X_train = train[features]\n",
    "y_train = train[target]\n",
    "X_val = val[features]\n",
    "y_val = val[target]"
   ]
  },
  {
   "cell_type": "code",
   "execution_count": 208,
   "metadata": {},
   "outputs": [],
   "source": [
    "#this is the actual model for the project\n",
    "model = make_pipeline(\n",
    "    ce.OneHotEncoder(use_cat_names=True), \n",
    "    SimpleImputer(strategy='mean'), \n",
    "    StandardScaler(), \n",
    "    SelectKBest(f_classif, k=15), \n",
    "    Ridge(alpha=1)\n",
    ")"
   ]
  },
  {
   "cell_type": "code",
   "execution_count": 209,
   "metadata": {},
   "outputs": [
    {
     "output_type": "stream",
     "name": "stdout",
     "text": [
      "training accuracy: 0.8404287074098808\nvalidation accuracy: 0.7033026957939383\nCPU times: user 447 ms, sys: 492 µs, total: 447 ms\nWall time: 440 ms\n"
     ]
    }
   ],
   "source": [
    "%%time\n",
    "model.fit(X_train, y_train)\n",
    "\n",
    "print('training accuracy:', model.score(X_train, y_train))\n",
    "print('validation accuracy:', model.score(X_val, y_val))"
   ]
  },
  {
   "cell_type": "code",
   "execution_count": 210,
   "metadata": {},
   "outputs": [],
   "source": [
    "pickle.dump(model, open('model3.pkl', 'wb'))"
   ]
  },
  {
   "cell_type": "code",
   "execution_count": 211,
   "metadata": {},
   "outputs": [
    {
     "output_type": "execute_result",
     "data": {
      "text/plain": [
       "array([ 0.99674953,  0.40973165,  0.18204627,  0.1576493 ,  0.97566146,\n",
       "        0.93424708,  0.27584436,  0.93644547,  0.94304065,  1.08903043,\n",
       "        1.21021593,  0.97867383,  0.18233999,  1.08243525, -0.09663145,\n",
       "        1.12697284,  0.97940662,  0.94157506])"
      ]
     },
     "metadata": {},
     "execution_count": 211
    }
   ],
   "source": [
    "loaded_model = pickle.load(open('model3.pkl', 'rb'))\n",
    "loaded_model.predict(X_val)"
   ]
  }
 ]
}