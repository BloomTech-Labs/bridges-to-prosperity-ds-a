{
 "metadata": {
  "language_info": {
   "codemirror_mode": {
    "name": "ipython",
    "version": 3
   },
   "file_extension": ".py",
   "mimetype": "text/x-python",
   "name": "python",
   "nbconvert_exporter": "python",
   "pygments_lexer": "ipython3",
   "version": "3.8.5-final"
  },
  "orig_nbformat": 2,
  "kernelspec": {
   "name": "Python 3.8.5 64-bit ('bridges': conda)",
   "display_name": "Python 3.8.5 64-bit ('bridges': conda)",
   "metadata": {
    "interpreter": {
     "hash": "4368c9daf815594993dffb1168695d0cd0ba2a8255d4d6d102b0bfa1e4fa78fe"
    }
   }
  }
 },
 "nbformat": 4,
 "nbformat_minor": 2,
 "cells": [
  {
   "cell_type": "code",
   "execution_count": 3,
   "metadata": {},
   "outputs": [],
   "source": [
    "import pandas as pd\n",
    "import math\n",
    "import geopy"
   ]
  },
  {
   "cell_type": "code",
   "execution_count": 2,
   "metadata": {},
   "outputs": [],
   "source": [
    "df = pd.read_csv(\"../data/cleaning/population_rwa_2018-10-01.csv\")"
   ]
  },
  {
   "cell_type": "code",
   "execution_count": 3,
   "metadata": {},
   "outputs": [
    {
     "output_type": "execute_result",
     "data": {
      "text/plain": [
       "        Lat        Lon  Population\n",
       "0 -1.050417  30.463194     8.07593\n",
       "1 -1.050417  30.463472     8.07593\n",
       "2 -1.050694  30.463194     8.07593\n",
       "3 -1.050694  30.464306     8.07593\n",
       "4 -1.050972  30.445694     8.07593"
      ],
      "text/html": "<div>\n<style scoped>\n    .dataframe tbody tr th:only-of-type {\n        vertical-align: middle;\n    }\n\n    .dataframe tbody tr th {\n        vertical-align: top;\n    }\n\n    .dataframe thead th {\n        text-align: right;\n    }\n</style>\n<table border=\"1\" class=\"dataframe\">\n  <thead>\n    <tr style=\"text-align: right;\">\n      <th></th>\n      <th>Lat</th>\n      <th>Lon</th>\n      <th>Population</th>\n    </tr>\n  </thead>\n  <tbody>\n    <tr>\n      <th>0</th>\n      <td>-1.050417</td>\n      <td>30.463194</td>\n      <td>8.07593</td>\n    </tr>\n    <tr>\n      <th>1</th>\n      <td>-1.050417</td>\n      <td>30.463472</td>\n      <td>8.07593</td>\n    </tr>\n    <tr>\n      <th>2</th>\n      <td>-1.050694</td>\n      <td>30.463194</td>\n      <td>8.07593</td>\n    </tr>\n    <tr>\n      <th>3</th>\n      <td>-1.050694</td>\n      <td>30.464306</td>\n      <td>8.07593</td>\n    </tr>\n    <tr>\n      <th>4</th>\n      <td>-1.050972</td>\n      <td>30.445694</td>\n      <td>8.07593</td>\n    </tr>\n  </tbody>\n</table>\n</div>"
     },
     "metadata": {},
     "execution_count": 3
    }
   ],
   "source": [
    "df.head()"
   ]
  },
  {
   "cell_type": "code",
   "execution_count": 4,
   "metadata": {},
   "outputs": [],
   "source": [
    "dfM = pd.read_csv(\"../data/cleaning/RWA_men.csv\")\n",
    "dfW = pd.read_csv(\"../data/cleaning/RWA_women.csv\")"
   ]
  },
  {
   "cell_type": "code",
   "execution_count": 5,
   "metadata": {},
   "outputs": [
    {
     "output_type": "execute_result",
     "data": {
      "text/plain": [
       "   latitude  longitude  population\n",
       "0 -2.119028  29.754861    4.207333\n",
       "1 -2.108472  29.767361    4.207333\n",
       "2 -2.120694  29.751528    4.207333\n",
       "3 -2.120139  29.770972    4.207333\n",
       "4 -2.135139  29.781528    4.207333"
      ],
      "text/html": "<div>\n<style scoped>\n    .dataframe tbody tr th:only-of-type {\n        vertical-align: middle;\n    }\n\n    .dataframe tbody tr th {\n        vertical-align: top;\n    }\n\n    .dataframe thead th {\n        text-align: right;\n    }\n</style>\n<table border=\"1\" class=\"dataframe\">\n  <thead>\n    <tr style=\"text-align: right;\">\n      <th></th>\n      <th>latitude</th>\n      <th>longitude</th>\n      <th>population</th>\n    </tr>\n  </thead>\n  <tbody>\n    <tr>\n      <th>0</th>\n      <td>-2.119028</td>\n      <td>29.754861</td>\n      <td>4.207333</td>\n    </tr>\n    <tr>\n      <th>1</th>\n      <td>-2.108472</td>\n      <td>29.767361</td>\n      <td>4.207333</td>\n    </tr>\n    <tr>\n      <th>2</th>\n      <td>-2.120694</td>\n      <td>29.751528</td>\n      <td>4.207333</td>\n    </tr>\n    <tr>\n      <th>3</th>\n      <td>-2.120139</td>\n      <td>29.770972</td>\n      <td>4.207333</td>\n    </tr>\n    <tr>\n      <th>4</th>\n      <td>-2.135139</td>\n      <td>29.781528</td>\n      <td>4.207333</td>\n    </tr>\n  </tbody>\n</table>\n</div>"
     },
     "metadata": {},
     "execution_count": 5
    }
   ],
   "source": [
    "dfM.head()"
   ]
  },
  {
   "cell_type": "code",
   "execution_count": 6,
   "metadata": {},
   "outputs": [
    {
     "output_type": "execute_result",
     "data": {
      "text/plain": [
       "   latitude  longitude  population\n",
       "0 -2.119028  29.754861     3.77058\n",
       "1 -2.108472  29.767361     3.77058\n",
       "2 -2.120694  29.751528     3.77058\n",
       "3 -2.120139  29.770972     3.77058\n",
       "4 -2.135139  29.781528     3.77058\n",
       "5 -2.112917  29.762639     3.77058\n",
       "6 -2.137639  29.776250     3.77058\n",
       "7 -2.109861  29.759861     3.77058\n",
       "8 -2.106528  29.770972     3.77058\n",
       "9 -2.120972  29.752361     3.77058"
      ],
      "text/html": "<div>\n<style scoped>\n    .dataframe tbody tr th:only-of-type {\n        vertical-align: middle;\n    }\n\n    .dataframe tbody tr th {\n        vertical-align: top;\n    }\n\n    .dataframe thead th {\n        text-align: right;\n    }\n</style>\n<table border=\"1\" class=\"dataframe\">\n  <thead>\n    <tr style=\"text-align: right;\">\n      <th></th>\n      <th>latitude</th>\n      <th>longitude</th>\n      <th>population</th>\n    </tr>\n  </thead>\n  <tbody>\n    <tr>\n      <th>0</th>\n      <td>-2.119028</td>\n      <td>29.754861</td>\n      <td>3.77058</td>\n    </tr>\n    <tr>\n      <th>1</th>\n      <td>-2.108472</td>\n      <td>29.767361</td>\n      <td>3.77058</td>\n    </tr>\n    <tr>\n      <th>2</th>\n      <td>-2.120694</td>\n      <td>29.751528</td>\n      <td>3.77058</td>\n    </tr>\n    <tr>\n      <th>3</th>\n      <td>-2.120139</td>\n      <td>29.770972</td>\n      <td>3.77058</td>\n    </tr>\n    <tr>\n      <th>4</th>\n      <td>-2.135139</td>\n      <td>29.781528</td>\n      <td>3.77058</td>\n    </tr>\n    <tr>\n      <th>5</th>\n      <td>-2.112917</td>\n      <td>29.762639</td>\n      <td>3.77058</td>\n    </tr>\n    <tr>\n      <th>6</th>\n      <td>-2.137639</td>\n      <td>29.776250</td>\n      <td>3.77058</td>\n    </tr>\n    <tr>\n      <th>7</th>\n      <td>-2.109861</td>\n      <td>29.759861</td>\n      <td>3.77058</td>\n    </tr>\n    <tr>\n      <th>8</th>\n      <td>-2.106528</td>\n      <td>29.770972</td>\n      <td>3.77058</td>\n    </tr>\n    <tr>\n      <th>9</th>\n      <td>-2.120972</td>\n      <td>29.752361</td>\n      <td>3.77058</td>\n    </tr>\n  </tbody>\n</table>\n</div>"
     },
     "metadata": {},
     "execution_count": 6
    }
   ],
   "source": [
    "dfW.head(10)"
   ]
  },
  {
   "cell_type": "code",
   "execution_count": 7,
   "metadata": {},
   "outputs": [
    {
     "output_type": "execute_result",
     "data": {
      "text/plain": [
       "1.727761     12211\n",
       "3.223526     12141\n",
       "2.615162      9822\n",
       "3.641200      9816\n",
       "4.072516      9128\n",
       "             ...  \n",
       "17.089407      524\n",
       "31.528441      366\n",
       "46.575783      278\n",
       "29.560144      269\n",
       "85.126775      166\n",
       "Name: population, Length: 416, dtype: int64"
      ]
     },
     "metadata": {},
     "execution_count": 7
    }
   ],
   "source": [
    "dfW['population'].value_counts()"
   ]
  },
  {
   "cell_type": "code",
   "execution_count": 8,
   "metadata": {},
   "outputs": [],
   "source": [
    "dfM.rename(columns={'latitude': 'latitude', 'longitude': 'longitude', 'population': 'M_pop'}, inplace=True)"
   ]
  },
  {
   "cell_type": "code",
   "execution_count": 9,
   "metadata": {},
   "outputs": [
    {
     "output_type": "stream",
     "name": "stdout",
     "text": [
      "         latitude  longitude     M_pop\n0       -2.119028  29.754861  4.207333\n1       -2.108472  29.767361  4.207333\n2       -2.120694  29.751528  4.207333\n3       -2.120139  29.770972  4.207333\n4       -2.135139  29.781528  4.207333\n...           ...        ...       ...\n1449192 -1.841528  29.334583  4.231526\n1449193 -1.805139  29.346250  4.231526\n1449194 -1.839861  29.334306  4.231526\n1449195 -1.826250  29.314306  4.231526\n1449196 -1.797639  29.321806  4.231526\n\n[1449197 rows x 3 columns]\n"
     ]
    }
   ],
   "source": [
    "print(dfM)"
   ]
  },
  {
   "cell_type": "code",
   "execution_count": 10,
   "metadata": {},
   "outputs": [],
   "source": [
    "dfM['W_pop'] = dfW['population']"
   ]
  },
  {
   "cell_type": "code",
   "execution_count": 11,
   "metadata": {},
   "outputs": [
    {
     "output_type": "execute_result",
     "data": {
      "text/plain": [
       "   latitude  longitude     M_pop    W_pop\n",
       "0 -2.119028  29.754861  4.207333  3.77058\n",
       "1 -2.108472  29.767361  4.207333  3.77058\n",
       "2 -2.120694  29.751528  4.207333  3.77058\n",
       "3 -2.120139  29.770972  4.207333  3.77058\n",
       "4 -2.135139  29.781528  4.207333  3.77058"
      ],
      "text/html": "<div>\n<style scoped>\n    .dataframe tbody tr th:only-of-type {\n        vertical-align: middle;\n    }\n\n    .dataframe tbody tr th {\n        vertical-align: top;\n    }\n\n    .dataframe thead th {\n        text-align: right;\n    }\n</style>\n<table border=\"1\" class=\"dataframe\">\n  <thead>\n    <tr style=\"text-align: right;\">\n      <th></th>\n      <th>latitude</th>\n      <th>longitude</th>\n      <th>M_pop</th>\n      <th>W_pop</th>\n    </tr>\n  </thead>\n  <tbody>\n    <tr>\n      <th>0</th>\n      <td>-2.119028</td>\n      <td>29.754861</td>\n      <td>4.207333</td>\n      <td>3.77058</td>\n    </tr>\n    <tr>\n      <th>1</th>\n      <td>-2.108472</td>\n      <td>29.767361</td>\n      <td>4.207333</td>\n      <td>3.77058</td>\n    </tr>\n    <tr>\n      <th>2</th>\n      <td>-2.120694</td>\n      <td>29.751528</td>\n      <td>4.207333</td>\n      <td>3.77058</td>\n    </tr>\n    <tr>\n      <th>3</th>\n      <td>-2.120139</td>\n      <td>29.770972</td>\n      <td>4.207333</td>\n      <td>3.77058</td>\n    </tr>\n    <tr>\n      <th>4</th>\n      <td>-2.135139</td>\n      <td>29.781528</td>\n      <td>4.207333</td>\n      <td>3.77058</td>\n    </tr>\n  </tbody>\n</table>\n</div>"
     },
     "metadata": {},
     "execution_count": 11
    }
   ],
   "source": [
    "dfM.head()"
   ]
  },
  {
   "cell_type": "code",
   "execution_count": 12,
   "metadata": {},
   "outputs": [],
   "source": [
    "dfM['total_pop'] = dfM['M_pop'] + dfM['W_pop']"
   ]
  },
  {
   "cell_type": "code",
   "execution_count": 13,
   "metadata": {},
   "outputs": [
    {
     "output_type": "execute_result",
     "data": {
      "text/plain": [
       "   latitude  longitude     M_pop    W_pop  total_pop\n",
       "0 -2.119028  29.754861  4.207333  3.77058   7.977913\n",
       "1 -2.108472  29.767361  4.207333  3.77058   7.977913\n",
       "2 -2.120694  29.751528  4.207333  3.77058   7.977913\n",
       "3 -2.120139  29.770972  4.207333  3.77058   7.977913\n",
       "4 -2.135139  29.781528  4.207333  3.77058   7.977913"
      ],
      "text/html": "<div>\n<style scoped>\n    .dataframe tbody tr th:only-of-type {\n        vertical-align: middle;\n    }\n\n    .dataframe tbody tr th {\n        vertical-align: top;\n    }\n\n    .dataframe thead th {\n        text-align: right;\n    }\n</style>\n<table border=\"1\" class=\"dataframe\">\n  <thead>\n    <tr style=\"text-align: right;\">\n      <th></th>\n      <th>latitude</th>\n      <th>longitude</th>\n      <th>M_pop</th>\n      <th>W_pop</th>\n      <th>total_pop</th>\n    </tr>\n  </thead>\n  <tbody>\n    <tr>\n      <th>0</th>\n      <td>-2.119028</td>\n      <td>29.754861</td>\n      <td>4.207333</td>\n      <td>3.77058</td>\n      <td>7.977913</td>\n    </tr>\n    <tr>\n      <th>1</th>\n      <td>-2.108472</td>\n      <td>29.767361</td>\n      <td>4.207333</td>\n      <td>3.77058</td>\n      <td>7.977913</td>\n    </tr>\n    <tr>\n      <th>2</th>\n      <td>-2.120694</td>\n      <td>29.751528</td>\n      <td>4.207333</td>\n      <td>3.77058</td>\n      <td>7.977913</td>\n    </tr>\n    <tr>\n      <th>3</th>\n      <td>-2.120139</td>\n      <td>29.770972</td>\n      <td>4.207333</td>\n      <td>3.77058</td>\n      <td>7.977913</td>\n    </tr>\n    <tr>\n      <th>4</th>\n      <td>-2.135139</td>\n      <td>29.781528</td>\n      <td>4.207333</td>\n      <td>3.77058</td>\n      <td>7.977913</td>\n    </tr>\n  </tbody>\n</table>\n</div>"
     },
     "metadata": {},
     "execution_count": 13
    }
   ],
   "source": [
    "dfM.head()"
   ]
  },
  {
   "cell_type": "code",
   "execution_count": 14,
   "metadata": {},
   "outputs": [],
   "source": [
    "# create CSV (not needed again)\n",
    "\n",
    "# dfM.to_csv(\"RWA_total.csv\")"
   ]
  },
  {
   "cell_type": "code",
   "execution_count": 15,
   "metadata": {},
   "outputs": [
    {
     "output_type": "stream",
     "name": "stdout",
     "text": [
      "Total population:  11609664.819764996\nRatio of men to women:  0.9274151021232104\n"
     ]
    }
   ],
   "source": [
    "print(\"Total population: \", dfM['total_pop'].sum()) # total population\n",
    "print(\"Ratio of men to women: \", (dfM['M_pop'] / dfM['W_pop']).mean())# men to women"
   ]
  },
  {
   "cell_type": "code",
   "execution_count": 16,
   "metadata": {},
   "outputs": [],
   "source": [
    "total_pop = dfM['total_pop'].sum()"
   ]
  },
  {
   "cell_type": "code",
   "execution_count": 17,
   "metadata": {},
   "outputs": [
    {
     "output_type": "execute_result",
     "data": {
      "text/plain": [
       "False"
      ]
     },
     "metadata": {},
     "execution_count": 17
    }
   ],
   "source": [
    "df['Population'].sum() == total_pop # but it kinda does"
   ]
  },
  {
   "cell_type": "code",
   "execution_count": 18,
   "metadata": {},
   "outputs": [],
   "source": [
    "dfV = pd.read_csv('../data/cleaning/Vil_Proj_location.csv')"
   ]
  },
  {
   "cell_type": "code",
   "execution_count": 19,
   "metadata": {},
   "outputs": [],
   "source": [
    "# will have to find \"education age\" somewhere else\n",
    "# we CAN examine 60+"
   ]
  },
  {
   "cell_type": "code",
   "execution_count": 4,
   "metadata": {},
   "outputs": [],
   "source": [
    "\n",
    "# pop = 1.4 million rows\n",
    "# vil = 1400 rows\n",
    "\n",
    "# 1.9 billion loops\n",
    "\n",
    "# BAD SPACE COMPLEXITY PLS FIX THANK\n",
    "\n",
    "#scidist\n",
    "def assign_vil_pop(pop, vil):\n",
    "\n",
    "    # [1] for element in pop table:\n",
    "    for i in pop.index:\n",
    "\n",
    "        # lowest is a distance\n",
    "        lowest = 0\n",
    "        # d is the index in the village dataframe that a pop segment belongs to\n",
    "        d = 0\n",
    "\n",
    "        # debug\n",
    "        # print(pop.loc[i, 'latitude'])\n",
    "    \n",
    "\n",
    "        # [2] find distance between pop table instance and each village:\n",
    "        for k in vil.index:\n",
    "            # distance formula\n",
    "            distance = math.sqrt( ((pop.loc[i, 'latitude'] - vil.loc[k, 'lat'])**2) + \n",
    "                                  ((pop.loc[i, 'longitude'] - vil.loc[k, 'long'])**2))\n",
    "\n",
    "            # geopy formula:\n",
    "            # geopy.distance.vincenty(c1, c2).km\n",
    "\n",
    "            # c1: lat, long -> first coordinates\n",
    "            # c2: lat, long -> second coordinates\n",
    "\n",
    "            # c1 = (pop.loc[i, 'latitude']), (pop.loc[i, 'longitude'])\n",
    "            # c2 = (vil.loc[k, 'lat']), (vil.loc[k, 'long'])\n",
    "            \n",
    "            # maybe consider the scidist formula instead, might be faster\n",
    "            # ####\n",
    "            # ####\n",
    "            # useful links in slack from Ryan Herr: \n",
    "            # https://lambda-students.slack.com/archives/GM2KHST1T/p1603221302077800?thread_ts=1603220441.076900&cid=GM2KHST1T\n",
    "            # ####\n",
    "            # ####\n",
    "\n",
    "            # [3] lowest is only 0 if it's the first loop\n",
    "            if lowest == 0:\n",
    "                # initial lowest distance\n",
    "                lowest = distance\n",
    "                # this doesn't need to be recalculated\n",
    "                # just indicating a temporary lowest distance of the 0th index\n",
    "                d = 0\n",
    "            # this happens every other time\n",
    "            else:\n",
    "                # [4]\n",
    "                if distance < lowest:\n",
    "                    # set new lowest distance\n",
    "                    lowest = distance\n",
    "                    # set counter equal to current index\n",
    "                    d = k\n",
    "                else:\n",
    "                    # no lowest distance update\n",
    "                    # break from loop\n",
    "                    break\n",
    "        \n",
    "        # create a new column called 'closest_village' and set it equal to the value\n",
    "        # of vilage_id at the index 'd'\n",
    "        pop.loc[i, 'closest_village'] = vil.loc[d, 'village']"
   ]
  },
  {
   "cell_type": "code",
   "execution_count": 74,
   "metadata": {
    "tags": []
   },
   "outputs": [
    {
     "output_type": "error",
     "ename": "KeyboardInterrupt",
     "evalue": "",
     "traceback": [
      "\u001b[0;31m---------------------------------------------------------------------------\u001b[0m",
      "\u001b[0;31mKeyboardInterrupt\u001b[0m                         Traceback (most recent call last)",
      "\u001b[0;32m<ipython-input-74-b8d3c19da29b>\u001b[0m in \u001b[0;36m<module>\u001b[0;34m\u001b[0m\n\u001b[0;32m----> 1\u001b[0;31m \u001b[0massign_vil_pop\u001b[0m\u001b[0;34m(\u001b[0m\u001b[0mdfM\u001b[0m\u001b[0;34m,\u001b[0m \u001b[0mdfV\u001b[0m\u001b[0;34m)\u001b[0m\u001b[0;34m\u001b[0m\u001b[0;34m\u001b[0m\u001b[0m\n\u001b[0m",
      "\u001b[0;32m<ipython-input-73-139dfe4faf9f>\u001b[0m in \u001b[0;36massign_vil_pop\u001b[0;34m(pop, vil)\u001b[0m\n\u001b[1;32m     21\u001b[0m             \u001b[0;31m# distance formula\u001b[0m\u001b[0;34m\u001b[0m\u001b[0;34m\u001b[0m\u001b[0;34m\u001b[0m\u001b[0m\n\u001b[1;32m     22\u001b[0m             distance = math.sqrt( ((pop.loc[i, 'latitude'] - vil.loc[k, 'lat'])**2) + \n\u001b[0;32m---> 23\u001b[0;31m                                   ((pop.loc[i, 'longitude'] - vil.loc[k, 'long'])**2))\n\u001b[0m\u001b[1;32m     24\u001b[0m             \u001b[0;31m# maybe consider the scidist formula instead, might be faster\u001b[0m\u001b[0;34m\u001b[0m\u001b[0;34m\u001b[0m\u001b[0;34m\u001b[0m\u001b[0m\n\u001b[1;32m     25\u001b[0m \u001b[0;34m\u001b[0m\u001b[0m\n",
      "\u001b[0;32m/opt/anaconda3/envs/bridges/lib/python3.8/site-packages/pandas/core/indexing.py\u001b[0m in \u001b[0;36m__getitem__\u001b[0;34m(self, key)\u001b[0m\n\u001b[1;32m    867\u001b[0m             \u001b[0;32mif\u001b[0m \u001b[0mself\u001b[0m\u001b[0;34m.\u001b[0m\u001b[0m_is_scalar_access\u001b[0m\u001b[0;34m(\u001b[0m\u001b[0mkey\u001b[0m\u001b[0;34m)\u001b[0m\u001b[0;34m:\u001b[0m\u001b[0;34m\u001b[0m\u001b[0;34m\u001b[0m\u001b[0m\n\u001b[1;32m    868\u001b[0m                 \u001b[0;32mtry\u001b[0m\u001b[0;34m:\u001b[0m\u001b[0;34m\u001b[0m\u001b[0;34m\u001b[0m\u001b[0m\n\u001b[0;32m--> 869\u001b[0;31m                     \u001b[0;32mreturn\u001b[0m \u001b[0mself\u001b[0m\u001b[0;34m.\u001b[0m\u001b[0mobj\u001b[0m\u001b[0;34m.\u001b[0m\u001b[0m_get_value\u001b[0m\u001b[0;34m(\u001b[0m\u001b[0;34m*\u001b[0m\u001b[0mkey\u001b[0m\u001b[0;34m,\u001b[0m \u001b[0mtakeable\u001b[0m\u001b[0;34m=\u001b[0m\u001b[0mself\u001b[0m\u001b[0;34m.\u001b[0m\u001b[0m_takeable\u001b[0m\u001b[0;34m)\u001b[0m\u001b[0;34m\u001b[0m\u001b[0;34m\u001b[0m\u001b[0m\n\u001b[0m\u001b[1;32m    870\u001b[0m                 \u001b[0;32mexcept\u001b[0m \u001b[0;34m(\u001b[0m\u001b[0mKeyError\u001b[0m\u001b[0;34m,\u001b[0m \u001b[0mIndexError\u001b[0m\u001b[0;34m,\u001b[0m \u001b[0mAttributeError\u001b[0m\u001b[0;34m)\u001b[0m\u001b[0;34m:\u001b[0m\u001b[0;34m\u001b[0m\u001b[0;34m\u001b[0m\u001b[0m\n\u001b[1;32m    871\u001b[0m                     \u001b[0;31m# AttributeError for IntervalTree get_value\u001b[0m\u001b[0;34m\u001b[0m\u001b[0;34m\u001b[0m\u001b[0;34m\u001b[0m\u001b[0m\n",
      "\u001b[0;32m/opt/anaconda3/envs/bridges/lib/python3.8/site-packages/pandas/core/frame.py\u001b[0m in \u001b[0;36m_get_value\u001b[0;34m(self, index, col, takeable)\u001b[0m\n\u001b[1;32m   3005\u001b[0m \u001b[0;34m\u001b[0m\u001b[0m\n\u001b[1;32m   3006\u001b[0m         \u001b[0;32mtry\u001b[0m\u001b[0;34m:\u001b[0m\u001b[0;34m\u001b[0m\u001b[0;34m\u001b[0m\u001b[0m\n\u001b[0;32m-> 3007\u001b[0;31m             \u001b[0mloc\u001b[0m \u001b[0;34m=\u001b[0m \u001b[0mengine\u001b[0m\u001b[0;34m.\u001b[0m\u001b[0mget_loc\u001b[0m\u001b[0;34m(\u001b[0m\u001b[0mindex\u001b[0m\u001b[0;34m)\u001b[0m\u001b[0;34m\u001b[0m\u001b[0;34m\u001b[0m\u001b[0m\n\u001b[0m\u001b[1;32m   3008\u001b[0m             \u001b[0;32mreturn\u001b[0m \u001b[0mseries\u001b[0m\u001b[0;34m.\u001b[0m\u001b[0m_values\u001b[0m\u001b[0;34m[\u001b[0m\u001b[0mloc\u001b[0m\u001b[0;34m]\u001b[0m\u001b[0;34m\u001b[0m\u001b[0;34m\u001b[0m\u001b[0m\n\u001b[1;32m   3009\u001b[0m         \u001b[0;32mexcept\u001b[0m \u001b[0mKeyError\u001b[0m\u001b[0;34m:\u001b[0m\u001b[0;34m\u001b[0m\u001b[0;34m\u001b[0m\u001b[0m\n",
      "\u001b[0;31mKeyboardInterrupt\u001b[0m: "
     ]
    }
   ],
   "source": [
    "assign_vil_pop(dfM, dfV) # this took way too long to run, going to try to build a smaller dataset \n",
    "                         # to test"
   ]
  },
  {
   "cell_type": "code",
   "execution_count": 5,
   "metadata": {},
   "outputs": [
    {
     "output_type": "error",
     "ename": "NameError",
     "evalue": "name 'dfV' is not defined",
     "traceback": [
      "\u001b[0;31m---------------------------------------------------------------------------\u001b[0m",
      "\u001b[0;31mNameError\u001b[0m                                 Traceback (most recent call last)",
      "\u001b[0;32m<ipython-input-5-3651eb42523b>\u001b[0m in \u001b[0;36m<module>\u001b[0;34m\u001b[0m\n\u001b[1;32m      1\u001b[0m \u001b[0;31m# make a smaller dataset to test the assign_vil_pop function\u001b[0m\u001b[0;34m\u001b[0m\u001b[0;34m\u001b[0m\u001b[0;34m\u001b[0m\u001b[0m\n\u001b[1;32m      2\u001b[0m \u001b[0;34m\u001b[0m\u001b[0m\n\u001b[0;32m----> 3\u001b[0;31m \u001b[0mdfV_test\u001b[0m \u001b[0;34m=\u001b[0m \u001b[0mdfV\u001b[0m\u001b[0;34m[\u001b[0m\u001b[0;34m:\u001b[0m\u001b[0;36m30\u001b[0m\u001b[0;34m]\u001b[0m\u001b[0;34m\u001b[0m\u001b[0;34m\u001b[0m\u001b[0m\n\u001b[0m",
      "\u001b[0;31mNameError\u001b[0m: name 'dfV' is not defined"
     ]
    }
   ],
   "source": [
    "# make a smaller dataset to test the assign_vil_pop function\n",
    "\n",
    "dfV_test = dfV[:30]"
   ]
  },
  {
   "cell_type": "code",
   "execution_count": null,
   "metadata": {},
   "outputs": [],
   "source": []
  }
 ]
}