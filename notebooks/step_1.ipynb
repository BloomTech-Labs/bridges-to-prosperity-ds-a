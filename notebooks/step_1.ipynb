{
 "metadata": {
  "language_info": {
   "codemirror_mode": {
    "name": "ipython",
    "version": 3
   },
   "file_extension": ".py",
   "mimetype": "text/x-python",
   "name": "python",
   "nbconvert_exporter": "python",
   "pygments_lexer": "ipython3",
   "version": "3.7.6-final"
  },
  "orig_nbformat": 2,
  "kernelspec": {
   "name": "Python 3.7.6 64-bit ('base')",
   "display_name": "Python 3.7.6 64-bit ('base')",
   "metadata": {
    "interpreter": {
     "hash": "a4f35a25c45272398c7efe26b32f7b0bf7ee038b5d39895c08f1a385baf25997"
    }
   }
  }
 },
 "nbformat": 4,
 "nbformat_minor": 2,
 "cells": [
  {
   "cell_type": "code",
   "execution_count": 47,
   "metadata": {},
   "outputs": [],
   "source": [
    "import pandas as pd\n",
    "import math"
   ]
  },
  {
   "cell_type": "code",
   "execution_count": 5,
   "metadata": {},
   "outputs": [],
   "source": [
    "df = pd.read_csv(\"../data/population_rwa_2018-10-01.csv\")"
   ]
  },
  {
   "cell_type": "code",
   "execution_count": 6,
   "metadata": {},
   "outputs": [
    {
     "output_type": "execute_result",
     "data": {
      "text/plain": [
       "        Lat        Lon  Population\n",
       "0 -1.050417  30.463194     8.07593\n",
       "1 -1.050417  30.463472     8.07593\n",
       "2 -1.050694  30.463194     8.07593\n",
       "3 -1.050694  30.464306     8.07593\n",
       "4 -1.050972  30.445694     8.07593"
      ],
      "text/html": "<div>\n<style scoped>\n    .dataframe tbody tr th:only-of-type {\n        vertical-align: middle;\n    }\n\n    .dataframe tbody tr th {\n        vertical-align: top;\n    }\n\n    .dataframe thead th {\n        text-align: right;\n    }\n</style>\n<table border=\"1\" class=\"dataframe\">\n  <thead>\n    <tr style=\"text-align: right;\">\n      <th></th>\n      <th>Lat</th>\n      <th>Lon</th>\n      <th>Population</th>\n    </tr>\n  </thead>\n  <tbody>\n    <tr>\n      <th>0</th>\n      <td>-1.050417</td>\n      <td>30.463194</td>\n      <td>8.07593</td>\n    </tr>\n    <tr>\n      <th>1</th>\n      <td>-1.050417</td>\n      <td>30.463472</td>\n      <td>8.07593</td>\n    </tr>\n    <tr>\n      <th>2</th>\n      <td>-1.050694</td>\n      <td>30.463194</td>\n      <td>8.07593</td>\n    </tr>\n    <tr>\n      <th>3</th>\n      <td>-1.050694</td>\n      <td>30.464306</td>\n      <td>8.07593</td>\n    </tr>\n    <tr>\n      <th>4</th>\n      <td>-1.050972</td>\n      <td>30.445694</td>\n      <td>8.07593</td>\n    </tr>\n  </tbody>\n</table>\n</div>"
     },
     "metadata": {},
     "execution_count": 6
    }
   ],
   "source": [
    "df.head()"
   ]
  },
  {
   "cell_type": "code",
   "execution_count": 30,
   "metadata": {},
   "outputs": [],
   "source": [
    "dfM = pd.read_csv(\"../data/RWA_men.csv\")\n",
    "dfW = pd.read_csv(\"../data/RWA_women.csv\")"
   ]
  },
  {
   "cell_type": "code",
   "execution_count": 24,
   "metadata": {},
   "outputs": [
    {
     "output_type": "execute_result",
     "data": {
      "text/plain": [
       "   latitude  longitude  population\n",
       "0 -2.119028  29.754861    4.207333\n",
       "1 -2.108472  29.767361    4.207333\n",
       "2 -2.120694  29.751528    4.207333\n",
       "3 -2.120139  29.770972    4.207333\n",
       "4 -2.135139  29.781528    4.207333"
      ],
      "text/html": "<div>\n<style scoped>\n    .dataframe tbody tr th:only-of-type {\n        vertical-align: middle;\n    }\n\n    .dataframe tbody tr th {\n        vertical-align: top;\n    }\n\n    .dataframe thead th {\n        text-align: right;\n    }\n</style>\n<table border=\"1\" class=\"dataframe\">\n  <thead>\n    <tr style=\"text-align: right;\">\n      <th></th>\n      <th>latitude</th>\n      <th>longitude</th>\n      <th>population</th>\n    </tr>\n  </thead>\n  <tbody>\n    <tr>\n      <th>0</th>\n      <td>-2.119028</td>\n      <td>29.754861</td>\n      <td>4.207333</td>\n    </tr>\n    <tr>\n      <th>1</th>\n      <td>-2.108472</td>\n      <td>29.767361</td>\n      <td>4.207333</td>\n    </tr>\n    <tr>\n      <th>2</th>\n      <td>-2.120694</td>\n      <td>29.751528</td>\n      <td>4.207333</td>\n    </tr>\n    <tr>\n      <th>3</th>\n      <td>-2.120139</td>\n      <td>29.770972</td>\n      <td>4.207333</td>\n    </tr>\n    <tr>\n      <th>4</th>\n      <td>-2.135139</td>\n      <td>29.781528</td>\n      <td>4.207333</td>\n    </tr>\n  </tbody>\n</table>\n</div>"
     },
     "metadata": {},
     "execution_count": 24
    }
   ],
   "source": [
    "dfM.head()"
   ]
  },
  {
   "cell_type": "code",
   "execution_count": 15,
   "metadata": {},
   "outputs": [
    {
     "output_type": "execute_result",
     "data": {
      "text/plain": [
       "   latitude  longitude  population\n",
       "0 -2.119028  29.754861     3.77058\n",
       "1 -2.108472  29.767361     3.77058\n",
       "2 -2.120694  29.751528     3.77058\n",
       "3 -2.120139  29.770972     3.77058\n",
       "4 -2.135139  29.781528     3.77058\n",
       "5 -2.112917  29.762639     3.77058\n",
       "6 -2.137639  29.776250     3.77058\n",
       "7 -2.109861  29.759861     3.77058\n",
       "8 -2.106528  29.770972     3.77058\n",
       "9 -2.120972  29.752361     3.77058"
      ],
      "text/html": "<div>\n<style scoped>\n    .dataframe tbody tr th:only-of-type {\n        vertical-align: middle;\n    }\n\n    .dataframe tbody tr th {\n        vertical-align: top;\n    }\n\n    .dataframe thead th {\n        text-align: right;\n    }\n</style>\n<table border=\"1\" class=\"dataframe\">\n  <thead>\n    <tr style=\"text-align: right;\">\n      <th></th>\n      <th>latitude</th>\n      <th>longitude</th>\n      <th>population</th>\n    </tr>\n  </thead>\n  <tbody>\n    <tr>\n      <th>0</th>\n      <td>-2.119028</td>\n      <td>29.754861</td>\n      <td>3.77058</td>\n    </tr>\n    <tr>\n      <th>1</th>\n      <td>-2.108472</td>\n      <td>29.767361</td>\n      <td>3.77058</td>\n    </tr>\n    <tr>\n      <th>2</th>\n      <td>-2.120694</td>\n      <td>29.751528</td>\n      <td>3.77058</td>\n    </tr>\n    <tr>\n      <th>3</th>\n      <td>-2.120139</td>\n      <td>29.770972</td>\n      <td>3.77058</td>\n    </tr>\n    <tr>\n      <th>4</th>\n      <td>-2.135139</td>\n      <td>29.781528</td>\n      <td>3.77058</td>\n    </tr>\n    <tr>\n      <th>5</th>\n      <td>-2.112917</td>\n      <td>29.762639</td>\n      <td>3.77058</td>\n    </tr>\n    <tr>\n      <th>6</th>\n      <td>-2.137639</td>\n      <td>29.776250</td>\n      <td>3.77058</td>\n    </tr>\n    <tr>\n      <th>7</th>\n      <td>-2.109861</td>\n      <td>29.759861</td>\n      <td>3.77058</td>\n    </tr>\n    <tr>\n      <th>8</th>\n      <td>-2.106528</td>\n      <td>29.770972</td>\n      <td>3.77058</td>\n    </tr>\n    <tr>\n      <th>9</th>\n      <td>-2.120972</td>\n      <td>29.752361</td>\n      <td>3.77058</td>\n    </tr>\n  </tbody>\n</table>\n</div>"
     },
     "metadata": {},
     "execution_count": 15
    }
   ],
   "source": [
    "dfW.head(10)"
   ]
  },
  {
   "cell_type": "code",
   "execution_count": 16,
   "metadata": {},
   "outputs": [
    {
     "output_type": "execute_result",
     "data": {
      "text/plain": [
       "1.727761     12211\n",
       "3.223526     12141\n",
       "2.615162      9822\n",
       "3.641200      9816\n",
       "4.072516      9128\n",
       "             ...  \n",
       "17.089407      524\n",
       "31.528441      366\n",
       "46.575783      278\n",
       "29.560144      269\n",
       "85.126775      166\n",
       "Name: population, Length: 416, dtype: int64"
      ]
     },
     "metadata": {},
     "execution_count": 16
    }
   ],
   "source": [
    "dfW['population'].value_counts()"
   ]
  },
  {
   "cell_type": "code",
   "execution_count": 31,
   "metadata": {},
   "outputs": [],
   "source": [
    "dfM.rename(columns={'latitude': 'latitude', 'longitude': 'longitude', 'population': 'M_pop'}, inplace=True)"
   ]
  },
  {
   "cell_type": "code",
   "execution_count": 32,
   "metadata": {},
   "outputs": [
    {
     "output_type": "stream",
     "name": "stdout",
     "text": [
      "         latitude  longitude     M_pop\n0       -2.119028  29.754861  4.207333\n1       -2.108472  29.767361  4.207333\n2       -2.120694  29.751528  4.207333\n3       -2.120139  29.770972  4.207333\n4       -2.135139  29.781528  4.207333\n...           ...        ...       ...\n1449192 -1.841528  29.334583  4.231526\n1449193 -1.805139  29.346250  4.231526\n1449194 -1.839861  29.334306  4.231526\n1449195 -1.826250  29.314306  4.231526\n1449196 -1.797639  29.321806  4.231526\n\n[1449197 rows x 3 columns]\n"
     ]
    }
   ],
   "source": [
    "print(dfM)"
   ]
  },
  {
   "cell_type": "code",
   "execution_count": 33,
   "metadata": {},
   "outputs": [],
   "source": [
    "dfM['W_pop'] = dfW['population']"
   ]
  },
  {
   "cell_type": "code",
   "execution_count": 34,
   "metadata": {},
   "outputs": [
    {
     "output_type": "execute_result",
     "data": {
      "text/plain": [
       "   latitude  longitude     M_pop    W_pop\n",
       "0 -2.119028  29.754861  4.207333  3.77058\n",
       "1 -2.108472  29.767361  4.207333  3.77058\n",
       "2 -2.120694  29.751528  4.207333  3.77058\n",
       "3 -2.120139  29.770972  4.207333  3.77058\n",
       "4 -2.135139  29.781528  4.207333  3.77058"
      ],
      "text/html": "<div>\n<style scoped>\n    .dataframe tbody tr th:only-of-type {\n        vertical-align: middle;\n    }\n\n    .dataframe tbody tr th {\n        vertical-align: top;\n    }\n\n    .dataframe thead th {\n        text-align: right;\n    }\n</style>\n<table border=\"1\" class=\"dataframe\">\n  <thead>\n    <tr style=\"text-align: right;\">\n      <th></th>\n      <th>latitude</th>\n      <th>longitude</th>\n      <th>M_pop</th>\n      <th>W_pop</th>\n    </tr>\n  </thead>\n  <tbody>\n    <tr>\n      <th>0</th>\n      <td>-2.119028</td>\n      <td>29.754861</td>\n      <td>4.207333</td>\n      <td>3.77058</td>\n    </tr>\n    <tr>\n      <th>1</th>\n      <td>-2.108472</td>\n      <td>29.767361</td>\n      <td>4.207333</td>\n      <td>3.77058</td>\n    </tr>\n    <tr>\n      <th>2</th>\n      <td>-2.120694</td>\n      <td>29.751528</td>\n      <td>4.207333</td>\n      <td>3.77058</td>\n    </tr>\n    <tr>\n      <th>3</th>\n      <td>-2.120139</td>\n      <td>29.770972</td>\n      <td>4.207333</td>\n      <td>3.77058</td>\n    </tr>\n    <tr>\n      <th>4</th>\n      <td>-2.135139</td>\n      <td>29.781528</td>\n      <td>4.207333</td>\n      <td>3.77058</td>\n    </tr>\n  </tbody>\n</table>\n</div>"
     },
     "metadata": {},
     "execution_count": 34
    }
   ],
   "source": [
    "dfM.head()"
   ]
  },
  {
   "cell_type": "code",
   "execution_count": 36,
   "metadata": {},
   "outputs": [],
   "source": [
    "dfM['total_pop'] = dfM['M_pop'] + dfM['W_pop']"
   ]
  },
  {
   "cell_type": "code",
   "execution_count": 37,
   "metadata": {},
   "outputs": [
    {
     "output_type": "execute_result",
     "data": {
      "text/plain": [
       "   latitude  longitude     M_pop    W_pop  total_pop\n",
       "0 -2.119028  29.754861  4.207333  3.77058   7.977913\n",
       "1 -2.108472  29.767361  4.207333  3.77058   7.977913\n",
       "2 -2.120694  29.751528  4.207333  3.77058   7.977913\n",
       "3 -2.120139  29.770972  4.207333  3.77058   7.977913\n",
       "4 -2.135139  29.781528  4.207333  3.77058   7.977913"
      ],
      "text/html": "<div>\n<style scoped>\n    .dataframe tbody tr th:only-of-type {\n        vertical-align: middle;\n    }\n\n    .dataframe tbody tr th {\n        vertical-align: top;\n    }\n\n    .dataframe thead th {\n        text-align: right;\n    }\n</style>\n<table border=\"1\" class=\"dataframe\">\n  <thead>\n    <tr style=\"text-align: right;\">\n      <th></th>\n      <th>latitude</th>\n      <th>longitude</th>\n      <th>M_pop</th>\n      <th>W_pop</th>\n      <th>total_pop</th>\n    </tr>\n  </thead>\n  <tbody>\n    <tr>\n      <th>0</th>\n      <td>-2.119028</td>\n      <td>29.754861</td>\n      <td>4.207333</td>\n      <td>3.77058</td>\n      <td>7.977913</td>\n    </tr>\n    <tr>\n      <th>1</th>\n      <td>-2.108472</td>\n      <td>29.767361</td>\n      <td>4.207333</td>\n      <td>3.77058</td>\n      <td>7.977913</td>\n    </tr>\n    <tr>\n      <th>2</th>\n      <td>-2.120694</td>\n      <td>29.751528</td>\n      <td>4.207333</td>\n      <td>3.77058</td>\n      <td>7.977913</td>\n    </tr>\n    <tr>\n      <th>3</th>\n      <td>-2.120139</td>\n      <td>29.770972</td>\n      <td>4.207333</td>\n      <td>3.77058</td>\n      <td>7.977913</td>\n    </tr>\n    <tr>\n      <th>4</th>\n      <td>-2.135139</td>\n      <td>29.781528</td>\n      <td>4.207333</td>\n      <td>3.77058</td>\n      <td>7.977913</td>\n    </tr>\n  </tbody>\n</table>\n</div>"
     },
     "metadata": {},
     "execution_count": 37
    }
   ],
   "source": [
    "dfM.head()"
   ]
  },
  {
   "cell_type": "code",
   "execution_count": 38,
   "metadata": {},
   "outputs": [],
   "source": [
    "dfM.to_csv(\"RWA_total.csv\")"
   ]
  },
  {
   "cell_type": "code",
   "execution_count": 49,
   "metadata": {},
   "outputs": [
    {
     "output_type": "stream",
     "name": "stdout",
     "text": [
      "Total population:  11609664.819764996\nRatio of men to women:  0.9274151021212259\n"
     ]
    }
   ],
   "source": [
    "print(\"Total population: \", dfM['total_pop'].sum()) # total population\n",
    "print(\"Ratio of men to women: \", (dfM['M_pop'] / dfM['W_pop']).mean())# men to women"
   ]
  },
  {
   "cell_type": "code",
   "execution_count": 40,
   "metadata": {},
   "outputs": [],
   "source": [
    "total_pop = dfM['total_pop'].sum()"
   ]
  },
  {
   "cell_type": "code",
   "execution_count": 43,
   "metadata": {},
   "outputs": [
    {
     "output_type": "execute_result",
     "data": {
      "text/plain": [
       "False"
      ]
     },
     "metadata": {},
     "execution_count": 43
    }
   ],
   "source": [
    "df['Population'].sum() == total_pop # but it kinda does"
   ]
  },
  {
   "cell_type": "code",
   "execution_count": null,
   "metadata": {},
   "outputs": [],
   "source": [
    "# will have to find \"education age\" somewhere else\n",
    "# we CAN examine 60+"
   ]
  },
  {
   "cell_type": "code",
   "execution_count": null,
   "metadata": {},
   "outputs": [],
   "source": [
    "\n",
    "# pop_table = 1.4 million row\n",
    "# village_table = village and coords\n",
    "\n",
    "#scidist\n",
    "\n",
    "# [1] for element in pop_table:\n",
    "for x, y in dfM.iterrows():\n",
    "\n",
    "    # lowest is a distance\n",
    "    lowest = 0\n",
    "    # d is the index in the village dataframe that a pop segment belongs to\n",
    "    d = 0\n",
    "\n",
    "    # [2] find distance between pop table instance and each village:\n",
    "    for i, j in dfVillage.iterrows():\n",
    "        # distance formula\n",
    "        distance = math.sqrt( ((pop[lat] - vil[lat])**2) + ((pop[lon] - vil[lon])**2))\n",
    "        # maybe consider the scidist formula instead, might be faster\n",
    "\n",
    "        # lowest is only 0 if it's the first loop\n",
    "        if lowest = 0:\n",
    "            # initial lowest distance\n",
    "            lowest = distance:\n",
    "            # this doesn't need to be recalculated\n",
    "            # just indicating a temporary lowest distance of the 0th index\n",
    "            d = 0\n",
    "        # this happens every other time\n",
    "        else:\n",
    "            if distance < lowest:\n",
    "                # set new lowest distance\n",
    "                lowest = distance\n",
    "                # increment counter (which represents index)\n",
    "                d += 1\n",
    "            else:\n",
    "                # no lowest distance update\n",
    "                # increment counter\n",
    "                d += 1\n",
    "    \n",
    "    # create a new column called 'closest_village' and set it equal to the value\n",
    "    # of vilage_id at the index 'd'\n",
    "    dfM['closest_village'] = dfVillage[d]"
   ]
  }
 ]
}