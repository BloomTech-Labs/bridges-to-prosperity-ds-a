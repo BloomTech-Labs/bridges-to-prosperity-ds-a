{
 "cells": [
  {
   "cell_type": "code",
   "execution_count": 17,
   "metadata": {},
   "outputs": [],
   "source": [
    "import csv\n",
    "import pandas as pd\n",
    "import scipy.spatial.distance as scidist\n"
   ]
  },
  {
   "cell_type": "code",
   "execution_count": 18,
   "metadata": {},
   "outputs": [],
   "source": [
    "df_sdgs = pd.read_csv('/Users/jasimrashid/Projects/DS-Unit-6-Labs/sdgs_subnational_rwa.csv')\n",
    "\n",
    "df_mdgs = pd.read_csv('/Users/jasimrashid/Projects/DS-Unit-6-Labs/mdgs_subnational_rwa.csv')\n",
    "\n",
    "df_rbm = pd.read_csv('/Users/jasimrashid/Projects/DS-Unit-6-Labs/rbm_subnational_rwa.csv')\n",
    "\n",
    "df_mics_indicators = pd.read_csv('/Users/jasimrashid/Projects/DS-Unit-6-Labs/mics-indicators_subnational_rwa.csv')\n",
    "\n",
    "df_dhs_quickstats = pd.read_csv('/Users/jasimrashid/Projects/DS-Unit-6-Labs/dhs-quickstats_subnational_rwa.csv')\n",
    "\n",
    "df_dhs_mobile = pd.read_csv('/Users/jasimrashid/Projects/DS-Unit-6-Labs/dhs-mobile_subnational_rwa.csv')\n",
    "\n",
    "\n"
   ]
  },
  {
   "cell_type": "code",
   "execution_count": 19,
   "metadata": {},
   "outputs": [],
   "source": [
    "df_sdgs['Dataset'] = 'sgds_2015'\n",
    "df_mdgs['Dataset'] = 'mdgs_2015'\n",
    "df_rbm['Dataset'] = 'mds_2015'\n",
    "df_mics_indicators['Dataset'] = 'mics_indicators_2015'\n",
    "df_dhs_quickstats['Dataset'] = 'dhs_quickstats_2015'\n",
    "df_dhs_mobile['Dataset'] = 'dhs_mobile_2015'"
   ]
  },
  {
   "cell_type": "code",
   "execution_count": 22,
   "metadata": {},
   "outputs": [],
   "source": [
    "df_combined = pd.concat([df_dhs_mobile,df_dhs_quickstats,df_mgds,df_mics_indicators,df_rbm,df_mgds,df_sdgs],axis=0)\n",
    "df_combined.head()\n",
    "df_combined = df_combined[df_combined['SurveyYear']=='2015']"
   ]
  },
  {
   "cell_type": "code",
   "execution_count": 23,
   "metadata": {},
   "outputs": [
    {
     "output_type": "execute_result",
     "data": {
      "text/plain": [
       "     ISO3 Location   DataId                   Indicator Value Precision  \\\n",
       "3897  RWA   Kigali  1721725  Total fertility rate 15-49   3.6         1   \n",
       "3898  RWA    South  1717397  Total fertility rate 15-49     4         1   \n",
       "3899  RWA     West  1715994  Total fertility rate 15-49   4.6         1   \n",
       "3900  RWA    North  1721706  Total fertility rate 15-49   3.7         1   \n",
       "3901  RWA     East  1717384  Total fertility rate 15-49   4.6         1   \n",
       "\n",
       "     DHS_CountryCode CountryName SurveyYear   SurveyId  ... IsPreferred  \\\n",
       "3897              RW      Rwanda       2015  RW2015DHS  ...         1.0   \n",
       "3898              RW      Rwanda       2015  RW2015DHS  ...         1.0   \n",
       "3899              RW      Rwanda       2015  RW2015DHS  ...         1.0   \n",
       "3900              RW      Rwanda       2015  RW2015DHS  ...         1.0   \n",
       "3901              RW      Rwanda       2015  RW2015DHS  ...         1.0   \n",
       "\n",
       "           SDRID         RegionId  SurveyYearLabel  SurveyType  \\\n",
       "3897  FEFRTRWTFR  RWDHS2015442001          2014-15         DHS   \n",
       "3898  FEFRTRWTFR  RWDHS2015442002          2014-15         DHS   \n",
       "3899  FEFRTRWTFR  RWDHS2015442003          2014-15         DHS   \n",
       "3900  FEFRTRWTFR  RWDHS2015442004          2014-15         DHS   \n",
       "3901  FEFRTRWTFR  RWDHS2015442005          2014-15         DHS   \n",
       "\n",
       "     DenominatorWeighted DenominatorUnweighted CILow CIHigh          Dataset  \n",
       "3897                 NaN                   NaN   NaN    NaN  dhs_mobile_2015  \n",
       "3898                 NaN                   NaN   NaN    NaN  dhs_mobile_2015  \n",
       "3899                 NaN                   NaN   NaN    NaN  dhs_mobile_2015  \n",
       "3900                 NaN                   NaN   NaN    NaN  dhs_mobile_2015  \n",
       "3901                 NaN                   NaN   NaN    NaN  dhs_mobile_2015  \n",
       "\n",
       "[5 rows x 30 columns]"
      ],
      "text/html": "<div>\n<style scoped>\n    .dataframe tbody tr th:only-of-type {\n        vertical-align: middle;\n    }\n\n    .dataframe tbody tr th {\n        vertical-align: top;\n    }\n\n    .dataframe thead th {\n        text-align: right;\n    }\n</style>\n<table border=\"1\" class=\"dataframe\">\n  <thead>\n    <tr style=\"text-align: right;\">\n      <th></th>\n      <th>ISO3</th>\n      <th>Location</th>\n      <th>DataId</th>\n      <th>Indicator</th>\n      <th>Value</th>\n      <th>Precision</th>\n      <th>DHS_CountryCode</th>\n      <th>CountryName</th>\n      <th>SurveyYear</th>\n      <th>SurveyId</th>\n      <th>...</th>\n      <th>IsPreferred</th>\n      <th>SDRID</th>\n      <th>RegionId</th>\n      <th>SurveyYearLabel</th>\n      <th>SurveyType</th>\n      <th>DenominatorWeighted</th>\n      <th>DenominatorUnweighted</th>\n      <th>CILow</th>\n      <th>CIHigh</th>\n      <th>Dataset</th>\n    </tr>\n  </thead>\n  <tbody>\n    <tr>\n      <th>3897</th>\n      <td>RWA</td>\n      <td>Kigali</td>\n      <td>1721725</td>\n      <td>Total fertility rate 15-49</td>\n      <td>3.6</td>\n      <td>1</td>\n      <td>RW</td>\n      <td>Rwanda</td>\n      <td>2015</td>\n      <td>RW2015DHS</td>\n      <td>...</td>\n      <td>1.0</td>\n      <td>FEFRTRWTFR</td>\n      <td>RWDHS2015442001</td>\n      <td>2014-15</td>\n      <td>DHS</td>\n      <td>NaN</td>\n      <td>NaN</td>\n      <td>NaN</td>\n      <td>NaN</td>\n      <td>dhs_mobile_2015</td>\n    </tr>\n    <tr>\n      <th>3898</th>\n      <td>RWA</td>\n      <td>South</td>\n      <td>1717397</td>\n      <td>Total fertility rate 15-49</td>\n      <td>4</td>\n      <td>1</td>\n      <td>RW</td>\n      <td>Rwanda</td>\n      <td>2015</td>\n      <td>RW2015DHS</td>\n      <td>...</td>\n      <td>1.0</td>\n      <td>FEFRTRWTFR</td>\n      <td>RWDHS2015442002</td>\n      <td>2014-15</td>\n      <td>DHS</td>\n      <td>NaN</td>\n      <td>NaN</td>\n      <td>NaN</td>\n      <td>NaN</td>\n      <td>dhs_mobile_2015</td>\n    </tr>\n    <tr>\n      <th>3899</th>\n      <td>RWA</td>\n      <td>West</td>\n      <td>1715994</td>\n      <td>Total fertility rate 15-49</td>\n      <td>4.6</td>\n      <td>1</td>\n      <td>RW</td>\n      <td>Rwanda</td>\n      <td>2015</td>\n      <td>RW2015DHS</td>\n      <td>...</td>\n      <td>1.0</td>\n      <td>FEFRTRWTFR</td>\n      <td>RWDHS2015442003</td>\n      <td>2014-15</td>\n      <td>DHS</td>\n      <td>NaN</td>\n      <td>NaN</td>\n      <td>NaN</td>\n      <td>NaN</td>\n      <td>dhs_mobile_2015</td>\n    </tr>\n    <tr>\n      <th>3900</th>\n      <td>RWA</td>\n      <td>North</td>\n      <td>1721706</td>\n      <td>Total fertility rate 15-49</td>\n      <td>3.7</td>\n      <td>1</td>\n      <td>RW</td>\n      <td>Rwanda</td>\n      <td>2015</td>\n      <td>RW2015DHS</td>\n      <td>...</td>\n      <td>1.0</td>\n      <td>FEFRTRWTFR</td>\n      <td>RWDHS2015442004</td>\n      <td>2014-15</td>\n      <td>DHS</td>\n      <td>NaN</td>\n      <td>NaN</td>\n      <td>NaN</td>\n      <td>NaN</td>\n      <td>dhs_mobile_2015</td>\n    </tr>\n    <tr>\n      <th>3901</th>\n      <td>RWA</td>\n      <td>East</td>\n      <td>1717384</td>\n      <td>Total fertility rate 15-49</td>\n      <td>4.6</td>\n      <td>1</td>\n      <td>RW</td>\n      <td>Rwanda</td>\n      <td>2015</td>\n      <td>RW2015DHS</td>\n      <td>...</td>\n      <td>1.0</td>\n      <td>FEFRTRWTFR</td>\n      <td>RWDHS2015442005</td>\n      <td>2014-15</td>\n      <td>DHS</td>\n      <td>NaN</td>\n      <td>NaN</td>\n      <td>NaN</td>\n      <td>NaN</td>\n      <td>dhs_mobile_2015</td>\n    </tr>\n  </tbody>\n</table>\n<p>5 rows × 30 columns</p>\n</div>"
     },
     "metadata": {},
     "execution_count": 23
    }
   ],
   "source": [
    "df_combined.head()"
   ]
  },
  {
   "cell_type": "code",
   "execution_count": 25,
   "metadata": {},
   "outputs": [],
   "source": [
    "indicators_1 = ['Infant mortality rate',\n",
    " 'Under-five mortality rate',\n",
    " 'Women with secondary or higher education',\n",
    " 'Women who are literate',\n",
    " 'Households with electricity',\n",
    "'Gender parity index for net primary school attendance',\n",
    " 'Gender parity index for net secondary school attendance',\n",
    " 'Malaria prevalence according to RDT',\n",
    " 'Net primary school attendance rate: Female',\n",
    " 'Net primary school attendance rate: Male',\n",
    " 'Net primary school attendance rate: Total']"
   ]
  },
  {
   "cell_type": "code",
   "execution_count": 41,
   "metadata": {},
   "outputs": [
    {
     "output_type": "execute_result",
     "data": {
      "text/plain": [
       "     Location              Indicator  Value  DenominatorWeighted  \\\n",
       "1058   Kigali  Infant mortality rate   29.0                  NaN   \n",
       "1059    South  Infant mortality rate   40.0                  NaN   \n",
       "1060     West  Infant mortality rate   41.0                  NaN   \n",
       "1061    North  Infant mortality rate   38.0                  NaN   \n",
       "1062     East  Infant mortality rate   51.0                  NaN   \n",
       "\n",
       "      DenominatorUnweighted  \n",
       "1058                    NaN  \n",
       "1059                    NaN  \n",
       "1060                    NaN  \n",
       "1061                    NaN  \n",
       "1062                    NaN  "
      ],
      "text/html": "<div>\n<style scoped>\n    .dataframe tbody tr th:only-of-type {\n        vertical-align: middle;\n    }\n\n    .dataframe tbody tr th {\n        vertical-align: top;\n    }\n\n    .dataframe thead th {\n        text-align: right;\n    }\n</style>\n<table border=\"1\" class=\"dataframe\">\n  <thead>\n    <tr style=\"text-align: right;\">\n      <th></th>\n      <th>Location</th>\n      <th>Indicator</th>\n      <th>Value</th>\n      <th>DenominatorWeighted</th>\n      <th>DenominatorUnweighted</th>\n    </tr>\n  </thead>\n  <tbody>\n    <tr>\n      <th>1058</th>\n      <td>Kigali</td>\n      <td>Infant mortality rate</td>\n      <td>29.0</td>\n      <td>NaN</td>\n      <td>NaN</td>\n    </tr>\n    <tr>\n      <th>1059</th>\n      <td>South</td>\n      <td>Infant mortality rate</td>\n      <td>40.0</td>\n      <td>NaN</td>\n      <td>NaN</td>\n    </tr>\n    <tr>\n      <th>1060</th>\n      <td>West</td>\n      <td>Infant mortality rate</td>\n      <td>41.0</td>\n      <td>NaN</td>\n      <td>NaN</td>\n    </tr>\n    <tr>\n      <th>1061</th>\n      <td>North</td>\n      <td>Infant mortality rate</td>\n      <td>38.0</td>\n      <td>NaN</td>\n      <td>NaN</td>\n    </tr>\n    <tr>\n      <th>1062</th>\n      <td>East</td>\n      <td>Infant mortality rate</td>\n      <td>51.0</td>\n      <td>NaN</td>\n      <td>NaN</td>\n    </tr>\n  </tbody>\n</table>\n</div>"
     },
     "metadata": {},
     "execution_count": 41
    }
   ],
   "source": [
    "df_combined_1 = df_combined[df_combined['Indicator'].isin(indicators_1)][['Location','Indicator','Value','DenominatorWeighted','DenominatorUnweighted']]\n",
    "df_combined_1['Value'] = df_combined_1['Value'].apply(lambda x: float(x))\n",
    "df_combined_1.head()"
   ]
  },
  {
   "cell_type": "code",
   "execution_count": 44,
   "metadata": {},
   "outputs": [
    {
     "output_type": "execute_result",
     "data": {
      "text/plain": [
       "Indicator Location  Gender parity index for net primary school attendance  \\\n",
       "0             East                                               1.01       \n",
       "1           Kigali                                               1.00       \n",
       "2            North                                               1.03       \n",
       "3            South                                               1.00       \n",
       "4             West                                               1.02       \n",
       "\n",
       "Indicator  Gender parity index for net secondary school attendance  \\\n",
       "0                                                       1.01         \n",
       "1                                                       0.90         \n",
       "2                                                       1.37         \n",
       "3                                                       1.20         \n",
       "4                                                       1.33         \n",
       "\n",
       "Indicator  Households with electricity  Infant mortality rate  \\\n",
       "0                                 19.5                   51.0   \n",
       "1                                 70.7                   29.0   \n",
       "2                                 16.2                   38.0   \n",
       "3                                 10.8                   40.0   \n",
       "4                                 19.5                   41.0   \n",
       "\n",
       "Indicator  Malaria prevalence according to RDT  \\\n",
       "0                                         15.5   \n",
       "1                                          1.6   \n",
       "2                                          0.0   \n",
       "3                                         11.4   \n",
       "4                                          2.4   \n",
       "\n",
       "Indicator  Net primary school attendance rate: Female  \\\n",
       "0                                                92.6   \n",
       "1                                                91.9   \n",
       "2                                                94.2   \n",
       "3                                                90.7   \n",
       "4                                                92.8   \n",
       "\n",
       "Indicator  Net primary school attendance rate: Male  \\\n",
       "0                                              91.8   \n",
       "1                                              91.8   \n",
       "2                                              91.3   \n",
       "3                                              90.4   \n",
       "4                                              91.1   \n",
       "\n",
       "Indicator  Net primary school attendance rate: Total  \\\n",
       "0                                               92.2   \n",
       "1                                               91.8   \n",
       "2                                               92.7   \n",
       "3                                               90.6   \n",
       "4                                               92.0   \n",
       "\n",
       "Indicator  Under-five mortality rate  Women who are literate  \\\n",
       "0                               86.0                    76.3   \n",
       "1                               42.0                    92.1   \n",
       "2                               60.0                    79.9   \n",
       "3                               66.0                    79.9   \n",
       "4                               62.0                    77.9   \n",
       "\n",
       "Indicator  Women with secondary or higher education  \n",
       "0                                              18.0  \n",
       "1                                              43.2  \n",
       "2                                              21.8  \n",
       "3                                              20.4  \n",
       "4                                              21.7  "
      ],
      "text/html": "<div>\n<style scoped>\n    .dataframe tbody tr th:only-of-type {\n        vertical-align: middle;\n    }\n\n    .dataframe tbody tr th {\n        vertical-align: top;\n    }\n\n    .dataframe thead th {\n        text-align: right;\n    }\n</style>\n<table border=\"1\" class=\"dataframe\">\n  <thead>\n    <tr style=\"text-align: right;\">\n      <th>Indicator</th>\n      <th>Location</th>\n      <th>Gender parity index for net primary school attendance</th>\n      <th>Gender parity index for net secondary school attendance</th>\n      <th>Households with electricity</th>\n      <th>Infant mortality rate</th>\n      <th>Malaria prevalence according to RDT</th>\n      <th>Net primary school attendance rate: Female</th>\n      <th>Net primary school attendance rate: Male</th>\n      <th>Net primary school attendance rate: Total</th>\n      <th>Under-five mortality rate</th>\n      <th>Women who are literate</th>\n      <th>Women with secondary or higher education</th>\n    </tr>\n  </thead>\n  <tbody>\n    <tr>\n      <th>0</th>\n      <td>East</td>\n      <td>1.01</td>\n      <td>1.01</td>\n      <td>19.5</td>\n      <td>51.0</td>\n      <td>15.5</td>\n      <td>92.6</td>\n      <td>91.8</td>\n      <td>92.2</td>\n      <td>86.0</td>\n      <td>76.3</td>\n      <td>18.0</td>\n    </tr>\n    <tr>\n      <th>1</th>\n      <td>Kigali</td>\n      <td>1.00</td>\n      <td>0.90</td>\n      <td>70.7</td>\n      <td>29.0</td>\n      <td>1.6</td>\n      <td>91.9</td>\n      <td>91.8</td>\n      <td>91.8</td>\n      <td>42.0</td>\n      <td>92.1</td>\n      <td>43.2</td>\n    </tr>\n    <tr>\n      <th>2</th>\n      <td>North</td>\n      <td>1.03</td>\n      <td>1.37</td>\n      <td>16.2</td>\n      <td>38.0</td>\n      <td>0.0</td>\n      <td>94.2</td>\n      <td>91.3</td>\n      <td>92.7</td>\n      <td>60.0</td>\n      <td>79.9</td>\n      <td>21.8</td>\n    </tr>\n    <tr>\n      <th>3</th>\n      <td>South</td>\n      <td>1.00</td>\n      <td>1.20</td>\n      <td>10.8</td>\n      <td>40.0</td>\n      <td>11.4</td>\n      <td>90.7</td>\n      <td>90.4</td>\n      <td>90.6</td>\n      <td>66.0</td>\n      <td>79.9</td>\n      <td>20.4</td>\n    </tr>\n    <tr>\n      <th>4</th>\n      <td>West</td>\n      <td>1.02</td>\n      <td>1.33</td>\n      <td>19.5</td>\n      <td>41.0</td>\n      <td>2.4</td>\n      <td>92.8</td>\n      <td>91.1</td>\n      <td>92.0</td>\n      <td>62.0</td>\n      <td>77.9</td>\n      <td>21.7</td>\n    </tr>\n  </tbody>\n</table>\n</div>"
     },
     "metadata": {},
     "execution_count": 44
    }
   ],
   "source": [
    "df_combined_1_pivot = pd.pivot_table(df_combined_1,values='Value',index=['Location'],columns='Indicator').reset_index()\n",
    "df_combined_1_pivot"
   ]
  },
  {
   "cell_type": "code",
   "execution_count": 45,
   "metadata": {},
   "outputs": [],
   "source": [
    "df_combined_1_pivot.columns = ['Location', 'Gender_parity_index_for_net_primary_school_attendance',\n",
    "       'Gender_parity_index_for_net_secondary_school_attendance',\n",
    "       'Households with electricity', 'Infant mortality rate',\n",
    "       'Malaria_prevalence_according_to_RDT',\n",
    "       'Net_primary_school_attendance_rate_female',\n",
    "       'Net_primary_school_attendance_rate_male',\n",
    "       'Net_primary_school_attendance_rate_total',\n",
    "       'Under_five_mortality_rate', 'Women_who_are_literate',\n",
    "       'Women_with_secondary_or_higher_education']"
   ]
  },
  {
   "cell_type": "code",
   "execution_count": 46,
   "metadata": {},
   "outputs": [
    {
     "output_type": "execute_result",
     "data": {
      "text/plain": [
       "  Location  Gender_parity_index_for_net_primary_school_attendance  \\\n",
       "0     East                                               1.01       \n",
       "1   Kigali                                               1.00       \n",
       "2    North                                               1.03       \n",
       "3    South                                               1.00       \n",
       "4     West                                               1.02       \n",
       "\n",
       "   Gender_parity_index_for_net_secondary_school_attendance  \\\n",
       "0                                               1.01         \n",
       "1                                               0.90         \n",
       "2                                               1.37         \n",
       "3                                               1.20         \n",
       "4                                               1.33         \n",
       "\n",
       "   Households with electricity  Infant mortality rate  \\\n",
       "0                         19.5                   51.0   \n",
       "1                         70.7                   29.0   \n",
       "2                         16.2                   38.0   \n",
       "3                         10.8                   40.0   \n",
       "4                         19.5                   41.0   \n",
       "\n",
       "   Malaria_prevalence_according_to_RDT  \\\n",
       "0                                 15.5   \n",
       "1                                  1.6   \n",
       "2                                  0.0   \n",
       "3                                 11.4   \n",
       "4                                  2.4   \n",
       "\n",
       "   Net_primary_school_attendance_rate_female  \\\n",
       "0                                       92.6   \n",
       "1                                       91.9   \n",
       "2                                       94.2   \n",
       "3                                       90.7   \n",
       "4                                       92.8   \n",
       "\n",
       "   Net_primary_school_attendance_rate_male  \\\n",
       "0                                     91.8   \n",
       "1                                     91.8   \n",
       "2                                     91.3   \n",
       "3                                     90.4   \n",
       "4                                     91.1   \n",
       "\n",
       "   Net_primary_school_attendance_rate_total  Under_five_mortality_rate  \\\n",
       "0                                      92.2                       86.0   \n",
       "1                                      91.8                       42.0   \n",
       "2                                      92.7                       60.0   \n",
       "3                                      90.6                       66.0   \n",
       "4                                      92.0                       62.0   \n",
       "\n",
       "   Women_who_are_literate  Women_with_secondary_or_higher_education  \n",
       "0                    76.3                                      18.0  \n",
       "1                    92.1                                      43.2  \n",
       "2                    79.9                                      21.8  \n",
       "3                    79.9                                      20.4  \n",
       "4                    77.9                                      21.7  "
      ],
      "text/html": "<div>\n<style scoped>\n    .dataframe tbody tr th:only-of-type {\n        vertical-align: middle;\n    }\n\n    .dataframe tbody tr th {\n        vertical-align: top;\n    }\n\n    .dataframe thead th {\n        text-align: right;\n    }\n</style>\n<table border=\"1\" class=\"dataframe\">\n  <thead>\n    <tr style=\"text-align: right;\">\n      <th></th>\n      <th>Location</th>\n      <th>Gender_parity_index_for_net_primary_school_attendance</th>\n      <th>Gender_parity_index_for_net_secondary_school_attendance</th>\n      <th>Households with electricity</th>\n      <th>Infant mortality rate</th>\n      <th>Malaria_prevalence_according_to_RDT</th>\n      <th>Net_primary_school_attendance_rate_female</th>\n      <th>Net_primary_school_attendance_rate_male</th>\n      <th>Net_primary_school_attendance_rate_total</th>\n      <th>Under_five_mortality_rate</th>\n      <th>Women_who_are_literate</th>\n      <th>Women_with_secondary_or_higher_education</th>\n    </tr>\n  </thead>\n  <tbody>\n    <tr>\n      <th>0</th>\n      <td>East</td>\n      <td>1.01</td>\n      <td>1.01</td>\n      <td>19.5</td>\n      <td>51.0</td>\n      <td>15.5</td>\n      <td>92.6</td>\n      <td>91.8</td>\n      <td>92.2</td>\n      <td>86.0</td>\n      <td>76.3</td>\n      <td>18.0</td>\n    </tr>\n    <tr>\n      <th>1</th>\n      <td>Kigali</td>\n      <td>1.00</td>\n      <td>0.90</td>\n      <td>70.7</td>\n      <td>29.0</td>\n      <td>1.6</td>\n      <td>91.9</td>\n      <td>91.8</td>\n      <td>91.8</td>\n      <td>42.0</td>\n      <td>92.1</td>\n      <td>43.2</td>\n    </tr>\n    <tr>\n      <th>2</th>\n      <td>North</td>\n      <td>1.03</td>\n      <td>1.37</td>\n      <td>16.2</td>\n      <td>38.0</td>\n      <td>0.0</td>\n      <td>94.2</td>\n      <td>91.3</td>\n      <td>92.7</td>\n      <td>60.0</td>\n      <td>79.9</td>\n      <td>21.8</td>\n    </tr>\n    <tr>\n      <th>3</th>\n      <td>South</td>\n      <td>1.00</td>\n      <td>1.20</td>\n      <td>10.8</td>\n      <td>40.0</td>\n      <td>11.4</td>\n      <td>90.7</td>\n      <td>90.4</td>\n      <td>90.6</td>\n      <td>66.0</td>\n      <td>79.9</td>\n      <td>20.4</td>\n    </tr>\n    <tr>\n      <th>4</th>\n      <td>West</td>\n      <td>1.02</td>\n      <td>1.33</td>\n      <td>19.5</td>\n      <td>41.0</td>\n      <td>2.4</td>\n      <td>92.8</td>\n      <td>91.1</td>\n      <td>92.0</td>\n      <td>62.0</td>\n      <td>77.9</td>\n      <td>21.7</td>\n    </tr>\n  </tbody>\n</table>\n</div>"
     },
     "metadata": {},
     "execution_count": 46
    }
   ],
   "source": [
    "df_combined_1_pivot"
   ]
  },
  {
   "cell_type": "code",
   "execution_count": 47,
   "metadata": {},
   "outputs": [],
   "source": [
    "df_combined_1_pivot.to_csv('dhs_indicators_1_second_version.csv')"
   ]
  },
  {
   "cell_type": "code",
   "execution_count": null,
   "metadata": {},
   "outputs": [],
   "source": []
  }
 ],
 "metadata": {
  "language_info": {
   "codemirror_mode": {
    "name": "ipython",
    "version": 3
   },
   "file_extension": ".py",
   "mimetype": "text/x-python",
   "name": "python",
   "nbconvert_exporter": "python",
   "pygments_lexer": "ipython3",
   "version": "3.7.6-final"
  },
  "orig_nbformat": 2,
  "kernelspec": {
   "name": "python37664bitbaseconda062aaadf6fe649f9beb295b82a5e77a6",
   "display_name": "Python 3.7.6 64-bit ('base': conda)"
  }
 },
 "nbformat": 4,
 "nbformat_minor": 2
}