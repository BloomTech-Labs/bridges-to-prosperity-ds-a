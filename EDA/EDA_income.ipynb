{
 "metadata": {
  "language_info": {
   "codemirror_mode": {
    "name": "ipython",
    "version": 3
   },
   "file_extension": ".py",
   "mimetype": "text/x-python",
   "name": "python",
   "nbconvert_exporter": "python",
   "pygments_lexer": "ipython3",
   "version": "3.7.6-final"
  },
  "orig_nbformat": 2,
  "kernelspec": {
   "name": "python37664bitbaseconda062aaadf6fe649f9beb295b82a5e77a6",
   "display_name": "Python 3.7.6 64-bit ('base': conda)"
  }
 },
 "nbformat": 4,
 "nbformat_minor": 2,
 "cells": [
  {
   "cell_type": "code",
   "execution_count": 1,
   "metadata": {},
   "outputs": [],
   "source": [
    "import pandas as pd"
   ]
  },
  {
   "cell_type": "code",
   "execution_count": 2,
   "metadata": {},
   "outputs": [],
   "source": [
    "df_income = pd.read_csv('/Users/jasimrashid/Projects/DS-Unit-6-Labs/dbo-incomes.csv',encoding='latin-1')"
   ]
  },
  {
   "cell_type": "code",
   "execution_count": 3,
   "metadata": {},
   "outputs": [
    {
     "output_type": "execute_result",
     "data": {
      "text/plain": [
       "     ADM0_NAME ADM1_NAME ADM2_NAME              Income_Category  \\\n",
       "3244    Rwanda   #Butare     #Huye        Agro - Crop&Livestock   \n",
       "3245    Rwanda   #Butare     #Huye        Agro - Food&Cash Crop   \n",
       "3246    Rwanda   #Butare     #Huye   AgroCmrc - Trade/Wholesale   \n",
       "3247    Rwanda   #Butare     #Huye  Commerce - Business/Trading   \n",
       "3248    Rwanda   #Butare     #Huye       Commerce - Petty Trade   \n",
       "\n",
       "      Income_SubCategory  Income_Month  Income_Year  IncomeValue  \\\n",
       "3244                 0.0             4         2012     3.422908   \n",
       "3245                 0.0             4         2012    44.244612   \n",
       "3246                 0.0             4         2012     3.627016   \n",
       "3247                 0.0             4         2012     6.172614   \n",
       "3248                 0.0             4         2012     5.291680   \n",
       "\n",
       "     Indicator_Type                                  Income_DataSource  \n",
       "3244       Baseline  WFP VAM Comprehensive Food Security and Vulner...  \n",
       "3245       Baseline  WFP VAM Comprehensive Food Security and Vulner...  \n",
       "3246       Baseline  WFP VAM Comprehensive Food Security and Vulner...  \n",
       "3247       Baseline  WFP VAM Comprehensive Food Security and Vulner...  \n",
       "3248       Baseline  WFP VAM Comprehensive Food Security and Vulner...  "
      ],
      "text/html": "<div>\n<style scoped>\n    .dataframe tbody tr th:only-of-type {\n        vertical-align: middle;\n    }\n\n    .dataframe tbody tr th {\n        vertical-align: top;\n    }\n\n    .dataframe thead th {\n        text-align: right;\n    }\n</style>\n<table border=\"1\" class=\"dataframe\">\n  <thead>\n    <tr style=\"text-align: right;\">\n      <th></th>\n      <th>ADM0_NAME</th>\n      <th>ADM1_NAME</th>\n      <th>ADM2_NAME</th>\n      <th>Income_Category</th>\n      <th>Income_SubCategory</th>\n      <th>Income_Month</th>\n      <th>Income_Year</th>\n      <th>IncomeValue</th>\n      <th>Indicator_Type</th>\n      <th>Income_DataSource</th>\n    </tr>\n  </thead>\n  <tbody>\n    <tr>\n      <th>3244</th>\n      <td>Rwanda</td>\n      <td>#Butare</td>\n      <td>#Huye</td>\n      <td>Agro - Crop&amp;Livestock</td>\n      <td>0.0</td>\n      <td>4</td>\n      <td>2012</td>\n      <td>3.422908</td>\n      <td>Baseline</td>\n      <td>WFP VAM Comprehensive Food Security and Vulner...</td>\n    </tr>\n    <tr>\n      <th>3245</th>\n      <td>Rwanda</td>\n      <td>#Butare</td>\n      <td>#Huye</td>\n      <td>Agro - Food&amp;Cash Crop</td>\n      <td>0.0</td>\n      <td>4</td>\n      <td>2012</td>\n      <td>44.244612</td>\n      <td>Baseline</td>\n      <td>WFP VAM Comprehensive Food Security and Vulner...</td>\n    </tr>\n    <tr>\n      <th>3246</th>\n      <td>Rwanda</td>\n      <td>#Butare</td>\n      <td>#Huye</td>\n      <td>AgroCmrc - Trade/Wholesale</td>\n      <td>0.0</td>\n      <td>4</td>\n      <td>2012</td>\n      <td>3.627016</td>\n      <td>Baseline</td>\n      <td>WFP VAM Comprehensive Food Security and Vulner...</td>\n    </tr>\n    <tr>\n      <th>3247</th>\n      <td>Rwanda</td>\n      <td>#Butare</td>\n      <td>#Huye</td>\n      <td>Commerce - Business/Trading</td>\n      <td>0.0</td>\n      <td>4</td>\n      <td>2012</td>\n      <td>6.172614</td>\n      <td>Baseline</td>\n      <td>WFP VAM Comprehensive Food Security and Vulner...</td>\n    </tr>\n    <tr>\n      <th>3248</th>\n      <td>Rwanda</td>\n      <td>#Butare</td>\n      <td>#Huye</td>\n      <td>Commerce - Petty Trade</td>\n      <td>0.0</td>\n      <td>4</td>\n      <td>2012</td>\n      <td>5.291680</td>\n      <td>Baseline</td>\n      <td>WFP VAM Comprehensive Food Security and Vulner...</td>\n    </tr>\n  </tbody>\n</table>\n</div>"
     },
     "metadata": {},
     "execution_count": 3
    }
   ],
   "source": [
    "df_income = df_income[df_income['ADM0_NAME']=='Rwanda']\n",
    "df_income.head()"
   ]
  },
  {
   "cell_type": "code",
   "execution_count": 4,
   "metadata": {},
   "outputs": [
    {
     "output_type": "execute_result",
     "data": {
      "text/plain": [
       "(244, 10)"
      ]
     },
     "metadata": {},
     "execution_count": 4
    }
   ],
   "source": [
    "df_income.shape"
   ]
  },
  {
   "cell_type": "code",
   "execution_count": 5,
   "metadata": {},
   "outputs": [
    {
     "output_type": "execute_result",
     "data": {
      "text/plain": [
       "       ADM0_NAME         ADM1_NAME   ADM2_NAME              Income_Category  \\\n",
       "count        244               236         236                          244   \n",
       "unique         1                10          30                            8   \n",
       "top       Rwanda  $South/Amajyepfo  $Nyaruguru  Commerce - Business/Trading   \n",
       "freq         244                54           8                           31   \n",
       "mean         NaN               NaN         NaN                          NaN   \n",
       "std          NaN               NaN         NaN                          NaN   \n",
       "min          NaN               NaN         NaN                          NaN   \n",
       "25%          NaN               NaN         NaN                          NaN   \n",
       "50%          NaN               NaN         NaN                          NaN   \n",
       "75%          NaN               NaN         NaN                          NaN   \n",
       "max          NaN               NaN         NaN                          NaN   \n",
       "\n",
       "        Income_SubCategory  Income_Month  Income_Year  IncomeValue  \\\n",
       "count                244.0         244.0        244.0   244.000000   \n",
       "unique                 NaN           NaN          NaN          NaN   \n",
       "top                    NaN           NaN          NaN          NaN   \n",
       "freq                   NaN           NaN          NaN          NaN   \n",
       "mean                   0.0           4.0       2012.0    12.704918   \n",
       "std                    0.0           0.0          0.0    17.006829   \n",
       "min                    0.0           4.0       2012.0     0.277943   \n",
       "25%                    0.0           4.0       2012.0     1.858285   \n",
       "50%                    0.0           4.0       2012.0     4.415104   \n",
       "75%                    0.0           4.0       2012.0    16.160520   \n",
       "max                    0.0           4.0       2012.0    78.407600   \n",
       "\n",
       "       Indicator_Type                                  Income_DataSource  \n",
       "count             244                                                244  \n",
       "unique              1                                                  1  \n",
       "top          Baseline  WFP VAM Comprehensive Food Security and Vulner...  \n",
       "freq              244                                                244  \n",
       "mean              NaN                                                NaN  \n",
       "std               NaN                                                NaN  \n",
       "min               NaN                                                NaN  \n",
       "25%               NaN                                                NaN  \n",
       "50%               NaN                                                NaN  \n",
       "75%               NaN                                                NaN  \n",
       "max               NaN                                                NaN  "
      ],
      "text/html": "<div>\n<style scoped>\n    .dataframe tbody tr th:only-of-type {\n        vertical-align: middle;\n    }\n\n    .dataframe tbody tr th {\n        vertical-align: top;\n    }\n\n    .dataframe thead th {\n        text-align: right;\n    }\n</style>\n<table border=\"1\" class=\"dataframe\">\n  <thead>\n    <tr style=\"text-align: right;\">\n      <th></th>\n      <th>ADM0_NAME</th>\n      <th>ADM1_NAME</th>\n      <th>ADM2_NAME</th>\n      <th>Income_Category</th>\n      <th>Income_SubCategory</th>\n      <th>Income_Month</th>\n      <th>Income_Year</th>\n      <th>IncomeValue</th>\n      <th>Indicator_Type</th>\n      <th>Income_DataSource</th>\n    </tr>\n  </thead>\n  <tbody>\n    <tr>\n      <th>count</th>\n      <td>244</td>\n      <td>236</td>\n      <td>236</td>\n      <td>244</td>\n      <td>244.0</td>\n      <td>244.0</td>\n      <td>244.0</td>\n      <td>244.000000</td>\n      <td>244</td>\n      <td>244</td>\n    </tr>\n    <tr>\n      <th>unique</th>\n      <td>1</td>\n      <td>10</td>\n      <td>30</td>\n      <td>8</td>\n      <td>NaN</td>\n      <td>NaN</td>\n      <td>NaN</td>\n      <td>NaN</td>\n      <td>1</td>\n      <td>1</td>\n    </tr>\n    <tr>\n      <th>top</th>\n      <td>Rwanda</td>\n      <td>$South/Amajyepfo</td>\n      <td>$Nyaruguru</td>\n      <td>Commerce - Business/Trading</td>\n      <td>NaN</td>\n      <td>NaN</td>\n      <td>NaN</td>\n      <td>NaN</td>\n      <td>Baseline</td>\n      <td>WFP VAM Comprehensive Food Security and Vulner...</td>\n    </tr>\n    <tr>\n      <th>freq</th>\n      <td>244</td>\n      <td>54</td>\n      <td>8</td>\n      <td>31</td>\n      <td>NaN</td>\n      <td>NaN</td>\n      <td>NaN</td>\n      <td>NaN</td>\n      <td>244</td>\n      <td>244</td>\n    </tr>\n    <tr>\n      <th>mean</th>\n      <td>NaN</td>\n      <td>NaN</td>\n      <td>NaN</td>\n      <td>NaN</td>\n      <td>0.0</td>\n      <td>4.0</td>\n      <td>2012.0</td>\n      <td>12.704918</td>\n      <td>NaN</td>\n      <td>NaN</td>\n    </tr>\n    <tr>\n      <th>std</th>\n      <td>NaN</td>\n      <td>NaN</td>\n      <td>NaN</td>\n      <td>NaN</td>\n      <td>0.0</td>\n      <td>0.0</td>\n      <td>0.0</td>\n      <td>17.006829</td>\n      <td>NaN</td>\n      <td>NaN</td>\n    </tr>\n    <tr>\n      <th>min</th>\n      <td>NaN</td>\n      <td>NaN</td>\n      <td>NaN</td>\n      <td>NaN</td>\n      <td>0.0</td>\n      <td>4.0</td>\n      <td>2012.0</td>\n      <td>0.277943</td>\n      <td>NaN</td>\n      <td>NaN</td>\n    </tr>\n    <tr>\n      <th>25%</th>\n      <td>NaN</td>\n      <td>NaN</td>\n      <td>NaN</td>\n      <td>NaN</td>\n      <td>0.0</td>\n      <td>4.0</td>\n      <td>2012.0</td>\n      <td>1.858285</td>\n      <td>NaN</td>\n      <td>NaN</td>\n    </tr>\n    <tr>\n      <th>50%</th>\n      <td>NaN</td>\n      <td>NaN</td>\n      <td>NaN</td>\n      <td>NaN</td>\n      <td>0.0</td>\n      <td>4.0</td>\n      <td>2012.0</td>\n      <td>4.415104</td>\n      <td>NaN</td>\n      <td>NaN</td>\n    </tr>\n    <tr>\n      <th>75%</th>\n      <td>NaN</td>\n      <td>NaN</td>\n      <td>NaN</td>\n      <td>NaN</td>\n      <td>0.0</td>\n      <td>4.0</td>\n      <td>2012.0</td>\n      <td>16.160520</td>\n      <td>NaN</td>\n      <td>NaN</td>\n    </tr>\n    <tr>\n      <th>max</th>\n      <td>NaN</td>\n      <td>NaN</td>\n      <td>NaN</td>\n      <td>NaN</td>\n      <td>0.0</td>\n      <td>4.0</td>\n      <td>2012.0</td>\n      <td>78.407600</td>\n      <td>NaN</td>\n      <td>NaN</td>\n    </tr>\n  </tbody>\n</table>\n</div>"
     },
     "metadata": {},
     "execution_count": 5
    }
   ],
   "source": [
    "df_income.describe(include='all')"
   ]
  },
  {
   "cell_type": "code",
   "execution_count": 6,
   "metadata": {},
   "outputs": [
    {
     "output_type": "execute_result",
     "data": {
      "text/plain": [
       "Index(['ADM0_NAME', 'ADM1_NAME', 'ADM2_NAME', 'Income_Category',\n",
       "       'Income_SubCategory', 'Income_Month', 'Income_Year', 'IncomeValue',\n",
       "       'Indicator_Type', 'Income_DataSource'],\n",
       "      dtype='object')"
      ]
     },
     "metadata": {},
     "execution_count": 6
    }
   ],
   "source": [
    "df_income.columns"
   ]
  },
  {
   "cell_type": "code",
   "execution_count": 7,
   "metadata": {},
   "outputs": [
    {
     "output_type": "execute_result",
     "data": {
      "text/plain": [
       "     ADM1_NAME ADM2_NAME                 Income_Category  IncomeValue\n",
       "3244   #Butare     #Huye           Agro - Crop&Livestock     3.422908\n",
       "3245   #Butare     #Huye           Agro - Food&Cash Crop    44.244612\n",
       "3246   #Butare     #Huye      AgroCmrc - Trade/Wholesale     3.627016\n",
       "3247   #Butare     #Huye     Commerce - Business/Trading     6.172614\n",
       "3248   #Butare     #Huye          Commerce - Petty Trade     5.291680\n",
       "...        ...       ...                             ...          ...\n",
       "3483       NaN       NaN     Commerce - Business/Trading     4.303592\n",
       "3484       NaN       NaN          Commerce - Petty Trade     3.182013\n",
       "3485       NaN       NaN         Labor - Artisan/Skilled     1.977404\n",
       "3486       NaN       NaN  Labor - Daily/Unskilled - Agro    21.757589\n",
       "3487       NaN       NaN                           Other     3.965522\n",
       "\n",
       "[244 rows x 4 columns]"
      ],
      "text/html": "<div>\n<style scoped>\n    .dataframe tbody tr th:only-of-type {\n        vertical-align: middle;\n    }\n\n    .dataframe tbody tr th {\n        vertical-align: top;\n    }\n\n    .dataframe thead th {\n        text-align: right;\n    }\n</style>\n<table border=\"1\" class=\"dataframe\">\n  <thead>\n    <tr style=\"text-align: right;\">\n      <th></th>\n      <th>ADM1_NAME</th>\n      <th>ADM2_NAME</th>\n      <th>Income_Category</th>\n      <th>IncomeValue</th>\n    </tr>\n  </thead>\n  <tbody>\n    <tr>\n      <th>3244</th>\n      <td>#Butare</td>\n      <td>#Huye</td>\n      <td>Agro - Crop&amp;Livestock</td>\n      <td>3.422908</td>\n    </tr>\n    <tr>\n      <th>3245</th>\n      <td>#Butare</td>\n      <td>#Huye</td>\n      <td>Agro - Food&amp;Cash Crop</td>\n      <td>44.244612</td>\n    </tr>\n    <tr>\n      <th>3246</th>\n      <td>#Butare</td>\n      <td>#Huye</td>\n      <td>AgroCmrc - Trade/Wholesale</td>\n      <td>3.627016</td>\n    </tr>\n    <tr>\n      <th>3247</th>\n      <td>#Butare</td>\n      <td>#Huye</td>\n      <td>Commerce - Business/Trading</td>\n      <td>6.172614</td>\n    </tr>\n    <tr>\n      <th>3248</th>\n      <td>#Butare</td>\n      <td>#Huye</td>\n      <td>Commerce - Petty Trade</td>\n      <td>5.291680</td>\n    </tr>\n    <tr>\n      <th>...</th>\n      <td>...</td>\n      <td>...</td>\n      <td>...</td>\n      <td>...</td>\n    </tr>\n    <tr>\n      <th>3483</th>\n      <td>NaN</td>\n      <td>NaN</td>\n      <td>Commerce - Business/Trading</td>\n      <td>4.303592</td>\n    </tr>\n    <tr>\n      <th>3484</th>\n      <td>NaN</td>\n      <td>NaN</td>\n      <td>Commerce - Petty Trade</td>\n      <td>3.182013</td>\n    </tr>\n    <tr>\n      <th>3485</th>\n      <td>NaN</td>\n      <td>NaN</td>\n      <td>Labor - Artisan/Skilled</td>\n      <td>1.977404</td>\n    </tr>\n    <tr>\n      <th>3486</th>\n      <td>NaN</td>\n      <td>NaN</td>\n      <td>Labor - Daily/Unskilled - Agro</td>\n      <td>21.757589</td>\n    </tr>\n    <tr>\n      <th>3487</th>\n      <td>NaN</td>\n      <td>NaN</td>\n      <td>Other</td>\n      <td>3.965522</td>\n    </tr>\n  </tbody>\n</table>\n<p>244 rows × 4 columns</p>\n</div>"
     },
     "metadata": {},
     "execution_count": 7
    }
   ],
   "source": [
    "df_income = df_income.drop(columns=['ADM0_NAME','Income_SubCategory','Income_Month','Income_Year','Indicator_Type','Income_DataSource'])\n",
    "df_income"
   ]
  },
  {
   "cell_type": "code",
   "execution_count": 8,
   "metadata": {},
   "outputs": [
    {
     "output_type": "stream",
     "name": "stdout",
     "text": [
      "<class 'pandas.core.frame.DataFrame'>\nInt64Index: 244 entries, 3244 to 3487\nData columns (total 4 columns):\n #   Column           Non-Null Count  Dtype  \n---  ------           --------------  -----  \n 0   ADM1_NAME        236 non-null    object \n 1   ADM2_NAME        236 non-null    object \n 2   Income_Category  244 non-null    object \n 3   IncomeValue      244 non-null    float64\ndtypes: float64(1), object(3)\nmemory usage: 9.5+ KB\n"
     ]
    }
   ],
   "source": [
    "df_income.info()"
   ]
  },
  {
   "cell_type": "code",
   "execution_count": 9,
   "metadata": {},
   "outputs": [
    {
     "output_type": "execute_result",
     "data": {
      "text/plain": [
       "array(['#Butare', '#Gisenyi', '#Kibungo', '#Kibuye', '#Umutara',\n",
       "       '$East/Iburasirazuba', '$North/Amajyaruguru', '$South/Amajyepfo',\n",
       "       '$West/Iburengerazuba', 'Kigali City/Umujyi wa Kigali', nan],\n",
       "      dtype=object)"
      ]
     },
     "metadata": {},
     "execution_count": 9
    }
   ],
   "source": [
    "df_income.ADM1_NAME.unique()"
   ]
  },
  {
   "cell_type": "code",
   "execution_count": 10,
   "metadata": {},
   "outputs": [
    {
     "output_type": "execute_result",
     "data": {
      "text/plain": [
       "array(['Agro - Crop&Livestock', 'Agro - Food&Cash Crop',\n",
       "       'AgroCmrc - Trade/Wholesale', 'Commerce - Business/Trading',\n",
       "       'Commerce - Petty Trade', 'Labor - Artisan/Skilled',\n",
       "       'Labor - Daily/Unskilled - Agro', 'Other'], dtype=object)"
      ]
     },
     "metadata": {},
     "execution_count": 10
    }
   ],
   "source": [
    "df_income.Income_Category.unique()"
   ]
  },
  {
   "cell_type": "code",
   "execution_count": 13,
   "metadata": {},
   "outputs": [],
   "source": [
    "# df_income.Income_SubCategory.unique()"
   ]
  },
  {
   "cell_type": "code",
   "execution_count": 14,
   "metadata": {},
   "outputs": [],
   "source": [
    "# df_income.Income_DataSource.unique()"
   ]
  },
  {
   "cell_type": "code",
   "execution_count": 15,
   "metadata": {},
   "outputs": [
    {
     "output_type": "execute_result",
     "data": {
      "text/plain": [
       "     ADM1_NAME ADM2_NAME                 Income_Category  IncomeValue\n",
       "3244   #Butare     #Huye           Agro - Crop&Livestock     3.422908\n",
       "3245   #Butare     #Huye           Agro - Food&Cash Crop    44.244612\n",
       "3246   #Butare     #Huye      AgroCmrc - Trade/Wholesale     3.627016\n",
       "3247   #Butare     #Huye     Commerce - Business/Trading     6.172614\n",
       "3248   #Butare     #Huye          Commerce - Petty Trade     5.291680\n",
       "...        ...       ...                             ...          ...\n",
       "3483       NaN       NaN     Commerce - Business/Trading     4.303592\n",
       "3484       NaN       NaN          Commerce - Petty Trade     3.182013\n",
       "3485       NaN       NaN         Labor - Artisan/Skilled     1.977404\n",
       "3486       NaN       NaN  Labor - Daily/Unskilled - Agro    21.757589\n",
       "3487       NaN       NaN                           Other     3.965522\n",
       "\n",
       "[244 rows x 4 columns]"
      ],
      "text/html": "<div>\n<style scoped>\n    .dataframe tbody tr th:only-of-type {\n        vertical-align: middle;\n    }\n\n    .dataframe tbody tr th {\n        vertical-align: top;\n    }\n\n    .dataframe thead th {\n        text-align: right;\n    }\n</style>\n<table border=\"1\" class=\"dataframe\">\n  <thead>\n    <tr style=\"text-align: right;\">\n      <th></th>\n      <th>ADM1_NAME</th>\n      <th>ADM2_NAME</th>\n      <th>Income_Category</th>\n      <th>IncomeValue</th>\n    </tr>\n  </thead>\n  <tbody>\n    <tr>\n      <th>3244</th>\n      <td>#Butare</td>\n      <td>#Huye</td>\n      <td>Agro - Crop&amp;Livestock</td>\n      <td>3.422908</td>\n    </tr>\n    <tr>\n      <th>3245</th>\n      <td>#Butare</td>\n      <td>#Huye</td>\n      <td>Agro - Food&amp;Cash Crop</td>\n      <td>44.244612</td>\n    </tr>\n    <tr>\n      <th>3246</th>\n      <td>#Butare</td>\n      <td>#Huye</td>\n      <td>AgroCmrc - Trade/Wholesale</td>\n      <td>3.627016</td>\n    </tr>\n    <tr>\n      <th>3247</th>\n      <td>#Butare</td>\n      <td>#Huye</td>\n      <td>Commerce - Business/Trading</td>\n      <td>6.172614</td>\n    </tr>\n    <tr>\n      <th>3248</th>\n      <td>#Butare</td>\n      <td>#Huye</td>\n      <td>Commerce - Petty Trade</td>\n      <td>5.291680</td>\n    </tr>\n    <tr>\n      <th>...</th>\n      <td>...</td>\n      <td>...</td>\n      <td>...</td>\n      <td>...</td>\n    </tr>\n    <tr>\n      <th>3483</th>\n      <td>NaN</td>\n      <td>NaN</td>\n      <td>Commerce - Business/Trading</td>\n      <td>4.303592</td>\n    </tr>\n    <tr>\n      <th>3484</th>\n      <td>NaN</td>\n      <td>NaN</td>\n      <td>Commerce - Petty Trade</td>\n      <td>3.182013</td>\n    </tr>\n    <tr>\n      <th>3485</th>\n      <td>NaN</td>\n      <td>NaN</td>\n      <td>Labor - Artisan/Skilled</td>\n      <td>1.977404</td>\n    </tr>\n    <tr>\n      <th>3486</th>\n      <td>NaN</td>\n      <td>NaN</td>\n      <td>Labor - Daily/Unskilled - Agro</td>\n      <td>21.757589</td>\n    </tr>\n    <tr>\n      <th>3487</th>\n      <td>NaN</td>\n      <td>NaN</td>\n      <td>Other</td>\n      <td>3.965522</td>\n    </tr>\n  </tbody>\n</table>\n<p>244 rows × 4 columns</p>\n</div>"
     },
     "metadata": {},
     "execution_count": 15
    }
   ],
   "source": [
    "df_income"
   ]
  },
  {
   "cell_type": "code",
   "execution_count": 16,
   "metadata": {},
   "outputs": [
    {
     "output_type": "execute_result",
     "data": {
      "text/plain": [
       "Income_Category    ADM2_NAME  Agro - Crop&Livestock  Agro - Food&Cash Crop  \\\n",
       "0                      #Huye               3.422908              44.244612   \n",
       "1                   #Kayonza               4.672437              50.542219   \n",
       "2                 #Nyagatare              18.330118              26.289695   \n",
       "3                    #Rubavu               5.559486              22.548419   \n",
       "4                   #Rutsiro              13.870090              44.533178   \n",
       "5                  $Bugesera               9.246055              70.965856   \n",
       "6                    $Burera              15.180629              66.311067   \n",
       "7                   $Gakenke              19.093477              59.855715   \n",
       "8                    $Gasabo               7.471643              15.159722   \n",
       "9                   $Gatsibo               9.974678              65.925489   \n",
       "10                  $Gicumbi              22.501474              46.871493   \n",
       "11                 $Gisagara               6.981939              51.040670   \n",
       "12                  $Kamonyi              14.528755              48.020059   \n",
       "13                  $Karongi              29.617743              46.615226   \n",
       "14                   $Kirehe              28.872728              55.133631   \n",
       "15                  $Muhanga               7.317987              78.407600   \n",
       "16                  $Musanze              11.765617              31.760800   \n",
       "17                    $Ngoma               8.259953              64.311559   \n",
       "18                $Ngororero               3.507234              68.391859   \n",
       "19                  $Nyabihu               1.007911              32.150263   \n",
       "20                $Nyamagabe              13.766597              49.230771   \n",
       "21               $Nyamasheke              38.593026              34.160227   \n",
       "22                   $Nyanza               5.875105              67.976362   \n",
       "23                $Nyaruguru              14.615647              59.534472   \n",
       "24                  $Ruhango              23.036100              52.747524   \n",
       "25                  $Rulindo              16.651847              35.028587   \n",
       "26                   $Rusizi               8.716393              66.023214   \n",
       "27                $Rwamagana              19.287699              42.965480   \n",
       "28                  Kicukiro               0.893302               5.718570   \n",
       "29                Nyarugenge               0.455348              15.325222   \n",
       "\n",
       "Income_Category  AgroCmrc - Trade/Wholesale  Commerce - Business/Trading  \\\n",
       "0                                  3.627016                     6.172614   \n",
       "1                                  5.692345                     1.190252   \n",
       "2                                 19.712840                     2.480297   \n",
       "3                                 13.573917                     4.623371   \n",
       "4                                  2.752274                     0.388700   \n",
       "5                                  0.788217                     1.907635   \n",
       "6                                  3.984246                     0.401235   \n",
       "7                                  2.002994                     1.709742   \n",
       "8                                  1.115969                    18.803093   \n",
       "9                                  1.299100                     1.091147   \n",
       "10                                 1.978271                     4.101503   \n",
       "11                                 2.095012                     0.792274   \n",
       "12                                 6.001212                     1.982491   \n",
       "13                                 2.288559                     1.562365   \n",
       "14                                 3.320417                     1.264830   \n",
       "15                                 1.629715                     0.403797   \n",
       "16                                 3.244478                     6.749546   \n",
       "17                                 1.302461                     2.971028   \n",
       "18                                 1.565257                     1.278439   \n",
       "19                                10.046850                     2.543886   \n",
       "20                                 4.215963                     1.920617   \n",
       "21                                 1.681093                     1.831012   \n",
       "22                                 3.135916                     0.570092   \n",
       "23                                 3.258639                     1.226681   \n",
       "24                                 4.075744                     3.838113   \n",
       "25                                 0.615781                     2.641860   \n",
       "26                                 3.637643                     1.731830   \n",
       "27                                 4.154076                     3.728315   \n",
       "28                                 4.976356                    35.917290   \n",
       "29                                 4.528377                    18.330348   \n",
       "\n",
       "Income_Category  Commerce - Petty Trade  Labor - Artisan/Skilled  \\\n",
       "0                              5.291680                 4.064223   \n",
       "1                              3.229973                 1.996367   \n",
       "2                              2.759680                 1.138148   \n",
       "3                              5.332477                 5.042172   \n",
       "4                              2.106053                 2.345845   \n",
       "5                                   NaN                 0.692850   \n",
       "6                              0.868040                 1.270421   \n",
       "7                              0.398441                 1.705897   \n",
       "8                              7.638769                 1.814693   \n",
       "9                              1.037016                 2.620292   \n",
       "10                             2.369818                      NaN   \n",
       "11                             1.219079                      NaN   \n",
       "12                             1.861244                 0.314027   \n",
       "13                             1.964331                 0.784986   \n",
       "14                             0.779173                 2.044424   \n",
       "15                             0.445656                 0.427466   \n",
       "16                             5.547789                 1.342201   \n",
       "17                             4.820994                 1.496522   \n",
       "18                             1.218128                 0.451858   \n",
       "19                             4.776823                 1.639272   \n",
       "20                             0.797910                 6.172747   \n",
       "21                             1.203293                 2.024545   \n",
       "22                             1.390911                 1.777566   \n",
       "23                             0.881848                 2.525330   \n",
       "24                                  NaN                 0.806547   \n",
       "25                             3.079436                 1.624357   \n",
       "26                             3.754816                 1.315136   \n",
       "27                             5.408280                 0.653241   \n",
       "28                            10.316451                 4.828594   \n",
       "29                            20.759084                12.159040   \n",
       "\n",
       "Income_Category  Labor - Daily/Unskilled - Agro      Other  \n",
       "0                                     31.036493   2.140454  \n",
       "1                                     23.586532   9.089875  \n",
       "2                                     27.338872   1.950351  \n",
       "3                                     38.793541   4.526616  \n",
       "4                                     32.841147   1.162714  \n",
       "5                                     13.088132   3.311254  \n",
       "6                                      9.648382   2.335979  \n",
       "7                                     12.121886   3.111848  \n",
       "8                                     37.457538  10.538573  \n",
       "9                                     16.202872   1.849407  \n",
       "10                                    20.538930   1.638511  \n",
       "11                                    36.150250   1.720775  \n",
       "12                                    24.993285   2.298926  \n",
       "13                                    13.752003   3.414786  \n",
       "14                                     5.883126   2.701671  \n",
       "15                                     7.847130   3.520649  \n",
       "16                                    32.732041   6.857529  \n",
       "17                                    14.870143   1.967341  \n",
       "18                                    22.149859   1.437365  \n",
       "19                                    44.900651   2.934344  \n",
       "20                                    21.884104   2.011291  \n",
       "21                                    20.228862   0.277943  \n",
       "22                                    16.146403   3.127646  \n",
       "23                                    10.673226   7.284157  \n",
       "24                                    15.144472   0.351500  \n",
       "25                                    32.271570   8.086562  \n",
       "26                                    12.790276   2.030692  \n",
       "27                                    22.048578   1.754331  \n",
       "28                                    22.518460  14.830978  \n",
       "29                                    12.860004  15.582577  "
      ],
      "text/html": "<div>\n<style scoped>\n    .dataframe tbody tr th:only-of-type {\n        vertical-align: middle;\n    }\n\n    .dataframe tbody tr th {\n        vertical-align: top;\n    }\n\n    .dataframe thead th {\n        text-align: right;\n    }\n</style>\n<table border=\"1\" class=\"dataframe\">\n  <thead>\n    <tr style=\"text-align: right;\">\n      <th>Income_Category</th>\n      <th>ADM2_NAME</th>\n      <th>Agro - Crop&amp;Livestock</th>\n      <th>Agro - Food&amp;Cash Crop</th>\n      <th>AgroCmrc - Trade/Wholesale</th>\n      <th>Commerce - Business/Trading</th>\n      <th>Commerce - Petty Trade</th>\n      <th>Labor - Artisan/Skilled</th>\n      <th>Labor - Daily/Unskilled - Agro</th>\n      <th>Other</th>\n    </tr>\n  </thead>\n  <tbody>\n    <tr>\n      <th>0</th>\n      <td>#Huye</td>\n      <td>3.422908</td>\n      <td>44.244612</td>\n      <td>3.627016</td>\n      <td>6.172614</td>\n      <td>5.291680</td>\n      <td>4.064223</td>\n      <td>31.036493</td>\n      <td>2.140454</td>\n    </tr>\n    <tr>\n      <th>1</th>\n      <td>#Kayonza</td>\n      <td>4.672437</td>\n      <td>50.542219</td>\n      <td>5.692345</td>\n      <td>1.190252</td>\n      <td>3.229973</td>\n      <td>1.996367</td>\n      <td>23.586532</td>\n      <td>9.089875</td>\n    </tr>\n    <tr>\n      <th>2</th>\n      <td>#Nyagatare</td>\n      <td>18.330118</td>\n      <td>26.289695</td>\n      <td>19.712840</td>\n      <td>2.480297</td>\n      <td>2.759680</td>\n      <td>1.138148</td>\n      <td>27.338872</td>\n      <td>1.950351</td>\n    </tr>\n    <tr>\n      <th>3</th>\n      <td>#Rubavu</td>\n      <td>5.559486</td>\n      <td>22.548419</td>\n      <td>13.573917</td>\n      <td>4.623371</td>\n      <td>5.332477</td>\n      <td>5.042172</td>\n      <td>38.793541</td>\n      <td>4.526616</td>\n    </tr>\n    <tr>\n      <th>4</th>\n      <td>#Rutsiro</td>\n      <td>13.870090</td>\n      <td>44.533178</td>\n      <td>2.752274</td>\n      <td>0.388700</td>\n      <td>2.106053</td>\n      <td>2.345845</td>\n      <td>32.841147</td>\n      <td>1.162714</td>\n    </tr>\n    <tr>\n      <th>5</th>\n      <td>$Bugesera</td>\n      <td>9.246055</td>\n      <td>70.965856</td>\n      <td>0.788217</td>\n      <td>1.907635</td>\n      <td>NaN</td>\n      <td>0.692850</td>\n      <td>13.088132</td>\n      <td>3.311254</td>\n    </tr>\n    <tr>\n      <th>6</th>\n      <td>$Burera</td>\n      <td>15.180629</td>\n      <td>66.311067</td>\n      <td>3.984246</td>\n      <td>0.401235</td>\n      <td>0.868040</td>\n      <td>1.270421</td>\n      <td>9.648382</td>\n      <td>2.335979</td>\n    </tr>\n    <tr>\n      <th>7</th>\n      <td>$Gakenke</td>\n      <td>19.093477</td>\n      <td>59.855715</td>\n      <td>2.002994</td>\n      <td>1.709742</td>\n      <td>0.398441</td>\n      <td>1.705897</td>\n      <td>12.121886</td>\n      <td>3.111848</td>\n    </tr>\n    <tr>\n      <th>8</th>\n      <td>$Gasabo</td>\n      <td>7.471643</td>\n      <td>15.159722</td>\n      <td>1.115969</td>\n      <td>18.803093</td>\n      <td>7.638769</td>\n      <td>1.814693</td>\n      <td>37.457538</td>\n      <td>10.538573</td>\n    </tr>\n    <tr>\n      <th>9</th>\n      <td>$Gatsibo</td>\n      <td>9.974678</td>\n      <td>65.925489</td>\n      <td>1.299100</td>\n      <td>1.091147</td>\n      <td>1.037016</td>\n      <td>2.620292</td>\n      <td>16.202872</td>\n      <td>1.849407</td>\n    </tr>\n    <tr>\n      <th>10</th>\n      <td>$Gicumbi</td>\n      <td>22.501474</td>\n      <td>46.871493</td>\n      <td>1.978271</td>\n      <td>4.101503</td>\n      <td>2.369818</td>\n      <td>NaN</td>\n      <td>20.538930</td>\n      <td>1.638511</td>\n    </tr>\n    <tr>\n      <th>11</th>\n      <td>$Gisagara</td>\n      <td>6.981939</td>\n      <td>51.040670</td>\n      <td>2.095012</td>\n      <td>0.792274</td>\n      <td>1.219079</td>\n      <td>NaN</td>\n      <td>36.150250</td>\n      <td>1.720775</td>\n    </tr>\n    <tr>\n      <th>12</th>\n      <td>$Kamonyi</td>\n      <td>14.528755</td>\n      <td>48.020059</td>\n      <td>6.001212</td>\n      <td>1.982491</td>\n      <td>1.861244</td>\n      <td>0.314027</td>\n      <td>24.993285</td>\n      <td>2.298926</td>\n    </tr>\n    <tr>\n      <th>13</th>\n      <td>$Karongi</td>\n      <td>29.617743</td>\n      <td>46.615226</td>\n      <td>2.288559</td>\n      <td>1.562365</td>\n      <td>1.964331</td>\n      <td>0.784986</td>\n      <td>13.752003</td>\n      <td>3.414786</td>\n    </tr>\n    <tr>\n      <th>14</th>\n      <td>$Kirehe</td>\n      <td>28.872728</td>\n      <td>55.133631</td>\n      <td>3.320417</td>\n      <td>1.264830</td>\n      <td>0.779173</td>\n      <td>2.044424</td>\n      <td>5.883126</td>\n      <td>2.701671</td>\n    </tr>\n    <tr>\n      <th>15</th>\n      <td>$Muhanga</td>\n      <td>7.317987</td>\n      <td>78.407600</td>\n      <td>1.629715</td>\n      <td>0.403797</td>\n      <td>0.445656</td>\n      <td>0.427466</td>\n      <td>7.847130</td>\n      <td>3.520649</td>\n    </tr>\n    <tr>\n      <th>16</th>\n      <td>$Musanze</td>\n      <td>11.765617</td>\n      <td>31.760800</td>\n      <td>3.244478</td>\n      <td>6.749546</td>\n      <td>5.547789</td>\n      <td>1.342201</td>\n      <td>32.732041</td>\n      <td>6.857529</td>\n    </tr>\n    <tr>\n      <th>17</th>\n      <td>$Ngoma</td>\n      <td>8.259953</td>\n      <td>64.311559</td>\n      <td>1.302461</td>\n      <td>2.971028</td>\n      <td>4.820994</td>\n      <td>1.496522</td>\n      <td>14.870143</td>\n      <td>1.967341</td>\n    </tr>\n    <tr>\n      <th>18</th>\n      <td>$Ngororero</td>\n      <td>3.507234</td>\n      <td>68.391859</td>\n      <td>1.565257</td>\n      <td>1.278439</td>\n      <td>1.218128</td>\n      <td>0.451858</td>\n      <td>22.149859</td>\n      <td>1.437365</td>\n    </tr>\n    <tr>\n      <th>19</th>\n      <td>$Nyabihu</td>\n      <td>1.007911</td>\n      <td>32.150263</td>\n      <td>10.046850</td>\n      <td>2.543886</td>\n      <td>4.776823</td>\n      <td>1.639272</td>\n      <td>44.900651</td>\n      <td>2.934344</td>\n    </tr>\n    <tr>\n      <th>20</th>\n      <td>$Nyamagabe</td>\n      <td>13.766597</td>\n      <td>49.230771</td>\n      <td>4.215963</td>\n      <td>1.920617</td>\n      <td>0.797910</td>\n      <td>6.172747</td>\n      <td>21.884104</td>\n      <td>2.011291</td>\n    </tr>\n    <tr>\n      <th>21</th>\n      <td>$Nyamasheke</td>\n      <td>38.593026</td>\n      <td>34.160227</td>\n      <td>1.681093</td>\n      <td>1.831012</td>\n      <td>1.203293</td>\n      <td>2.024545</td>\n      <td>20.228862</td>\n      <td>0.277943</td>\n    </tr>\n    <tr>\n      <th>22</th>\n      <td>$Nyanza</td>\n      <td>5.875105</td>\n      <td>67.976362</td>\n      <td>3.135916</td>\n      <td>0.570092</td>\n      <td>1.390911</td>\n      <td>1.777566</td>\n      <td>16.146403</td>\n      <td>3.127646</td>\n    </tr>\n    <tr>\n      <th>23</th>\n      <td>$Nyaruguru</td>\n      <td>14.615647</td>\n      <td>59.534472</td>\n      <td>3.258639</td>\n      <td>1.226681</td>\n      <td>0.881848</td>\n      <td>2.525330</td>\n      <td>10.673226</td>\n      <td>7.284157</td>\n    </tr>\n    <tr>\n      <th>24</th>\n      <td>$Ruhango</td>\n      <td>23.036100</td>\n      <td>52.747524</td>\n      <td>4.075744</td>\n      <td>3.838113</td>\n      <td>NaN</td>\n      <td>0.806547</td>\n      <td>15.144472</td>\n      <td>0.351500</td>\n    </tr>\n    <tr>\n      <th>25</th>\n      <td>$Rulindo</td>\n      <td>16.651847</td>\n      <td>35.028587</td>\n      <td>0.615781</td>\n      <td>2.641860</td>\n      <td>3.079436</td>\n      <td>1.624357</td>\n      <td>32.271570</td>\n      <td>8.086562</td>\n    </tr>\n    <tr>\n      <th>26</th>\n      <td>$Rusizi</td>\n      <td>8.716393</td>\n      <td>66.023214</td>\n      <td>3.637643</td>\n      <td>1.731830</td>\n      <td>3.754816</td>\n      <td>1.315136</td>\n      <td>12.790276</td>\n      <td>2.030692</td>\n    </tr>\n    <tr>\n      <th>27</th>\n      <td>$Rwamagana</td>\n      <td>19.287699</td>\n      <td>42.965480</td>\n      <td>4.154076</td>\n      <td>3.728315</td>\n      <td>5.408280</td>\n      <td>0.653241</td>\n      <td>22.048578</td>\n      <td>1.754331</td>\n    </tr>\n    <tr>\n      <th>28</th>\n      <td>Kicukiro</td>\n      <td>0.893302</td>\n      <td>5.718570</td>\n      <td>4.976356</td>\n      <td>35.917290</td>\n      <td>10.316451</td>\n      <td>4.828594</td>\n      <td>22.518460</td>\n      <td>14.830978</td>\n    </tr>\n    <tr>\n      <th>29</th>\n      <td>Nyarugenge</td>\n      <td>0.455348</td>\n      <td>15.325222</td>\n      <td>4.528377</td>\n      <td>18.330348</td>\n      <td>20.759084</td>\n      <td>12.159040</td>\n      <td>12.860004</td>\n      <td>15.582577</td>\n    </tr>\n  </tbody>\n</table>\n</div>"
     },
     "metadata": {},
     "execution_count": 16
    }
   ],
   "source": [
    "df_income_pivot_1 = pd.pivot_table(df_income,values='IncomeValue',index=['ADM2_NAME'],columns='Income_Category').reset_index()\n",
    "df_income_pivot_1"
   ]
  },
  {
   "cell_type": "code",
   "execution_count": 22,
   "metadata": {},
   "outputs": [
    {
     "output_type": "execute_result",
     "data": {
      "text/plain": [
       "Income_Category                     ADM1_NAME    ADM2_NAME  \\\n",
       "0                                     #Butare        #Huye   \n",
       "1                                    #Gisenyi      #Rubavu   \n",
       "2                                    #Kibungo     #Kayonza   \n",
       "3                                     #Kibuye     #Rutsiro   \n",
       "4                                    #Umutara   #Nyagatare   \n",
       "5                         $East/Iburasirazuba    $Bugesera   \n",
       "6                         $East/Iburasirazuba     $Gatsibo   \n",
       "7                         $East/Iburasirazuba      $Kirehe   \n",
       "8                         $East/Iburasirazuba       $Ngoma   \n",
       "9                         $East/Iburasirazuba   $Rwamagana   \n",
       "10                        $North/Amajyaruguru      $Burera   \n",
       "11                        $North/Amajyaruguru     $Gakenke   \n",
       "12                        $North/Amajyaruguru     $Gicumbi   \n",
       "13                        $North/Amajyaruguru     $Musanze   \n",
       "14                        $North/Amajyaruguru     $Rulindo   \n",
       "15                           $South/Amajyepfo    $Gisagara   \n",
       "16                           $South/Amajyepfo     $Kamonyi   \n",
       "17                           $South/Amajyepfo     $Muhanga   \n",
       "18                           $South/Amajyepfo   $Nyamagabe   \n",
       "19                           $South/Amajyepfo      $Nyanza   \n",
       "20                           $South/Amajyepfo   $Nyaruguru   \n",
       "21                           $South/Amajyepfo     $Ruhango   \n",
       "22                       $West/Iburengerazuba     $Karongi   \n",
       "23                       $West/Iburengerazuba   $Ngororero   \n",
       "24                       $West/Iburengerazuba     $Nyabihu   \n",
       "25                       $West/Iburengerazuba  $Nyamasheke   \n",
       "26                       $West/Iburengerazuba      $Rusizi   \n",
       "27               Kigali City/Umujyi wa Kigali      $Gasabo   \n",
       "28               Kigali City/Umujyi wa Kigali     Kicukiro   \n",
       "29               Kigali City/Umujyi wa Kigali   Nyarugenge   \n",
       "\n",
       "Income_Category  Agro - Crop&Livestock  Agro - Food&Cash Crop  \\\n",
       "0                             3.422908              44.244612   \n",
       "1                             5.559486              22.548419   \n",
       "2                             4.672437              50.542219   \n",
       "3                            13.870090              44.533178   \n",
       "4                            18.330118              26.289695   \n",
       "5                             9.246055              70.965856   \n",
       "6                             9.974678              65.925489   \n",
       "7                            28.872728              55.133631   \n",
       "8                             8.259953              64.311559   \n",
       "9                            19.287699              42.965480   \n",
       "10                           15.180629              66.311067   \n",
       "11                           19.093477              59.855715   \n",
       "12                           22.501474              46.871493   \n",
       "13                           11.765617              31.760800   \n",
       "14                           16.651847              35.028587   \n",
       "15                            6.981939              51.040670   \n",
       "16                           14.528755              48.020059   \n",
       "17                            7.317987              78.407600   \n",
       "18                           13.766597              49.230771   \n",
       "19                            5.875105              67.976362   \n",
       "20                           14.615647              59.534472   \n",
       "21                           23.036100              52.747524   \n",
       "22                           29.617743              46.615226   \n",
       "23                            3.507234              68.391859   \n",
       "24                            1.007911              32.150263   \n",
       "25                           38.593026              34.160227   \n",
       "26                            8.716393              66.023214   \n",
       "27                            7.471643              15.159722   \n",
       "28                            0.893302               5.718570   \n",
       "29                            0.455348              15.325222   \n",
       "\n",
       "Income_Category  AgroCmrc - Trade/Wholesale  Commerce - Business/Trading  \\\n",
       "0                                  3.627016                     6.172614   \n",
       "1                                 13.573917                     4.623371   \n",
       "2                                  5.692345                     1.190252   \n",
       "3                                  2.752274                     0.388700   \n",
       "4                                 19.712840                     2.480297   \n",
       "5                                  0.788217                     1.907635   \n",
       "6                                  1.299100                     1.091147   \n",
       "7                                  3.320417                     1.264830   \n",
       "8                                  1.302461                     2.971028   \n",
       "9                                  4.154076                     3.728315   \n",
       "10                                 3.984246                     0.401235   \n",
       "11                                 2.002994                     1.709742   \n",
       "12                                 1.978271                     4.101503   \n",
       "13                                 3.244478                     6.749546   \n",
       "14                                 0.615781                     2.641860   \n",
       "15                                 2.095012                     0.792274   \n",
       "16                                 6.001212                     1.982491   \n",
       "17                                 1.629715                     0.403797   \n",
       "18                                 4.215963                     1.920617   \n",
       "19                                 3.135916                     0.570092   \n",
       "20                                 3.258639                     1.226681   \n",
       "21                                 4.075744                     3.838113   \n",
       "22                                 2.288559                     1.562365   \n",
       "23                                 1.565257                     1.278439   \n",
       "24                                10.046850                     2.543886   \n",
       "25                                 1.681093                     1.831012   \n",
       "26                                 3.637643                     1.731830   \n",
       "27                                 1.115969                    18.803093   \n",
       "28                                 4.976356                    35.917290   \n",
       "29                                 4.528377                    18.330348   \n",
       "\n",
       "Income_Category  Commerce - Petty Trade  Labor - Artisan/Skilled  \\\n",
       "0                              5.291680                 4.064223   \n",
       "1                              5.332477                 5.042172   \n",
       "2                              3.229973                 1.996367   \n",
       "3                              2.106053                 2.345845   \n",
       "4                              2.759680                 1.138148   \n",
       "5                                   NaN                 0.692850   \n",
       "6                              1.037016                 2.620292   \n",
       "7                              0.779173                 2.044424   \n",
       "8                              4.820994                 1.496522   \n",
       "9                              5.408280                 0.653241   \n",
       "10                             0.868040                 1.270421   \n",
       "11                             0.398441                 1.705897   \n",
       "12                             2.369818                      NaN   \n",
       "13                             5.547789                 1.342201   \n",
       "14                             3.079436                 1.624357   \n",
       "15                             1.219079                      NaN   \n",
       "16                             1.861244                 0.314027   \n",
       "17                             0.445656                 0.427466   \n",
       "18                             0.797910                 6.172747   \n",
       "19                             1.390911                 1.777566   \n",
       "20                             0.881848                 2.525330   \n",
       "21                                  NaN                 0.806547   \n",
       "22                             1.964331                 0.784986   \n",
       "23                             1.218128                 0.451858   \n",
       "24                             4.776823                 1.639272   \n",
       "25                             1.203293                 2.024545   \n",
       "26                             3.754816                 1.315136   \n",
       "27                             7.638769                 1.814693   \n",
       "28                            10.316451                 4.828594   \n",
       "29                            20.759084                12.159040   \n",
       "\n",
       "Income_Category  Labor - Daily/Unskilled - Agro      Other  \n",
       "0                                     31.036493   2.140454  \n",
       "1                                     38.793541   4.526616  \n",
       "2                                     23.586532   9.089875  \n",
       "3                                     32.841147   1.162714  \n",
       "4                                     27.338872   1.950351  \n",
       "5                                     13.088132   3.311254  \n",
       "6                                     16.202872   1.849407  \n",
       "7                                      5.883126   2.701671  \n",
       "8                                     14.870143   1.967341  \n",
       "9                                     22.048578   1.754331  \n",
       "10                                     9.648382   2.335979  \n",
       "11                                    12.121886   3.111848  \n",
       "12                                    20.538930   1.638511  \n",
       "13                                    32.732041   6.857529  \n",
       "14                                    32.271570   8.086562  \n",
       "15                                    36.150250   1.720775  \n",
       "16                                    24.993285   2.298926  \n",
       "17                                     7.847130   3.520649  \n",
       "18                                    21.884104   2.011291  \n",
       "19                                    16.146403   3.127646  \n",
       "20                                    10.673226   7.284157  \n",
       "21                                    15.144472   0.351500  \n",
       "22                                    13.752003   3.414786  \n",
       "23                                    22.149859   1.437365  \n",
       "24                                    44.900651   2.934344  \n",
       "25                                    20.228862   0.277943  \n",
       "26                                    12.790276   2.030692  \n",
       "27                                    37.457538  10.538573  \n",
       "28                                    22.518460  14.830978  \n",
       "29                                    12.860004  15.582577  "
      ],
      "text/html": "<div>\n<style scoped>\n    .dataframe tbody tr th:only-of-type {\n        vertical-align: middle;\n    }\n\n    .dataframe tbody tr th {\n        vertical-align: top;\n    }\n\n    .dataframe thead th {\n        text-align: right;\n    }\n</style>\n<table border=\"1\" class=\"dataframe\">\n  <thead>\n    <tr style=\"text-align: right;\">\n      <th>Income_Category</th>\n      <th>ADM1_NAME</th>\n      <th>ADM2_NAME</th>\n      <th>Agro - Crop&amp;Livestock</th>\n      <th>Agro - Food&amp;Cash Crop</th>\n      <th>AgroCmrc - Trade/Wholesale</th>\n      <th>Commerce - Business/Trading</th>\n      <th>Commerce - Petty Trade</th>\n      <th>Labor - Artisan/Skilled</th>\n      <th>Labor - Daily/Unskilled - Agro</th>\n      <th>Other</th>\n    </tr>\n  </thead>\n  <tbody>\n    <tr>\n      <th>0</th>\n      <td>#Butare</td>\n      <td>#Huye</td>\n      <td>3.422908</td>\n      <td>44.244612</td>\n      <td>3.627016</td>\n      <td>6.172614</td>\n      <td>5.291680</td>\n      <td>4.064223</td>\n      <td>31.036493</td>\n      <td>2.140454</td>\n    </tr>\n    <tr>\n      <th>1</th>\n      <td>#Gisenyi</td>\n      <td>#Rubavu</td>\n      <td>5.559486</td>\n      <td>22.548419</td>\n      <td>13.573917</td>\n      <td>4.623371</td>\n      <td>5.332477</td>\n      <td>5.042172</td>\n      <td>38.793541</td>\n      <td>4.526616</td>\n    </tr>\n    <tr>\n      <th>2</th>\n      <td>#Kibungo</td>\n      <td>#Kayonza</td>\n      <td>4.672437</td>\n      <td>50.542219</td>\n      <td>5.692345</td>\n      <td>1.190252</td>\n      <td>3.229973</td>\n      <td>1.996367</td>\n      <td>23.586532</td>\n      <td>9.089875</td>\n    </tr>\n    <tr>\n      <th>3</th>\n      <td>#Kibuye</td>\n      <td>#Rutsiro</td>\n      <td>13.870090</td>\n      <td>44.533178</td>\n      <td>2.752274</td>\n      <td>0.388700</td>\n      <td>2.106053</td>\n      <td>2.345845</td>\n      <td>32.841147</td>\n      <td>1.162714</td>\n    </tr>\n    <tr>\n      <th>4</th>\n      <td>#Umutara</td>\n      <td>#Nyagatare</td>\n      <td>18.330118</td>\n      <td>26.289695</td>\n      <td>19.712840</td>\n      <td>2.480297</td>\n      <td>2.759680</td>\n      <td>1.138148</td>\n      <td>27.338872</td>\n      <td>1.950351</td>\n    </tr>\n    <tr>\n      <th>5</th>\n      <td>$East/Iburasirazuba</td>\n      <td>$Bugesera</td>\n      <td>9.246055</td>\n      <td>70.965856</td>\n      <td>0.788217</td>\n      <td>1.907635</td>\n      <td>NaN</td>\n      <td>0.692850</td>\n      <td>13.088132</td>\n      <td>3.311254</td>\n    </tr>\n    <tr>\n      <th>6</th>\n      <td>$East/Iburasirazuba</td>\n      <td>$Gatsibo</td>\n      <td>9.974678</td>\n      <td>65.925489</td>\n      <td>1.299100</td>\n      <td>1.091147</td>\n      <td>1.037016</td>\n      <td>2.620292</td>\n      <td>16.202872</td>\n      <td>1.849407</td>\n    </tr>\n    <tr>\n      <th>7</th>\n      <td>$East/Iburasirazuba</td>\n      <td>$Kirehe</td>\n      <td>28.872728</td>\n      <td>55.133631</td>\n      <td>3.320417</td>\n      <td>1.264830</td>\n      <td>0.779173</td>\n      <td>2.044424</td>\n      <td>5.883126</td>\n      <td>2.701671</td>\n    </tr>\n    <tr>\n      <th>8</th>\n      <td>$East/Iburasirazuba</td>\n      <td>$Ngoma</td>\n      <td>8.259953</td>\n      <td>64.311559</td>\n      <td>1.302461</td>\n      <td>2.971028</td>\n      <td>4.820994</td>\n      <td>1.496522</td>\n      <td>14.870143</td>\n      <td>1.967341</td>\n    </tr>\n    <tr>\n      <th>9</th>\n      <td>$East/Iburasirazuba</td>\n      <td>$Rwamagana</td>\n      <td>19.287699</td>\n      <td>42.965480</td>\n      <td>4.154076</td>\n      <td>3.728315</td>\n      <td>5.408280</td>\n      <td>0.653241</td>\n      <td>22.048578</td>\n      <td>1.754331</td>\n    </tr>\n    <tr>\n      <th>10</th>\n      <td>$North/Amajyaruguru</td>\n      <td>$Burera</td>\n      <td>15.180629</td>\n      <td>66.311067</td>\n      <td>3.984246</td>\n      <td>0.401235</td>\n      <td>0.868040</td>\n      <td>1.270421</td>\n      <td>9.648382</td>\n      <td>2.335979</td>\n    </tr>\n    <tr>\n      <th>11</th>\n      <td>$North/Amajyaruguru</td>\n      <td>$Gakenke</td>\n      <td>19.093477</td>\n      <td>59.855715</td>\n      <td>2.002994</td>\n      <td>1.709742</td>\n      <td>0.398441</td>\n      <td>1.705897</td>\n      <td>12.121886</td>\n      <td>3.111848</td>\n    </tr>\n    <tr>\n      <th>12</th>\n      <td>$North/Amajyaruguru</td>\n      <td>$Gicumbi</td>\n      <td>22.501474</td>\n      <td>46.871493</td>\n      <td>1.978271</td>\n      <td>4.101503</td>\n      <td>2.369818</td>\n      <td>NaN</td>\n      <td>20.538930</td>\n      <td>1.638511</td>\n    </tr>\n    <tr>\n      <th>13</th>\n      <td>$North/Amajyaruguru</td>\n      <td>$Musanze</td>\n      <td>11.765617</td>\n      <td>31.760800</td>\n      <td>3.244478</td>\n      <td>6.749546</td>\n      <td>5.547789</td>\n      <td>1.342201</td>\n      <td>32.732041</td>\n      <td>6.857529</td>\n    </tr>\n    <tr>\n      <th>14</th>\n      <td>$North/Amajyaruguru</td>\n      <td>$Rulindo</td>\n      <td>16.651847</td>\n      <td>35.028587</td>\n      <td>0.615781</td>\n      <td>2.641860</td>\n      <td>3.079436</td>\n      <td>1.624357</td>\n      <td>32.271570</td>\n      <td>8.086562</td>\n    </tr>\n    <tr>\n      <th>15</th>\n      <td>$South/Amajyepfo</td>\n      <td>$Gisagara</td>\n      <td>6.981939</td>\n      <td>51.040670</td>\n      <td>2.095012</td>\n      <td>0.792274</td>\n      <td>1.219079</td>\n      <td>NaN</td>\n      <td>36.150250</td>\n      <td>1.720775</td>\n    </tr>\n    <tr>\n      <th>16</th>\n      <td>$South/Amajyepfo</td>\n      <td>$Kamonyi</td>\n      <td>14.528755</td>\n      <td>48.020059</td>\n      <td>6.001212</td>\n      <td>1.982491</td>\n      <td>1.861244</td>\n      <td>0.314027</td>\n      <td>24.993285</td>\n      <td>2.298926</td>\n    </tr>\n    <tr>\n      <th>17</th>\n      <td>$South/Amajyepfo</td>\n      <td>$Muhanga</td>\n      <td>7.317987</td>\n      <td>78.407600</td>\n      <td>1.629715</td>\n      <td>0.403797</td>\n      <td>0.445656</td>\n      <td>0.427466</td>\n      <td>7.847130</td>\n      <td>3.520649</td>\n    </tr>\n    <tr>\n      <th>18</th>\n      <td>$South/Amajyepfo</td>\n      <td>$Nyamagabe</td>\n      <td>13.766597</td>\n      <td>49.230771</td>\n      <td>4.215963</td>\n      <td>1.920617</td>\n      <td>0.797910</td>\n      <td>6.172747</td>\n      <td>21.884104</td>\n      <td>2.011291</td>\n    </tr>\n    <tr>\n      <th>19</th>\n      <td>$South/Amajyepfo</td>\n      <td>$Nyanza</td>\n      <td>5.875105</td>\n      <td>67.976362</td>\n      <td>3.135916</td>\n      <td>0.570092</td>\n      <td>1.390911</td>\n      <td>1.777566</td>\n      <td>16.146403</td>\n      <td>3.127646</td>\n    </tr>\n    <tr>\n      <th>20</th>\n      <td>$South/Amajyepfo</td>\n      <td>$Nyaruguru</td>\n      <td>14.615647</td>\n      <td>59.534472</td>\n      <td>3.258639</td>\n      <td>1.226681</td>\n      <td>0.881848</td>\n      <td>2.525330</td>\n      <td>10.673226</td>\n      <td>7.284157</td>\n    </tr>\n    <tr>\n      <th>21</th>\n      <td>$South/Amajyepfo</td>\n      <td>$Ruhango</td>\n      <td>23.036100</td>\n      <td>52.747524</td>\n      <td>4.075744</td>\n      <td>3.838113</td>\n      <td>NaN</td>\n      <td>0.806547</td>\n      <td>15.144472</td>\n      <td>0.351500</td>\n    </tr>\n    <tr>\n      <th>22</th>\n      <td>$West/Iburengerazuba</td>\n      <td>$Karongi</td>\n      <td>29.617743</td>\n      <td>46.615226</td>\n      <td>2.288559</td>\n      <td>1.562365</td>\n      <td>1.964331</td>\n      <td>0.784986</td>\n      <td>13.752003</td>\n      <td>3.414786</td>\n    </tr>\n    <tr>\n      <th>23</th>\n      <td>$West/Iburengerazuba</td>\n      <td>$Ngororero</td>\n      <td>3.507234</td>\n      <td>68.391859</td>\n      <td>1.565257</td>\n      <td>1.278439</td>\n      <td>1.218128</td>\n      <td>0.451858</td>\n      <td>22.149859</td>\n      <td>1.437365</td>\n    </tr>\n    <tr>\n      <th>24</th>\n      <td>$West/Iburengerazuba</td>\n      <td>$Nyabihu</td>\n      <td>1.007911</td>\n      <td>32.150263</td>\n      <td>10.046850</td>\n      <td>2.543886</td>\n      <td>4.776823</td>\n      <td>1.639272</td>\n      <td>44.900651</td>\n      <td>2.934344</td>\n    </tr>\n    <tr>\n      <th>25</th>\n      <td>$West/Iburengerazuba</td>\n      <td>$Nyamasheke</td>\n      <td>38.593026</td>\n      <td>34.160227</td>\n      <td>1.681093</td>\n      <td>1.831012</td>\n      <td>1.203293</td>\n      <td>2.024545</td>\n      <td>20.228862</td>\n      <td>0.277943</td>\n    </tr>\n    <tr>\n      <th>26</th>\n      <td>$West/Iburengerazuba</td>\n      <td>$Rusizi</td>\n      <td>8.716393</td>\n      <td>66.023214</td>\n      <td>3.637643</td>\n      <td>1.731830</td>\n      <td>3.754816</td>\n      <td>1.315136</td>\n      <td>12.790276</td>\n      <td>2.030692</td>\n    </tr>\n    <tr>\n      <th>27</th>\n      <td>Kigali City/Umujyi wa Kigali</td>\n      <td>$Gasabo</td>\n      <td>7.471643</td>\n      <td>15.159722</td>\n      <td>1.115969</td>\n      <td>18.803093</td>\n      <td>7.638769</td>\n      <td>1.814693</td>\n      <td>37.457538</td>\n      <td>10.538573</td>\n    </tr>\n    <tr>\n      <th>28</th>\n      <td>Kigali City/Umujyi wa Kigali</td>\n      <td>Kicukiro</td>\n      <td>0.893302</td>\n      <td>5.718570</td>\n      <td>4.976356</td>\n      <td>35.917290</td>\n      <td>10.316451</td>\n      <td>4.828594</td>\n      <td>22.518460</td>\n      <td>14.830978</td>\n    </tr>\n    <tr>\n      <th>29</th>\n      <td>Kigali City/Umujyi wa Kigali</td>\n      <td>Nyarugenge</td>\n      <td>0.455348</td>\n      <td>15.325222</td>\n      <td>4.528377</td>\n      <td>18.330348</td>\n      <td>20.759084</td>\n      <td>12.159040</td>\n      <td>12.860004</td>\n      <td>15.582577</td>\n    </tr>\n  </tbody>\n</table>\n</div>"
     },
     "metadata": {},
     "execution_count": 22
    }
   ],
   "source": [
    "df_income_pivot_2 = pd.pivot_table(df_income,values='IncomeValue',index=['ADM1_NAME','ADM2_NAME'],columns='Income_Category').reset_index()\n",
    "df_income_pivot_2"
   ]
  },
  {
   "cell_type": "code",
   "execution_count": 17,
   "metadata": {},
   "outputs": [
    {
     "output_type": "execute_result",
     "data": {
      "text/plain": [
       "Income_Category                     ADM1_NAME  Agro - Crop&Livestock  \\\n",
       "0                                     #Butare               3.422908   \n",
       "1                                    #Gisenyi               5.559486   \n",
       "2                                    #Kibungo               4.672437   \n",
       "3                                     #Kibuye              13.870090   \n",
       "4                                    #Umutara              18.330118   \n",
       "5                         $East/Iburasirazuba              15.128222   \n",
       "6                         $North/Amajyaruguru              17.038609   \n",
       "7                            $South/Amajyepfo              12.303161   \n",
       "8                        $West/Iburengerazuba              16.288462   \n",
       "9                Kigali City/Umujyi wa Kigali               2.940098   \n",
       "\n",
       "Income_Category  Agro - Food&Cash Crop  AgroCmrc - Trade/Wholesale  \\\n",
       "0                            44.244612                    3.627016   \n",
       "1                            22.548419                   13.573917   \n",
       "2                            50.542219                    5.692345   \n",
       "3                            44.533178                    2.752274   \n",
       "4                            26.289695                   19.712840   \n",
       "5                            59.860403                    2.172854   \n",
       "6                            47.965532                    2.365154   \n",
       "7                            58.136780                    3.487457   \n",
       "8                            49.468158                    3.843880   \n",
       "9                            12.067838                    3.540234   \n",
       "\n",
       "Income_Category  Commerce - Business/Trading  Commerce - Petty Trade  \\\n",
       "0                                   6.172614                5.291680   \n",
       "1                                   4.623371                5.332477   \n",
       "2                                   1.190252                3.229973   \n",
       "3                                   0.388700                2.106053   \n",
       "4                                   2.480297                2.759680   \n",
       "5                                   2.192591                3.011366   \n",
       "6                                   3.120777                2.452705   \n",
       "7                                   1.533438                1.099441   \n",
       "8                                   1.789506                2.583478   \n",
       "9                                  24.350244               12.904768   \n",
       "\n",
       "Income_Category  Labor - Artisan/Skilled  Labor - Daily/Unskilled - Agro  \\\n",
       "0                               4.064223                       31.036493   \n",
       "1                               5.042172                       38.793541   \n",
       "2                               1.996367                       23.586532   \n",
       "3                               2.345845                       32.841147   \n",
       "4                               1.138148                       27.338872   \n",
       "5                               1.501466                       14.418570   \n",
       "6                               1.485719                       21.462562   \n",
       "7                               2.003947                       18.976981   \n",
       "8                               1.243159                       22.764330   \n",
       "9                               6.267442                       24.278667   \n",
       "\n",
       "Income_Category      Other  \n",
       "0                 2.140454  \n",
       "1                 4.526616  \n",
       "2                 9.089875  \n",
       "3                 1.162714  \n",
       "4                 1.950351  \n",
       "5                 2.316801  \n",
       "6                 4.406086  \n",
       "7                 2.902135  \n",
       "8                 2.019026  \n",
       "9                13.650709  "
      ],
      "text/html": "<div>\n<style scoped>\n    .dataframe tbody tr th:only-of-type {\n        vertical-align: middle;\n    }\n\n    .dataframe tbody tr th {\n        vertical-align: top;\n    }\n\n    .dataframe thead th {\n        text-align: right;\n    }\n</style>\n<table border=\"1\" class=\"dataframe\">\n  <thead>\n    <tr style=\"text-align: right;\">\n      <th>Income_Category</th>\n      <th>ADM1_NAME</th>\n      <th>Agro - Crop&amp;Livestock</th>\n      <th>Agro - Food&amp;Cash Crop</th>\n      <th>AgroCmrc - Trade/Wholesale</th>\n      <th>Commerce - Business/Trading</th>\n      <th>Commerce - Petty Trade</th>\n      <th>Labor - Artisan/Skilled</th>\n      <th>Labor - Daily/Unskilled - Agro</th>\n      <th>Other</th>\n    </tr>\n  </thead>\n  <tbody>\n    <tr>\n      <th>0</th>\n      <td>#Butare</td>\n      <td>3.422908</td>\n      <td>44.244612</td>\n      <td>3.627016</td>\n      <td>6.172614</td>\n      <td>5.291680</td>\n      <td>4.064223</td>\n      <td>31.036493</td>\n      <td>2.140454</td>\n    </tr>\n    <tr>\n      <th>1</th>\n      <td>#Gisenyi</td>\n      <td>5.559486</td>\n      <td>22.548419</td>\n      <td>13.573917</td>\n      <td>4.623371</td>\n      <td>5.332477</td>\n      <td>5.042172</td>\n      <td>38.793541</td>\n      <td>4.526616</td>\n    </tr>\n    <tr>\n      <th>2</th>\n      <td>#Kibungo</td>\n      <td>4.672437</td>\n      <td>50.542219</td>\n      <td>5.692345</td>\n      <td>1.190252</td>\n      <td>3.229973</td>\n      <td>1.996367</td>\n      <td>23.586532</td>\n      <td>9.089875</td>\n    </tr>\n    <tr>\n      <th>3</th>\n      <td>#Kibuye</td>\n      <td>13.870090</td>\n      <td>44.533178</td>\n      <td>2.752274</td>\n      <td>0.388700</td>\n      <td>2.106053</td>\n      <td>2.345845</td>\n      <td>32.841147</td>\n      <td>1.162714</td>\n    </tr>\n    <tr>\n      <th>4</th>\n      <td>#Umutara</td>\n      <td>18.330118</td>\n      <td>26.289695</td>\n      <td>19.712840</td>\n      <td>2.480297</td>\n      <td>2.759680</td>\n      <td>1.138148</td>\n      <td>27.338872</td>\n      <td>1.950351</td>\n    </tr>\n    <tr>\n      <th>5</th>\n      <td>$East/Iburasirazuba</td>\n      <td>15.128222</td>\n      <td>59.860403</td>\n      <td>2.172854</td>\n      <td>2.192591</td>\n      <td>3.011366</td>\n      <td>1.501466</td>\n      <td>14.418570</td>\n      <td>2.316801</td>\n    </tr>\n    <tr>\n      <th>6</th>\n      <td>$North/Amajyaruguru</td>\n      <td>17.038609</td>\n      <td>47.965532</td>\n      <td>2.365154</td>\n      <td>3.120777</td>\n      <td>2.452705</td>\n      <td>1.485719</td>\n      <td>21.462562</td>\n      <td>4.406086</td>\n    </tr>\n    <tr>\n      <th>7</th>\n      <td>$South/Amajyepfo</td>\n      <td>12.303161</td>\n      <td>58.136780</td>\n      <td>3.487457</td>\n      <td>1.533438</td>\n      <td>1.099441</td>\n      <td>2.003947</td>\n      <td>18.976981</td>\n      <td>2.902135</td>\n    </tr>\n    <tr>\n      <th>8</th>\n      <td>$West/Iburengerazuba</td>\n      <td>16.288462</td>\n      <td>49.468158</td>\n      <td>3.843880</td>\n      <td>1.789506</td>\n      <td>2.583478</td>\n      <td>1.243159</td>\n      <td>22.764330</td>\n      <td>2.019026</td>\n    </tr>\n    <tr>\n      <th>9</th>\n      <td>Kigali City/Umujyi wa Kigali</td>\n      <td>2.940098</td>\n      <td>12.067838</td>\n      <td>3.540234</td>\n      <td>24.350244</td>\n      <td>12.904768</td>\n      <td>6.267442</td>\n      <td>24.278667</td>\n      <td>13.650709</td>\n    </tr>\n  </tbody>\n</table>\n</div>"
     },
     "metadata": {},
     "execution_count": 17
    }
   ],
   "source": [
    "df_pivot_income_3 = pd.pivot_table(df_income,values='IncomeValue',index=['ADM1_NAME'],columns='Income_Category').reset_index()\n",
    "df_pivot_income_3"
   ]
  },
  {
   "cell_type": "code",
   "execution_count": 18,
   "metadata": {},
   "outputs": [
    {
     "output_type": "execute_result",
     "data": {
      "text/plain": [
       "   district_id district  ADM2_ID ADM2_NAME\n",
       "0           36   Rusizi       27   $Rusizi\n",
       "1           41  Rulindo       15  $Rulindo\n",
       "2           45  Gicumbi       13  $Gicumbi\n",
       "3           28  Kamonyi       17  $Kamonyi\n",
       "4           12   Gasabo       28   $Gasabo"
      ],
      "text/html": "<div>\n<style scoped>\n    .dataframe tbody tr th:only-of-type {\n        vertical-align: middle;\n    }\n\n    .dataframe tbody tr th {\n        vertical-align: top;\n    }\n\n    .dataframe thead th {\n        text-align: right;\n    }\n</style>\n<table border=\"1\" class=\"dataframe\">\n  <thead>\n    <tr style=\"text-align: right;\">\n      <th></th>\n      <th>district_id</th>\n      <th>district</th>\n      <th>ADM2_ID</th>\n      <th>ADM2_NAME</th>\n    </tr>\n  </thead>\n  <tbody>\n    <tr>\n      <th>0</th>\n      <td>36</td>\n      <td>Rusizi</td>\n      <td>27</td>\n      <td>$Rusizi</td>\n    </tr>\n    <tr>\n      <th>1</th>\n      <td>41</td>\n      <td>Rulindo</td>\n      <td>15</td>\n      <td>$Rulindo</td>\n    </tr>\n    <tr>\n      <th>2</th>\n      <td>45</td>\n      <td>Gicumbi</td>\n      <td>13</td>\n      <td>$Gicumbi</td>\n    </tr>\n    <tr>\n      <th>3</th>\n      <td>28</td>\n      <td>Kamonyi</td>\n      <td>17</td>\n      <td>$Kamonyi</td>\n    </tr>\n    <tr>\n      <th>4</th>\n      <td>12</td>\n      <td>Gasabo</td>\n      <td>28</td>\n      <td>$Gasabo</td>\n    </tr>\n  </tbody>\n</table>\n</div>"
     },
     "metadata": {},
     "execution_count": 18
    }
   ],
   "source": [
    "df_mapping_districts = pd.read_csv('/Users/jasimrashid/Projects/DS-Unit-6-Labs/mapping_district.csv')\n",
    "df_mapping_districts.head()"
   ]
  },
  {
   "cell_type": "code",
   "execution_count": 23,
   "metadata": {},
   "outputs": [
    {
     "output_type": "execute_result",
     "data": {
      "text/plain": [
       "  ADM1_NAME   ADM2_NAME  Agro - Crop&Livestock  Agro - Food&Cash Crop  \\\n",
       "0   #Butare       #Huye               3.422908              44.244612   \n",
       "1  #Gisenyi     #Rubavu               5.559486              22.548419   \n",
       "2  #Kibungo    #Kayonza               4.672437              50.542219   \n",
       "3   #Kibuye    #Rutsiro              13.870090              44.533178   \n",
       "4  #Umutara  #Nyagatare              18.330118              26.289695   \n",
       "\n",
       "   AgroCmrc - Trade/Wholesale  Commerce - Business/Trading  \\\n",
       "0                    3.627016                     6.172614   \n",
       "1                   13.573917                     4.623371   \n",
       "2                    5.692345                     1.190252   \n",
       "3                    2.752274                     0.388700   \n",
       "4                   19.712840                     2.480297   \n",
       "\n",
       "   Commerce - Petty Trade  Labor - Artisan/Skilled  \\\n",
       "0                5.291680                 4.064223   \n",
       "1                5.332477                 5.042172   \n",
       "2                3.229973                 1.996367   \n",
       "3                2.106053                 2.345845   \n",
       "4                2.759680                 1.138148   \n",
       "\n",
       "   Labor - Daily/Unskilled - Agro     Other  district_id   district  \n",
       "0                       31.036493  2.140454           24       Huye  \n",
       "1                       38.793541  4.526616           33     Rubavu  \n",
       "2                       23.586532  9.089875           54    Kayonza  \n",
       "3                       32.841147  1.162714           32    Rutsiro  \n",
       "4                       27.338872  1.950351           52  Nyagatare  "
      ],
      "text/html": "<div>\n<style scoped>\n    .dataframe tbody tr th:only-of-type {\n        vertical-align: middle;\n    }\n\n    .dataframe tbody tr th {\n        vertical-align: top;\n    }\n\n    .dataframe thead th {\n        text-align: right;\n    }\n</style>\n<table border=\"1\" class=\"dataframe\">\n  <thead>\n    <tr style=\"text-align: right;\">\n      <th></th>\n      <th>ADM1_NAME</th>\n      <th>ADM2_NAME</th>\n      <th>Agro - Crop&amp;Livestock</th>\n      <th>Agro - Food&amp;Cash Crop</th>\n      <th>AgroCmrc - Trade/Wholesale</th>\n      <th>Commerce - Business/Trading</th>\n      <th>Commerce - Petty Trade</th>\n      <th>Labor - Artisan/Skilled</th>\n      <th>Labor - Daily/Unskilled - Agro</th>\n      <th>Other</th>\n      <th>district_id</th>\n      <th>district</th>\n    </tr>\n  </thead>\n  <tbody>\n    <tr>\n      <th>0</th>\n      <td>#Butare</td>\n      <td>#Huye</td>\n      <td>3.422908</td>\n      <td>44.244612</td>\n      <td>3.627016</td>\n      <td>6.172614</td>\n      <td>5.291680</td>\n      <td>4.064223</td>\n      <td>31.036493</td>\n      <td>2.140454</td>\n      <td>24</td>\n      <td>Huye</td>\n    </tr>\n    <tr>\n      <th>1</th>\n      <td>#Gisenyi</td>\n      <td>#Rubavu</td>\n      <td>5.559486</td>\n      <td>22.548419</td>\n      <td>13.573917</td>\n      <td>4.623371</td>\n      <td>5.332477</td>\n      <td>5.042172</td>\n      <td>38.793541</td>\n      <td>4.526616</td>\n      <td>33</td>\n      <td>Rubavu</td>\n    </tr>\n    <tr>\n      <th>2</th>\n      <td>#Kibungo</td>\n      <td>#Kayonza</td>\n      <td>4.672437</td>\n      <td>50.542219</td>\n      <td>5.692345</td>\n      <td>1.190252</td>\n      <td>3.229973</td>\n      <td>1.996367</td>\n      <td>23.586532</td>\n      <td>9.089875</td>\n      <td>54</td>\n      <td>Kayonza</td>\n    </tr>\n    <tr>\n      <th>3</th>\n      <td>#Kibuye</td>\n      <td>#Rutsiro</td>\n      <td>13.870090</td>\n      <td>44.533178</td>\n      <td>2.752274</td>\n      <td>0.388700</td>\n      <td>2.106053</td>\n      <td>2.345845</td>\n      <td>32.841147</td>\n      <td>1.162714</td>\n      <td>32</td>\n      <td>Rutsiro</td>\n    </tr>\n    <tr>\n      <th>4</th>\n      <td>#Umutara</td>\n      <td>#Nyagatare</td>\n      <td>18.330118</td>\n      <td>26.289695</td>\n      <td>19.712840</td>\n      <td>2.480297</td>\n      <td>2.759680</td>\n      <td>1.138148</td>\n      <td>27.338872</td>\n      <td>1.950351</td>\n      <td>52</td>\n      <td>Nyagatare</td>\n    </tr>\n  </tbody>\n</table>\n</div>"
     },
     "metadata": {},
     "execution_count": 23
    }
   ],
   "source": [
    "df_income_pivot_2 = pd.merge(df_income_pivot_2,df_mapping_districts,on='ADM2_NAME').drop(columns=['ADM2_ID'])\n",
    "df_income_pivot_2.head()"
   ]
  },
  {
   "cell_type": "code",
   "execution_count": 24,
   "metadata": {},
   "outputs": [
    {
     "output_type": "execute_result",
     "data": {
      "text/plain": [
       "                       ADM1_NAME    ADM2_NAME  Agro - Crop&Livestock  \\\n",
       "0                        #Butare        #Huye               3.422908   \n",
       "1                       #Gisenyi      #Rubavu               5.559486   \n",
       "2                       #Kibungo     #Kayonza               4.672437   \n",
       "3                        #Kibuye     #Rutsiro              13.870090   \n",
       "4                       #Umutara   #Nyagatare              18.330118   \n",
       "5            $East/Iburasirazuba    $Bugesera               9.246055   \n",
       "6            $East/Iburasirazuba     $Gatsibo               9.974678   \n",
       "7            $East/Iburasirazuba      $Kirehe              28.872728   \n",
       "8            $East/Iburasirazuba       $Ngoma               8.259953   \n",
       "9            $East/Iburasirazuba   $Rwamagana              19.287699   \n",
       "10           $North/Amajyaruguru      $Burera              15.180629   \n",
       "11           $North/Amajyaruguru     $Gakenke              19.093477   \n",
       "12           $North/Amajyaruguru     $Gicumbi              22.501474   \n",
       "13           $North/Amajyaruguru     $Musanze              11.765617   \n",
       "14           $North/Amajyaruguru     $Rulindo              16.651847   \n",
       "15              $South/Amajyepfo    $Gisagara               6.981939   \n",
       "16              $South/Amajyepfo     $Kamonyi              14.528755   \n",
       "17              $South/Amajyepfo     $Muhanga               7.317987   \n",
       "18              $South/Amajyepfo   $Nyamagabe              13.766597   \n",
       "19              $South/Amajyepfo      $Nyanza               5.875105   \n",
       "20              $South/Amajyepfo   $Nyaruguru              14.615647   \n",
       "21              $South/Amajyepfo     $Ruhango              23.036100   \n",
       "22          $West/Iburengerazuba     $Karongi              29.617743   \n",
       "23          $West/Iburengerazuba   $Ngororero               3.507234   \n",
       "24          $West/Iburengerazuba     $Nyabihu               1.007911   \n",
       "25          $West/Iburengerazuba  $Nyamasheke              38.593026   \n",
       "26          $West/Iburengerazuba      $Rusizi               8.716393   \n",
       "27  Kigali City/Umujyi wa Kigali      $Gasabo               7.471643   \n",
       "28  Kigali City/Umujyi wa Kigali     Kicukiro               0.893302   \n",
       "29  Kigali City/Umujyi wa Kigali   Nyarugenge               0.455348   \n",
       "\n",
       "    Agro - Food&Cash Crop  AgroCmrc - Trade/Wholesale  \\\n",
       "0               44.244612                    3.627016   \n",
       "1               22.548419                   13.573917   \n",
       "2               50.542219                    5.692345   \n",
       "3               44.533178                    2.752274   \n",
       "4               26.289695                   19.712840   \n",
       "5               70.965856                    0.788217   \n",
       "6               65.925489                    1.299100   \n",
       "7               55.133631                    3.320417   \n",
       "8               64.311559                    1.302461   \n",
       "9               42.965480                    4.154076   \n",
       "10              66.311067                    3.984246   \n",
       "11              59.855715                    2.002994   \n",
       "12              46.871493                    1.978271   \n",
       "13              31.760800                    3.244478   \n",
       "14              35.028587                    0.615781   \n",
       "15              51.040670                    2.095012   \n",
       "16              48.020059                    6.001212   \n",
       "17              78.407600                    1.629715   \n",
       "18              49.230771                    4.215963   \n",
       "19              67.976362                    3.135916   \n",
       "20              59.534472                    3.258639   \n",
       "21              52.747524                    4.075744   \n",
       "22              46.615226                    2.288559   \n",
       "23              68.391859                    1.565257   \n",
       "24              32.150263                   10.046850   \n",
       "25              34.160227                    1.681093   \n",
       "26              66.023214                    3.637643   \n",
       "27              15.159722                    1.115969   \n",
       "28               5.718570                    4.976356   \n",
       "29              15.325222                    4.528377   \n",
       "\n",
       "    Commerce - Business/Trading  Commerce - Petty Trade  \\\n",
       "0                      6.172614                5.291680   \n",
       "1                      4.623371                5.332477   \n",
       "2                      1.190252                3.229973   \n",
       "3                      0.388700                2.106053   \n",
       "4                      2.480297                2.759680   \n",
       "5                      1.907635                     NaN   \n",
       "6                      1.091147                1.037016   \n",
       "7                      1.264830                0.779173   \n",
       "8                      2.971028                4.820994   \n",
       "9                      3.728315                5.408280   \n",
       "10                     0.401235                0.868040   \n",
       "11                     1.709742                0.398441   \n",
       "12                     4.101503                2.369818   \n",
       "13                     6.749546                5.547789   \n",
       "14                     2.641860                3.079436   \n",
       "15                     0.792274                1.219079   \n",
       "16                     1.982491                1.861244   \n",
       "17                     0.403797                0.445656   \n",
       "18                     1.920617                0.797910   \n",
       "19                     0.570092                1.390911   \n",
       "20                     1.226681                0.881848   \n",
       "21                     3.838113                     NaN   \n",
       "22                     1.562365                1.964331   \n",
       "23                     1.278439                1.218128   \n",
       "24                     2.543886                4.776823   \n",
       "25                     1.831012                1.203293   \n",
       "26                     1.731830                3.754816   \n",
       "27                    18.803093                7.638769   \n",
       "28                    35.917290               10.316451   \n",
       "29                    18.330348               20.759084   \n",
       "\n",
       "    Labor - Artisan/Skilled  Labor - Daily/Unskilled - Agro      Other  \\\n",
       "0                  4.064223                       31.036493   2.140454   \n",
       "1                  5.042172                       38.793541   4.526616   \n",
       "2                  1.996367                       23.586532   9.089875   \n",
       "3                  2.345845                       32.841147   1.162714   \n",
       "4                  1.138148                       27.338872   1.950351   \n",
       "5                  0.692850                       13.088132   3.311254   \n",
       "6                  2.620292                       16.202872   1.849407   \n",
       "7                  2.044424                        5.883126   2.701671   \n",
       "8                  1.496522                       14.870143   1.967341   \n",
       "9                  0.653241                       22.048578   1.754331   \n",
       "10                 1.270421                        9.648382   2.335979   \n",
       "11                 1.705897                       12.121886   3.111848   \n",
       "12                      NaN                       20.538930   1.638511   \n",
       "13                 1.342201                       32.732041   6.857529   \n",
       "14                 1.624357                       32.271570   8.086562   \n",
       "15                      NaN                       36.150250   1.720775   \n",
       "16                 0.314027                       24.993285   2.298926   \n",
       "17                 0.427466                        7.847130   3.520649   \n",
       "18                 6.172747                       21.884104   2.011291   \n",
       "19                 1.777566                       16.146403   3.127646   \n",
       "20                 2.525330                       10.673226   7.284157   \n",
       "21                 0.806547                       15.144472   0.351500   \n",
       "22                 0.784986                       13.752003   3.414786   \n",
       "23                 0.451858                       22.149859   1.437365   \n",
       "24                 1.639272                       44.900651   2.934344   \n",
       "25                 2.024545                       20.228862   0.277943   \n",
       "26                 1.315136                       12.790276   2.030692   \n",
       "27                 1.814693                       37.457538  10.538573   \n",
       "28                 4.828594                       22.518460  14.830978   \n",
       "29                12.159040                       12.860004  15.582577   \n",
       "\n",
       "    district_id    district  \n",
       "0            24        Huye  \n",
       "1            33      Rubavu  \n",
       "2            54     Kayonza  \n",
       "3            32     Rutsiro  \n",
       "4            52   Nyagatare  \n",
       "5            57    Bugesera  \n",
       "6            53     Gatsibo  \n",
       "7            55      Kirehe  \n",
       "8            56       Ngoma  \n",
       "9            51   Rwamagana  \n",
       "10           44      Burera  \n",
       "11           42     Gakenke  \n",
       "12           45     Gicumbi  \n",
       "13           43     Musanze  \n",
       "14           41     Rulindo  \n",
       "15           22    Gisagara  \n",
       "16           28     Kamonyi  \n",
       "17           27     Muhanga  \n",
       "18           25   Nyamagabe  \n",
       "19           21      Nyanza  \n",
       "20           23   Nyaruguru  \n",
       "21           26     Ruhango  \n",
       "22           31     Karongi  \n",
       "23           35   Ngororero  \n",
       "24           34     Nyabihu  \n",
       "25           37  Nyamasheke  \n",
       "26           36      Rusizi  \n",
       "27           12      Gasabo  \n",
       "28           13    Kicukiro  \n",
       "29           11  Nyarugenge  "
      ],
      "text/html": "<div>\n<style scoped>\n    .dataframe tbody tr th:only-of-type {\n        vertical-align: middle;\n    }\n\n    .dataframe tbody tr th {\n        vertical-align: top;\n    }\n\n    .dataframe thead th {\n        text-align: right;\n    }\n</style>\n<table border=\"1\" class=\"dataframe\">\n  <thead>\n    <tr style=\"text-align: right;\">\n      <th></th>\n      <th>ADM1_NAME</th>\n      <th>ADM2_NAME</th>\n      <th>Agro - Crop&amp;Livestock</th>\n      <th>Agro - Food&amp;Cash Crop</th>\n      <th>AgroCmrc - Trade/Wholesale</th>\n      <th>Commerce - Business/Trading</th>\n      <th>Commerce - Petty Trade</th>\n      <th>Labor - Artisan/Skilled</th>\n      <th>Labor - Daily/Unskilled - Agro</th>\n      <th>Other</th>\n      <th>district_id</th>\n      <th>district</th>\n    </tr>\n  </thead>\n  <tbody>\n    <tr>\n      <th>0</th>\n      <td>#Butare</td>\n      <td>#Huye</td>\n      <td>3.422908</td>\n      <td>44.244612</td>\n      <td>3.627016</td>\n      <td>6.172614</td>\n      <td>5.291680</td>\n      <td>4.064223</td>\n      <td>31.036493</td>\n      <td>2.140454</td>\n      <td>24</td>\n      <td>Huye</td>\n    </tr>\n    <tr>\n      <th>1</th>\n      <td>#Gisenyi</td>\n      <td>#Rubavu</td>\n      <td>5.559486</td>\n      <td>22.548419</td>\n      <td>13.573917</td>\n      <td>4.623371</td>\n      <td>5.332477</td>\n      <td>5.042172</td>\n      <td>38.793541</td>\n      <td>4.526616</td>\n      <td>33</td>\n      <td>Rubavu</td>\n    </tr>\n    <tr>\n      <th>2</th>\n      <td>#Kibungo</td>\n      <td>#Kayonza</td>\n      <td>4.672437</td>\n      <td>50.542219</td>\n      <td>5.692345</td>\n      <td>1.190252</td>\n      <td>3.229973</td>\n      <td>1.996367</td>\n      <td>23.586532</td>\n      <td>9.089875</td>\n      <td>54</td>\n      <td>Kayonza</td>\n    </tr>\n    <tr>\n      <th>3</th>\n      <td>#Kibuye</td>\n      <td>#Rutsiro</td>\n      <td>13.870090</td>\n      <td>44.533178</td>\n      <td>2.752274</td>\n      <td>0.388700</td>\n      <td>2.106053</td>\n      <td>2.345845</td>\n      <td>32.841147</td>\n      <td>1.162714</td>\n      <td>32</td>\n      <td>Rutsiro</td>\n    </tr>\n    <tr>\n      <th>4</th>\n      <td>#Umutara</td>\n      <td>#Nyagatare</td>\n      <td>18.330118</td>\n      <td>26.289695</td>\n      <td>19.712840</td>\n      <td>2.480297</td>\n      <td>2.759680</td>\n      <td>1.138148</td>\n      <td>27.338872</td>\n      <td>1.950351</td>\n      <td>52</td>\n      <td>Nyagatare</td>\n    </tr>\n    <tr>\n      <th>5</th>\n      <td>$East/Iburasirazuba</td>\n      <td>$Bugesera</td>\n      <td>9.246055</td>\n      <td>70.965856</td>\n      <td>0.788217</td>\n      <td>1.907635</td>\n      <td>NaN</td>\n      <td>0.692850</td>\n      <td>13.088132</td>\n      <td>3.311254</td>\n      <td>57</td>\n      <td>Bugesera</td>\n    </tr>\n    <tr>\n      <th>6</th>\n      <td>$East/Iburasirazuba</td>\n      <td>$Gatsibo</td>\n      <td>9.974678</td>\n      <td>65.925489</td>\n      <td>1.299100</td>\n      <td>1.091147</td>\n      <td>1.037016</td>\n      <td>2.620292</td>\n      <td>16.202872</td>\n      <td>1.849407</td>\n      <td>53</td>\n      <td>Gatsibo</td>\n    </tr>\n    <tr>\n      <th>7</th>\n      <td>$East/Iburasirazuba</td>\n      <td>$Kirehe</td>\n      <td>28.872728</td>\n      <td>55.133631</td>\n      <td>3.320417</td>\n      <td>1.264830</td>\n      <td>0.779173</td>\n      <td>2.044424</td>\n      <td>5.883126</td>\n      <td>2.701671</td>\n      <td>55</td>\n      <td>Kirehe</td>\n    </tr>\n    <tr>\n      <th>8</th>\n      <td>$East/Iburasirazuba</td>\n      <td>$Ngoma</td>\n      <td>8.259953</td>\n      <td>64.311559</td>\n      <td>1.302461</td>\n      <td>2.971028</td>\n      <td>4.820994</td>\n      <td>1.496522</td>\n      <td>14.870143</td>\n      <td>1.967341</td>\n      <td>56</td>\n      <td>Ngoma</td>\n    </tr>\n    <tr>\n      <th>9</th>\n      <td>$East/Iburasirazuba</td>\n      <td>$Rwamagana</td>\n      <td>19.287699</td>\n      <td>42.965480</td>\n      <td>4.154076</td>\n      <td>3.728315</td>\n      <td>5.408280</td>\n      <td>0.653241</td>\n      <td>22.048578</td>\n      <td>1.754331</td>\n      <td>51</td>\n      <td>Rwamagana</td>\n    </tr>\n    <tr>\n      <th>10</th>\n      <td>$North/Amajyaruguru</td>\n      <td>$Burera</td>\n      <td>15.180629</td>\n      <td>66.311067</td>\n      <td>3.984246</td>\n      <td>0.401235</td>\n      <td>0.868040</td>\n      <td>1.270421</td>\n      <td>9.648382</td>\n      <td>2.335979</td>\n      <td>44</td>\n      <td>Burera</td>\n    </tr>\n    <tr>\n      <th>11</th>\n      <td>$North/Amajyaruguru</td>\n      <td>$Gakenke</td>\n      <td>19.093477</td>\n      <td>59.855715</td>\n      <td>2.002994</td>\n      <td>1.709742</td>\n      <td>0.398441</td>\n      <td>1.705897</td>\n      <td>12.121886</td>\n      <td>3.111848</td>\n      <td>42</td>\n      <td>Gakenke</td>\n    </tr>\n    <tr>\n      <th>12</th>\n      <td>$North/Amajyaruguru</td>\n      <td>$Gicumbi</td>\n      <td>22.501474</td>\n      <td>46.871493</td>\n      <td>1.978271</td>\n      <td>4.101503</td>\n      <td>2.369818</td>\n      <td>NaN</td>\n      <td>20.538930</td>\n      <td>1.638511</td>\n      <td>45</td>\n      <td>Gicumbi</td>\n    </tr>\n    <tr>\n      <th>13</th>\n      <td>$North/Amajyaruguru</td>\n      <td>$Musanze</td>\n      <td>11.765617</td>\n      <td>31.760800</td>\n      <td>3.244478</td>\n      <td>6.749546</td>\n      <td>5.547789</td>\n      <td>1.342201</td>\n      <td>32.732041</td>\n      <td>6.857529</td>\n      <td>43</td>\n      <td>Musanze</td>\n    </tr>\n    <tr>\n      <th>14</th>\n      <td>$North/Amajyaruguru</td>\n      <td>$Rulindo</td>\n      <td>16.651847</td>\n      <td>35.028587</td>\n      <td>0.615781</td>\n      <td>2.641860</td>\n      <td>3.079436</td>\n      <td>1.624357</td>\n      <td>32.271570</td>\n      <td>8.086562</td>\n      <td>41</td>\n      <td>Rulindo</td>\n    </tr>\n    <tr>\n      <th>15</th>\n      <td>$South/Amajyepfo</td>\n      <td>$Gisagara</td>\n      <td>6.981939</td>\n      <td>51.040670</td>\n      <td>2.095012</td>\n      <td>0.792274</td>\n      <td>1.219079</td>\n      <td>NaN</td>\n      <td>36.150250</td>\n      <td>1.720775</td>\n      <td>22</td>\n      <td>Gisagara</td>\n    </tr>\n    <tr>\n      <th>16</th>\n      <td>$South/Amajyepfo</td>\n      <td>$Kamonyi</td>\n      <td>14.528755</td>\n      <td>48.020059</td>\n      <td>6.001212</td>\n      <td>1.982491</td>\n      <td>1.861244</td>\n      <td>0.314027</td>\n      <td>24.993285</td>\n      <td>2.298926</td>\n      <td>28</td>\n      <td>Kamonyi</td>\n    </tr>\n    <tr>\n      <th>17</th>\n      <td>$South/Amajyepfo</td>\n      <td>$Muhanga</td>\n      <td>7.317987</td>\n      <td>78.407600</td>\n      <td>1.629715</td>\n      <td>0.403797</td>\n      <td>0.445656</td>\n      <td>0.427466</td>\n      <td>7.847130</td>\n      <td>3.520649</td>\n      <td>27</td>\n      <td>Muhanga</td>\n    </tr>\n    <tr>\n      <th>18</th>\n      <td>$South/Amajyepfo</td>\n      <td>$Nyamagabe</td>\n      <td>13.766597</td>\n      <td>49.230771</td>\n      <td>4.215963</td>\n      <td>1.920617</td>\n      <td>0.797910</td>\n      <td>6.172747</td>\n      <td>21.884104</td>\n      <td>2.011291</td>\n      <td>25</td>\n      <td>Nyamagabe</td>\n    </tr>\n    <tr>\n      <th>19</th>\n      <td>$South/Amajyepfo</td>\n      <td>$Nyanza</td>\n      <td>5.875105</td>\n      <td>67.976362</td>\n      <td>3.135916</td>\n      <td>0.570092</td>\n      <td>1.390911</td>\n      <td>1.777566</td>\n      <td>16.146403</td>\n      <td>3.127646</td>\n      <td>21</td>\n      <td>Nyanza</td>\n    </tr>\n    <tr>\n      <th>20</th>\n      <td>$South/Amajyepfo</td>\n      <td>$Nyaruguru</td>\n      <td>14.615647</td>\n      <td>59.534472</td>\n      <td>3.258639</td>\n      <td>1.226681</td>\n      <td>0.881848</td>\n      <td>2.525330</td>\n      <td>10.673226</td>\n      <td>7.284157</td>\n      <td>23</td>\n      <td>Nyaruguru</td>\n    </tr>\n    <tr>\n      <th>21</th>\n      <td>$South/Amajyepfo</td>\n      <td>$Ruhango</td>\n      <td>23.036100</td>\n      <td>52.747524</td>\n      <td>4.075744</td>\n      <td>3.838113</td>\n      <td>NaN</td>\n      <td>0.806547</td>\n      <td>15.144472</td>\n      <td>0.351500</td>\n      <td>26</td>\n      <td>Ruhango</td>\n    </tr>\n    <tr>\n      <th>22</th>\n      <td>$West/Iburengerazuba</td>\n      <td>$Karongi</td>\n      <td>29.617743</td>\n      <td>46.615226</td>\n      <td>2.288559</td>\n      <td>1.562365</td>\n      <td>1.964331</td>\n      <td>0.784986</td>\n      <td>13.752003</td>\n      <td>3.414786</td>\n      <td>31</td>\n      <td>Karongi</td>\n    </tr>\n    <tr>\n      <th>23</th>\n      <td>$West/Iburengerazuba</td>\n      <td>$Ngororero</td>\n      <td>3.507234</td>\n      <td>68.391859</td>\n      <td>1.565257</td>\n      <td>1.278439</td>\n      <td>1.218128</td>\n      <td>0.451858</td>\n      <td>22.149859</td>\n      <td>1.437365</td>\n      <td>35</td>\n      <td>Ngororero</td>\n    </tr>\n    <tr>\n      <th>24</th>\n      <td>$West/Iburengerazuba</td>\n      <td>$Nyabihu</td>\n      <td>1.007911</td>\n      <td>32.150263</td>\n      <td>10.046850</td>\n      <td>2.543886</td>\n      <td>4.776823</td>\n      <td>1.639272</td>\n      <td>44.900651</td>\n      <td>2.934344</td>\n      <td>34</td>\n      <td>Nyabihu</td>\n    </tr>\n    <tr>\n      <th>25</th>\n      <td>$West/Iburengerazuba</td>\n      <td>$Nyamasheke</td>\n      <td>38.593026</td>\n      <td>34.160227</td>\n      <td>1.681093</td>\n      <td>1.831012</td>\n      <td>1.203293</td>\n      <td>2.024545</td>\n      <td>20.228862</td>\n      <td>0.277943</td>\n      <td>37</td>\n      <td>Nyamasheke</td>\n    </tr>\n    <tr>\n      <th>26</th>\n      <td>$West/Iburengerazuba</td>\n      <td>$Rusizi</td>\n      <td>8.716393</td>\n      <td>66.023214</td>\n      <td>3.637643</td>\n      <td>1.731830</td>\n      <td>3.754816</td>\n      <td>1.315136</td>\n      <td>12.790276</td>\n      <td>2.030692</td>\n      <td>36</td>\n      <td>Rusizi</td>\n    </tr>\n    <tr>\n      <th>27</th>\n      <td>Kigali City/Umujyi wa Kigali</td>\n      <td>$Gasabo</td>\n      <td>7.471643</td>\n      <td>15.159722</td>\n      <td>1.115969</td>\n      <td>18.803093</td>\n      <td>7.638769</td>\n      <td>1.814693</td>\n      <td>37.457538</td>\n      <td>10.538573</td>\n      <td>12</td>\n      <td>Gasabo</td>\n    </tr>\n    <tr>\n      <th>28</th>\n      <td>Kigali City/Umujyi wa Kigali</td>\n      <td>Kicukiro</td>\n      <td>0.893302</td>\n      <td>5.718570</td>\n      <td>4.976356</td>\n      <td>35.917290</td>\n      <td>10.316451</td>\n      <td>4.828594</td>\n      <td>22.518460</td>\n      <td>14.830978</td>\n      <td>13</td>\n      <td>Kicukiro</td>\n    </tr>\n    <tr>\n      <th>29</th>\n      <td>Kigali City/Umujyi wa Kigali</td>\n      <td>Nyarugenge</td>\n      <td>0.455348</td>\n      <td>15.325222</td>\n      <td>4.528377</td>\n      <td>18.330348</td>\n      <td>20.759084</td>\n      <td>12.159040</td>\n      <td>12.860004</td>\n      <td>15.582577</td>\n      <td>11</td>\n      <td>Nyarugenge</td>\n    </tr>\n  </tbody>\n</table>\n</div>"
     },
     "metadata": {},
     "execution_count": 24
    }
   ],
   "source": [
    "df_income_pivot_2"
   ]
  },
  {
   "cell_type": "code",
   "execution_count": 25,
   "metadata": {},
   "outputs": [],
   "source": [
    "df_income_pivot_2.to_csv('income_by_districts.csv')"
   ]
  },
  {
   "cell_type": "code",
   "execution_count": null,
   "metadata": {},
   "outputs": [],
   "source": []
  }
 ]
}