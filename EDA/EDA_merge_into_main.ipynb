{
 "metadata": {
  "language_info": {
   "codemirror_mode": {
    "name": "ipython",
    "version": 3
   },
   "file_extension": ".py",
   "mimetype": "text/x-python",
   "name": "python",
   "nbconvert_exporter": "python",
   "pygments_lexer": "ipython3",
   "version": "3.7.6-final"
  },
  "orig_nbformat": 2,
  "kernelspec": {
   "name": "python37664bitbaseconda062aaadf6fe649f9beb295b82a5e77a6",
   "display_name": "Python 3.7.6 64-bit ('base': conda)"
  }
 },
 "nbformat": 4,
 "nbformat_minor": 2,
 "cells": [
  {
   "cell_type": "code",
   "execution_count": 7,
   "metadata": {},
   "outputs": [],
   "source": [
    "import pandas as pd"
   ]
  },
  {
   "cell_type": "code",
   "execution_count": 8,
   "metadata": {},
   "outputs": [],
   "source": [
    "\n",
    "pd_dhs_indicators = pd.read_csv('/Users/jasimrashid/Projects/DS-Unit-6-Labs/Labs27-A-Bridges_to_Prosperity-DS/EDA/dhs_indicators_1_second_version.csv')\n",
    "\n",
    "pd_income_by_districts = pd.read_csv('/Users/jasimrashid/Projects/DS-Unit-6-Labs/Labs27-A-Bridges_to_Prosperity-DS/EDA/income_by_districts.csv')\n",
    "\n",
    "pd_main_dataset = pd.read_csv('/Users/jasimrashid/Projects/DS-Unit-6-Labs/B2P_Rwanda_matchedIDs_final_2020-09-24_copy.csv')"
   ]
  },
  {
   "cell_type": "code",
   "execution_count": 9,
   "metadata": {},
   "outputs": [
    {
     "output_type": "execute_result",
     "data": {
      "text/plain": [
       "   Unnamed: 0 Location  Gender_parity_index_for_net_primary_school_attendance  \\\n",
       "0           0     East                                               1.01       \n",
       "1           1   Kigali                                               1.00       \n",
       "2           2    North                                               1.03       \n",
       "3           3    South                                               1.00       \n",
       "4           4     West                                               1.02       \n",
       "\n",
       "   Gender_parity_index_for_net_secondary_school_attendance  \\\n",
       "0                                               1.01         \n",
       "1                                               0.90         \n",
       "2                                               1.37         \n",
       "3                                               1.20         \n",
       "4                                               1.33         \n",
       "\n",
       "   Households with electricity  Infant mortality rate  \\\n",
       "0                         19.5                   51.0   \n",
       "1                         70.7                   29.0   \n",
       "2                         16.2                   38.0   \n",
       "3                         10.8                   40.0   \n",
       "4                         19.5                   41.0   \n",
       "\n",
       "   Malaria_prevalence_according_to_RDT  \\\n",
       "0                                 15.5   \n",
       "1                                  1.6   \n",
       "2                                  0.0   \n",
       "3                                 11.4   \n",
       "4                                  2.4   \n",
       "\n",
       "   Net_primary_school_attendance_rate_female  \\\n",
       "0                                       92.6   \n",
       "1                                       91.9   \n",
       "2                                       94.2   \n",
       "3                                       90.7   \n",
       "4                                       92.8   \n",
       "\n",
       "   Net_primary_school_attendance_rate_male  \\\n",
       "0                                     91.8   \n",
       "1                                     91.8   \n",
       "2                                     91.3   \n",
       "3                                     90.4   \n",
       "4                                     91.1   \n",
       "\n",
       "   Net_primary_school_attendance_rate_total  Under_five_mortality_rate  \\\n",
       "0                                      92.2                       86.0   \n",
       "1                                      91.8                       42.0   \n",
       "2                                      92.7                       60.0   \n",
       "3                                      90.6                       66.0   \n",
       "4                                      92.0                       62.0   \n",
       "\n",
       "   Women_who_are_literate  Women_with_secondary_or_higher_education  \n",
       "0                    76.3                                      18.0  \n",
       "1                    92.1                                      43.2  \n",
       "2                    79.9                                      21.8  \n",
       "3                    79.9                                      20.4  \n",
       "4                    77.9                                      21.7  "
      ],
      "text/html": "<div>\n<style scoped>\n    .dataframe tbody tr th:only-of-type {\n        vertical-align: middle;\n    }\n\n    .dataframe tbody tr th {\n        vertical-align: top;\n    }\n\n    .dataframe thead th {\n        text-align: right;\n    }\n</style>\n<table border=\"1\" class=\"dataframe\">\n  <thead>\n    <tr style=\"text-align: right;\">\n      <th></th>\n      <th>Unnamed: 0</th>\n      <th>Location</th>\n      <th>Gender_parity_index_for_net_primary_school_attendance</th>\n      <th>Gender_parity_index_for_net_secondary_school_attendance</th>\n      <th>Households with electricity</th>\n      <th>Infant mortality rate</th>\n      <th>Malaria_prevalence_according_to_RDT</th>\n      <th>Net_primary_school_attendance_rate_female</th>\n      <th>Net_primary_school_attendance_rate_male</th>\n      <th>Net_primary_school_attendance_rate_total</th>\n      <th>Under_five_mortality_rate</th>\n      <th>Women_who_are_literate</th>\n      <th>Women_with_secondary_or_higher_education</th>\n    </tr>\n  </thead>\n  <tbody>\n    <tr>\n      <th>0</th>\n      <td>0</td>\n      <td>East</td>\n      <td>1.01</td>\n      <td>1.01</td>\n      <td>19.5</td>\n      <td>51.0</td>\n      <td>15.5</td>\n      <td>92.6</td>\n      <td>91.8</td>\n      <td>92.2</td>\n      <td>86.0</td>\n      <td>76.3</td>\n      <td>18.0</td>\n    </tr>\n    <tr>\n      <th>1</th>\n      <td>1</td>\n      <td>Kigali</td>\n      <td>1.00</td>\n      <td>0.90</td>\n      <td>70.7</td>\n      <td>29.0</td>\n      <td>1.6</td>\n      <td>91.9</td>\n      <td>91.8</td>\n      <td>91.8</td>\n      <td>42.0</td>\n      <td>92.1</td>\n      <td>43.2</td>\n    </tr>\n    <tr>\n      <th>2</th>\n      <td>2</td>\n      <td>North</td>\n      <td>1.03</td>\n      <td>1.37</td>\n      <td>16.2</td>\n      <td>38.0</td>\n      <td>0.0</td>\n      <td>94.2</td>\n      <td>91.3</td>\n      <td>92.7</td>\n      <td>60.0</td>\n      <td>79.9</td>\n      <td>21.8</td>\n    </tr>\n    <tr>\n      <th>3</th>\n      <td>3</td>\n      <td>South</td>\n      <td>1.00</td>\n      <td>1.20</td>\n      <td>10.8</td>\n      <td>40.0</td>\n      <td>11.4</td>\n      <td>90.7</td>\n      <td>90.4</td>\n      <td>90.6</td>\n      <td>66.0</td>\n      <td>79.9</td>\n      <td>20.4</td>\n    </tr>\n    <tr>\n      <th>4</th>\n      <td>4</td>\n      <td>West</td>\n      <td>1.02</td>\n      <td>1.33</td>\n      <td>19.5</td>\n      <td>41.0</td>\n      <td>2.4</td>\n      <td>92.8</td>\n      <td>91.1</td>\n      <td>92.0</td>\n      <td>62.0</td>\n      <td>77.9</td>\n      <td>21.7</td>\n    </tr>\n  </tbody>\n</table>\n</div>"
     },
     "metadata": {},
     "execution_count": 9
    }
   ],
   "source": [
    "pd_dhs_indicators.head()"
   ]
  },
  {
   "cell_type": "code",
   "execution_count": 10,
   "metadata": {},
   "outputs": [
    {
     "output_type": "execute_result",
     "data": {
      "text/plain": [
       "   Unnamed: 0 ADM1_NAME   ADM2_NAME  Agro - Crop&Livestock  \\\n",
       "0           0   #Butare       #Huye               3.422908   \n",
       "1           1  #Gisenyi     #Rubavu               5.559486   \n",
       "2           2  #Kibungo    #Kayonza               4.672437   \n",
       "3           3   #Kibuye    #Rutsiro              13.870090   \n",
       "4           4  #Umutara  #Nyagatare              18.330118   \n",
       "\n",
       "   Agro - Food&Cash Crop  AgroCmrc - Trade/Wholesale  \\\n",
       "0              44.244612                    3.627016   \n",
       "1              22.548419                   13.573917   \n",
       "2              50.542219                    5.692345   \n",
       "3              44.533178                    2.752274   \n",
       "4              26.289695                   19.712840   \n",
       "\n",
       "   Commerce - Business/Trading  Commerce - Petty Trade  \\\n",
       "0                     6.172614                5.291680   \n",
       "1                     4.623371                5.332477   \n",
       "2                     1.190252                3.229973   \n",
       "3                     0.388700                2.106053   \n",
       "4                     2.480297                2.759680   \n",
       "\n",
       "   Labor - Artisan/Skilled  Labor - Daily/Unskilled - Agro     Other  \\\n",
       "0                 4.064223                       31.036493  2.140454   \n",
       "1                 5.042172                       38.793541  4.526616   \n",
       "2                 1.996367                       23.586532  9.089875   \n",
       "3                 2.345845                       32.841147  1.162714   \n",
       "4                 1.138148                       27.338872  1.950351   \n",
       "\n",
       "   district_id   district  \n",
       "0           24       Huye  \n",
       "1           33     Rubavu  \n",
       "2           54    Kayonza  \n",
       "3           32    Rutsiro  \n",
       "4           52  Nyagatare  "
      ],
      "text/html": "<div>\n<style scoped>\n    .dataframe tbody tr th:only-of-type {\n        vertical-align: middle;\n    }\n\n    .dataframe tbody tr th {\n        vertical-align: top;\n    }\n\n    .dataframe thead th {\n        text-align: right;\n    }\n</style>\n<table border=\"1\" class=\"dataframe\">\n  <thead>\n    <tr style=\"text-align: right;\">\n      <th></th>\n      <th>Unnamed: 0</th>\n      <th>ADM1_NAME</th>\n      <th>ADM2_NAME</th>\n      <th>Agro - Crop&amp;Livestock</th>\n      <th>Agro - Food&amp;Cash Crop</th>\n      <th>AgroCmrc - Trade/Wholesale</th>\n      <th>Commerce - Business/Trading</th>\n      <th>Commerce - Petty Trade</th>\n      <th>Labor - Artisan/Skilled</th>\n      <th>Labor - Daily/Unskilled - Agro</th>\n      <th>Other</th>\n      <th>district_id</th>\n      <th>district</th>\n    </tr>\n  </thead>\n  <tbody>\n    <tr>\n      <th>0</th>\n      <td>0</td>\n      <td>#Butare</td>\n      <td>#Huye</td>\n      <td>3.422908</td>\n      <td>44.244612</td>\n      <td>3.627016</td>\n      <td>6.172614</td>\n      <td>5.291680</td>\n      <td>4.064223</td>\n      <td>31.036493</td>\n      <td>2.140454</td>\n      <td>24</td>\n      <td>Huye</td>\n    </tr>\n    <tr>\n      <th>1</th>\n      <td>1</td>\n      <td>#Gisenyi</td>\n      <td>#Rubavu</td>\n      <td>5.559486</td>\n      <td>22.548419</td>\n      <td>13.573917</td>\n      <td>4.623371</td>\n      <td>5.332477</td>\n      <td>5.042172</td>\n      <td>38.793541</td>\n      <td>4.526616</td>\n      <td>33</td>\n      <td>Rubavu</td>\n    </tr>\n    <tr>\n      <th>2</th>\n      <td>2</td>\n      <td>#Kibungo</td>\n      <td>#Kayonza</td>\n      <td>4.672437</td>\n      <td>50.542219</td>\n      <td>5.692345</td>\n      <td>1.190252</td>\n      <td>3.229973</td>\n      <td>1.996367</td>\n      <td>23.586532</td>\n      <td>9.089875</td>\n      <td>54</td>\n      <td>Kayonza</td>\n    </tr>\n    <tr>\n      <th>3</th>\n      <td>3</td>\n      <td>#Kibuye</td>\n      <td>#Rutsiro</td>\n      <td>13.870090</td>\n      <td>44.533178</td>\n      <td>2.752274</td>\n      <td>0.388700</td>\n      <td>2.106053</td>\n      <td>2.345845</td>\n      <td>32.841147</td>\n      <td>1.162714</td>\n      <td>32</td>\n      <td>Rutsiro</td>\n    </tr>\n    <tr>\n      <th>4</th>\n      <td>4</td>\n      <td>#Umutara</td>\n      <td>#Nyagatare</td>\n      <td>18.330118</td>\n      <td>26.289695</td>\n      <td>19.712840</td>\n      <td>2.480297</td>\n      <td>2.759680</td>\n      <td>1.138148</td>\n      <td>27.338872</td>\n      <td>1.950351</td>\n      <td>52</td>\n      <td>Nyagatare</td>\n    </tr>\n  </tbody>\n</table>\n</div>"
     },
     "metadata": {},
     "execution_count": 10
    }
   ],
   "source": [
    "pd_income_by_districts.head()"
   ]
  },
  {
   "cell_type": "code",
   "execution_count": 11,
   "metadata": {},
   "outputs": [
    {
     "output_type": "execute_result",
     "data": {
      "text/plain": [
       "Index(['Unnamed: 0', 'ADM1_NAME', 'ADM2_NAME', 'Agro - Crop&Livestock',\n",
       "       'Agro - Food&Cash Crop', 'AgroCmrc - Trade/Wholesale',\n",
       "       'Commerce - Business/Trading', 'Commerce - Petty Trade',\n",
       "       'Labor - Artisan/Skilled', 'Labor - Daily/Unskilled - Agro', 'Other',\n",
       "       'district_id', 'district'],\n",
       "      dtype='object')"
      ]
     },
     "metadata": {},
     "execution_count": 11
    }
   ],
   "source": [
    "pd_income_by_districts.columns"
   ]
  },
  {
   "cell_type": "code",
   "execution_count": 12,
   "metadata": {},
   "outputs": [
    {
     "output_type": "execute_result",
     "data": {
      "text/plain": [
       "   Unnamed: 0 country           province district  district_id   sector  \\\n",
       "0           0  Rwanda   Western Province   Rusizi           36   Giheke   \n",
       "1           1  Rwanda   Western Province   Rusizi           36   Giheke   \n",
       "2           2  Rwanda  Northern Province  Rulindo           41   Buyoga   \n",
       "3           3  Rwanda  Northern Province  Gicumbi           45   Kageyo   \n",
       "4           4  Rwanda  Southern Province  Kamonyi           28  Kayenzi   \n",
       "\n",
       "   sector_id               cell   cell_id   village  ...  \\\n",
       "0     3605.0           Gakomeye  360502.0      Buzi  ...   \n",
       "1     3605.0           Gakomeye  360502.0      Buzi  ...   \n",
       "2     4104.0           Gahororo  410403.0  Gipfundo  ...   \n",
       "3     4506.0  Kabuga-Gatobotobo       NaN       NaN  ...   \n",
       "4     2803.0              Kirwa  280304.0    Gisizi  ...   \n",
       "\n",
       "   community_served_2_id community_served_3 community_served_3_id  \\\n",
       "0             36050203.0           Kagarama            36050204.0   \n",
       "1             36050201.0  Gacyamo - Gasheke            36050202.0   \n",
       "2                    NaN             Merezo                   NaN   \n",
       "3                    NaN                NaN                   NaN   \n",
       "4                    NaN                NaN                   NaN   \n",
       "\n",
       "  community_served_4 community_served_4_id community_served_5  \\\n",
       "0            Gacyamo            36050202.0            Gasheke   \n",
       "1           Kagarama            36050204.0             Kanoga   \n",
       "2           Minanire                   NaN          Karutongo   \n",
       "3                NaN                   NaN                NaN   \n",
       "4                NaN                   NaN                NaN   \n",
       "\n",
       "   community_served_5_id                             form        case_safe_id  \\\n",
       "0                    NaN  Project Assessment - 2018.10.29  a1if1000002e51bAAA   \n",
       "1                    NaN  Project Assessment - 2018.10.29  a1if1000002e51WAAQ   \n",
       "2                    NaN   Project Assessment - 2018.8.11  a1if10000025nz8AAA   \n",
       "3                    NaN   Project Assessment - 2018.8.11  a1if10000025nzDAAQ   \n",
       "4                    NaN  Project Assessment - 2018.11.15  a1if1000002gMwRAAU   \n",
       "\n",
       "    opportunity_id  \n",
       "0  006f100000d1fk1  \n",
       "1  006f100000d1fjw  \n",
       "2  006f100000a86I3  \n",
       "3  006f100000cPpL8  \n",
       "4  006f100000eescb  \n",
       "\n",
       "[5 rows x 33 columns]"
      ],
      "text/html": "<div>\n<style scoped>\n    .dataframe tbody tr th:only-of-type {\n        vertical-align: middle;\n    }\n\n    .dataframe tbody tr th {\n        vertical-align: top;\n    }\n\n    .dataframe thead th {\n        text-align: right;\n    }\n</style>\n<table border=\"1\" class=\"dataframe\">\n  <thead>\n    <tr style=\"text-align: right;\">\n      <th></th>\n      <th>Unnamed: 0</th>\n      <th>country</th>\n      <th>province</th>\n      <th>district</th>\n      <th>district_id</th>\n      <th>sector</th>\n      <th>sector_id</th>\n      <th>cell</th>\n      <th>cell_id</th>\n      <th>village</th>\n      <th>...</th>\n      <th>community_served_2_id</th>\n      <th>community_served_3</th>\n      <th>community_served_3_id</th>\n      <th>community_served_4</th>\n      <th>community_served_4_id</th>\n      <th>community_served_5</th>\n      <th>community_served_5_id</th>\n      <th>form</th>\n      <th>case_safe_id</th>\n      <th>opportunity_id</th>\n    </tr>\n  </thead>\n  <tbody>\n    <tr>\n      <th>0</th>\n      <td>0</td>\n      <td>Rwanda</td>\n      <td>Western Province</td>\n      <td>Rusizi</td>\n      <td>36</td>\n      <td>Giheke</td>\n      <td>3605.0</td>\n      <td>Gakomeye</td>\n      <td>360502.0</td>\n      <td>Buzi</td>\n      <td>...</td>\n      <td>36050203.0</td>\n      <td>Kagarama</td>\n      <td>36050204.0</td>\n      <td>Gacyamo</td>\n      <td>36050202.0</td>\n      <td>Gasheke</td>\n      <td>NaN</td>\n      <td>Project Assessment - 2018.10.29</td>\n      <td>a1if1000002e51bAAA</td>\n      <td>006f100000d1fk1</td>\n    </tr>\n    <tr>\n      <th>1</th>\n      <td>1</td>\n      <td>Rwanda</td>\n      <td>Western Province</td>\n      <td>Rusizi</td>\n      <td>36</td>\n      <td>Giheke</td>\n      <td>3605.0</td>\n      <td>Gakomeye</td>\n      <td>360502.0</td>\n      <td>Buzi</td>\n      <td>...</td>\n      <td>36050201.0</td>\n      <td>Gacyamo - Gasheke</td>\n      <td>36050202.0</td>\n      <td>Kagarama</td>\n      <td>36050204.0</td>\n      <td>Kanoga</td>\n      <td>NaN</td>\n      <td>Project Assessment - 2018.10.29</td>\n      <td>a1if1000002e51WAAQ</td>\n      <td>006f100000d1fjw</td>\n    </tr>\n    <tr>\n      <th>2</th>\n      <td>2</td>\n      <td>Rwanda</td>\n      <td>Northern Province</td>\n      <td>Rulindo</td>\n      <td>41</td>\n      <td>Buyoga</td>\n      <td>4104.0</td>\n      <td>Gahororo</td>\n      <td>410403.0</td>\n      <td>Gipfundo</td>\n      <td>...</td>\n      <td>NaN</td>\n      <td>Merezo</td>\n      <td>NaN</td>\n      <td>Minanire</td>\n      <td>NaN</td>\n      <td>Karutongo</td>\n      <td>NaN</td>\n      <td>Project Assessment - 2018.8.11</td>\n      <td>a1if10000025nz8AAA</td>\n      <td>006f100000a86I3</td>\n    </tr>\n    <tr>\n      <th>3</th>\n      <td>3</td>\n      <td>Rwanda</td>\n      <td>Northern Province</td>\n      <td>Gicumbi</td>\n      <td>45</td>\n      <td>Kageyo</td>\n      <td>4506.0</td>\n      <td>Kabuga-Gatobotobo</td>\n      <td>NaN</td>\n      <td>NaN</td>\n      <td>...</td>\n      <td>NaN</td>\n      <td>NaN</td>\n      <td>NaN</td>\n      <td>NaN</td>\n      <td>NaN</td>\n      <td>NaN</td>\n      <td>NaN</td>\n      <td>Project Assessment - 2018.8.11</td>\n      <td>a1if10000025nzDAAQ</td>\n      <td>006f100000cPpL8</td>\n    </tr>\n    <tr>\n      <th>4</th>\n      <td>4</td>\n      <td>Rwanda</td>\n      <td>Southern Province</td>\n      <td>Kamonyi</td>\n      <td>28</td>\n      <td>Kayenzi</td>\n      <td>2803.0</td>\n      <td>Kirwa</td>\n      <td>280304.0</td>\n      <td>Gisizi</td>\n      <td>...</td>\n      <td>NaN</td>\n      <td>NaN</td>\n      <td>NaN</td>\n      <td>NaN</td>\n      <td>NaN</td>\n      <td>NaN</td>\n      <td>NaN</td>\n      <td>Project Assessment - 2018.11.15</td>\n      <td>a1if1000002gMwRAAU</td>\n      <td>006f100000eescb</td>\n    </tr>\n  </tbody>\n</table>\n<p>5 rows × 33 columns</p>\n</div>"
     },
     "metadata": {},
     "execution_count": 12
    }
   ],
   "source": [
    "pd_main_dataset.head()"
   ]
  },
  {
   "cell_type": "code",
   "execution_count": 15,
   "metadata": {},
   "outputs": [
    {
     "output_type": "execute_result",
     "data": {
      "text/plain": [
       "((1423, 33), (30, 13), (5, 13))"
      ]
     },
     "metadata": {},
     "execution_count": 15
    }
   ],
   "source": [
    "pd_main_dataset.shape, pd_income_by_districts.shape, pd_dhs_indicators.shape"
   ]
  },
  {
   "cell_type": "code",
   "execution_count": 18,
   "metadata": {},
   "outputs": [
    {
     "output_type": "execute_result",
     "data": {
      "text/plain": [
       "   Unnamed: 0_x country          province district  district_id_x  \\\n",
       "0             0  Rwanda  Western Province   Rusizi             36   \n",
       "1             1  Rwanda  Western Province   Rusizi             36   \n",
       "2            63  Rwanda  Western Province   Rusizi             36   \n",
       "3            68  Rwanda  Western Province   Rusizi             36   \n",
       "4            69  Rwanda  Western Province   Rusizi             36   \n",
       "\n",
       "            sector  sector_id              cell   cell_id  village  ...  \\\n",
       "0           Giheke     3605.0          Gakomeye  360502.0     Buzi  ...   \n",
       "1           Giheke     3605.0          Gakomeye  360502.0     Buzi  ...   \n",
       "2         Bugarama     3601.0            Nyange  360101.0   Rusayo  ...   \n",
       "3  Giheke-Bushenge     3605.0  Gakomeye-Gasheke  360502.0  Gacyamo  ...   \n",
       "4           Butare     3602.0          Rwambogo  360204.0   Gasumo  ...   \n",
       "\n",
       "   ADM2_NAME Agro - Crop&Livestock Agro - Food&Cash Crop  \\\n",
       "0    $Rusizi              8.716393             66.023214   \n",
       "1    $Rusizi              8.716393             66.023214   \n",
       "2    $Rusizi              8.716393             66.023214   \n",
       "3    $Rusizi              8.716393             66.023214   \n",
       "4    $Rusizi              8.716393             66.023214   \n",
       "\n",
       "  AgroCmrc - Trade/Wholesale Commerce - Business/Trading  \\\n",
       "0                   3.637643                     1.73183   \n",
       "1                   3.637643                     1.73183   \n",
       "2                   3.637643                     1.73183   \n",
       "3                   3.637643                     1.73183   \n",
       "4                   3.637643                     1.73183   \n",
       "\n",
       "  Commerce - Petty Trade  Labor - Artisan/Skilled  \\\n",
       "0               3.754816                 1.315136   \n",
       "1               3.754816                 1.315136   \n",
       "2               3.754816                 1.315136   \n",
       "3               3.754816                 1.315136   \n",
       "4               3.754816                 1.315136   \n",
       "\n",
       "   Labor - Daily/Unskilled - Agro     Other  district_id_y  \n",
       "0                       12.790276  2.030692             36  \n",
       "1                       12.790276  2.030692             36  \n",
       "2                       12.790276  2.030692             36  \n",
       "3                       12.790276  2.030692             36  \n",
       "4                       12.790276  2.030692             36  \n",
       "\n",
       "[5 rows x 45 columns]"
      ],
      "text/html": "<div>\n<style scoped>\n    .dataframe tbody tr th:only-of-type {\n        vertical-align: middle;\n    }\n\n    .dataframe tbody tr th {\n        vertical-align: top;\n    }\n\n    .dataframe thead th {\n        text-align: right;\n    }\n</style>\n<table border=\"1\" class=\"dataframe\">\n  <thead>\n    <tr style=\"text-align: right;\">\n      <th></th>\n      <th>Unnamed: 0_x</th>\n      <th>country</th>\n      <th>province</th>\n      <th>district</th>\n      <th>district_id_x</th>\n      <th>sector</th>\n      <th>sector_id</th>\n      <th>cell</th>\n      <th>cell_id</th>\n      <th>village</th>\n      <th>...</th>\n      <th>ADM2_NAME</th>\n      <th>Agro - Crop&amp;Livestock</th>\n      <th>Agro - Food&amp;Cash Crop</th>\n      <th>AgroCmrc - Trade/Wholesale</th>\n      <th>Commerce - Business/Trading</th>\n      <th>Commerce - Petty Trade</th>\n      <th>Labor - Artisan/Skilled</th>\n      <th>Labor - Daily/Unskilled - Agro</th>\n      <th>Other</th>\n      <th>district_id_y</th>\n    </tr>\n  </thead>\n  <tbody>\n    <tr>\n      <th>0</th>\n      <td>0</td>\n      <td>Rwanda</td>\n      <td>Western Province</td>\n      <td>Rusizi</td>\n      <td>36</td>\n      <td>Giheke</td>\n      <td>3605.0</td>\n      <td>Gakomeye</td>\n      <td>360502.0</td>\n      <td>Buzi</td>\n      <td>...</td>\n      <td>$Rusizi</td>\n      <td>8.716393</td>\n      <td>66.023214</td>\n      <td>3.637643</td>\n      <td>1.73183</td>\n      <td>3.754816</td>\n      <td>1.315136</td>\n      <td>12.790276</td>\n      <td>2.030692</td>\n      <td>36</td>\n    </tr>\n    <tr>\n      <th>1</th>\n      <td>1</td>\n      <td>Rwanda</td>\n      <td>Western Province</td>\n      <td>Rusizi</td>\n      <td>36</td>\n      <td>Giheke</td>\n      <td>3605.0</td>\n      <td>Gakomeye</td>\n      <td>360502.0</td>\n      <td>Buzi</td>\n      <td>...</td>\n      <td>$Rusizi</td>\n      <td>8.716393</td>\n      <td>66.023214</td>\n      <td>3.637643</td>\n      <td>1.73183</td>\n      <td>3.754816</td>\n      <td>1.315136</td>\n      <td>12.790276</td>\n      <td>2.030692</td>\n      <td>36</td>\n    </tr>\n    <tr>\n      <th>2</th>\n      <td>63</td>\n      <td>Rwanda</td>\n      <td>Western Province</td>\n      <td>Rusizi</td>\n      <td>36</td>\n      <td>Bugarama</td>\n      <td>3601.0</td>\n      <td>Nyange</td>\n      <td>360101.0</td>\n      <td>Rusayo</td>\n      <td>...</td>\n      <td>$Rusizi</td>\n      <td>8.716393</td>\n      <td>66.023214</td>\n      <td>3.637643</td>\n      <td>1.73183</td>\n      <td>3.754816</td>\n      <td>1.315136</td>\n      <td>12.790276</td>\n      <td>2.030692</td>\n      <td>36</td>\n    </tr>\n    <tr>\n      <th>3</th>\n      <td>68</td>\n      <td>Rwanda</td>\n      <td>Western Province</td>\n      <td>Rusizi</td>\n      <td>36</td>\n      <td>Giheke-Bushenge</td>\n      <td>3605.0</td>\n      <td>Gakomeye-Gasheke</td>\n      <td>360502.0</td>\n      <td>Gacyamo</td>\n      <td>...</td>\n      <td>$Rusizi</td>\n      <td>8.716393</td>\n      <td>66.023214</td>\n      <td>3.637643</td>\n      <td>1.73183</td>\n      <td>3.754816</td>\n      <td>1.315136</td>\n      <td>12.790276</td>\n      <td>2.030692</td>\n      <td>36</td>\n    </tr>\n    <tr>\n      <th>4</th>\n      <td>69</td>\n      <td>Rwanda</td>\n      <td>Western Province</td>\n      <td>Rusizi</td>\n      <td>36</td>\n      <td>Butare</td>\n      <td>3602.0</td>\n      <td>Rwambogo</td>\n      <td>360204.0</td>\n      <td>Gasumo</td>\n      <td>...</td>\n      <td>$Rusizi</td>\n      <td>8.716393</td>\n      <td>66.023214</td>\n      <td>3.637643</td>\n      <td>1.73183</td>\n      <td>3.754816</td>\n      <td>1.315136</td>\n      <td>12.790276</td>\n      <td>2.030692</td>\n      <td>36</td>\n    </tr>\n  </tbody>\n</table>\n<p>5 rows × 45 columns</p>\n</div>"
     },
     "metadata": {},
     "execution_count": 18
    }
   ],
   "source": [
    "df_main_and_income = pd.merge(pd_main_dataset,pd_income_by_districts,on='district')\n",
    "df_main_and_income.head()"
   ]
  },
  {
   "cell_type": "code",
   "execution_count": 23,
   "metadata": {},
   "outputs": [
    {
     "output_type": "execute_result",
     "data": {
      "text/plain": [
       "   Unnamed: 0_x country          province district  district_id_x  \\\n",
       "0             0  Rwanda  Western Province   Rusizi             36   \n",
       "1             1  Rwanda  Western Province   Rusizi             36   \n",
       "2            63  Rwanda  Western Province   Rusizi             36   \n",
       "3            68  Rwanda  Western Province   Rusizi             36   \n",
       "4            69  Rwanda  Western Province   Rusizi             36   \n",
       "\n",
       "            sector  sector_id              cell   cell_id  village  ...  \\\n",
       "0           Giheke     3605.0          Gakomeye  360502.0     Buzi  ...   \n",
       "1           Giheke     3605.0          Gakomeye  360502.0     Buzi  ...   \n",
       "2         Bugarama     3601.0            Nyange  360101.0   Rusayo  ...   \n",
       "3  Giheke-Bushenge     3605.0  Gakomeye-Gasheke  360502.0  Gacyamo  ...   \n",
       "4           Butare     3602.0          Rwambogo  360204.0   Gasumo  ...   \n",
       "\n",
       "   ADM2_NAME Agro - Crop&Livestock Agro - Food&Cash Crop  \\\n",
       "0    $Rusizi              8.716393             66.023214   \n",
       "1    $Rusizi              8.716393             66.023214   \n",
       "2    $Rusizi              8.716393             66.023214   \n",
       "3    $Rusizi              8.716393             66.023214   \n",
       "4    $Rusizi              8.716393             66.023214   \n",
       "\n",
       "  AgroCmrc - Trade/Wholesale Commerce - Business/Trading  \\\n",
       "0                   3.637643                     1.73183   \n",
       "1                   3.637643                     1.73183   \n",
       "2                   3.637643                     1.73183   \n",
       "3                   3.637643                     1.73183   \n",
       "4                   3.637643                     1.73183   \n",
       "\n",
       "  Commerce - Petty Trade  Labor - Artisan/Skilled  \\\n",
       "0               3.754816                 1.315136   \n",
       "1               3.754816                 1.315136   \n",
       "2               3.754816                 1.315136   \n",
       "3               3.754816                 1.315136   \n",
       "4               3.754816                 1.315136   \n",
       "\n",
       "   Labor - Daily/Unskilled - Agro     Other  district_id_y  \n",
       "0                       12.790276  2.030692             36  \n",
       "1                       12.790276  2.030692             36  \n",
       "2                       12.790276  2.030692             36  \n",
       "3                       12.790276  2.030692             36  \n",
       "4                       12.790276  2.030692             36  \n",
       "\n",
       "[5 rows x 45 columns]"
      ],
      "text/html": "<div>\n<style scoped>\n    .dataframe tbody tr th:only-of-type {\n        vertical-align: middle;\n    }\n\n    .dataframe tbody tr th {\n        vertical-align: top;\n    }\n\n    .dataframe thead th {\n        text-align: right;\n    }\n</style>\n<table border=\"1\" class=\"dataframe\">\n  <thead>\n    <tr style=\"text-align: right;\">\n      <th></th>\n      <th>Unnamed: 0_x</th>\n      <th>country</th>\n      <th>province</th>\n      <th>district</th>\n      <th>district_id_x</th>\n      <th>sector</th>\n      <th>sector_id</th>\n      <th>cell</th>\n      <th>cell_id</th>\n      <th>village</th>\n      <th>...</th>\n      <th>ADM2_NAME</th>\n      <th>Agro - Crop&amp;Livestock</th>\n      <th>Agro - Food&amp;Cash Crop</th>\n      <th>AgroCmrc - Trade/Wholesale</th>\n      <th>Commerce - Business/Trading</th>\n      <th>Commerce - Petty Trade</th>\n      <th>Labor - Artisan/Skilled</th>\n      <th>Labor - Daily/Unskilled - Agro</th>\n      <th>Other</th>\n      <th>district_id_y</th>\n    </tr>\n  </thead>\n  <tbody>\n    <tr>\n      <th>0</th>\n      <td>0</td>\n      <td>Rwanda</td>\n      <td>Western Province</td>\n      <td>Rusizi</td>\n      <td>36</td>\n      <td>Giheke</td>\n      <td>3605.0</td>\n      <td>Gakomeye</td>\n      <td>360502.0</td>\n      <td>Buzi</td>\n      <td>...</td>\n      <td>$Rusizi</td>\n      <td>8.716393</td>\n      <td>66.023214</td>\n      <td>3.637643</td>\n      <td>1.73183</td>\n      <td>3.754816</td>\n      <td>1.315136</td>\n      <td>12.790276</td>\n      <td>2.030692</td>\n      <td>36</td>\n    </tr>\n    <tr>\n      <th>1</th>\n      <td>1</td>\n      <td>Rwanda</td>\n      <td>Western Province</td>\n      <td>Rusizi</td>\n      <td>36</td>\n      <td>Giheke</td>\n      <td>3605.0</td>\n      <td>Gakomeye</td>\n      <td>360502.0</td>\n      <td>Buzi</td>\n      <td>...</td>\n      <td>$Rusizi</td>\n      <td>8.716393</td>\n      <td>66.023214</td>\n      <td>3.637643</td>\n      <td>1.73183</td>\n      <td>3.754816</td>\n      <td>1.315136</td>\n      <td>12.790276</td>\n      <td>2.030692</td>\n      <td>36</td>\n    </tr>\n    <tr>\n      <th>2</th>\n      <td>63</td>\n      <td>Rwanda</td>\n      <td>Western Province</td>\n      <td>Rusizi</td>\n      <td>36</td>\n      <td>Bugarama</td>\n      <td>3601.0</td>\n      <td>Nyange</td>\n      <td>360101.0</td>\n      <td>Rusayo</td>\n      <td>...</td>\n      <td>$Rusizi</td>\n      <td>8.716393</td>\n      <td>66.023214</td>\n      <td>3.637643</td>\n      <td>1.73183</td>\n      <td>3.754816</td>\n      <td>1.315136</td>\n      <td>12.790276</td>\n      <td>2.030692</td>\n      <td>36</td>\n    </tr>\n    <tr>\n      <th>3</th>\n      <td>68</td>\n      <td>Rwanda</td>\n      <td>Western Province</td>\n      <td>Rusizi</td>\n      <td>36</td>\n      <td>Giheke-Bushenge</td>\n      <td>3605.0</td>\n      <td>Gakomeye-Gasheke</td>\n      <td>360502.0</td>\n      <td>Gacyamo</td>\n      <td>...</td>\n      <td>$Rusizi</td>\n      <td>8.716393</td>\n      <td>66.023214</td>\n      <td>3.637643</td>\n      <td>1.73183</td>\n      <td>3.754816</td>\n      <td>1.315136</td>\n      <td>12.790276</td>\n      <td>2.030692</td>\n      <td>36</td>\n    </tr>\n    <tr>\n      <th>4</th>\n      <td>69</td>\n      <td>Rwanda</td>\n      <td>Western Province</td>\n      <td>Rusizi</td>\n      <td>36</td>\n      <td>Butare</td>\n      <td>3602.0</td>\n      <td>Rwambogo</td>\n      <td>360204.0</td>\n      <td>Gasumo</td>\n      <td>...</td>\n      <td>$Rusizi</td>\n      <td>8.716393</td>\n      <td>66.023214</td>\n      <td>3.637643</td>\n      <td>1.73183</td>\n      <td>3.754816</td>\n      <td>1.315136</td>\n      <td>12.790276</td>\n      <td>2.030692</td>\n      <td>36</td>\n    </tr>\n  </tbody>\n</table>\n<p>5 rows × 45 columns</p>\n</div>"
     },
     "metadata": {},
     "execution_count": 23
    }
   ],
   "source": [
    "df_main_and_income.head()"
   ]
  },
  {
   "cell_type": "code",
   "execution_count": 26,
   "metadata": {},
   "outputs": [
    {
     "output_type": "execute_result",
     "data": {
      "text/plain": [
       "['Western Province',\n",
       " 'Northern Province',\n",
       " 'Southern Province',\n",
       " 'Kigali',\n",
       " 'Eastern Province']"
      ]
     },
     "metadata": {},
     "execution_count": 26
    }
   ],
   "source": [
    "list(df_main_and_income.province.unique())"
   ]
  },
  {
   "cell_type": "code",
   "execution_count": 25,
   "metadata": {},
   "outputs": [
    {
     "output_type": "execute_result",
     "data": {
      "text/plain": [
       "0      East\n",
       "1    Kigali\n",
       "2     North\n",
       "3     South\n",
       "4      West\n",
       "Name: Location, dtype: object"
      ]
     },
     "metadata": {},
     "execution_count": 25
    }
   ],
   "source": [
    "pd_dhs_indicators['Location']"
   ]
  },
  {
   "cell_type": "code",
   "execution_count": 28,
   "metadata": {},
   "outputs": [],
   "source": [
    "mapping = {'Western Province':'West',\n",
    " 'Northern Province':'North',\n",
    " 'Southern Province':'South',\n",
    " 'Kigali':'Kigali',\n",
    " 'Eastern Province':'East'}"
   ]
  },
  {
   "cell_type": "code",
   "execution_count": 30,
   "metadata": {},
   "outputs": [
    {
     "output_type": "execute_result",
     "data": {
      "text/plain": [
       "{'West': 'Western Province',\n",
       " 'North': 'Northern Province',\n",
       " 'South': 'Southern Province',\n",
       " 'Kigali': 'Kigali',\n",
       " 'East': 'Eastern Province'}"
      ]
     },
     "metadata": {},
     "execution_count": 30
    }
   ],
   "source": [
    "# OOPS: reversing the mapping\n",
    "rev = {}\n",
    "for k,v in mapping.items():\n",
    "    rev[v]=k\n",
    "mapping=rev\n",
    "mapping\n"
   ]
  },
  {
   "cell_type": "code",
   "execution_count": 33,
   "metadata": {},
   "outputs": [
    {
     "output_type": "execute_result",
     "data": {
      "text/plain": [
       "   Unnamed: 0           Location  \\\n",
       "0           0   Eastern Province   \n",
       "1           1             Kigali   \n",
       "2           2  Northern Province   \n",
       "3           3  Southern Province   \n",
       "4           4   Western Province   \n",
       "\n",
       "   Gender_parity_index_for_net_primary_school_attendance  \\\n",
       "0                                               1.01       \n",
       "1                                               1.00       \n",
       "2                                               1.03       \n",
       "3                                               1.00       \n",
       "4                                               1.02       \n",
       "\n",
       "   Gender_parity_index_for_net_secondary_school_attendance  \\\n",
       "0                                               1.01         \n",
       "1                                               0.90         \n",
       "2                                               1.37         \n",
       "3                                               1.20         \n",
       "4                                               1.33         \n",
       "\n",
       "   Households with electricity  Infant mortality rate  \\\n",
       "0                         19.5                   51.0   \n",
       "1                         70.7                   29.0   \n",
       "2                         16.2                   38.0   \n",
       "3                         10.8                   40.0   \n",
       "4                         19.5                   41.0   \n",
       "\n",
       "   Malaria_prevalence_according_to_RDT  \\\n",
       "0                                 15.5   \n",
       "1                                  1.6   \n",
       "2                                  0.0   \n",
       "3                                 11.4   \n",
       "4                                  2.4   \n",
       "\n",
       "   Net_primary_school_attendance_rate_female  \\\n",
       "0                                       92.6   \n",
       "1                                       91.9   \n",
       "2                                       94.2   \n",
       "3                                       90.7   \n",
       "4                                       92.8   \n",
       "\n",
       "   Net_primary_school_attendance_rate_male  \\\n",
       "0                                     91.8   \n",
       "1                                     91.8   \n",
       "2                                     91.3   \n",
       "3                                     90.4   \n",
       "4                                     91.1   \n",
       "\n",
       "   Net_primary_school_attendance_rate_total  Under_five_mortality_rate  \\\n",
       "0                                      92.2                       86.0   \n",
       "1                                      91.8                       42.0   \n",
       "2                                      92.7                       60.0   \n",
       "3                                      90.6                       66.0   \n",
       "4                                      92.0                       62.0   \n",
       "\n",
       "   Women_who_are_literate  Women_with_secondary_or_higher_education  \n",
       "0                    76.3                                      18.0  \n",
       "1                    92.1                                      43.2  \n",
       "2                    79.9                                      21.8  \n",
       "3                    79.9                                      20.4  \n",
       "4                    77.9                                      21.7  "
      ],
      "text/html": "<div>\n<style scoped>\n    .dataframe tbody tr th:only-of-type {\n        vertical-align: middle;\n    }\n\n    .dataframe tbody tr th {\n        vertical-align: top;\n    }\n\n    .dataframe thead th {\n        text-align: right;\n    }\n</style>\n<table border=\"1\" class=\"dataframe\">\n  <thead>\n    <tr style=\"text-align: right;\">\n      <th></th>\n      <th>Unnamed: 0</th>\n      <th>Location</th>\n      <th>Gender_parity_index_for_net_primary_school_attendance</th>\n      <th>Gender_parity_index_for_net_secondary_school_attendance</th>\n      <th>Households with electricity</th>\n      <th>Infant mortality rate</th>\n      <th>Malaria_prevalence_according_to_RDT</th>\n      <th>Net_primary_school_attendance_rate_female</th>\n      <th>Net_primary_school_attendance_rate_male</th>\n      <th>Net_primary_school_attendance_rate_total</th>\n      <th>Under_five_mortality_rate</th>\n      <th>Women_who_are_literate</th>\n      <th>Women_with_secondary_or_higher_education</th>\n    </tr>\n  </thead>\n  <tbody>\n    <tr>\n      <th>0</th>\n      <td>0</td>\n      <td>Eastern Province</td>\n      <td>1.01</td>\n      <td>1.01</td>\n      <td>19.5</td>\n      <td>51.0</td>\n      <td>15.5</td>\n      <td>92.6</td>\n      <td>91.8</td>\n      <td>92.2</td>\n      <td>86.0</td>\n      <td>76.3</td>\n      <td>18.0</td>\n    </tr>\n    <tr>\n      <th>1</th>\n      <td>1</td>\n      <td>Kigali</td>\n      <td>1.00</td>\n      <td>0.90</td>\n      <td>70.7</td>\n      <td>29.0</td>\n      <td>1.6</td>\n      <td>91.9</td>\n      <td>91.8</td>\n      <td>91.8</td>\n      <td>42.0</td>\n      <td>92.1</td>\n      <td>43.2</td>\n    </tr>\n    <tr>\n      <th>2</th>\n      <td>2</td>\n      <td>Northern Province</td>\n      <td>1.03</td>\n      <td>1.37</td>\n      <td>16.2</td>\n      <td>38.0</td>\n      <td>0.0</td>\n      <td>94.2</td>\n      <td>91.3</td>\n      <td>92.7</td>\n      <td>60.0</td>\n      <td>79.9</td>\n      <td>21.8</td>\n    </tr>\n    <tr>\n      <th>3</th>\n      <td>3</td>\n      <td>Southern Province</td>\n      <td>1.00</td>\n      <td>1.20</td>\n      <td>10.8</td>\n      <td>40.0</td>\n      <td>11.4</td>\n      <td>90.7</td>\n      <td>90.4</td>\n      <td>90.6</td>\n      <td>66.0</td>\n      <td>79.9</td>\n      <td>20.4</td>\n    </tr>\n    <tr>\n      <th>4</th>\n      <td>4</td>\n      <td>Western Province</td>\n      <td>1.02</td>\n      <td>1.33</td>\n      <td>19.5</td>\n      <td>41.0</td>\n      <td>2.4</td>\n      <td>92.8</td>\n      <td>91.1</td>\n      <td>92.0</td>\n      <td>62.0</td>\n      <td>77.9</td>\n      <td>21.7</td>\n    </tr>\n  </tbody>\n</table>\n</div>"
     },
     "metadata": {},
     "execution_count": 33
    }
   ],
   "source": [
    "pd_dhs_indicators['Location'] = pd_dhs_indicators['Location'].apply(lambda x: mapping[x])\n",
    "pd_dhs_indicators"
   ]
  },
  {
   "cell_type": "code",
   "execution_count": 38,
   "metadata": {},
   "outputs": [
    {
     "output_type": "execute_result",
     "data": {
      "text/plain": [
       "   Unnamed: 0_x country          province district  district_id_x  \\\n",
       "0             0  Rwanda  Western Province   Rusizi             36   \n",
       "1             1  Rwanda  Western Province   Rusizi             36   \n",
       "2            63  Rwanda  Western Province   Rusizi             36   \n",
       "3            68  Rwanda  Western Province   Rusizi             36   \n",
       "4            69  Rwanda  Western Province   Rusizi             36   \n",
       "\n",
       "            sector  sector_id              cell   cell_id  village  \\\n",
       "0           Giheke     3605.0          Gakomeye  360502.0     Buzi   \n",
       "1           Giheke     3605.0          Gakomeye  360502.0     Buzi   \n",
       "2         Bugarama     3601.0            Nyange  360101.0   Rusayo   \n",
       "3  Giheke-Bushenge     3605.0  Gakomeye-Gasheke  360502.0  Gacyamo   \n",
       "4           Butare     3602.0          Rwambogo  360204.0   Gasumo   \n",
       "\n",
       "   village_id        name project_code        type     stage  sub_stage  \\\n",
       "0  36050201.0        Buzi      1014107   Suspended  Rejected  Technical   \n",
       "1  36050201.0   Kamigisha      1014106   Suspended  Rejected  Technical   \n",
       "2  36010113.0      Rusayo      1007661  Suspension  Rejected  Technical   \n",
       "3  36050202.0     Gacyamo      1014108  Suspension  Rejected  Technical   \n",
       "4  36020406.0  Nyagatango      1014109   Suspended  Rejected  Technical   \n",
       "\n",
       "   Individuals_directly_served  span       lat       long community_served_1  \\\n",
       "0                            0     0 -2.420560  28.966200               Buzi   \n",
       "1                            0     0 -2.424860  28.957260             Kabuga   \n",
       "2                        17270    25 -2.697308  29.029517          Pera cell   \n",
       "3                            0     0 -2.418550  28.969460            Gacyamo   \n",
       "4                            0     0 -2.588680  29.112470             Gasumo   \n",
       "\n",
       "   community_served_1_id community_served_2  community_served_2_id  \\\n",
       "0             36050201.0             Kabuga             36050203.0   \n",
       "1             36050203.0               Buzi             36050201.0   \n",
       "2               360102.0        Kizura cell                    NaN   \n",
       "3             36050202.0               Buzi             36050201.0   \n",
       "4             36020406.0              Kenya                    NaN   \n",
       "\n",
       "  community_served_3  community_served_3_id community_served_4  \\\n",
       "0           Kagarama             36050204.0            Gacyamo   \n",
       "1  Gacyamo - Gasheke             36050202.0           Kagarama   \n",
       "2                NaN                    NaN                NaN   \n",
       "3             Kabuga             36050203.0           Kagarama   \n",
       "4         Ndengerezi                    NaN           Rushwati   \n",
       "\n",
       "   community_served_4_id community_served_5  community_served_5_id  \\\n",
       "0             36050202.0            Gasheke                    NaN   \n",
       "1             36050204.0             Kanoga                    NaN   \n",
       "2                    NaN                NaN                    NaN   \n",
       "3             36050204.0            Gasheke                    NaN   \n",
       "4                    NaN                NaN                    NaN   \n",
       "\n",
       "                              form        case_safe_id   opportunity_id  \\\n",
       "0  Project Assessment - 2018.10.29  a1if1000002e51bAAA  006f100000d1fk1   \n",
       "1  Project Assessment - 2018.10.29  a1if1000002e51WAAQ  006f100000d1fjw   \n",
       "2  Project Assessment - 2018.12.13  a1if1000002qz1JAAQ  006f100000a86ID   \n",
       "3  Project Assessment - 2018.10.29  a1if1000002e51gAAA  006f100000d1fk6   \n",
       "4  Project Assessment - 2018.10.29  a1if1000002e51lAAA  006f100000d1fkB   \n",
       "\n",
       "   Unnamed: 0_y             ADM1_NAME ADM2_NAME  Agro - Crop&Livestock  \\\n",
       "0            26  $West/Iburengerazuba   $Rusizi               8.716393   \n",
       "1            26  $West/Iburengerazuba   $Rusizi               8.716393   \n",
       "2            26  $West/Iburengerazuba   $Rusizi               8.716393   \n",
       "3            26  $West/Iburengerazuba   $Rusizi               8.716393   \n",
       "4            26  $West/Iburengerazuba   $Rusizi               8.716393   \n",
       "\n",
       "   Agro - Food&Cash Crop  AgroCmrc - Trade/Wholesale  \\\n",
       "0              66.023214                    3.637643   \n",
       "1              66.023214                    3.637643   \n",
       "2              66.023214                    3.637643   \n",
       "3              66.023214                    3.637643   \n",
       "4              66.023214                    3.637643   \n",
       "\n",
       "   Commerce - Business/Trading  Commerce - Petty Trade  \\\n",
       "0                      1.73183                3.754816   \n",
       "1                      1.73183                3.754816   \n",
       "2                      1.73183                3.754816   \n",
       "3                      1.73183                3.754816   \n",
       "4                      1.73183                3.754816   \n",
       "\n",
       "   Labor - Artisan/Skilled  Labor - Daily/Unskilled - Agro     Other  \\\n",
       "0                 1.315136                       12.790276  2.030692   \n",
       "1                 1.315136                       12.790276  2.030692   \n",
       "2                 1.315136                       12.790276  2.030692   \n",
       "3                 1.315136                       12.790276  2.030692   \n",
       "4                 1.315136                       12.790276  2.030692   \n",
       "\n",
       "   district_id_y  Unnamed: 0          Location  \\\n",
       "0             36           4  Western Province   \n",
       "1             36           4  Western Province   \n",
       "2             36           4  Western Province   \n",
       "3             36           4  Western Province   \n",
       "4             36           4  Western Province   \n",
       "\n",
       "   Gender_parity_index_for_net_primary_school_attendance  \\\n",
       "0                                               1.02       \n",
       "1                                               1.02       \n",
       "2                                               1.02       \n",
       "3                                               1.02       \n",
       "4                                               1.02       \n",
       "\n",
       "   Gender_parity_index_for_net_secondary_school_attendance  \\\n",
       "0                                               1.33         \n",
       "1                                               1.33         \n",
       "2                                               1.33         \n",
       "3                                               1.33         \n",
       "4                                               1.33         \n",
       "\n",
       "   Households with electricity  Infant mortality rate  \\\n",
       "0                         19.5                   41.0   \n",
       "1                         19.5                   41.0   \n",
       "2                         19.5                   41.0   \n",
       "3                         19.5                   41.0   \n",
       "4                         19.5                   41.0   \n",
       "\n",
       "   Malaria_prevalence_according_to_RDT  \\\n",
       "0                                  2.4   \n",
       "1                                  2.4   \n",
       "2                                  2.4   \n",
       "3                                  2.4   \n",
       "4                                  2.4   \n",
       "\n",
       "   Net_primary_school_attendance_rate_female  \\\n",
       "0                                       92.8   \n",
       "1                                       92.8   \n",
       "2                                       92.8   \n",
       "3                                       92.8   \n",
       "4                                       92.8   \n",
       "\n",
       "   Net_primary_school_attendance_rate_male  \\\n",
       "0                                     91.1   \n",
       "1                                     91.1   \n",
       "2                                     91.1   \n",
       "3                                     91.1   \n",
       "4                                     91.1   \n",
       "\n",
       "   Net_primary_school_attendance_rate_total  Under_five_mortality_rate  \\\n",
       "0                                      92.0                       62.0   \n",
       "1                                      92.0                       62.0   \n",
       "2                                      92.0                       62.0   \n",
       "3                                      92.0                       62.0   \n",
       "4                                      92.0                       62.0   \n",
       "\n",
       "   Women_who_are_literate  Women_with_secondary_or_higher_education  \n",
       "0                    77.9                                      21.7  \n",
       "1                    77.9                                      21.7  \n",
       "2                    77.9                                      21.7  \n",
       "3                    77.9                                      21.7  \n",
       "4                    77.9                                      21.7  "
      ],
      "text/html": "<div>\n<style scoped>\n    .dataframe tbody tr th:only-of-type {\n        vertical-align: middle;\n    }\n\n    .dataframe tbody tr th {\n        vertical-align: top;\n    }\n\n    .dataframe thead th {\n        text-align: right;\n    }\n</style>\n<table border=\"1\" class=\"dataframe\">\n  <thead>\n    <tr style=\"text-align: right;\">\n      <th></th>\n      <th>Unnamed: 0_x</th>\n      <th>country</th>\n      <th>province</th>\n      <th>district</th>\n      <th>district_id_x</th>\n      <th>sector</th>\n      <th>sector_id</th>\n      <th>cell</th>\n      <th>cell_id</th>\n      <th>village</th>\n      <th>village_id</th>\n      <th>name</th>\n      <th>project_code</th>\n      <th>type</th>\n      <th>stage</th>\n      <th>sub_stage</th>\n      <th>Individuals_directly_served</th>\n      <th>span</th>\n      <th>lat</th>\n      <th>long</th>\n      <th>community_served_1</th>\n      <th>community_served_1_id</th>\n      <th>community_served_2</th>\n      <th>community_served_2_id</th>\n      <th>community_served_3</th>\n      <th>community_served_3_id</th>\n      <th>community_served_4</th>\n      <th>community_served_4_id</th>\n      <th>community_served_5</th>\n      <th>community_served_5_id</th>\n      <th>form</th>\n      <th>case_safe_id</th>\n      <th>opportunity_id</th>\n      <th>Unnamed: 0_y</th>\n      <th>ADM1_NAME</th>\n      <th>ADM2_NAME</th>\n      <th>Agro - Crop&amp;Livestock</th>\n      <th>Agro - Food&amp;Cash Crop</th>\n      <th>AgroCmrc - Trade/Wholesale</th>\n      <th>Commerce - Business/Trading</th>\n      <th>Commerce - Petty Trade</th>\n      <th>Labor - Artisan/Skilled</th>\n      <th>Labor - Daily/Unskilled - Agro</th>\n      <th>Other</th>\n      <th>district_id_y</th>\n      <th>Unnamed: 0</th>\n      <th>Location</th>\n      <th>Gender_parity_index_for_net_primary_school_attendance</th>\n      <th>Gender_parity_index_for_net_secondary_school_attendance</th>\n      <th>Households with electricity</th>\n      <th>Infant mortality rate</th>\n      <th>Malaria_prevalence_according_to_RDT</th>\n      <th>Net_primary_school_attendance_rate_female</th>\n      <th>Net_primary_school_attendance_rate_male</th>\n      <th>Net_primary_school_attendance_rate_total</th>\n      <th>Under_five_mortality_rate</th>\n      <th>Women_who_are_literate</th>\n      <th>Women_with_secondary_or_higher_education</th>\n    </tr>\n  </thead>\n  <tbody>\n    <tr>\n      <th>0</th>\n      <td>0</td>\n      <td>Rwanda</td>\n      <td>Western Province</td>\n      <td>Rusizi</td>\n      <td>36</td>\n      <td>Giheke</td>\n      <td>3605.0</td>\n      <td>Gakomeye</td>\n      <td>360502.0</td>\n      <td>Buzi</td>\n      <td>36050201.0</td>\n      <td>Buzi</td>\n      <td>1014107</td>\n      <td>Suspended</td>\n      <td>Rejected</td>\n      <td>Technical</td>\n      <td>0</td>\n      <td>0</td>\n      <td>-2.420560</td>\n      <td>28.966200</td>\n      <td>Buzi</td>\n      <td>36050201.0</td>\n      <td>Kabuga</td>\n      <td>36050203.0</td>\n      <td>Kagarama</td>\n      <td>36050204.0</td>\n      <td>Gacyamo</td>\n      <td>36050202.0</td>\n      <td>Gasheke</td>\n      <td>NaN</td>\n      <td>Project Assessment - 2018.10.29</td>\n      <td>a1if1000002e51bAAA</td>\n      <td>006f100000d1fk1</td>\n      <td>26</td>\n      <td>$West/Iburengerazuba</td>\n      <td>$Rusizi</td>\n      <td>8.716393</td>\n      <td>66.023214</td>\n      <td>3.637643</td>\n      <td>1.73183</td>\n      <td>3.754816</td>\n      <td>1.315136</td>\n      <td>12.790276</td>\n      <td>2.030692</td>\n      <td>36</td>\n      <td>4</td>\n      <td>Western Province</td>\n      <td>1.02</td>\n      <td>1.33</td>\n      <td>19.5</td>\n      <td>41.0</td>\n      <td>2.4</td>\n      <td>92.8</td>\n      <td>91.1</td>\n      <td>92.0</td>\n      <td>62.0</td>\n      <td>77.9</td>\n      <td>21.7</td>\n    </tr>\n    <tr>\n      <th>1</th>\n      <td>1</td>\n      <td>Rwanda</td>\n      <td>Western Province</td>\n      <td>Rusizi</td>\n      <td>36</td>\n      <td>Giheke</td>\n      <td>3605.0</td>\n      <td>Gakomeye</td>\n      <td>360502.0</td>\n      <td>Buzi</td>\n      <td>36050201.0</td>\n      <td>Kamigisha</td>\n      <td>1014106</td>\n      <td>Suspended</td>\n      <td>Rejected</td>\n      <td>Technical</td>\n      <td>0</td>\n      <td>0</td>\n      <td>-2.424860</td>\n      <td>28.957260</td>\n      <td>Kabuga</td>\n      <td>36050203.0</td>\n      <td>Buzi</td>\n      <td>36050201.0</td>\n      <td>Gacyamo - Gasheke</td>\n      <td>36050202.0</td>\n      <td>Kagarama</td>\n      <td>36050204.0</td>\n      <td>Kanoga</td>\n      <td>NaN</td>\n      <td>Project Assessment - 2018.10.29</td>\n      <td>a1if1000002e51WAAQ</td>\n      <td>006f100000d1fjw</td>\n      <td>26</td>\n      <td>$West/Iburengerazuba</td>\n      <td>$Rusizi</td>\n      <td>8.716393</td>\n      <td>66.023214</td>\n      <td>3.637643</td>\n      <td>1.73183</td>\n      <td>3.754816</td>\n      <td>1.315136</td>\n      <td>12.790276</td>\n      <td>2.030692</td>\n      <td>36</td>\n      <td>4</td>\n      <td>Western Province</td>\n      <td>1.02</td>\n      <td>1.33</td>\n      <td>19.5</td>\n      <td>41.0</td>\n      <td>2.4</td>\n      <td>92.8</td>\n      <td>91.1</td>\n      <td>92.0</td>\n      <td>62.0</td>\n      <td>77.9</td>\n      <td>21.7</td>\n    </tr>\n    <tr>\n      <th>2</th>\n      <td>63</td>\n      <td>Rwanda</td>\n      <td>Western Province</td>\n      <td>Rusizi</td>\n      <td>36</td>\n      <td>Bugarama</td>\n      <td>3601.0</td>\n      <td>Nyange</td>\n      <td>360101.0</td>\n      <td>Rusayo</td>\n      <td>36010113.0</td>\n      <td>Rusayo</td>\n      <td>1007661</td>\n      <td>Suspension</td>\n      <td>Rejected</td>\n      <td>Technical</td>\n      <td>17270</td>\n      <td>25</td>\n      <td>-2.697308</td>\n      <td>29.029517</td>\n      <td>Pera cell</td>\n      <td>360102.0</td>\n      <td>Kizura cell</td>\n      <td>NaN</td>\n      <td>NaN</td>\n      <td>NaN</td>\n      <td>NaN</td>\n      <td>NaN</td>\n      <td>NaN</td>\n      <td>NaN</td>\n      <td>Project Assessment - 2018.12.13</td>\n      <td>a1if1000002qz1JAAQ</td>\n      <td>006f100000a86ID</td>\n      <td>26</td>\n      <td>$West/Iburengerazuba</td>\n      <td>$Rusizi</td>\n      <td>8.716393</td>\n      <td>66.023214</td>\n      <td>3.637643</td>\n      <td>1.73183</td>\n      <td>3.754816</td>\n      <td>1.315136</td>\n      <td>12.790276</td>\n      <td>2.030692</td>\n      <td>36</td>\n      <td>4</td>\n      <td>Western Province</td>\n      <td>1.02</td>\n      <td>1.33</td>\n      <td>19.5</td>\n      <td>41.0</td>\n      <td>2.4</td>\n      <td>92.8</td>\n      <td>91.1</td>\n      <td>92.0</td>\n      <td>62.0</td>\n      <td>77.9</td>\n      <td>21.7</td>\n    </tr>\n    <tr>\n      <th>3</th>\n      <td>68</td>\n      <td>Rwanda</td>\n      <td>Western Province</td>\n      <td>Rusizi</td>\n      <td>36</td>\n      <td>Giheke-Bushenge</td>\n      <td>3605.0</td>\n      <td>Gakomeye-Gasheke</td>\n      <td>360502.0</td>\n      <td>Gacyamo</td>\n      <td>36050202.0</td>\n      <td>Gacyamo</td>\n      <td>1014108</td>\n      <td>Suspension</td>\n      <td>Rejected</td>\n      <td>Technical</td>\n      <td>0</td>\n      <td>0</td>\n      <td>-2.418550</td>\n      <td>28.969460</td>\n      <td>Gacyamo</td>\n      <td>36050202.0</td>\n      <td>Buzi</td>\n      <td>36050201.0</td>\n      <td>Kabuga</td>\n      <td>36050203.0</td>\n      <td>Kagarama</td>\n      <td>36050204.0</td>\n      <td>Gasheke</td>\n      <td>NaN</td>\n      <td>Project Assessment - 2018.10.29</td>\n      <td>a1if1000002e51gAAA</td>\n      <td>006f100000d1fk6</td>\n      <td>26</td>\n      <td>$West/Iburengerazuba</td>\n      <td>$Rusizi</td>\n      <td>8.716393</td>\n      <td>66.023214</td>\n      <td>3.637643</td>\n      <td>1.73183</td>\n      <td>3.754816</td>\n      <td>1.315136</td>\n      <td>12.790276</td>\n      <td>2.030692</td>\n      <td>36</td>\n      <td>4</td>\n      <td>Western Province</td>\n      <td>1.02</td>\n      <td>1.33</td>\n      <td>19.5</td>\n      <td>41.0</td>\n      <td>2.4</td>\n      <td>92.8</td>\n      <td>91.1</td>\n      <td>92.0</td>\n      <td>62.0</td>\n      <td>77.9</td>\n      <td>21.7</td>\n    </tr>\n    <tr>\n      <th>4</th>\n      <td>69</td>\n      <td>Rwanda</td>\n      <td>Western Province</td>\n      <td>Rusizi</td>\n      <td>36</td>\n      <td>Butare</td>\n      <td>3602.0</td>\n      <td>Rwambogo</td>\n      <td>360204.0</td>\n      <td>Gasumo</td>\n      <td>36020406.0</td>\n      <td>Nyagatango</td>\n      <td>1014109</td>\n      <td>Suspended</td>\n      <td>Rejected</td>\n      <td>Technical</td>\n      <td>0</td>\n      <td>0</td>\n      <td>-2.588680</td>\n      <td>29.112470</td>\n      <td>Gasumo</td>\n      <td>36020406.0</td>\n      <td>Kenya</td>\n      <td>NaN</td>\n      <td>Ndengerezi</td>\n      <td>NaN</td>\n      <td>Rushwati</td>\n      <td>NaN</td>\n      <td>NaN</td>\n      <td>NaN</td>\n      <td>Project Assessment - 2018.10.29</td>\n      <td>a1if1000002e51lAAA</td>\n      <td>006f100000d1fkB</td>\n      <td>26</td>\n      <td>$West/Iburengerazuba</td>\n      <td>$Rusizi</td>\n      <td>8.716393</td>\n      <td>66.023214</td>\n      <td>3.637643</td>\n      <td>1.73183</td>\n      <td>3.754816</td>\n      <td>1.315136</td>\n      <td>12.790276</td>\n      <td>2.030692</td>\n      <td>36</td>\n      <td>4</td>\n      <td>Western Province</td>\n      <td>1.02</td>\n      <td>1.33</td>\n      <td>19.5</td>\n      <td>41.0</td>\n      <td>2.4</td>\n      <td>92.8</td>\n      <td>91.1</td>\n      <td>92.0</td>\n      <td>62.0</td>\n      <td>77.9</td>\n      <td>21.7</td>\n    </tr>\n  </tbody>\n</table>\n</div>"
     },
     "metadata": {},
     "execution_count": 38
    }
   ],
   "source": [
    "df_main = pd.merge(df_main_and_income, pd_dhs_indicators, left_on='province', right_on='Location')\n",
    "df_main.head()"
   ]
  },
  {
   "cell_type": "code",
   "execution_count": 35,
   "metadata": {},
   "outputs": [],
   "source": [
    "pd.set_option('display.max_columns',58)"
   ]
  },
  {
   "cell_type": "code",
   "execution_count": 47,
   "metadata": {},
   "outputs": [
    {
     "output_type": "execute_result",
     "data": {
      "text/plain": [
       "  country          province district  district_id_x           sector  \\\n",
       "0  Rwanda  Western Province   Rusizi             36           Giheke   \n",
       "1  Rwanda  Western Province   Rusizi             36           Giheke   \n",
       "2  Rwanda  Western Province   Rusizi             36         Bugarama   \n",
       "3  Rwanda  Western Province   Rusizi             36  Giheke-Bushenge   \n",
       "4  Rwanda  Western Province   Rusizi             36           Butare   \n",
       "\n",
       "   sector_id              cell   cell_id  village  village_id        name  \\\n",
       "0     3605.0          Gakomeye  360502.0     Buzi  36050201.0        Buzi   \n",
       "1     3605.0          Gakomeye  360502.0     Buzi  36050201.0   Kamigisha   \n",
       "2     3601.0            Nyange  360101.0   Rusayo  36010113.0      Rusayo   \n",
       "3     3605.0  Gakomeye-Gasheke  360502.0  Gacyamo  36050202.0     Gacyamo   \n",
       "4     3602.0          Rwambogo  360204.0   Gasumo  36020406.0  Nyagatango   \n",
       "\n",
       "  project_code        type     stage  sub_stage  Individuals_directly_served  \\\n",
       "0      1014107   Suspended  Rejected  Technical                            0   \n",
       "1      1014106   Suspended  Rejected  Technical                            0   \n",
       "2      1007661  Suspension  Rejected  Technical                        17270   \n",
       "3      1014108  Suspension  Rejected  Technical                            0   \n",
       "4      1014109   Suspended  Rejected  Technical                            0   \n",
       "\n",
       "   span       lat       long community_served_1  community_served_1_id  \\\n",
       "0     0 -2.420560  28.966200               Buzi             36050201.0   \n",
       "1     0 -2.424860  28.957260             Kabuga             36050203.0   \n",
       "2    25 -2.697308  29.029517          Pera cell               360102.0   \n",
       "3     0 -2.418550  28.969460            Gacyamo             36050202.0   \n",
       "4     0 -2.588680  29.112470             Gasumo             36020406.0   \n",
       "\n",
       "  community_served_2  community_served_2_id community_served_3  \\\n",
       "0             Kabuga             36050203.0           Kagarama   \n",
       "1               Buzi             36050201.0  Gacyamo - Gasheke   \n",
       "2        Kizura cell                    NaN                NaN   \n",
       "3               Buzi             36050201.0             Kabuga   \n",
       "4              Kenya                    NaN         Ndengerezi   \n",
       "\n",
       "   community_served_3_id community_served_4  community_served_4_id  \\\n",
       "0             36050204.0            Gacyamo             36050202.0   \n",
       "1             36050202.0           Kagarama             36050204.0   \n",
       "2                    NaN                NaN                    NaN   \n",
       "3             36050203.0           Kagarama             36050204.0   \n",
       "4                    NaN           Rushwati                    NaN   \n",
       "\n",
       "  community_served_5  community_served_5_id                             form  \\\n",
       "0            Gasheke                    NaN  Project Assessment - 2018.10.29   \n",
       "1             Kanoga                    NaN  Project Assessment - 2018.10.29   \n",
       "2                NaN                    NaN  Project Assessment - 2018.12.13   \n",
       "3            Gasheke                    NaN  Project Assessment - 2018.10.29   \n",
       "4                NaN                    NaN  Project Assessment - 2018.10.29   \n",
       "\n",
       "         case_safe_id   opportunity_id             ADM1_NAME ADM2_NAME  \\\n",
       "0  a1if1000002e51bAAA  006f100000d1fk1  $West/Iburengerazuba   $Rusizi   \n",
       "1  a1if1000002e51WAAQ  006f100000d1fjw  $West/Iburengerazuba   $Rusizi   \n",
       "2  a1if1000002qz1JAAQ  006f100000a86ID  $West/Iburengerazuba   $Rusizi   \n",
       "3  a1if1000002e51gAAA  006f100000d1fk6  $West/Iburengerazuba   $Rusizi   \n",
       "4  a1if1000002e51lAAA  006f100000d1fkB  $West/Iburengerazuba   $Rusizi   \n",
       "\n",
       "   Agro - Crop&Livestock  Agro - Food&Cash Crop  AgroCmrc - Trade/Wholesale  \\\n",
       "0               8.716393              66.023214                    3.637643   \n",
       "1               8.716393              66.023214                    3.637643   \n",
       "2               8.716393              66.023214                    3.637643   \n",
       "3               8.716393              66.023214                    3.637643   \n",
       "4               8.716393              66.023214                    3.637643   \n",
       "\n",
       "   Commerce - Business/Trading  Commerce - Petty Trade  \\\n",
       "0                      1.73183                3.754816   \n",
       "1                      1.73183                3.754816   \n",
       "2                      1.73183                3.754816   \n",
       "3                      1.73183                3.754816   \n",
       "4                      1.73183                3.754816   \n",
       "\n",
       "   Labor - Artisan/Skilled  Labor - Daily/Unskilled - Agro     Other  \\\n",
       "0                 1.315136                       12.790276  2.030692   \n",
       "1                 1.315136                       12.790276  2.030692   \n",
       "2                 1.315136                       12.790276  2.030692   \n",
       "3                 1.315136                       12.790276  2.030692   \n",
       "4                 1.315136                       12.790276  2.030692   \n",
       "\n",
       "   Gender_parity_index_for_net_primary_school_attendance  \\\n",
       "0                                               1.02       \n",
       "1                                               1.02       \n",
       "2                                               1.02       \n",
       "3                                               1.02       \n",
       "4                                               1.02       \n",
       "\n",
       "   Gender_parity_index_for_net_secondary_school_attendance  \\\n",
       "0                                               1.33         \n",
       "1                                               1.33         \n",
       "2                                               1.33         \n",
       "3                                               1.33         \n",
       "4                                               1.33         \n",
       "\n",
       "   Households with electricity  Infant mortality rate  \\\n",
       "0                         19.5                   41.0   \n",
       "1                         19.5                   41.0   \n",
       "2                         19.5                   41.0   \n",
       "3                         19.5                   41.0   \n",
       "4                         19.5                   41.0   \n",
       "\n",
       "   Malaria_prevalence_according_to_RDT  \\\n",
       "0                                  2.4   \n",
       "1                                  2.4   \n",
       "2                                  2.4   \n",
       "3                                  2.4   \n",
       "4                                  2.4   \n",
       "\n",
       "   Net_primary_school_attendance_rate_female  \\\n",
       "0                                       92.8   \n",
       "1                                       92.8   \n",
       "2                                       92.8   \n",
       "3                                       92.8   \n",
       "4                                       92.8   \n",
       "\n",
       "   Net_primary_school_attendance_rate_male  \\\n",
       "0                                     91.1   \n",
       "1                                     91.1   \n",
       "2                                     91.1   \n",
       "3                                     91.1   \n",
       "4                                     91.1   \n",
       "\n",
       "   Net_primary_school_attendance_rate_total  Under_five_mortality_rate  \\\n",
       "0                                      92.0                       62.0   \n",
       "1                                      92.0                       62.0   \n",
       "2                                      92.0                       62.0   \n",
       "3                                      92.0                       62.0   \n",
       "4                                      92.0                       62.0   \n",
       "\n",
       "   Women_who_are_literate  Women_with_secondary_or_higher_education  \n",
       "0                    77.9                                      21.7  \n",
       "1                    77.9                                      21.7  \n",
       "2                    77.9                                      21.7  \n",
       "3                    77.9                                      21.7  \n",
       "4                    77.9                                      21.7  "
      ],
      "text/html": "<div>\n<style scoped>\n    .dataframe tbody tr th:only-of-type {\n        vertical-align: middle;\n    }\n\n    .dataframe tbody tr th {\n        vertical-align: top;\n    }\n\n    .dataframe thead th {\n        text-align: right;\n    }\n</style>\n<table border=\"1\" class=\"dataframe\">\n  <thead>\n    <tr style=\"text-align: right;\">\n      <th></th>\n      <th>country</th>\n      <th>province</th>\n      <th>district</th>\n      <th>district_id_x</th>\n      <th>sector</th>\n      <th>sector_id</th>\n      <th>cell</th>\n      <th>cell_id</th>\n      <th>village</th>\n      <th>village_id</th>\n      <th>name</th>\n      <th>project_code</th>\n      <th>type</th>\n      <th>stage</th>\n      <th>sub_stage</th>\n      <th>Individuals_directly_served</th>\n      <th>span</th>\n      <th>lat</th>\n      <th>long</th>\n      <th>community_served_1</th>\n      <th>community_served_1_id</th>\n      <th>community_served_2</th>\n      <th>community_served_2_id</th>\n      <th>community_served_3</th>\n      <th>community_served_3_id</th>\n      <th>community_served_4</th>\n      <th>community_served_4_id</th>\n      <th>community_served_5</th>\n      <th>community_served_5_id</th>\n      <th>form</th>\n      <th>case_safe_id</th>\n      <th>opportunity_id</th>\n      <th>ADM1_NAME</th>\n      <th>ADM2_NAME</th>\n      <th>Agro - Crop&amp;Livestock</th>\n      <th>Agro - Food&amp;Cash Crop</th>\n      <th>AgroCmrc - Trade/Wholesale</th>\n      <th>Commerce - Business/Trading</th>\n      <th>Commerce - Petty Trade</th>\n      <th>Labor - Artisan/Skilled</th>\n      <th>Labor - Daily/Unskilled - Agro</th>\n      <th>Other</th>\n      <th>Gender_parity_index_for_net_primary_school_attendance</th>\n      <th>Gender_parity_index_for_net_secondary_school_attendance</th>\n      <th>Households with electricity</th>\n      <th>Infant mortality rate</th>\n      <th>Malaria_prevalence_according_to_RDT</th>\n      <th>Net_primary_school_attendance_rate_female</th>\n      <th>Net_primary_school_attendance_rate_male</th>\n      <th>Net_primary_school_attendance_rate_total</th>\n      <th>Under_five_mortality_rate</th>\n      <th>Women_who_are_literate</th>\n      <th>Women_with_secondary_or_higher_education</th>\n    </tr>\n  </thead>\n  <tbody>\n    <tr>\n      <th>0</th>\n      <td>Rwanda</td>\n      <td>Western Province</td>\n      <td>Rusizi</td>\n      <td>36</td>\n      <td>Giheke</td>\n      <td>3605.0</td>\n      <td>Gakomeye</td>\n      <td>360502.0</td>\n      <td>Buzi</td>\n      <td>36050201.0</td>\n      <td>Buzi</td>\n      <td>1014107</td>\n      <td>Suspended</td>\n      <td>Rejected</td>\n      <td>Technical</td>\n      <td>0</td>\n      <td>0</td>\n      <td>-2.420560</td>\n      <td>28.966200</td>\n      <td>Buzi</td>\n      <td>36050201.0</td>\n      <td>Kabuga</td>\n      <td>36050203.0</td>\n      <td>Kagarama</td>\n      <td>36050204.0</td>\n      <td>Gacyamo</td>\n      <td>36050202.0</td>\n      <td>Gasheke</td>\n      <td>NaN</td>\n      <td>Project Assessment - 2018.10.29</td>\n      <td>a1if1000002e51bAAA</td>\n      <td>006f100000d1fk1</td>\n      <td>$West/Iburengerazuba</td>\n      <td>$Rusizi</td>\n      <td>8.716393</td>\n      <td>66.023214</td>\n      <td>3.637643</td>\n      <td>1.73183</td>\n      <td>3.754816</td>\n      <td>1.315136</td>\n      <td>12.790276</td>\n      <td>2.030692</td>\n      <td>1.02</td>\n      <td>1.33</td>\n      <td>19.5</td>\n      <td>41.0</td>\n      <td>2.4</td>\n      <td>92.8</td>\n      <td>91.1</td>\n      <td>92.0</td>\n      <td>62.0</td>\n      <td>77.9</td>\n      <td>21.7</td>\n    </tr>\n    <tr>\n      <th>1</th>\n      <td>Rwanda</td>\n      <td>Western Province</td>\n      <td>Rusizi</td>\n      <td>36</td>\n      <td>Giheke</td>\n      <td>3605.0</td>\n      <td>Gakomeye</td>\n      <td>360502.0</td>\n      <td>Buzi</td>\n      <td>36050201.0</td>\n      <td>Kamigisha</td>\n      <td>1014106</td>\n      <td>Suspended</td>\n      <td>Rejected</td>\n      <td>Technical</td>\n      <td>0</td>\n      <td>0</td>\n      <td>-2.424860</td>\n      <td>28.957260</td>\n      <td>Kabuga</td>\n      <td>36050203.0</td>\n      <td>Buzi</td>\n      <td>36050201.0</td>\n      <td>Gacyamo - Gasheke</td>\n      <td>36050202.0</td>\n      <td>Kagarama</td>\n      <td>36050204.0</td>\n      <td>Kanoga</td>\n      <td>NaN</td>\n      <td>Project Assessment - 2018.10.29</td>\n      <td>a1if1000002e51WAAQ</td>\n      <td>006f100000d1fjw</td>\n      <td>$West/Iburengerazuba</td>\n      <td>$Rusizi</td>\n      <td>8.716393</td>\n      <td>66.023214</td>\n      <td>3.637643</td>\n      <td>1.73183</td>\n      <td>3.754816</td>\n      <td>1.315136</td>\n      <td>12.790276</td>\n      <td>2.030692</td>\n      <td>1.02</td>\n      <td>1.33</td>\n      <td>19.5</td>\n      <td>41.0</td>\n      <td>2.4</td>\n      <td>92.8</td>\n      <td>91.1</td>\n      <td>92.0</td>\n      <td>62.0</td>\n      <td>77.9</td>\n      <td>21.7</td>\n    </tr>\n    <tr>\n      <th>2</th>\n      <td>Rwanda</td>\n      <td>Western Province</td>\n      <td>Rusizi</td>\n      <td>36</td>\n      <td>Bugarama</td>\n      <td>3601.0</td>\n      <td>Nyange</td>\n      <td>360101.0</td>\n      <td>Rusayo</td>\n      <td>36010113.0</td>\n      <td>Rusayo</td>\n      <td>1007661</td>\n      <td>Suspension</td>\n      <td>Rejected</td>\n      <td>Technical</td>\n      <td>17270</td>\n      <td>25</td>\n      <td>-2.697308</td>\n      <td>29.029517</td>\n      <td>Pera cell</td>\n      <td>360102.0</td>\n      <td>Kizura cell</td>\n      <td>NaN</td>\n      <td>NaN</td>\n      <td>NaN</td>\n      <td>NaN</td>\n      <td>NaN</td>\n      <td>NaN</td>\n      <td>NaN</td>\n      <td>Project Assessment - 2018.12.13</td>\n      <td>a1if1000002qz1JAAQ</td>\n      <td>006f100000a86ID</td>\n      <td>$West/Iburengerazuba</td>\n      <td>$Rusizi</td>\n      <td>8.716393</td>\n      <td>66.023214</td>\n      <td>3.637643</td>\n      <td>1.73183</td>\n      <td>3.754816</td>\n      <td>1.315136</td>\n      <td>12.790276</td>\n      <td>2.030692</td>\n      <td>1.02</td>\n      <td>1.33</td>\n      <td>19.5</td>\n      <td>41.0</td>\n      <td>2.4</td>\n      <td>92.8</td>\n      <td>91.1</td>\n      <td>92.0</td>\n      <td>62.0</td>\n      <td>77.9</td>\n      <td>21.7</td>\n    </tr>\n    <tr>\n      <th>3</th>\n      <td>Rwanda</td>\n      <td>Western Province</td>\n      <td>Rusizi</td>\n      <td>36</td>\n      <td>Giheke-Bushenge</td>\n      <td>3605.0</td>\n      <td>Gakomeye-Gasheke</td>\n      <td>360502.0</td>\n      <td>Gacyamo</td>\n      <td>36050202.0</td>\n      <td>Gacyamo</td>\n      <td>1014108</td>\n      <td>Suspension</td>\n      <td>Rejected</td>\n      <td>Technical</td>\n      <td>0</td>\n      <td>0</td>\n      <td>-2.418550</td>\n      <td>28.969460</td>\n      <td>Gacyamo</td>\n      <td>36050202.0</td>\n      <td>Buzi</td>\n      <td>36050201.0</td>\n      <td>Kabuga</td>\n      <td>36050203.0</td>\n      <td>Kagarama</td>\n      <td>36050204.0</td>\n      <td>Gasheke</td>\n      <td>NaN</td>\n      <td>Project Assessment - 2018.10.29</td>\n      <td>a1if1000002e51gAAA</td>\n      <td>006f100000d1fk6</td>\n      <td>$West/Iburengerazuba</td>\n      <td>$Rusizi</td>\n      <td>8.716393</td>\n      <td>66.023214</td>\n      <td>3.637643</td>\n      <td>1.73183</td>\n      <td>3.754816</td>\n      <td>1.315136</td>\n      <td>12.790276</td>\n      <td>2.030692</td>\n      <td>1.02</td>\n      <td>1.33</td>\n      <td>19.5</td>\n      <td>41.0</td>\n      <td>2.4</td>\n      <td>92.8</td>\n      <td>91.1</td>\n      <td>92.0</td>\n      <td>62.0</td>\n      <td>77.9</td>\n      <td>21.7</td>\n    </tr>\n    <tr>\n      <th>4</th>\n      <td>Rwanda</td>\n      <td>Western Province</td>\n      <td>Rusizi</td>\n      <td>36</td>\n      <td>Butare</td>\n      <td>3602.0</td>\n      <td>Rwambogo</td>\n      <td>360204.0</td>\n      <td>Gasumo</td>\n      <td>36020406.0</td>\n      <td>Nyagatango</td>\n      <td>1014109</td>\n      <td>Suspended</td>\n      <td>Rejected</td>\n      <td>Technical</td>\n      <td>0</td>\n      <td>0</td>\n      <td>-2.588680</td>\n      <td>29.112470</td>\n      <td>Gasumo</td>\n      <td>36020406.0</td>\n      <td>Kenya</td>\n      <td>NaN</td>\n      <td>Ndengerezi</td>\n      <td>NaN</td>\n      <td>Rushwati</td>\n      <td>NaN</td>\n      <td>NaN</td>\n      <td>NaN</td>\n      <td>Project Assessment - 2018.10.29</td>\n      <td>a1if1000002e51lAAA</td>\n      <td>006f100000d1fkB</td>\n      <td>$West/Iburengerazuba</td>\n      <td>$Rusizi</td>\n      <td>8.716393</td>\n      <td>66.023214</td>\n      <td>3.637643</td>\n      <td>1.73183</td>\n      <td>3.754816</td>\n      <td>1.315136</td>\n      <td>12.790276</td>\n      <td>2.030692</td>\n      <td>1.02</td>\n      <td>1.33</td>\n      <td>19.5</td>\n      <td>41.0</td>\n      <td>2.4</td>\n      <td>92.8</td>\n      <td>91.1</td>\n      <td>92.0</td>\n      <td>62.0</td>\n      <td>77.9</td>\n      <td>21.7</td>\n    </tr>\n  </tbody>\n</table>\n</div>"
     },
     "metadata": {},
     "execution_count": 47
    }
   ],
   "source": [
    "# drop\n",
    "drop_columns = ['district_id_y','Unnamed: 0_x','Unnamed: 0_y','Location','Unnamed: 0','district_id_y']\n",
    "df_main = df_main.drop(columns=drop_columns)\n",
    "df_main.head()"
   ]
  },
  {
   "cell_type": "code",
   "execution_count": 48,
   "metadata": {},
   "outputs": [],
   "source": [
    "df_main.to_csv('main_20201015.csv')"
   ]
  },
  {
   "cell_type": "code",
   "execution_count": null,
   "metadata": {},
   "outputs": [],
   "source": []
  }
 ]
}