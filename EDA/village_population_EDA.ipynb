{
 "cells": [
  {
   "cell_type": "code",
   "execution_count": 5,
   "metadata": {},
   "outputs": [],
   "source": [
    "import csv\n",
    "import pandas as pd\n",
    "import scipy.spatial.distance as scidist\n",
    "\n",
    "\n",
    "df = pd.read_csv('B2P_Rwanda_matchedIDs_final_2020-09-24_copy.csv', index_col=0)\n"
   ]
  },
  {
   "cell_type": "code",
   "execution_count": 6,
   "metadata": {},
   "outputs": [
    {
     "output_type": "execute_result",
     "data": {
      "text/plain": [
       "  project_code       lat       long\n",
       "0      1014107 -2.420560  28.966200\n",
       "1      1014106 -2.424860  28.957260\n",
       "2      1007651 -1.720530  30.081240\n",
       "3      1012493 -1.655950  30.078840\n",
       "4      1014318 -1.870868  29.877686"
      ],
      "text/html": "<div>\n<style scoped>\n    .dataframe tbody tr th:only-of-type {\n        vertical-align: middle;\n    }\n\n    .dataframe tbody tr th {\n        vertical-align: top;\n    }\n\n    .dataframe thead th {\n        text-align: right;\n    }\n</style>\n<table border=\"1\" class=\"dataframe\">\n  <thead>\n    <tr style=\"text-align: right;\">\n      <th></th>\n      <th>project_code</th>\n      <th>lat</th>\n      <th>long</th>\n    </tr>\n  </thead>\n  <tbody>\n    <tr>\n      <th>0</th>\n      <td>1014107</td>\n      <td>-2.420560</td>\n      <td>28.966200</td>\n    </tr>\n    <tr>\n      <th>1</th>\n      <td>1014106</td>\n      <td>-2.424860</td>\n      <td>28.957260</td>\n    </tr>\n    <tr>\n      <th>2</th>\n      <td>1007651</td>\n      <td>-1.720530</td>\n      <td>30.081240</td>\n    </tr>\n    <tr>\n      <th>3</th>\n      <td>1012493</td>\n      <td>-1.655950</td>\n      <td>30.078840</td>\n    </tr>\n    <tr>\n      <th>4</th>\n      <td>1014318</td>\n      <td>-1.870868</td>\n      <td>29.877686</td>\n    </tr>\n  </tbody>\n</table>\n</div>"
     },
     "metadata": {},
     "execution_count": 6
    }
   ],
   "source": [
    "df_project_coord = df[['project_code','lat','long']]\n",
    "df_project_coord.head()"
   ]
  },
  {
   "cell_type": "code",
   "execution_count": 7,
   "metadata": {},
   "outputs": [],
   "source": [
    "df_population = pd.read_csv('population_rwa_2018-10-01.csv')"
   ]
  },
  {
   "cell_type": "code",
   "execution_count": 8,
   "metadata": {},
   "outputs": [
    {
     "output_type": "execute_result",
     "data": {
      "text/plain": [
       "        Lat        Lon  Population\n",
       "0 -1.050417  30.463194     8.07593\n",
       "1 -1.050417  30.463472     8.07593\n",
       "2 -1.050694  30.463194     8.07593\n",
       "3 -1.050694  30.464306     8.07593\n",
       "4 -1.050972  30.445694     8.07593"
      ],
      "text/html": "<div>\n<style scoped>\n    .dataframe tbody tr th:only-of-type {\n        vertical-align: middle;\n    }\n\n    .dataframe tbody tr th {\n        vertical-align: top;\n    }\n\n    .dataframe thead th {\n        text-align: right;\n    }\n</style>\n<table border=\"1\" class=\"dataframe\">\n  <thead>\n    <tr style=\"text-align: right;\">\n      <th></th>\n      <th>Lat</th>\n      <th>Lon</th>\n      <th>Population</th>\n    </tr>\n  </thead>\n  <tbody>\n    <tr>\n      <th>0</th>\n      <td>-1.050417</td>\n      <td>30.463194</td>\n      <td>8.07593</td>\n    </tr>\n    <tr>\n      <th>1</th>\n      <td>-1.050417</td>\n      <td>30.463472</td>\n      <td>8.07593</td>\n    </tr>\n    <tr>\n      <th>2</th>\n      <td>-1.050694</td>\n      <td>30.463194</td>\n      <td>8.07593</td>\n    </tr>\n    <tr>\n      <th>3</th>\n      <td>-1.050694</td>\n      <td>30.464306</td>\n      <td>8.07593</td>\n    </tr>\n    <tr>\n      <th>4</th>\n      <td>-1.050972</td>\n      <td>30.445694</td>\n      <td>8.07593</td>\n    </tr>\n  </tbody>\n</table>\n</div>"
     },
     "metadata": {},
     "execution_count": 8
    }
   ],
   "source": [
    "df_population.head()"
   ]
  },
  {
   "cell_type": "code",
   "execution_count": 9,
   "metadata": {},
   "outputs": [],
   "source": [
    "# manual fix for R127 line # 534\n",
    "df_project_coord.iloc[534]['project_code'] = 88888"
   ]
  },
  {
   "cell_type": "code",
   "execution_count": 10,
   "metadata": {},
   "outputs": [],
   "source": [
    "# def euclidean_distance(x1,x2,y1,y2):"
   ]
  },
  {
   "cell_type": "code",
   "execution_count": 11,
   "metadata": {},
   "outputs": [],
   "source": [
    "# df[df_project_coord['project_code']=='R127']"
   ]
  },
  {
   "cell_type": "code",
   "execution_count": 6,
   "metadata": {},
   "outputs": [],
   "source": [
    "# a = df_population[:100]"
   ]
  },
  {
   "cell_type": "code",
   "execution_count": 7,
   "metadata": {},
   "outputs": [],
   "source": [
    "# b = df_project_coord"
   ]
  },
  {
   "cell_type": "code",
   "execution_count": 12,
   "metadata": {},
   "outputs": [],
   "source": [
    "# a.iloc[:,0:2]"
   ]
  },
  {
   "cell_type": "code",
   "execution_count": 13,
   "metadata": {},
   "outputs": [],
   "source": [
    "# b.iloc[:,1:]"
   ]
  },
  {
   "cell_type": "code",
   "execution_count": 8,
   "metadata": {},
   "outputs": [],
   "source": [
    "# distances = scidist.cdist(a.iloc[:,0:2],b.iloc[:,1:],'euclidean')\n",
    "# distances"
   ]
  },
  {
   "cell_type": "code",
   "execution_count": 9,
   "metadata": {
    "tags": []
   },
   "outputs": [],
   "source": [
    "# closest = []\n",
    "# for k,v in enumerate(distances):\n",
    "#     # mini = min(v)\n",
    "#     # pos = v.index(mini)\n",
    "#     # print(min(v), v.argmin(axis=0))\n",
    "#     closest.append(v.argmin(axis=0))"
   ]
  },
  {
   "cell_type": "code",
   "execution_count": 10,
   "metadata": {},
   "outputs": [],
   "source": [
    "# distances[1].argmin(axis=0)"
   ]
  },
  {
   "cell_type": "code",
   "execution_count": 11,
   "metadata": {},
   "outputs": [],
   "source": [
    "# df_closest = pd.DataFrame(closest)\n",
    "# df_closest"
   ]
  },
  {
   "cell_type": "code",
   "execution_count": 12,
   "metadata": {},
   "outputs": [
    {
     "output_type": "execute_result",
     "data": {
      "text/plain": [
       "150    100\n",
       "Name: 0, dtype: int64"
      ]
     },
     "metadata": {},
     "execution_count": 12
    }
   ],
   "source": [
    "# df_closest[0].value_counts()"
   ]
  },
  {
   "cell_type": "code",
   "execution_count": 13,
   "metadata": {},
   "outputs": [],
   "source": [
    "# df_closest.to_csv('closest_1.csv')"
   ]
  },
  {
   "cell_type": "code",
   "execution_count": 18,
   "metadata": {},
   "outputs": [],
   "source": [
    "# df_closest = pd.DataFrame(closest)\n",
    "# df_closest.index = pd.RangeIndex(100,100 + len(df_closest))"
   ]
  },
  {
   "cell_type": "code",
   "execution_count": 14,
   "metadata": {},
   "outputs": [],
   "source": [
    "# df_closest"
   ]
  },
  {
   "source": [
    "in a separate python file alled 'closest.py' we assign each of the 1.4 million coordinates in df_population, a project project_code.\n",
    "below, we'll use the glob package to zip the closest1,.... closest15.csv and then merge this with the popuation table"
   ],
   "cell_type": "markdown",
   "metadata": {}
  },
  {
   "cell_type": "code",
   "execution_count": 15,
   "metadata": {},
   "outputs": [],
   "source": [
    "import glob as glob"
   ]
  },
  {
   "cell_type": "code",
   "execution_count": 16,
   "metadata": {},
   "outputs": [
    {
     "output_type": "execute_result",
     "data": {
      "text/plain": [
       "['closest01.csv',\n",
       " 'closest02.csv',\n",
       " 'closest03.csv',\n",
       " 'closest04.csv',\n",
       " 'closest05.csv',\n",
       " 'closest06.csv',\n",
       " 'closest07.csv',\n",
       " 'closest08.csv',\n",
       " 'closest09.csv',\n",
       " 'closest10.csv',\n",
       " 'closest11.csv',\n",
       " 'closest12.csv',\n",
       " 'closest13.csv',\n",
       " 'closest14.csv',\n",
       " 'closest15.csv']"
      ]
     },
     "metadata": {},
     "execution_count": 16
    }
   ],
   "source": [
    "import glob as glob\n",
    "closest_files = sorted(glob.glob('closest*.csv'))\n",
    "closest_files"
   ]
  },
  {
   "cell_type": "code",
   "execution_count": 17,
   "metadata": {},
   "outputs": [],
   "source": [
    "closest_df =  pd.concat((pd.read_csv(file).assign(filename = file)for file in closest_files),ignore_index = True)"
   ]
  },
  {
   "cell_type": "code",
   "execution_count": 18,
   "metadata": {},
   "outputs": [
    {
     "output_type": "execute_result",
     "data": {
      "text/plain": [
       "         Unnamed: 0    0       filename\n",
       "0                 0  150  closest01.csv\n",
       "1                 1  150  closest01.csv\n",
       "2                 2  150  closest01.csv\n",
       "3                 3  150  closest01.csv\n",
       "4                 4  150  closest01.csv\n",
       "...             ...  ...            ...\n",
       "1449192     1449192  736  closest15.csv\n",
       "1449193     1449193  736  closest15.csv\n",
       "1449194     1449194  736  closest15.csv\n",
       "1449195     1449195  736  closest15.csv\n",
       "1449196     1449196  736  closest15.csv\n",
       "\n",
       "[1449197 rows x 3 columns]"
      ],
      "text/html": "<div>\n<style scoped>\n    .dataframe tbody tr th:only-of-type {\n        vertical-align: middle;\n    }\n\n    .dataframe tbody tr th {\n        vertical-align: top;\n    }\n\n    .dataframe thead th {\n        text-align: right;\n    }\n</style>\n<table border=\"1\" class=\"dataframe\">\n  <thead>\n    <tr style=\"text-align: right;\">\n      <th></th>\n      <th>Unnamed: 0</th>\n      <th>0</th>\n      <th>filename</th>\n    </tr>\n  </thead>\n  <tbody>\n    <tr>\n      <th>0</th>\n      <td>0</td>\n      <td>150</td>\n      <td>closest01.csv</td>\n    </tr>\n    <tr>\n      <th>1</th>\n      <td>1</td>\n      <td>150</td>\n      <td>closest01.csv</td>\n    </tr>\n    <tr>\n      <th>2</th>\n      <td>2</td>\n      <td>150</td>\n      <td>closest01.csv</td>\n    </tr>\n    <tr>\n      <th>3</th>\n      <td>3</td>\n      <td>150</td>\n      <td>closest01.csv</td>\n    </tr>\n    <tr>\n      <th>4</th>\n      <td>4</td>\n      <td>150</td>\n      <td>closest01.csv</td>\n    </tr>\n    <tr>\n      <th>...</th>\n      <td>...</td>\n      <td>...</td>\n      <td>...</td>\n    </tr>\n    <tr>\n      <th>1449192</th>\n      <td>1449192</td>\n      <td>736</td>\n      <td>closest15.csv</td>\n    </tr>\n    <tr>\n      <th>1449193</th>\n      <td>1449193</td>\n      <td>736</td>\n      <td>closest15.csv</td>\n    </tr>\n    <tr>\n      <th>1449194</th>\n      <td>1449194</td>\n      <td>736</td>\n      <td>closest15.csv</td>\n    </tr>\n    <tr>\n      <th>1449195</th>\n      <td>1449195</td>\n      <td>736</td>\n      <td>closest15.csv</td>\n    </tr>\n    <tr>\n      <th>1449196</th>\n      <td>1449196</td>\n      <td>736</td>\n      <td>closest15.csv</td>\n    </tr>\n  </tbody>\n</table>\n<p>1449197 rows × 3 columns</p>\n</div>"
     },
     "metadata": {},
     "execution_count": 18
    }
   ],
   "source": [
    "closest_df"
   ]
  },
  {
   "cell_type": "code",
   "execution_count": 19,
   "metadata": {},
   "outputs": [
    {
     "output_type": "execute_result",
     "data": {
      "text/plain": [
       "         Unnamed: 0    0       filename       Lat        Lon  Population\n",
       "0                 0  150  closest01.csv -1.050417  30.463194     8.07593\n",
       "1                 1  150  closest01.csv -1.050417  30.463472     8.07593\n",
       "2                 2  150  closest01.csv -1.050694  30.463194     8.07593\n",
       "3                 3  150  closest01.csv -1.050694  30.464306     8.07593\n",
       "4                 4  150  closest01.csv -1.050972  30.445694     8.07593\n",
       "...             ...  ...            ...       ...        ...         ...\n",
       "1449192     1449192  736  closest15.csv -2.825694  29.539861     7.69858\n",
       "1449193     1449193  736  closest15.csv -2.825972  29.519861     7.69858\n",
       "1449194     1449194  736  closest15.csv -2.825972  29.524028     7.69858\n",
       "1449195     1449195  736  closest15.csv -2.826250  29.530417     7.69858\n",
       "1449196     1449196  736  closest15.csv -2.826250  29.530694     7.69858\n",
       "\n",
       "[1449197 rows x 6 columns]"
      ],
      "text/html": "<div>\n<style scoped>\n    .dataframe tbody tr th:only-of-type {\n        vertical-align: middle;\n    }\n\n    .dataframe tbody tr th {\n        vertical-align: top;\n    }\n\n    .dataframe thead th {\n        text-align: right;\n    }\n</style>\n<table border=\"1\" class=\"dataframe\">\n  <thead>\n    <tr style=\"text-align: right;\">\n      <th></th>\n      <th>Unnamed: 0</th>\n      <th>0</th>\n      <th>filename</th>\n      <th>Lat</th>\n      <th>Lon</th>\n      <th>Population</th>\n    </tr>\n  </thead>\n  <tbody>\n    <tr>\n      <th>0</th>\n      <td>0</td>\n      <td>150</td>\n      <td>closest01.csv</td>\n      <td>-1.050417</td>\n      <td>30.463194</td>\n      <td>8.07593</td>\n    </tr>\n    <tr>\n      <th>1</th>\n      <td>1</td>\n      <td>150</td>\n      <td>closest01.csv</td>\n      <td>-1.050417</td>\n      <td>30.463472</td>\n      <td>8.07593</td>\n    </tr>\n    <tr>\n      <th>2</th>\n      <td>2</td>\n      <td>150</td>\n      <td>closest01.csv</td>\n      <td>-1.050694</td>\n      <td>30.463194</td>\n      <td>8.07593</td>\n    </tr>\n    <tr>\n      <th>3</th>\n      <td>3</td>\n      <td>150</td>\n      <td>closest01.csv</td>\n      <td>-1.050694</td>\n      <td>30.464306</td>\n      <td>8.07593</td>\n    </tr>\n    <tr>\n      <th>4</th>\n      <td>4</td>\n      <td>150</td>\n      <td>closest01.csv</td>\n      <td>-1.050972</td>\n      <td>30.445694</td>\n      <td>8.07593</td>\n    </tr>\n    <tr>\n      <th>...</th>\n      <td>...</td>\n      <td>...</td>\n      <td>...</td>\n      <td>...</td>\n      <td>...</td>\n      <td>...</td>\n    </tr>\n    <tr>\n      <th>1449192</th>\n      <td>1449192</td>\n      <td>736</td>\n      <td>closest15.csv</td>\n      <td>-2.825694</td>\n      <td>29.539861</td>\n      <td>7.69858</td>\n    </tr>\n    <tr>\n      <th>1449193</th>\n      <td>1449193</td>\n      <td>736</td>\n      <td>closest15.csv</td>\n      <td>-2.825972</td>\n      <td>29.519861</td>\n      <td>7.69858</td>\n    </tr>\n    <tr>\n      <th>1449194</th>\n      <td>1449194</td>\n      <td>736</td>\n      <td>closest15.csv</td>\n      <td>-2.825972</td>\n      <td>29.524028</td>\n      <td>7.69858</td>\n    </tr>\n    <tr>\n      <th>1449195</th>\n      <td>1449195</td>\n      <td>736</td>\n      <td>closest15.csv</td>\n      <td>-2.826250</td>\n      <td>29.530417</td>\n      <td>7.69858</td>\n    </tr>\n    <tr>\n      <th>1449196</th>\n      <td>1449196</td>\n      <td>736</td>\n      <td>closest15.csv</td>\n      <td>-2.826250</td>\n      <td>29.530694</td>\n      <td>7.69858</td>\n    </tr>\n  </tbody>\n</table>\n<p>1449197 rows × 6 columns</p>\n</div>"
     },
     "metadata": {},
     "execution_count": 19
    }
   ],
   "source": [
    "closest_df = pd.merge(closest_df,df_population,left_index=True,right_index=True)\n",
    "closest_df"
   ]
  },
  {
   "cell_type": "code",
   "execution_count": 20,
   "metadata": {},
   "outputs": [
    {
     "output_type": "execute_result",
     "data": {
      "text/plain": [
       "           0  Population\n",
       "0        150     8.07593\n",
       "1        150     8.07593\n",
       "2        150     8.07593\n",
       "3        150     8.07593\n",
       "4        150     8.07593\n",
       "...      ...         ...\n",
       "1449192  736     7.69858\n",
       "1449193  736     7.69858\n",
       "1449194  736     7.69858\n",
       "1449195  736     7.69858\n",
       "1449196  736     7.69858\n",
       "\n",
       "[1449197 rows x 2 columns]"
      ],
      "text/html": "<div>\n<style scoped>\n    .dataframe tbody tr th:only-of-type {\n        vertical-align: middle;\n    }\n\n    .dataframe tbody tr th {\n        vertical-align: top;\n    }\n\n    .dataframe thead th {\n        text-align: right;\n    }\n</style>\n<table border=\"1\" class=\"dataframe\">\n  <thead>\n    <tr style=\"text-align: right;\">\n      <th></th>\n      <th>0</th>\n      <th>Population</th>\n    </tr>\n  </thead>\n  <tbody>\n    <tr>\n      <th>0</th>\n      <td>150</td>\n      <td>8.07593</td>\n    </tr>\n    <tr>\n      <th>1</th>\n      <td>150</td>\n      <td>8.07593</td>\n    </tr>\n    <tr>\n      <th>2</th>\n      <td>150</td>\n      <td>8.07593</td>\n    </tr>\n    <tr>\n      <th>3</th>\n      <td>150</td>\n      <td>8.07593</td>\n    </tr>\n    <tr>\n      <th>4</th>\n      <td>150</td>\n      <td>8.07593</td>\n    </tr>\n    <tr>\n      <th>...</th>\n      <td>...</td>\n      <td>...</td>\n    </tr>\n    <tr>\n      <th>1449192</th>\n      <td>736</td>\n      <td>7.69858</td>\n    </tr>\n    <tr>\n      <th>1449193</th>\n      <td>736</td>\n      <td>7.69858</td>\n    </tr>\n    <tr>\n      <th>1449194</th>\n      <td>736</td>\n      <td>7.69858</td>\n    </tr>\n    <tr>\n      <th>1449195</th>\n      <td>736</td>\n      <td>7.69858</td>\n    </tr>\n    <tr>\n      <th>1449196</th>\n      <td>736</td>\n      <td>7.69858</td>\n    </tr>\n  </tbody>\n</table>\n<p>1449197 rows × 2 columns</p>\n</div>"
     },
     "metadata": {},
     "execution_count": 20
    }
   ],
   "source": [
    "closest_df = closest_df[['0','Population']]\n",
    "closest_df"
   ]
  },
  {
   "cell_type": "code",
   "execution_count": 21,
   "metadata": {},
   "outputs": [
    {
     "output_type": "execute_result",
     "data": {
      "text/plain": [
       "         0   Population\n",
       "0        0    369.10581\n",
       "1        1    383.07240\n",
       "2        2   1176.66124\n",
       "3        3  20025.22819\n",
       "4        4   6882.17536\n",
       "...    ...          ...\n",
       "1391  1417  23613.22631\n",
       "1392  1418  15874.60832\n",
       "1393  1419  10601.81035\n",
       "1394  1420   6494.84688\n",
       "1395  1421   5085.46038\n",
       "\n",
       "[1396 rows x 2 columns]"
      ],
      "text/html": "<div>\n<style scoped>\n    .dataframe tbody tr th:only-of-type {\n        vertical-align: middle;\n    }\n\n    .dataframe tbody tr th {\n        vertical-align: top;\n    }\n\n    .dataframe thead th {\n        text-align: right;\n    }\n</style>\n<table border=\"1\" class=\"dataframe\">\n  <thead>\n    <tr style=\"text-align: right;\">\n      <th></th>\n      <th>0</th>\n      <th>Population</th>\n    </tr>\n  </thead>\n  <tbody>\n    <tr>\n      <th>0</th>\n      <td>0</td>\n      <td>369.10581</td>\n    </tr>\n    <tr>\n      <th>1</th>\n      <td>1</td>\n      <td>383.07240</td>\n    </tr>\n    <tr>\n      <th>2</th>\n      <td>2</td>\n      <td>1176.66124</td>\n    </tr>\n    <tr>\n      <th>3</th>\n      <td>3</td>\n      <td>20025.22819</td>\n    </tr>\n    <tr>\n      <th>4</th>\n      <td>4</td>\n      <td>6882.17536</td>\n    </tr>\n    <tr>\n      <th>...</th>\n      <td>...</td>\n      <td>...</td>\n    </tr>\n    <tr>\n      <th>1391</th>\n      <td>1417</td>\n      <td>23613.22631</td>\n    </tr>\n    <tr>\n      <th>1392</th>\n      <td>1418</td>\n      <td>15874.60832</td>\n    </tr>\n    <tr>\n      <th>1393</th>\n      <td>1419</td>\n      <td>10601.81035</td>\n    </tr>\n    <tr>\n      <th>1394</th>\n      <td>1420</td>\n      <td>6494.84688</td>\n    </tr>\n    <tr>\n      <th>1395</th>\n      <td>1421</td>\n      <td>5085.46038</td>\n    </tr>\n  </tbody>\n</table>\n<p>1396 rows × 2 columns</p>\n</div>"
     },
     "metadata": {},
     "execution_count": 21
    }
   ],
   "source": [
    "project_population_df = closest_df.groupby(['0'])['Population'].agg('sum').reset_index()\n",
    "project_population_df"
   ]
  },
  {
   "cell_type": "code",
   "execution_count": 22,
   "metadata": {},
   "outputs": [
    {
     "output_type": "execute_result",
     "data": {
      "text/plain": [
       "         0   Population project_code       lat       long\n",
       "0        0    369.10581      1014107 -2.420560  28.966200\n",
       "1        1    383.07240      1014106 -2.424860  28.957260\n",
       "2        2   1176.66124      1007651 -1.720530  30.081240\n",
       "3        3  20025.22819      1012493 -1.655950  30.078840\n",
       "4        4   6882.17536      1014318 -1.870868  29.877686\n",
       "...    ...          ...          ...       ...        ...\n",
       "1391  1417  23613.22631      1013561 -2.293363  29.238419\n",
       "1392  1418  15874.60832      1013562 -2.323533  29.254731\n",
       "1393  1419  10601.81035      1013569 -2.301919  29.242738\n",
       "1394  1420   6494.84688      1013565 -2.322038  29.247239\n",
       "1395  1421   5085.46038      1013568 -2.279466  29.199971\n",
       "\n",
       "[1396 rows x 5 columns]"
      ],
      "text/html": "<div>\n<style scoped>\n    .dataframe tbody tr th:only-of-type {\n        vertical-align: middle;\n    }\n\n    .dataframe tbody tr th {\n        vertical-align: top;\n    }\n\n    .dataframe thead th {\n        text-align: right;\n    }\n</style>\n<table border=\"1\" class=\"dataframe\">\n  <thead>\n    <tr style=\"text-align: right;\">\n      <th></th>\n      <th>0</th>\n      <th>Population</th>\n      <th>project_code</th>\n      <th>lat</th>\n      <th>long</th>\n    </tr>\n  </thead>\n  <tbody>\n    <tr>\n      <th>0</th>\n      <td>0</td>\n      <td>369.10581</td>\n      <td>1014107</td>\n      <td>-2.420560</td>\n      <td>28.966200</td>\n    </tr>\n    <tr>\n      <th>1</th>\n      <td>1</td>\n      <td>383.07240</td>\n      <td>1014106</td>\n      <td>-2.424860</td>\n      <td>28.957260</td>\n    </tr>\n    <tr>\n      <th>2</th>\n      <td>2</td>\n      <td>1176.66124</td>\n      <td>1007651</td>\n      <td>-1.720530</td>\n      <td>30.081240</td>\n    </tr>\n    <tr>\n      <th>3</th>\n      <td>3</td>\n      <td>20025.22819</td>\n      <td>1012493</td>\n      <td>-1.655950</td>\n      <td>30.078840</td>\n    </tr>\n    <tr>\n      <th>4</th>\n      <td>4</td>\n      <td>6882.17536</td>\n      <td>1014318</td>\n      <td>-1.870868</td>\n      <td>29.877686</td>\n    </tr>\n    <tr>\n      <th>...</th>\n      <td>...</td>\n      <td>...</td>\n      <td>...</td>\n      <td>...</td>\n      <td>...</td>\n    </tr>\n    <tr>\n      <th>1391</th>\n      <td>1417</td>\n      <td>23613.22631</td>\n      <td>1013561</td>\n      <td>-2.293363</td>\n      <td>29.238419</td>\n    </tr>\n    <tr>\n      <th>1392</th>\n      <td>1418</td>\n      <td>15874.60832</td>\n      <td>1013562</td>\n      <td>-2.323533</td>\n      <td>29.254731</td>\n    </tr>\n    <tr>\n      <th>1393</th>\n      <td>1419</td>\n      <td>10601.81035</td>\n      <td>1013569</td>\n      <td>-2.301919</td>\n      <td>29.242738</td>\n    </tr>\n    <tr>\n      <th>1394</th>\n      <td>1420</td>\n      <td>6494.84688</td>\n      <td>1013565</td>\n      <td>-2.322038</td>\n      <td>29.247239</td>\n    </tr>\n    <tr>\n      <th>1395</th>\n      <td>1421</td>\n      <td>5085.46038</td>\n      <td>1013568</td>\n      <td>-2.279466</td>\n      <td>29.199971</td>\n    </tr>\n  </tbody>\n</table>\n<p>1396 rows × 5 columns</p>\n</div>"
     },
     "metadata": {},
     "execution_count": 22
    }
   ],
   "source": [
    "df_project_with_population = pd.merge(project_population_df,df_project_coord,left_index=True,right_index=True)\n",
    "df_project_with_population"
   ]
  },
  {
   "cell_type": "code",
   "execution_count": 23,
   "metadata": {},
   "outputs": [
    {
     "output_type": "execute_result",
     "data": {
      "text/plain": [
       "                 0     Population          lat         long\n",
       "count  1396.000000    1396.000000  1396.000000  1396.000000\n",
       "mean    711.388968    8316.378697    -2.041703    29.583500\n",
       "std     411.376563   11501.684384     0.489846     2.281788\n",
       "min       0.000000      42.297520    -2.799865   -29.496450\n",
       "25%     355.750000    2275.173030    -2.362840    29.434712\n",
       "50%     709.500000    4760.182750    -2.075490    29.668372\n",
       "75%    1067.250000    9818.560258    -1.733164    29.946835\n",
       "max    1421.000000  146317.617160     2.794150    30.813100"
      ],
      "text/html": "<div>\n<style scoped>\n    .dataframe tbody tr th:only-of-type {\n        vertical-align: middle;\n    }\n\n    .dataframe tbody tr th {\n        vertical-align: top;\n    }\n\n    .dataframe thead th {\n        text-align: right;\n    }\n</style>\n<table border=\"1\" class=\"dataframe\">\n  <thead>\n    <tr style=\"text-align: right;\">\n      <th></th>\n      <th>0</th>\n      <th>Population</th>\n      <th>lat</th>\n      <th>long</th>\n    </tr>\n  </thead>\n  <tbody>\n    <tr>\n      <th>count</th>\n      <td>1396.000000</td>\n      <td>1396.000000</td>\n      <td>1396.000000</td>\n      <td>1396.000000</td>\n    </tr>\n    <tr>\n      <th>mean</th>\n      <td>711.388968</td>\n      <td>8316.378697</td>\n      <td>-2.041703</td>\n      <td>29.583500</td>\n    </tr>\n    <tr>\n      <th>std</th>\n      <td>411.376563</td>\n      <td>11501.684384</td>\n      <td>0.489846</td>\n      <td>2.281788</td>\n    </tr>\n    <tr>\n      <th>min</th>\n      <td>0.000000</td>\n      <td>42.297520</td>\n      <td>-2.799865</td>\n      <td>-29.496450</td>\n    </tr>\n    <tr>\n      <th>25%</th>\n      <td>355.750000</td>\n      <td>2275.173030</td>\n      <td>-2.362840</td>\n      <td>29.434712</td>\n    </tr>\n    <tr>\n      <th>50%</th>\n      <td>709.500000</td>\n      <td>4760.182750</td>\n      <td>-2.075490</td>\n      <td>29.668372</td>\n    </tr>\n    <tr>\n      <th>75%</th>\n      <td>1067.250000</td>\n      <td>9818.560258</td>\n      <td>-1.733164</td>\n      <td>29.946835</td>\n    </tr>\n    <tr>\n      <th>max</th>\n      <td>1421.000000</td>\n      <td>146317.617160</td>\n      <td>2.794150</td>\n      <td>30.813100</td>\n    </tr>\n  </tbody>\n</table>\n</div>"
     },
     "metadata": {},
     "execution_count": 23
    }
   ],
   "source": [
    "df_project_with_population.describe()"
   ]
  },
  {
   "cell_type": "code",
   "execution_count": 39,
   "metadata": {},
   "outputs": [
    {
     "output_type": "execute_result",
     "data": {
      "text/plain": [
       "11609664.661539972"
      ]
     },
     "metadata": {},
     "execution_count": 39
    }
   ],
   "source": [
    "df_project_with_population.Population.sum()"
   ]
  },
  {
   "cell_type": "code",
   "execution_count": 24,
   "metadata": {},
   "outputs": [],
   "source": [
    "df_project_with_population.to_csv('projects_population.csv')"
   ]
  },
  {
   "cell_type": "code",
   "execution_count": null,
   "metadata": {},
   "outputs": [],
   "source": []
  }
 ],
 "metadata": {
  "language_info": {
   "codemirror_mode": {
    "name": "ipython",
    "version": 3
   },
   "file_extension": ".py",
   "mimetype": "text/x-python",
   "name": "python",
   "nbconvert_exporter": "python",
   "pygments_lexer": "ipython3",
   "version": "3.7.6-final"
  },
  "orig_nbformat": 2,
  "kernelspec": {
   "name": "python37664bitbaseconda062aaadf6fe649f9beb295b82a5e77a6",
   "display_name": "Python 3.7.6 64-bit ('base': conda)"
  }
 },
 "nbformat": 4,
 "nbformat_minor": 2
}